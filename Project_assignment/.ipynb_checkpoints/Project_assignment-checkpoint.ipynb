{
 "cells": [
  {
   "cell_type": "markdown",
   "id": "7c34cdae-1c66-45e7-9015-79b8b36a76cd",
   "metadata": {},
   "source": [
    "## Abalone exercise"
   ]
  },
  {
   "cell_type": "markdown",
   "id": "81ae59a3-afbe-4287-be1d-2aa1781bbcff",
   "metadata": {},
   "source": [
    "In this exercise you will work with the `abalone_sex.csv`and the `abalone_pheno.csv`datasets. In the former the sex is recorded as `F`for females, `M`for males and `I`for immature. Both datasets are available under the `Project assignment`module."
   ]
  },
  {
   "cell_type": "markdown",
   "id": "d842ec2d-08cc-4262-9f03-72610342a43b",
   "metadata": {},
   "source": [
    "### Tasks "
   ]
  },
  {
   "cell_type": "markdown",
   "id": "354bbfd1-442c-402d-8bce-453f9a3865cb",
   "metadata": {},
   "source": [
    "* Perform any required cleaning.\n",
    "* Estimate how many records per sex are available.\n",
    "* If any get the column with the highest number of missing values.\n",
    "* Get the IDs for which no phenotypes exist.\n",
    "* Get the IDs for which no sex information exist.\n",
    "* For all given phenotypes estimate the mean and the standard deviation per sex. Create corresponding boxplots.\n",
    "* Create a new column containing the standardized `Viscera_weight`.\n",
    "* Create a scatterplot `Whole_weight`and `Sucked_weight`. Use different colours for each sex.\n",
    "* Create a new column populated with the values `Premium`, `Large`, `Regular`, `Small` based on the corresponding quantiles of the `Whole_weight` column. Create a corresponding violin plot.\n",
    "* Create a correlation matrix for all the phenotypes. Plot the corresponding heatmap.\n",
    "  "
   ]
  }
 ],
 "metadata": {
  "kernelspec": {
   "display_name": "Python 3 (ipykernel)",
   "language": "python",
   "name": "python3"
  },
  "language_info": {
   "codemirror_mode": {
    "name": "ipython",
    "version": 3
   },
   "file_extension": ".py",
   "mimetype": "text/x-python",
   "name": "python",
   "nbconvert_exporter": "python",
   "pygments_lexer": "ipython3",
   "version": "3.11.8"
  }
 },
 "nbformat": 4,
 "nbformat_minor": 5
}
