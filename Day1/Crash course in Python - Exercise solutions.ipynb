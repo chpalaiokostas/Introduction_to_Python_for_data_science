{
 "cells": [
  {
   "cell_type": "markdown",
   "id": "d1bf4b96",
   "metadata": {},
   "source": [
    "## Exercises"
   ]
  },
  {
   "cell_type": "markdown",
   "id": "19502a43",
   "metadata": {},
   "source": [
    "### Exercise 1 - Basics"
   ]
  },
  {
   "cell_type": "markdown",
   "id": "a3300ab2",
   "metadata": {},
   "source": [
    "* Create a variable called `first_name` including your first name. Change it to upper case. Join your last name and assign the result to a variable of your choice. Join the first name and last name separated by an underscore. Get character length of the latter.\n",
    "* Create a list containing numbers from `11-20`.\n",
    "* Add to the previous list numbers ranging from `100 - 109` and give the new list a name of your choice. Extract the last five numbers.\n",
    "* Create two lists with numbers ranging from 1 to 10 and form 11 - 20 respectively. Assign the variable name `a` to the first list and the name `b` to the second. Swap the names so that `b` points to the first list and `a` to the second. This task should be accomplished without hard coding the lists from scratch.\n",
    "* Create the following list `actor_names = ['Daniel Radcliffe', 'Rupert Grint', 'Emma Watson', 'Tom Felton']`. Swap the list names at the beginning and second last positions. As in the previous question this task should be accomplished without hard coding the list from scratch.\n",
    "* Create a list containing the numbers `15-20, 17, 21, 16` and the strings `'day', 'night', 'midnight', 'afternoon','morning', 'night'`. Remove the duplicate values.\n",
    "* From the following lists create a dictionary where the first list will be the keys and the second the values `list_1 = ['n_estimators', 'max_features', 'min_samples_leaf', 'oob_score']` and `list2 = [1000,10,5,False]`. Name the dictionary ML_params. Update the dictionary with the key `lambda` and the value `1`. Check whether the key 'oob_score' exists and retrieve it's value. Check whether the key `learning_rate` exists using a default value of `0` in case it doesn't exist.\n",
    " "
   ]
  },
  {
   "cell_type": "markdown",
   "id": "aa5cb2bf",
   "metadata": {},
   "source": [
    "Create a variable called `first_name` with your first name. Change it to upper case. Join your last name and assign the result to a variable of your choice. Join the first name and last name separated by an underscore. Get character length of the latter."
   ]
  },
  {
   "cell_type": "code",
   "execution_count": 1,
   "id": "951bca35",
   "metadata": {},
   "outputs": [
    {
     "name": "stdout",
     "output_type": "stream",
     "text": [
      "CHRISTOS\n",
      "ChristosPalaiokostas\n",
      "Christos_Palaiokostas\n"
     ]
    },
    {
     "data": {
      "text/plain": [
       "21"
      ]
     },
     "execution_count": 1,
     "metadata": {},
     "output_type": "execute_result"
    }
   ],
   "source": [
    "first_name = 'Christos'\n",
    "print(first_name.upper())\n",
    "last_name = 'Palaiokostas'\n",
    "full_name = first_name + last_name\n",
    "print(full_name)\n",
    "print(\"_\".join([first_name,last_name]))\n",
    "len(\"_\".join([first_name,last_name]))"
   ]
  },
  {
   "cell_type": "markdown",
   "id": "1645bd04",
   "metadata": {},
   "source": [
    "Create a list containing numbers from `11-20`."
   ]
  },
  {
   "cell_type": "code",
   "execution_count": 2,
   "id": "f87fd0a3",
   "metadata": {},
   "outputs": [
    {
     "data": {
      "text/plain": [
       "[11, 12, 13, 14, 15, 16, 17, 18, 19, 20]"
      ]
     },
     "execution_count": 2,
     "metadata": {},
     "output_type": "execute_result"
    }
   ],
   "source": [
    "list(range(11,21))"
   ]
  },
  {
   "cell_type": "markdown",
   "id": "8f7c9f2a",
   "metadata": {},
   "source": [
    "Add to the previous list numbers ranging from `100 - 109` and give the new list a name of your choice. Extract the last five numbers."
   ]
  },
  {
   "cell_type": "code",
   "execution_count": 3,
   "id": "acccf39a",
   "metadata": {},
   "outputs": [
    {
     "name": "stdout",
     "output_type": "stream",
     "text": [
      "[11, 12, 13, 14, 15, 16, 17, 18, 19, 20, 100, 101, 102, 103, 104, 105, 106, 107, 108, 109]\n"
     ]
    },
    {
     "data": {
      "text/plain": [
       "[105, 106, 107, 108, 109]"
      ]
     },
     "execution_count": 3,
     "metadata": {},
     "output_type": "execute_result"
    }
   ],
   "source": [
    "my_numbers = list(range(11,21)) + list(range(100,110))\n",
    "print(my_numbers)\n",
    "my_numbers[-5:]"
   ]
  },
  {
   "cell_type": "markdown",
   "id": "997f846d",
   "metadata": {},
   "source": [
    "Create two lists with numbers ranging from 1 to 10 and from 11 - 20 respectively. Assign the variable name `a` to the first list and the name `b` to the second. Swap the names so that `b` points to the first list and `a` to the second. This task should be accomplished without hard coding the lists from scratch."
   ]
  },
  {
   "cell_type": "code",
   "execution_count": 4,
   "id": "cf35c1a9",
   "metadata": {},
   "outputs": [
    {
     "data": {
      "text/plain": [
       "[1, 2, 3, 4, 5, 6, 7, 8, 9, 10]"
      ]
     },
     "execution_count": 4,
     "metadata": {},
     "output_type": "execute_result"
    }
   ],
   "source": [
    "a = list(range(1,11))\n",
    "a"
   ]
  },
  {
   "cell_type": "code",
   "execution_count": 5,
   "id": "2c3d1dc7",
   "metadata": {},
   "outputs": [
    {
     "data": {
      "text/plain": [
       "[11, 12, 13, 14, 15, 16, 17, 18, 19, 20]"
      ]
     },
     "execution_count": 5,
     "metadata": {},
     "output_type": "execute_result"
    }
   ],
   "source": [
    "b = list(range(11,21))\n",
    "b"
   ]
  },
  {
   "cell_type": "code",
   "execution_count": 6,
   "id": "11178a12",
   "metadata": {},
   "outputs": [],
   "source": [
    "b, a = a, b"
   ]
  },
  {
   "cell_type": "code",
   "execution_count": 7,
   "id": "b61585b1",
   "metadata": {},
   "outputs": [
    {
     "data": {
      "text/plain": [
       "[11, 12, 13, 14, 15, 16, 17, 18, 19, 20]"
      ]
     },
     "execution_count": 7,
     "metadata": {},
     "output_type": "execute_result"
    }
   ],
   "source": [
    "a"
   ]
  },
  {
   "cell_type": "code",
   "execution_count": 8,
   "id": "b55cda4d",
   "metadata": {},
   "outputs": [
    {
     "data": {
      "text/plain": [
       "[1, 2, 3, 4, 5, 6, 7, 8, 9, 10]"
      ]
     },
     "execution_count": 8,
     "metadata": {},
     "output_type": "execute_result"
    }
   ],
   "source": [
    "b"
   ]
  },
  {
   "cell_type": "markdown",
   "id": "44fdb9af",
   "metadata": {},
   "source": [
    "Create the following list `actor_names = ['Daniel Radcliffe', 'Rupert Grint', 'Emma Watson', 'Tom Felton']`. Swap the list names at the beginning and second last positions. As in the previous question this task should be accomplished without hard coding the list from scratch."
   ]
  },
  {
   "cell_type": "code",
   "execution_count": 9,
   "id": "3b314f58",
   "metadata": {},
   "outputs": [],
   "source": [
    "actor_names = ['Daniel Radcliffe', 'Rupert Grint', 'Emma Watson', 'Tom Felton']"
   ]
  },
  {
   "cell_type": "code",
   "execution_count": 10,
   "id": "0a0284af",
   "metadata": {},
   "outputs": [
    {
     "data": {
      "text/plain": [
       "['Emma Watson', 'Rupert Grint', 'Daniel Radcliffe', 'Tom Felton']"
      ]
     },
     "execution_count": 10,
     "metadata": {},
     "output_type": "execute_result"
    }
   ],
   "source": [
    "actor_names[0], actor_names[-2] = actor_names[-2], actor_names[0]\n",
    "actor_names"
   ]
  },
  {
   "cell_type": "markdown",
   "id": "9c547868",
   "metadata": {},
   "source": [
    "Create a list containing the numbers `15-20, 17, 21, 16` and the strings `'day', 'night', 'midnight', 'afternoon','morning', 'night'`. Remove the duplicate values."
   ]
  },
  {
   "cell_type": "code",
   "execution_count": 11,
   "id": "ae332652",
   "metadata": {},
   "outputs": [
    {
     "name": "stdout",
     "output_type": "stream",
     "text": [
      "[15, 16, 17, 18, 19, 20, 'day', 'night', 'midnight', 'afternoon', 'morning', 'night']\n"
     ]
    },
    {
     "data": {
      "text/plain": [
       "['day', 'night', 'morning', 15, 16, 17, 18, 19, 20, 'midnight', 'afternoon']"
      ]
     },
     "execution_count": 11,
     "metadata": {},
     "output_type": "execute_result"
    }
   ],
   "source": [
    "my_list = list(range(15,21)) + ['day', 'night', 'midnight', 'afternoon', 'morning', 'night']\n",
    "print(my_list)\n",
    "list(set(my_list))"
   ]
  },
  {
   "cell_type": "markdown",
   "id": "16a8f814",
   "metadata": {},
   "source": [
    "From the following lists create a dictionary where the first list will be the keys and the second the values `list_1 = ['n_estimators', 'max_features', 'min_samples_leaf', 'oob_score']` and `list2 = [1000,10,5,False]`. Name the dictionary ML_params. Update the dictionary with the key `lambda` and the value `1`. Check whether the key 'oob_score' exists and retrieve it's value. Check whether the key `learning_rate` exists using a default value of `0` in case it doesn't exist."
   ]
  },
  {
   "cell_type": "code",
   "execution_count": 12,
   "id": "af53e666",
   "metadata": {},
   "outputs": [
    {
     "data": {
      "text/plain": [
       "{'n_estimators': 1000,\n",
       " 'max_features': 10,\n",
       " 'min_samples_leaf': 5,\n",
       " 'oob_score': False}"
      ]
     },
     "execution_count": 12,
     "metadata": {},
     "output_type": "execute_result"
    }
   ],
   "source": [
    "list_1 = ['n_estimators', 'max_features', 'min_samples_leaf', 'oob_score']\n",
    "list_2 = [1000,10,5,False]\n",
    "ML_params = dict(zip(list_1,list_2))\n",
    "ML_params"
   ]
  },
  {
   "cell_type": "code",
   "execution_count": 13,
   "id": "20ff569b",
   "metadata": {},
   "outputs": [
    {
     "data": {
      "text/plain": [
       "{'n_estimators': 1000,\n",
       " 'max_features': 10,\n",
       " 'min_samples_leaf': 5,\n",
       " 'oob_score': False,\n",
       " 'lambda': 1}"
      ]
     },
     "execution_count": 13,
     "metadata": {},
     "output_type": "execute_result"
    }
   ],
   "source": [
    "ML_params.update({'lambda':1})\n",
    "ML_params"
   ]
  },
  {
   "cell_type": "code",
   "execution_count": 14,
   "id": "5a930fdd",
   "metadata": {},
   "outputs": [
    {
     "data": {
      "text/plain": [
       "False"
      ]
     },
     "execution_count": 14,
     "metadata": {},
     "output_type": "execute_result"
    }
   ],
   "source": [
    "ML_params.get('oob_score')"
   ]
  },
  {
   "cell_type": "code",
   "execution_count": 15,
   "id": "a84d149d",
   "metadata": {},
   "outputs": [
    {
     "data": {
      "text/plain": [
       "False"
      ]
     },
     "execution_count": 15,
     "metadata": {},
     "output_type": "execute_result"
    }
   ],
   "source": [
    "ML_params['oob_score']"
   ]
  },
  {
   "cell_type": "code",
   "execution_count": 16,
   "id": "2be44dac",
   "metadata": {},
   "outputs": [
    {
     "ename": "KeyError",
     "evalue": "'learning_rate'",
     "output_type": "error",
     "traceback": [
      "\u001b[0;31m---------------------------------------------------------------------------\u001b[0m",
      "\u001b[0;31mKeyError\u001b[0m                                  Traceback (most recent call last)",
      "Cell \u001b[0;32mIn[16], line 1\u001b[0m\n\u001b[0;32m----> 1\u001b[0m ML_params[\u001b[38;5;124m'\u001b[39m\u001b[38;5;124mlearning_rate\u001b[39m\u001b[38;5;124m'\u001b[39m]\n",
      "\u001b[0;31mKeyError\u001b[0m: 'learning_rate'"
     ]
    }
   ],
   "source": [
    "ML_params['learning_rate']"
   ]
  },
  {
   "cell_type": "code",
   "execution_count": 17,
   "id": "e7d9b28d",
   "metadata": {},
   "outputs": [],
   "source": [
    "ML_params.get('learning_rate')"
   ]
  },
  {
   "cell_type": "code",
   "execution_count": 18,
   "id": "d1450f47",
   "metadata": {},
   "outputs": [
    {
     "data": {
      "text/plain": [
       "True"
      ]
     },
     "execution_count": 18,
     "metadata": {},
     "output_type": "execute_result"
    }
   ],
   "source": [
    "ML_params.get('learning_rate') is None"
   ]
  },
  {
   "cell_type": "code",
   "execution_count": 19,
   "id": "16958c93",
   "metadata": {},
   "outputs": [
    {
     "data": {
      "text/plain": [
       "0"
      ]
     },
     "execution_count": 19,
     "metadata": {},
     "output_type": "execute_result"
    }
   ],
   "source": [
    "ML_params.get('learning_rate',0)"
   ]
  },
  {
   "cell_type": "markdown",
   "id": "8cbfbee0",
   "metadata": {},
   "source": [
    "### Exercise 2 - Functions"
   ]
  },
  {
   "cell_type": "markdown",
   "id": "325d8426",
   "metadata": {},
   "source": [
    "* Write a function that takes as argument your name and returns `Welcome` and the name you used. Use a default name of your choice.\n",
    "* Write a function that takes as arguments two numbers. The function should check whether by subtracting the 2nd number from the first is positive and in that case return `1`. Otherwise it should return `0`. If both numbers are the same it should return `Equal numbers` .\n",
    "* Create a list containing numbers from 1 to 100. Create a function that filters out odd numbers. Remove the odd numbers from your list. Perform the same task using list comprehension.\n",
    "* Create a function that takes an integer as argument and return it's factorial. E.g the factorial of 3 is 1x2x3=6, the factorial of 0 is 1. "
   ]
  },
  {
   "cell_type": "markdown",
   "id": "37e79196",
   "metadata": {},
   "source": [
    "Write a function that takes as argument your name and returns `Welcome` and the name you used. Use a default name of your choice."
   ]
  },
  {
   "cell_type": "code",
   "execution_count": 20,
   "id": "deeff01b",
   "metadata": {},
   "outputs": [],
   "source": [
    "def greetings(x='George'):\n",
    "    return 'Welcome ' + x"
   ]
  },
  {
   "cell_type": "code",
   "execution_count": 21,
   "id": "4300de2b",
   "metadata": {},
   "outputs": [
    {
     "data": {
      "text/plain": [
       "'Welcome George'"
      ]
     },
     "execution_count": 21,
     "metadata": {},
     "output_type": "execute_result"
    }
   ],
   "source": [
    "greetings()"
   ]
  },
  {
   "cell_type": "code",
   "execution_count": 22,
   "id": "8c8c23a6",
   "metadata": {},
   "outputs": [
    {
     "data": {
      "text/plain": [
       "'Welcome Christos'"
      ]
     },
     "execution_count": 22,
     "metadata": {},
     "output_type": "execute_result"
    }
   ],
   "source": [
    "greetings('Christos')"
   ]
  },
  {
   "cell_type": "markdown",
   "id": "dde63da3",
   "metadata": {},
   "source": [
    "Write a function that takes as arguments two numbers. The function should check whether by subtracting the 2nd number from the first is positive and in that case return `1`. Otherwise it should return `0`. If both numbers are the same it should return `Equal numbers` ."
   ]
  },
  {
   "cell_type": "code",
   "execution_count": 23,
   "id": "22ea9e33",
   "metadata": {},
   "outputs": [],
   "source": [
    "def num_comparison(x,y):\n",
    "    if x - y > 0:\n",
    "        return 1\n",
    "    elif x - y < 0:\n",
    "        return 0\n",
    "    else:\n",
    "        return 'Equal numbers'        "
   ]
  },
  {
   "cell_type": "code",
   "execution_count": 24,
   "id": "2fdc4546",
   "metadata": {},
   "outputs": [
    {
     "data": {
      "text/plain": [
       "1"
      ]
     },
     "execution_count": 24,
     "metadata": {},
     "output_type": "execute_result"
    }
   ],
   "source": [
    "num_comparison(20, 10)"
   ]
  },
  {
   "cell_type": "code",
   "execution_count": 25,
   "id": "59bf2371",
   "metadata": {},
   "outputs": [
    {
     "data": {
      "text/plain": [
       "0"
      ]
     },
     "execution_count": 25,
     "metadata": {},
     "output_type": "execute_result"
    }
   ],
   "source": [
    "num_comparison(2.3,4)"
   ]
  },
  {
   "cell_type": "code",
   "execution_count": 26,
   "id": "3484241e",
   "metadata": {},
   "outputs": [
    {
     "data": {
      "text/plain": [
       "'Equal numbers'"
      ]
     },
     "execution_count": 26,
     "metadata": {},
     "output_type": "execute_result"
    }
   ],
   "source": [
    "num_comparison(5,5)"
   ]
  },
  {
   "cell_type": "markdown",
   "id": "d8c50de0",
   "metadata": {},
   "source": [
    "Create a list containing numbers from 1 to 100. Create a function that filters out odd numbers. Remove the odd numbers from your list. Perform the same task using list comprehension."
   ]
  },
  {
   "cell_type": "code",
   "execution_count": 27,
   "id": "c008dc65",
   "metadata": {},
   "outputs": [
    {
     "data": {
      "text/plain": [
       "[1,\n",
       " 2,\n",
       " 3,\n",
       " 4,\n",
       " 5,\n",
       " 6,\n",
       " 7,\n",
       " 8,\n",
       " 9,\n",
       " 10,\n",
       " 11,\n",
       " 12,\n",
       " 13,\n",
       " 14,\n",
       " 15,\n",
       " 16,\n",
       " 17,\n",
       " 18,\n",
       " 19,\n",
       " 20,\n",
       " 21,\n",
       " 22,\n",
       " 23,\n",
       " 24,\n",
       " 25,\n",
       " 26,\n",
       " 27,\n",
       " 28,\n",
       " 29,\n",
       " 30,\n",
       " 31,\n",
       " 32,\n",
       " 33,\n",
       " 34,\n",
       " 35,\n",
       " 36,\n",
       " 37,\n",
       " 38,\n",
       " 39,\n",
       " 40,\n",
       " 41,\n",
       " 42,\n",
       " 43,\n",
       " 44,\n",
       " 45,\n",
       " 46,\n",
       " 47,\n",
       " 48,\n",
       " 49,\n",
       " 50,\n",
       " 51,\n",
       " 52,\n",
       " 53,\n",
       " 54,\n",
       " 55,\n",
       " 56,\n",
       " 57,\n",
       " 58,\n",
       " 59,\n",
       " 60,\n",
       " 61,\n",
       " 62,\n",
       " 63,\n",
       " 64,\n",
       " 65,\n",
       " 66,\n",
       " 67,\n",
       " 68,\n",
       " 69,\n",
       " 70,\n",
       " 71,\n",
       " 72,\n",
       " 73,\n",
       " 74,\n",
       " 75,\n",
       " 76,\n",
       " 77,\n",
       " 78,\n",
       " 79,\n",
       " 80,\n",
       " 81,\n",
       " 82,\n",
       " 83,\n",
       " 84,\n",
       " 85,\n",
       " 86,\n",
       " 87,\n",
       " 88,\n",
       " 89,\n",
       " 90,\n",
       " 91,\n",
       " 92,\n",
       " 93,\n",
       " 94,\n",
       " 95,\n",
       " 96,\n",
       " 97,\n",
       " 98,\n",
       " 99,\n",
       " 100]"
      ]
     },
     "execution_count": 27,
     "metadata": {},
     "output_type": "execute_result"
    }
   ],
   "source": [
    "my_numbers = list(range(1,101))\n",
    "my_numbers"
   ]
  },
  {
   "cell_type": "code",
   "execution_count": 28,
   "id": "a0a2a230",
   "metadata": {},
   "outputs": [
    {
     "data": {
      "text/plain": [
       "2"
      ]
     },
     "execution_count": 28,
     "metadata": {},
     "output_type": "execute_result"
    }
   ],
   "source": [
    "def only_even(x):\n",
    "    if x % 2 == 0:\n",
    "        return x\n",
    "\n",
    "only_even(2)"
   ]
  },
  {
   "cell_type": "code",
   "execution_count": 29,
   "id": "a01df58d",
   "metadata": {},
   "outputs": [
    {
     "data": {
      "text/plain": [
       "[2,\n",
       " 4,\n",
       " 6,\n",
       " 8,\n",
       " 10,\n",
       " 12,\n",
       " 14,\n",
       " 16,\n",
       " 18,\n",
       " 20,\n",
       " 22,\n",
       " 24,\n",
       " 26,\n",
       " 28,\n",
       " 30,\n",
       " 32,\n",
       " 34,\n",
       " 36,\n",
       " 38,\n",
       " 40,\n",
       " 42,\n",
       " 44,\n",
       " 46,\n",
       " 48,\n",
       " 50,\n",
       " 52,\n",
       " 54,\n",
       " 56,\n",
       " 58,\n",
       " 60,\n",
       " 62,\n",
       " 64,\n",
       " 66,\n",
       " 68,\n",
       " 70,\n",
       " 72,\n",
       " 74,\n",
       " 76,\n",
       " 78,\n",
       " 80,\n",
       " 82,\n",
       " 84,\n",
       " 86,\n",
       " 88,\n",
       " 90,\n",
       " 92,\n",
       " 94,\n",
       " 96,\n",
       " 98,\n",
       " 100]"
      ]
     },
     "execution_count": 29,
     "metadata": {},
     "output_type": "execute_result"
    }
   ],
   "source": [
    "list(filter(only_even, my_numbers))"
   ]
  },
  {
   "cell_type": "markdown",
   "id": "13cf81e5",
   "metadata": {},
   "source": [
    "Another approach "
   ]
  },
  {
   "cell_type": "code",
   "execution_count": 30,
   "id": "d08a2b3c",
   "metadata": {},
   "outputs": [
    {
     "data": {
      "text/plain": [
       "[2,\n",
       " 4,\n",
       " 6,\n",
       " 8,\n",
       " 10,\n",
       " 12,\n",
       " 14,\n",
       " 16,\n",
       " 18,\n",
       " 20,\n",
       " 22,\n",
       " 24,\n",
       " 26,\n",
       " 28,\n",
       " 30,\n",
       " 32,\n",
       " 34,\n",
       " 36,\n",
       " 38,\n",
       " 40,\n",
       " 42,\n",
       " 44,\n",
       " 46,\n",
       " 48,\n",
       " 50,\n",
       " 52,\n",
       " 54,\n",
       " 56,\n",
       " 58,\n",
       " 60,\n",
       " 62,\n",
       " 64,\n",
       " 66,\n",
       " 68,\n",
       " 70,\n",
       " 72,\n",
       " 74,\n",
       " 76,\n",
       " 78,\n",
       " 80,\n",
       " 82,\n",
       " 84,\n",
       " 86,\n",
       " 88,\n",
       " 90,\n",
       " 92,\n",
       " 94,\n",
       " 96,\n",
       " 98,\n",
       " 100]"
      ]
     },
     "execution_count": 30,
     "metadata": {},
     "output_type": "execute_result"
    }
   ],
   "source": [
    "[i for i in my_numbers if i % 2 == 0]"
   ]
  },
  {
   "cell_type": "markdown",
   "id": "4dcdf7d8",
   "metadata": {},
   "source": [
    "Create a function that takes an integer as argument and return it's factorial. E.g the factorial of 3 is 1x2x3=6, the factorial of 0 is 1. "
   ]
  },
  {
   "cell_type": "code",
   "execution_count": 31,
   "id": "7385f062",
   "metadata": {},
   "outputs": [],
   "source": [
    "def my_factorial(x):\n",
    "    if x < 0:\n",
    "        print(\"Need a positive number\")\n",
    "    elif x < 1:\n",
    "        return 1\n",
    "    else:\n",
    "        return x * my_factorial(x-1)"
   ]
  },
  {
   "cell_type": "code",
   "execution_count": 32,
   "id": "0f32bf78",
   "metadata": {},
   "outputs": [
    {
     "name": "stdout",
     "output_type": "stream",
     "text": [
      "Need a positive number\n"
     ]
    }
   ],
   "source": [
    "my_factorial(-1)"
   ]
  },
  {
   "cell_type": "code",
   "execution_count": 33,
   "id": "b14d4b12",
   "metadata": {},
   "outputs": [
    {
     "data": {
      "text/plain": [
       "1"
      ]
     },
     "execution_count": 33,
     "metadata": {},
     "output_type": "execute_result"
    }
   ],
   "source": [
    "my_factorial(0)"
   ]
  },
  {
   "cell_type": "code",
   "execution_count": 34,
   "id": "e691f8f3",
   "metadata": {},
   "outputs": [
    {
     "data": {
      "text/plain": [
       "1"
      ]
     },
     "execution_count": 34,
     "metadata": {},
     "output_type": "execute_result"
    }
   ],
   "source": [
    "my_factorial(1)"
   ]
  },
  {
   "cell_type": "code",
   "execution_count": 35,
   "id": "896d27f2",
   "metadata": {},
   "outputs": [
    {
     "data": {
      "text/plain": [
       "24"
      ]
     },
     "execution_count": 35,
     "metadata": {},
     "output_type": "execute_result"
    }
   ],
   "source": [
    "my_factorial(4)"
   ]
  },
  {
   "cell_type": "markdown",
   "id": "2f330714",
   "metadata": {},
   "source": [
    "### Exercise 3 - Loops, list comprehensions"
   ]
  },
  {
   "cell_type": "markdown",
   "id": "0e1ada7f",
   "metadata": {},
   "source": [
    "* Create a list containing numbers from 100 - 150. Calculate the mean of the list. Loop along the list and subtract the mean value from each list element.\n",
    "* Write a loop that shows every even number up to 100.\n",
    "* Write a loop that goes through a range of integers starting from `1` and incrementing by `1` and returns the square of the respective number as long as the value is less than 300.\n",
    "* Use a loop format to estimate the difference between a range of numbers from 1 to 10 and a corresponding range of numbers from 10 to 1. E.g  1 - 10, 1 - 9, 1 - 8 etc.\n",
    "* Write a list comprehension that goes through each string of the following list and prints the ones longer than five characters. `fellowship = ['frodo', 'gandalf', 'elrond','samwise', 'merry', 'aragorn', 'legolas', 'boromir', 'gimli']`.\n",
    "* Write a list comprehension that goes through the following list of numbers and prints 1 if the respective number is positive or 0 otherwise. ` random_numbers = [-2.3, 7, 19, -5, 8, 3, 19.8, -3.2, -5, 7.5, 27, 26.5, -16, 21, -9.9, -1, -12, 30, -10, -28]`.\n",
    "* Write a function that checks whether a character is a consonant. Then use the function in a list comprehension to print the consonants of the following sentence `It was only thanks to the mounted guardrails and safety nets that we could walk the 6km-long trail`. You will need the built-in string method `isalpha` that checks whether a character is an alphabetic string."
   ]
  },
  {
   "cell_type": "markdown",
   "id": "0bae352d",
   "metadata": {},
   "source": [
    "Create a list containing numbers from 100 - 150. Calculate the mean of the list. Loop along the list and subtract the mean value from each list element."
   ]
  },
  {
   "cell_type": "code",
   "execution_count": 36,
   "id": "7edc3f40",
   "metadata": {},
   "outputs": [
    {
     "data": {
      "text/plain": [
       "125.0"
      ]
     },
     "execution_count": 36,
     "metadata": {},
     "output_type": "execute_result"
    }
   ],
   "source": [
    "my_list = list(range(100,151))\n",
    "list_mean = sum(my_list)/len(my_list)\n",
    "list_mean"
   ]
  },
  {
   "cell_type": "code",
   "execution_count": 37,
   "id": "0f786933",
   "metadata": {},
   "outputs": [
    {
     "data": {
      "text/plain": [
       "51"
      ]
     },
     "execution_count": 37,
     "metadata": {},
     "output_type": "execute_result"
    }
   ],
   "source": [
    "len(my_list)"
   ]
  },
  {
   "cell_type": "code",
   "execution_count": 38,
   "id": "7ce63489",
   "metadata": {},
   "outputs": [
    {
     "data": {
      "text/plain": [
       "[-25.0,\n",
       " -24.0,\n",
       " -23.0,\n",
       " -22.0,\n",
       " -21.0,\n",
       " -20.0,\n",
       " -19.0,\n",
       " -18.0,\n",
       " -17.0,\n",
       " -16.0,\n",
       " -15.0,\n",
       " -14.0,\n",
       " -13.0,\n",
       " -12.0,\n",
       " -11.0,\n",
       " -10.0,\n",
       " -9.0,\n",
       " -8.0,\n",
       " -7.0,\n",
       " -6.0,\n",
       " -5.0,\n",
       " -4.0,\n",
       " -3.0,\n",
       " -2.0,\n",
       " -1.0,\n",
       " 0.0,\n",
       " 1.0,\n",
       " 2.0,\n",
       " 3.0,\n",
       " 4.0,\n",
       " 5.0,\n",
       " 6.0,\n",
       " 7.0,\n",
       " 8.0,\n",
       " 9.0,\n",
       " 10.0,\n",
       " 11.0,\n",
       " 12.0,\n",
       " 13.0,\n",
       " 14.0,\n",
       " 15.0,\n",
       " 16.0,\n",
       " 17.0,\n",
       " 18.0,\n",
       " 19.0,\n",
       " 20.0,\n",
       " 21.0,\n",
       " 22.0,\n",
       " 23.0,\n",
       " 24.0,\n",
       " 25.0]"
      ]
     },
     "execution_count": 38,
     "metadata": {},
     "output_type": "execute_result"
    }
   ],
   "source": [
    "my_result = []\n",
    "for i in my_list:\n",
    "    my_result.append(i-list_mean)\n",
    "my_result"
   ]
  },
  {
   "cell_type": "markdown",
   "id": "b563a348",
   "metadata": {},
   "source": [
    "Write a loop that shows every even number up to 100."
   ]
  },
  {
   "cell_type": "code",
   "execution_count": 39,
   "id": "69bc99db",
   "metadata": {},
   "outputs": [
    {
     "name": "stdout",
     "output_type": "stream",
     "text": [
      "2\n",
      "4\n",
      "6\n",
      "8\n",
      "10\n",
      "12\n",
      "14\n",
      "16\n",
      "18\n",
      "20\n",
      "22\n",
      "24\n",
      "26\n",
      "28\n",
      "30\n",
      "32\n",
      "34\n",
      "36\n",
      "38\n",
      "40\n",
      "42\n",
      "44\n",
      "46\n",
      "48\n",
      "50\n",
      "52\n",
      "54\n",
      "56\n",
      "58\n",
      "60\n",
      "62\n",
      "64\n",
      "66\n",
      "68\n",
      "70\n",
      "72\n",
      "74\n",
      "76\n",
      "78\n",
      "80\n",
      "82\n",
      "84\n",
      "86\n",
      "88\n",
      "90\n",
      "92\n",
      "94\n",
      "96\n",
      "98\n",
      "100\n"
     ]
    }
   ],
   "source": [
    "for i in range(1,101):\n",
    "    if i % 2 == 0:\n",
    "        print(i)"
   ]
  },
  {
   "cell_type": "markdown",
   "id": "47870c88",
   "metadata": {},
   "source": [
    "Write a loop that goes through a range of integers starting from `1` and incrementing by `1` and returns the square of the respective number as long as the value is less than 300."
   ]
  },
  {
   "cell_type": "code",
   "execution_count": 40,
   "id": "953797f7",
   "metadata": {},
   "outputs": [
    {
     "name": "stdout",
     "output_type": "stream",
     "text": [
      "1\n",
      "4\n",
      "9\n",
      "16\n",
      "25\n",
      "36\n",
      "49\n",
      "64\n",
      "81\n",
      "100\n",
      "121\n",
      "144\n",
      "169\n",
      "196\n",
      "225\n",
      "256\n",
      "289\n"
     ]
    }
   ],
   "source": [
    "result = 1\n",
    "j = 1\n",
    "while result < 300:\n",
    "    print(result)\n",
    "    j += 1\n",
    "    result = j**2\n",
    "    "
   ]
  },
  {
   "cell_type": "markdown",
   "id": "588867de",
   "metadata": {},
   "source": [
    "Use a loop format to estimate the difference between a range of numbers from 1 to 10 and a corresponding range of numbers from 10 to 1. E.g  1 - 10, 1 - 9, 1 - 8 etc."
   ]
  },
  {
   "cell_type": "code",
   "execution_count": 41,
   "id": "fd734648",
   "metadata": {},
   "outputs": [],
   "source": [
    "list_1 = list(range(1,11))\n",
    "list_2 = list(range(10,0,-1))"
   ]
  },
  {
   "cell_type": "code",
   "execution_count": 42,
   "id": "4eee0fa7",
   "metadata": {},
   "outputs": [
    {
     "name": "stdout",
     "output_type": "stream",
     "text": [
      "-9\n",
      "-8\n",
      "-7\n",
      "-6\n",
      "-5\n",
      "-4\n",
      "-3\n",
      "-2\n",
      "-1\n",
      "0\n",
      "-8\n",
      "-7\n",
      "-6\n",
      "-5\n",
      "-4\n",
      "-3\n",
      "-2\n",
      "-1\n",
      "0\n",
      "1\n",
      "-7\n",
      "-6\n",
      "-5\n",
      "-4\n",
      "-3\n",
      "-2\n",
      "-1\n",
      "0\n",
      "1\n",
      "2\n",
      "-6\n",
      "-5\n",
      "-4\n",
      "-3\n",
      "-2\n",
      "-1\n",
      "0\n",
      "1\n",
      "2\n",
      "3\n",
      "-5\n",
      "-4\n",
      "-3\n",
      "-2\n",
      "-1\n",
      "0\n",
      "1\n",
      "2\n",
      "3\n",
      "4\n",
      "-4\n",
      "-3\n",
      "-2\n",
      "-1\n",
      "0\n",
      "1\n",
      "2\n",
      "3\n",
      "4\n",
      "5\n",
      "-3\n",
      "-2\n",
      "-1\n",
      "0\n",
      "1\n",
      "2\n",
      "3\n",
      "4\n",
      "5\n",
      "6\n",
      "-2\n",
      "-1\n",
      "0\n",
      "1\n",
      "2\n",
      "3\n",
      "4\n",
      "5\n",
      "6\n",
      "7\n",
      "-1\n",
      "0\n",
      "1\n",
      "2\n",
      "3\n",
      "4\n",
      "5\n",
      "6\n",
      "7\n",
      "8\n",
      "0\n",
      "1\n",
      "2\n",
      "3\n",
      "4\n",
      "5\n",
      "6\n",
      "7\n",
      "8\n",
      "9\n"
     ]
    }
   ],
   "source": [
    "for i in list_1:\n",
    "    for j in list_2:\n",
    "        print(i - j)"
   ]
  },
  {
   "cell_type": "markdown",
   "id": "d95479dd",
   "metadata": {},
   "source": [
    "Write a list comprehension that goes through each string of the following list and prints the ones longer than five characters. `fellowship = ['frodo', 'gandalf', 'elrond','samwise', 'merry', 'aragorn', 'legolas', 'boromir', 'gimli']`."
   ]
  },
  {
   "cell_type": "code",
   "execution_count": 43,
   "id": "2f1fa8b0",
   "metadata": {},
   "outputs": [
    {
     "data": {
      "text/plain": [
       "['gandalf', 'elrond', 'samwise', 'aragorn', 'legolas', 'boromir']"
      ]
     },
     "execution_count": 43,
     "metadata": {},
     "output_type": "execute_result"
    }
   ],
   "source": [
    "fellowship = ['frodo', 'gandalf', 'elrond','samwise', 'merry', 'aragorn', 'legolas', 'boromir', 'gimli']\n",
    "[name for name in fellowship if len(name) > 5]"
   ]
  },
  {
   "cell_type": "markdown",
   "id": "c7d1652a",
   "metadata": {},
   "source": [
    "Write a list comprehension that goes through the following list of numbers and prints 1 if the respective number is positive or 0 otherwise. ` random_numbers = [-2.3, 7, 19, -5, 8, 3, 19.8, -3.2, -5, 7.5, 27, 26.5, -16, 21, -9.9, -1, -12, 30, -10, -28]`."
   ]
  },
  {
   "cell_type": "code",
   "execution_count": 44,
   "id": "ea515fee",
   "metadata": {},
   "outputs": [
    {
     "data": {
      "text/plain": [
       "[0, 1, 1, 0, 1, 1, 1, 0, 0, 1, 1, 1, 0, 1, 0, 0, 0, 1, 0, 0]"
      ]
     },
     "execution_count": 44,
     "metadata": {},
     "output_type": "execute_result"
    }
   ],
   "source": [
    "random_numbers = [-2.3, 7, 19, -5, 8, 3, 19.8, -3.2, -5, 7.5, 27, 26.5, -16, 21, -9.9, -1, -12, 30, -10, -28]\n",
    "[1 if i > 0 else 0 for i in random_numbers]"
   ]
  },
  {
   "cell_type": "markdown",
   "id": "724397c7",
   "metadata": {},
   "source": [
    "Write a function that checks whether a character is a consonant. Then use the function in a list comprehension to print the consonants of the following sentence `It was only thanks to the mounted guardrails and safety nets that we could walk the 6km-long trail`. You will need the built-in string method `isalpha` that checks whether a character is an alphabetic string."
   ]
  },
  {
   "cell_type": "code",
   "execution_count": 45,
   "id": "2aa459b0",
   "metadata": {},
   "outputs": [],
   "source": [
    "def check_consonant(letter):\n",
    "    vowels = 'aeiou'\n",
    "    return letter.isalpha() and letter.lower() not in vowels\n",
    "    "
   ]
  },
  {
   "cell_type": "code",
   "execution_count": 46,
   "id": "482c8f40",
   "metadata": {},
   "outputs": [
    {
     "data": {
      "text/plain": [
       "['t',\n",
       " 'w',\n",
       " 's',\n",
       " 'n',\n",
       " 'l',\n",
       " 'y',\n",
       " 't',\n",
       " 'h',\n",
       " 'n',\n",
       " 'k',\n",
       " 's',\n",
       " 't',\n",
       " 't',\n",
       " 'h',\n",
       " 'm',\n",
       " 'n',\n",
       " 't',\n",
       " 'd',\n",
       " 'g',\n",
       " 'r',\n",
       " 'd',\n",
       " 'r',\n",
       " 'l',\n",
       " 's',\n",
       " 'n',\n",
       " 'd',\n",
       " 's',\n",
       " 'f',\n",
       " 't',\n",
       " 'y',\n",
       " 'n',\n",
       " 't',\n",
       " 's',\n",
       " 't',\n",
       " 'h',\n",
       " 't',\n",
       " 'w',\n",
       " 'c',\n",
       " 'l',\n",
       " 'd',\n",
       " 'w',\n",
       " 'l',\n",
       " 'k',\n",
       " 't',\n",
       " 'h',\n",
       " 'k',\n",
       " 'm',\n",
       " 'l',\n",
       " 'n',\n",
       " 'g',\n",
       " 't',\n",
       " 'r',\n",
       " 'l']"
      ]
     },
     "execution_count": 46,
     "metadata": {},
     "output_type": "execute_result"
    }
   ],
   "source": [
    "my_text = 'It was only thanks to the mounted guardrails and safety nets that we could walk the 6km-long trail'\n",
    "[i for i in my_text if check_consonant(i)]"
   ]
  },
  {
   "cell_type": "markdown",
   "id": "c18a639a",
   "metadata": {},
   "source": [
    "### Bonus exercise - Ceasar Cipher"
   ]
  },
  {
   "cell_type": "markdown",
   "id": "83ad6162",
   "metadata": {},
   "source": [
    "Caesar was sending encrypted messages to his generals. The encryption method is as follows:\n",
    "    \n",
    "    * Shift each letter by a pre-specified number of letters\n",
    "    * If the shift goes beyond the end of the alphabet we rotate back to the beginning of the alphabet\n",
    "    \n",
    "E.g let's say that the shift is equal to 3.\n",
    "\n",
    "Then `a` would become a `d`.\n",
    "\n",
    "If we have a `z` it will become a `c`\n",
    "\n",
    "For this exercise you will need the following buit-in functions:\n",
    "    \n",
    " 1. `ord` takes a Unicode character and returns the integer that is used to represent that character. E.g if we type `ord('a')` we would get `97`.\n",
    " \n",
    " 2. `chr` performs the opposite. If we provide an integer we would get back the Unicode character. E.g. if we type `chr(97)` we will get back `a`.\n",
    " \n",
    " 3. Easier to start with a function that encrypts a single character.\n",
    " \n",
    " 4. The `map` function or a list comprehension could be handy to test your function in a text.\n",
    " \n",
    "\n",
    "Test your solution with the following:\n",
    " \n",
    "`message = \"This message is highly classified\"` \n",
    " \n",
    " \n",
    " For your convenience below is the alphabet:\n",
    " \n",
    " `alphabet = 'abcdefghijklmnopqrstuvwxyz'`\n",
    " \n",
    " In case you have time you can try to write a function that will decrypt the message."
   ]
  },
  {
   "cell_type": "code",
   "execution_count": null,
   "id": "7d58c6d4",
   "metadata": {},
   "outputs": [],
   "source": [
    "def caesar_encrypt(character,shift=3):\n",
    "    \"\"\"\n",
    "    Encrypt a single character by shifting it\n",
    "\n",
    "    Args:\n",
    "        character (char): A character\n",
    "        shift (int): An integer\n",
    "\n",
    "    Returns:\n",
    "        A single character shifted\n",
    "    \"\"\"\n",
    "    character = character.lower()\n",
    "    alphabet = 'abcdefghijklmnopqrstuvwxyz'\n",
    "    if character not in alphabet:\n",
    "        return character\n",
    "    r_char_pos = ord(character) + shift\n",
    "    if (r_char_pos >= ord(alphabet[0])) & (r_char_pos <= ord(alphabet[-1])):\n",
    "        return chr(r_char_pos)\n",
    "    elif r_char_pos < ord(alphabet[0]):\n",
    "        return chr(r_char_pos + len(alphabet))\n",
    "    else:\n",
    "        return chr(r_char_pos - len(alphabet))\n",
    "    "
   ]
  },
  {
   "cell_type": "code",
   "execution_count": null,
   "id": "72d0599c",
   "metadata": {},
   "outputs": [],
   "source": [
    "help(caesar_encrypt)"
   ]
  },
  {
   "cell_type": "code",
   "execution_count": null,
   "id": "a41c0d7c",
   "metadata": {},
   "outputs": [],
   "source": [
    "def caesar_decrypt(character, shift=3):\n",
    "    \"\"\"\n",
    "    Decrypt a single character by shifting it\n",
    "\n",
    "    Args:\n",
    "        character (char): A character\n",
    "        shift (int): An integer\n",
    "\n",
    "    Returns:\n",
    "        A single character shifted\n",
    "    \"\"\"\n",
    "    character = character.lower()\n",
    "    alphabet = 'abcdefghijklmnopqrstuvwxyz'\n",
    "    if character not in alphabet:\n",
    "        return character\n",
    "    orig_char_pos = ord(character) - shift\n",
    "    if (orig_char_pos) >= ord(alphabet[0]):\n",
    "        return chr(orig_char_pos)\n",
    "    else:\n",
    "        orig_char_pos = orig_char_pos + len(alphabet)\n",
    "        return chr(orig_char_pos)\n"
   ]
  },
  {
   "cell_type": "code",
   "execution_count": null,
   "id": "a3715cf5",
   "metadata": {},
   "outputs": [],
   "source": [
    "caesar_encrypt('y',1)"
   ]
  },
  {
   "cell_type": "code",
   "execution_count": null,
   "id": "b906d652",
   "metadata": {},
   "outputs": [],
   "source": [
    "caesar_encrypt('a',-1)"
   ]
  },
  {
   "cell_type": "code",
   "execution_count": null,
   "id": "ba08a303",
   "metadata": {},
   "outputs": [],
   "source": [
    "message = \"This message is highly classified\""
   ]
  },
  {
   "cell_type": "code",
   "execution_count": null,
   "id": "035a8854",
   "metadata": {},
   "outputs": [],
   "source": [
    "encrypted_message = \"\".join(map(caesar_encrypt,message))\n",
    "encrypted_message"
   ]
  },
  {
   "cell_type": "code",
   "execution_count": null,
   "id": "707ddf20",
   "metadata": {},
   "outputs": [],
   "source": [
    "\"\".join(map(lambda x: caesar_decrypt(x,3), encrypted_message)).capitalize()"
   ]
  },
  {
   "cell_type": "code",
   "execution_count": null,
   "id": "99abed7c",
   "metadata": {},
   "outputs": [],
   "source": []
  }
 ],
 "metadata": {
  "kernelspec": {
   "display_name": "Python 3 (ipykernel)",
   "language": "python",
   "name": "python3"
  },
  "language_info": {
   "codemirror_mode": {
    "name": "ipython",
    "version": 3
   },
   "file_extension": ".py",
   "mimetype": "text/x-python",
   "name": "python",
   "nbconvert_exporter": "python",
   "pygments_lexer": "ipython3",
   "version": "3.11.8"
  }
 },
 "nbformat": 4,
 "nbformat_minor": 5
}
