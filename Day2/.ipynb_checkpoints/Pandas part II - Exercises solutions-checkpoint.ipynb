{
 "cells": [
  {
   "cell_type": "code",
   "execution_count": 1,
   "id": "a30baa41",
   "metadata": {},
   "outputs": [],
   "source": [
    "import warnings\n",
    "warnings.filterwarnings('ignore')\n",
    "\n",
    "import pandas as pd\n",
    "import numpy as np\n",
    "import matplotlib.pyplot as plt"
   ]
  },
  {
   "cell_type": "markdown",
   "id": "398caae7",
   "metadata": {},
   "source": [
    "## Exercises "
   ]
  },
  {
   "cell_type": "markdown",
   "id": "9d153761",
   "metadata": {},
   "source": [
    "We will work with the following two files (slight changes from the ones we saw on part I):\n",
    "\n",
    "* `pedigree.txt`\n",
    "* `pheno.txt`"
   ]
  },
  {
   "cell_type": "markdown",
   "id": "87c6b604",
   "metadata": {},
   "source": [
    "### Exercise 1"
   ]
  },
  {
   "cell_type": "markdown",
   "id": "8bfb36d2",
   "metadata": {},
   "source": [
    "For this exercise we will work with the `pedigree.txt` file.\n",
    "\n",
    "* Change the type of the first column to string.\n",
    "* Check whether missing data exist using two different approaches.\n",
    "* Remove any row that has a missing value.\n",
    "* Remove rows only if there are two or more missing values.\n",
    "* Fill the missing values using the next valid observation.\n",
    "* Fill the missing values using the previous valid observation.\n",
    "* Check for the existence of duplicated values in the first column. In case there are duplicates estimate how many. Remove the duplicates.\n",
    "* A colleague tells you that also the records with `0` denote missing data. Make the appropriate changes so that it is clear that those values denote also missing data.\n",
    "* After removing all missing values and duplicates create a barplot depicting the number of offspring of each sire.\n",
    "* Same as the previous but this time depicting the size of each family.\n",
    "* Create a new column that for offspring originating from the first 20 sires has the value `early` and for the rest `late`. Check how many records are on each category."
   ]
  },
  {
   "cell_type": "markdown",
   "id": "2e0be3ba",
   "metadata": {},
   "source": [
    "Change the type of the first column to string."
   ]
  },
  {
   "cell_type": "code",
   "execution_count": 7,
   "id": "339bf9ab",
   "metadata": {},
   "outputs": [
    {
     "data": {
      "text/html": [
       "<div>\n",
       "<style scoped>\n",
       "    .dataframe tbody tr th:only-of-type {\n",
       "        vertical-align: middle;\n",
       "    }\n",
       "\n",
       "    .dataframe tbody tr th {\n",
       "        vertical-align: top;\n",
       "    }\n",
       "\n",
       "    .dataframe thead th {\n",
       "        text-align: right;\n",
       "    }\n",
       "</style>\n",
       "<table border=\"1\" class=\"dataframe\">\n",
       "  <thead>\n",
       "    <tr style=\"text-align: right;\">\n",
       "      <th></th>\n",
       "      <th>Id</th>\n",
       "      <th>Sire</th>\n",
       "      <th>Dam</th>\n",
       "      <th>Line</th>\n",
       "    </tr>\n",
       "  </thead>\n",
       "  <tbody>\n",
       "    <tr>\n",
       "      <th>0</th>\n",
       "      <td>10977965</td>\n",
       "      <td>1.0</td>\n",
       "      <td>1.0</td>\n",
       "      <td>Wami</td>\n",
       "    </tr>\n",
       "    <tr>\n",
       "      <th>1</th>\n",
       "      <td>10978207</td>\n",
       "      <td>1.0</td>\n",
       "      <td>1.0</td>\n",
       "      <td>Wami</td>\n",
       "    </tr>\n",
       "    <tr>\n",
       "      <th>2</th>\n",
       "      <td>10978378</td>\n",
       "      <td>1.0</td>\n",
       "      <td>1.0</td>\n",
       "      <td>Wami</td>\n",
       "    </tr>\n",
       "    <tr>\n",
       "      <th>3</th>\n",
       "      <td>10978407</td>\n",
       "      <td>1.0</td>\n",
       "      <td>1.0</td>\n",
       "      <td>Wami</td>\n",
       "    </tr>\n",
       "    <tr>\n",
       "      <th>4</th>\n",
       "      <td>10977732</td>\n",
       "      <td>1.0</td>\n",
       "      <td>1.0</td>\n",
       "      <td>Wami</td>\n",
       "    </tr>\n",
       "    <tr>\n",
       "      <th>...</th>\n",
       "      <td>...</td>\n",
       "      <td>...</td>\n",
       "      <td>...</td>\n",
       "      <td>...</td>\n",
       "    </tr>\n",
       "    <tr>\n",
       "      <th>1747</th>\n",
       "      <td>10978369</td>\n",
       "      <td>NaN</td>\n",
       "      <td>NaN</td>\n",
       "      <td>Ruaha</td>\n",
       "    </tr>\n",
       "    <tr>\n",
       "      <th>1748</th>\n",
       "      <td>10978013</td>\n",
       "      <td>35.0</td>\n",
       "      <td>NaN</td>\n",
       "      <td>Ruaha</td>\n",
       "    </tr>\n",
       "    <tr>\n",
       "      <th>1749</th>\n",
       "      <td>10978579</td>\n",
       "      <td>NaN</td>\n",
       "      <td>NaN</td>\n",
       "      <td>Ruaha</td>\n",
       "    </tr>\n",
       "    <tr>\n",
       "      <th>1750</th>\n",
       "      <td>10977708</td>\n",
       "      <td>NaN</td>\n",
       "      <td>35.0</td>\n",
       "      <td>Ruaha</td>\n",
       "    </tr>\n",
       "    <tr>\n",
       "      <th>1751</th>\n",
       "      <td>10977975</td>\n",
       "      <td>35.0</td>\n",
       "      <td>35.0</td>\n",
       "      <td>Ruaha</td>\n",
       "    </tr>\n",
       "  </tbody>\n",
       "</table>\n",
       "<p>1752 rows × 4 columns</p>\n",
       "</div>"
      ],
      "text/plain": [
       "            Id  Sire   Dam   Line\n",
       "0     10977965   1.0   1.0   Wami\n",
       "1     10978207   1.0   1.0   Wami\n",
       "2     10978378   1.0   1.0   Wami\n",
       "3     10978407   1.0   1.0   Wami\n",
       "4     10977732   1.0   1.0   Wami\n",
       "...        ...   ...   ...    ...\n",
       "1747  10978369   NaN   NaN  Ruaha\n",
       "1748  10978013  35.0   NaN  Ruaha\n",
       "1749  10978579   NaN   NaN  Ruaha\n",
       "1750  10977708   NaN  35.0  Ruaha\n",
       "1751  10977975  35.0  35.0  Ruaha\n",
       "\n",
       "[1752 rows x 4 columns]"
      ]
     },
     "execution_count": 7,
     "metadata": {},
     "output_type": "execute_result"
    }
   ],
   "source": [
    "til_ped = pd.read_csv(\"pedigree.txt\", sep=\"\\t\")\n",
    "til_ped"
   ]
  },
  {
   "cell_type": "code",
   "execution_count": 8,
   "id": "92e4d231",
   "metadata": {},
   "outputs": [
    {
     "data": {
      "text/plain": [
       "(1752, 4)"
      ]
     },
     "execution_count": 8,
     "metadata": {},
     "output_type": "execute_result"
    }
   ],
   "source": [
    "til_ped.shape"
   ]
  },
  {
   "cell_type": "code",
   "execution_count": 9,
   "id": "68900e27",
   "metadata": {},
   "outputs": [],
   "source": [
    "til_ped[['Id']] = til_ped[['Id']].astype('str')"
   ]
  },
  {
   "cell_type": "markdown",
   "id": "eec5c8f8",
   "metadata": {},
   "source": [
    "Check whether missing data exist using two different approaches."
   ]
  },
  {
   "cell_type": "code",
   "execution_count": 10,
   "id": "d14bdcce",
   "metadata": {},
   "outputs": [
    {
     "name": "stdout",
     "output_type": "stream",
     "text": [
      "<class 'pandas.core.frame.DataFrame'>\n",
      "RangeIndex: 1752 entries, 0 to 1751\n",
      "Data columns (total 4 columns):\n",
      " #   Column  Non-Null Count  Dtype  \n",
      "---  ------  --------------  -----  \n",
      " 0   Id      1752 non-null   object \n",
      " 1   Sire    1727 non-null   float64\n",
      " 2   Dam     1731 non-null   float64\n",
      " 3   Line    1752 non-null   object \n",
      "dtypes: float64(2), object(2)\n",
      "memory usage: 54.9+ KB\n"
     ]
    }
   ],
   "source": [
    "til_ped.info()"
   ]
  },
  {
   "cell_type": "code",
   "execution_count": 11,
   "id": "70cfc23f",
   "metadata": {},
   "outputs": [
    {
     "data": {
      "text/plain": [
       "Id      False\n",
       "Sire     True\n",
       "Dam      True\n",
       "Line    False\n",
       "dtype: bool"
      ]
     },
     "execution_count": 11,
     "metadata": {},
     "output_type": "execute_result"
    }
   ],
   "source": [
    "til_ped.isnull().any()"
   ]
  },
  {
   "cell_type": "markdown",
   "id": "5d90fc6e",
   "metadata": {},
   "source": [
    "Remove any row that has a missing value."
   ]
  },
  {
   "cell_type": "code",
   "execution_count": 12,
   "id": "5a0782f7",
   "metadata": {},
   "outputs": [
    {
     "data": {
      "text/html": [
       "<div>\n",
       "<style scoped>\n",
       "    .dataframe tbody tr th:only-of-type {\n",
       "        vertical-align: middle;\n",
       "    }\n",
       "\n",
       "    .dataframe tbody tr th {\n",
       "        vertical-align: top;\n",
       "    }\n",
       "\n",
       "    .dataframe thead th {\n",
       "        text-align: right;\n",
       "    }\n",
       "</style>\n",
       "<table border=\"1\" class=\"dataframe\">\n",
       "  <thead>\n",
       "    <tr style=\"text-align: right;\">\n",
       "      <th></th>\n",
       "      <th>Id</th>\n",
       "      <th>Sire</th>\n",
       "      <th>Dam</th>\n",
       "      <th>Line</th>\n",
       "    </tr>\n",
       "  </thead>\n",
       "  <tbody>\n",
       "    <tr>\n",
       "      <th>0</th>\n",
       "      <td>10977965</td>\n",
       "      <td>1.0</td>\n",
       "      <td>1.0</td>\n",
       "      <td>Wami</td>\n",
       "    </tr>\n",
       "    <tr>\n",
       "      <th>1</th>\n",
       "      <td>10978207</td>\n",
       "      <td>1.0</td>\n",
       "      <td>1.0</td>\n",
       "      <td>Wami</td>\n",
       "    </tr>\n",
       "    <tr>\n",
       "      <th>2</th>\n",
       "      <td>10978378</td>\n",
       "      <td>1.0</td>\n",
       "      <td>1.0</td>\n",
       "      <td>Wami</td>\n",
       "    </tr>\n",
       "    <tr>\n",
       "      <th>3</th>\n",
       "      <td>10978407</td>\n",
       "      <td>1.0</td>\n",
       "      <td>1.0</td>\n",
       "      <td>Wami</td>\n",
       "    </tr>\n",
       "    <tr>\n",
       "      <th>4</th>\n",
       "      <td>10977732</td>\n",
       "      <td>1.0</td>\n",
       "      <td>1.0</td>\n",
       "      <td>Wami</td>\n",
       "    </tr>\n",
       "    <tr>\n",
       "      <th>...</th>\n",
       "      <td>...</td>\n",
       "      <td>...</td>\n",
       "      <td>...</td>\n",
       "      <td>...</td>\n",
       "    </tr>\n",
       "    <tr>\n",
       "      <th>1743</th>\n",
       "      <td>10977635</td>\n",
       "      <td>35.0</td>\n",
       "      <td>35.0</td>\n",
       "      <td>Ruaha</td>\n",
       "    </tr>\n",
       "    <tr>\n",
       "      <th>1744</th>\n",
       "      <td>10978151</td>\n",
       "      <td>35.0</td>\n",
       "      <td>35.0</td>\n",
       "      <td>Ruaha</td>\n",
       "    </tr>\n",
       "    <tr>\n",
       "      <th>1745</th>\n",
       "      <td>10977918</td>\n",
       "      <td>35.0</td>\n",
       "      <td>35.0</td>\n",
       "      <td>Ruaha</td>\n",
       "    </tr>\n",
       "    <tr>\n",
       "      <th>1746</th>\n",
       "      <td>10977945</td>\n",
       "      <td>35.0</td>\n",
       "      <td>35.0</td>\n",
       "      <td>Ruaha</td>\n",
       "    </tr>\n",
       "    <tr>\n",
       "      <th>1751</th>\n",
       "      <td>10977975</td>\n",
       "      <td>35.0</td>\n",
       "      <td>35.0</td>\n",
       "      <td>Ruaha</td>\n",
       "    </tr>\n",
       "  </tbody>\n",
       "</table>\n",
       "<p>1718 rows × 4 columns</p>\n",
       "</div>"
      ],
      "text/plain": [
       "            Id  Sire   Dam   Line\n",
       "0     10977965   1.0   1.0   Wami\n",
       "1     10978207   1.0   1.0   Wami\n",
       "2     10978378   1.0   1.0   Wami\n",
       "3     10978407   1.0   1.0   Wami\n",
       "4     10977732   1.0   1.0   Wami\n",
       "...        ...   ...   ...    ...\n",
       "1743  10977635  35.0  35.0  Ruaha\n",
       "1744  10978151  35.0  35.0  Ruaha\n",
       "1745  10977918  35.0  35.0  Ruaha\n",
       "1746  10977945  35.0  35.0  Ruaha\n",
       "1751  10977975  35.0  35.0  Ruaha\n",
       "\n",
       "[1718 rows x 4 columns]"
      ]
     },
     "execution_count": 12,
     "metadata": {},
     "output_type": "execute_result"
    }
   ],
   "source": [
    "til_ped.dropna()"
   ]
  },
  {
   "cell_type": "markdown",
   "id": "e6ebc5ef",
   "metadata": {},
   "source": [
    "Remove rows only if there are two or more missing values."
   ]
  },
  {
   "cell_type": "code",
   "execution_count": 13,
   "id": "6f8b38b5",
   "metadata": {},
   "outputs": [
    {
     "data": {
      "text/html": [
       "<div>\n",
       "<style scoped>\n",
       "    .dataframe tbody tr th:only-of-type {\n",
       "        vertical-align: middle;\n",
       "    }\n",
       "\n",
       "    .dataframe tbody tr th {\n",
       "        vertical-align: top;\n",
       "    }\n",
       "\n",
       "    .dataframe thead th {\n",
       "        text-align: right;\n",
       "    }\n",
       "</style>\n",
       "<table border=\"1\" class=\"dataframe\">\n",
       "  <thead>\n",
       "    <tr style=\"text-align: right;\">\n",
       "      <th></th>\n",
       "      <th>Id</th>\n",
       "      <th>Sire</th>\n",
       "      <th>Dam</th>\n",
       "      <th>Line</th>\n",
       "    </tr>\n",
       "  </thead>\n",
       "  <tbody>\n",
       "    <tr>\n",
       "      <th>0</th>\n",
       "      <td>10977965</td>\n",
       "      <td>1.0</td>\n",
       "      <td>1.0</td>\n",
       "      <td>Wami</td>\n",
       "    </tr>\n",
       "    <tr>\n",
       "      <th>1</th>\n",
       "      <td>10978207</td>\n",
       "      <td>1.0</td>\n",
       "      <td>1.0</td>\n",
       "      <td>Wami</td>\n",
       "    </tr>\n",
       "    <tr>\n",
       "      <th>2</th>\n",
       "      <td>10978378</td>\n",
       "      <td>1.0</td>\n",
       "      <td>1.0</td>\n",
       "      <td>Wami</td>\n",
       "    </tr>\n",
       "    <tr>\n",
       "      <th>3</th>\n",
       "      <td>10978407</td>\n",
       "      <td>1.0</td>\n",
       "      <td>1.0</td>\n",
       "      <td>Wami</td>\n",
       "    </tr>\n",
       "    <tr>\n",
       "      <th>4</th>\n",
       "      <td>10977732</td>\n",
       "      <td>1.0</td>\n",
       "      <td>1.0</td>\n",
       "      <td>Wami</td>\n",
       "    </tr>\n",
       "    <tr>\n",
       "      <th>...</th>\n",
       "      <td>...</td>\n",
       "      <td>...</td>\n",
       "      <td>...</td>\n",
       "      <td>...</td>\n",
       "    </tr>\n",
       "    <tr>\n",
       "      <th>1745</th>\n",
       "      <td>10977918</td>\n",
       "      <td>35.0</td>\n",
       "      <td>35.0</td>\n",
       "      <td>Ruaha</td>\n",
       "    </tr>\n",
       "    <tr>\n",
       "      <th>1746</th>\n",
       "      <td>10977945</td>\n",
       "      <td>35.0</td>\n",
       "      <td>35.0</td>\n",
       "      <td>Ruaha</td>\n",
       "    </tr>\n",
       "    <tr>\n",
       "      <th>1748</th>\n",
       "      <td>10978013</td>\n",
       "      <td>35.0</td>\n",
       "      <td>NaN</td>\n",
       "      <td>Ruaha</td>\n",
       "    </tr>\n",
       "    <tr>\n",
       "      <th>1750</th>\n",
       "      <td>10977708</td>\n",
       "      <td>NaN</td>\n",
       "      <td>35.0</td>\n",
       "      <td>Ruaha</td>\n",
       "    </tr>\n",
       "    <tr>\n",
       "      <th>1751</th>\n",
       "      <td>10977975</td>\n",
       "      <td>35.0</td>\n",
       "      <td>35.0</td>\n",
       "      <td>Ruaha</td>\n",
       "    </tr>\n",
       "  </tbody>\n",
       "</table>\n",
       "<p>1740 rows × 4 columns</p>\n",
       "</div>"
      ],
      "text/plain": [
       "            Id  Sire   Dam   Line\n",
       "0     10977965   1.0   1.0   Wami\n",
       "1     10978207   1.0   1.0   Wami\n",
       "2     10978378   1.0   1.0   Wami\n",
       "3     10978407   1.0   1.0   Wami\n",
       "4     10977732   1.0   1.0   Wami\n",
       "...        ...   ...   ...    ...\n",
       "1745  10977918  35.0  35.0  Ruaha\n",
       "1746  10977945  35.0  35.0  Ruaha\n",
       "1748  10978013  35.0   NaN  Ruaha\n",
       "1750  10977708   NaN  35.0  Ruaha\n",
       "1751  10977975  35.0  35.0  Ruaha\n",
       "\n",
       "[1740 rows x 4 columns]"
      ]
     },
     "execution_count": 13,
     "metadata": {},
     "output_type": "execute_result"
    }
   ],
   "source": [
    "til_ped.dropna(thresh=3)"
   ]
  },
  {
   "cell_type": "markdown",
   "id": "b57f48a7",
   "metadata": {},
   "source": [
    "Fill the missing values using the next valid observation."
   ]
  },
  {
   "cell_type": "code",
   "execution_count": 14,
   "id": "82252441",
   "metadata": {},
   "outputs": [
    {
     "data": {
      "text/html": [
       "<div>\n",
       "<style scoped>\n",
       "    .dataframe tbody tr th:only-of-type {\n",
       "        vertical-align: middle;\n",
       "    }\n",
       "\n",
       "    .dataframe tbody tr th {\n",
       "        vertical-align: top;\n",
       "    }\n",
       "\n",
       "    .dataframe thead th {\n",
       "        text-align: right;\n",
       "    }\n",
       "</style>\n",
       "<table border=\"1\" class=\"dataframe\">\n",
       "  <thead>\n",
       "    <tr style=\"text-align: right;\">\n",
       "      <th></th>\n",
       "      <th>Id</th>\n",
       "      <th>Sire</th>\n",
       "      <th>Dam</th>\n",
       "      <th>Line</th>\n",
       "    </tr>\n",
       "  </thead>\n",
       "  <tbody>\n",
       "    <tr>\n",
       "      <th>0</th>\n",
       "      <td>10977965</td>\n",
       "      <td>1.0</td>\n",
       "      <td>1.0</td>\n",
       "      <td>Wami</td>\n",
       "    </tr>\n",
       "    <tr>\n",
       "      <th>1</th>\n",
       "      <td>10978207</td>\n",
       "      <td>1.0</td>\n",
       "      <td>1.0</td>\n",
       "      <td>Wami</td>\n",
       "    </tr>\n",
       "    <tr>\n",
       "      <th>2</th>\n",
       "      <td>10978378</td>\n",
       "      <td>1.0</td>\n",
       "      <td>1.0</td>\n",
       "      <td>Wami</td>\n",
       "    </tr>\n",
       "    <tr>\n",
       "      <th>3</th>\n",
       "      <td>10978407</td>\n",
       "      <td>1.0</td>\n",
       "      <td>1.0</td>\n",
       "      <td>Wami</td>\n",
       "    </tr>\n",
       "    <tr>\n",
       "      <th>4</th>\n",
       "      <td>10977732</td>\n",
       "      <td>1.0</td>\n",
       "      <td>1.0</td>\n",
       "      <td>Wami</td>\n",
       "    </tr>\n",
       "    <tr>\n",
       "      <th>...</th>\n",
       "      <td>...</td>\n",
       "      <td>...</td>\n",
       "      <td>...</td>\n",
       "      <td>...</td>\n",
       "    </tr>\n",
       "    <tr>\n",
       "      <th>1747</th>\n",
       "      <td>10978369</td>\n",
       "      <td>35.0</td>\n",
       "      <td>35.0</td>\n",
       "      <td>Ruaha</td>\n",
       "    </tr>\n",
       "    <tr>\n",
       "      <th>1748</th>\n",
       "      <td>10978013</td>\n",
       "      <td>35.0</td>\n",
       "      <td>35.0</td>\n",
       "      <td>Ruaha</td>\n",
       "    </tr>\n",
       "    <tr>\n",
       "      <th>1749</th>\n",
       "      <td>10978579</td>\n",
       "      <td>35.0</td>\n",
       "      <td>35.0</td>\n",
       "      <td>Ruaha</td>\n",
       "    </tr>\n",
       "    <tr>\n",
       "      <th>1750</th>\n",
       "      <td>10977708</td>\n",
       "      <td>35.0</td>\n",
       "      <td>35.0</td>\n",
       "      <td>Ruaha</td>\n",
       "    </tr>\n",
       "    <tr>\n",
       "      <th>1751</th>\n",
       "      <td>10977975</td>\n",
       "      <td>35.0</td>\n",
       "      <td>35.0</td>\n",
       "      <td>Ruaha</td>\n",
       "    </tr>\n",
       "  </tbody>\n",
       "</table>\n",
       "<p>1752 rows × 4 columns</p>\n",
       "</div>"
      ],
      "text/plain": [
       "            Id  Sire   Dam   Line\n",
       "0     10977965   1.0   1.0   Wami\n",
       "1     10978207   1.0   1.0   Wami\n",
       "2     10978378   1.0   1.0   Wami\n",
       "3     10978407   1.0   1.0   Wami\n",
       "4     10977732   1.0   1.0   Wami\n",
       "...        ...   ...   ...    ...\n",
       "1747  10978369  35.0  35.0  Ruaha\n",
       "1748  10978013  35.0  35.0  Ruaha\n",
       "1749  10978579  35.0  35.0  Ruaha\n",
       "1750  10977708  35.0  35.0  Ruaha\n",
       "1751  10977975  35.0  35.0  Ruaha\n",
       "\n",
       "[1752 rows x 4 columns]"
      ]
     },
     "execution_count": 14,
     "metadata": {},
     "output_type": "execute_result"
    }
   ],
   "source": [
    "til_ped.fillna(method='bfill')"
   ]
  },
  {
   "cell_type": "markdown",
   "id": "7785be6b",
   "metadata": {},
   "source": [
    "Fill the missing values using the previous valid observation."
   ]
  },
  {
   "cell_type": "code",
   "execution_count": 15,
   "id": "58b52a51",
   "metadata": {},
   "outputs": [
    {
     "data": {
      "text/html": [
       "<div>\n",
       "<style scoped>\n",
       "    .dataframe tbody tr th:only-of-type {\n",
       "        vertical-align: middle;\n",
       "    }\n",
       "\n",
       "    .dataframe tbody tr th {\n",
       "        vertical-align: top;\n",
       "    }\n",
       "\n",
       "    .dataframe thead th {\n",
       "        text-align: right;\n",
       "    }\n",
       "</style>\n",
       "<table border=\"1\" class=\"dataframe\">\n",
       "  <thead>\n",
       "    <tr style=\"text-align: right;\">\n",
       "      <th></th>\n",
       "      <th>Id</th>\n",
       "      <th>Sire</th>\n",
       "      <th>Dam</th>\n",
       "      <th>Line</th>\n",
       "    </tr>\n",
       "  </thead>\n",
       "  <tbody>\n",
       "    <tr>\n",
       "      <th>0</th>\n",
       "      <td>10977965</td>\n",
       "      <td>1.0</td>\n",
       "      <td>1.0</td>\n",
       "      <td>Wami</td>\n",
       "    </tr>\n",
       "    <tr>\n",
       "      <th>1</th>\n",
       "      <td>10978207</td>\n",
       "      <td>1.0</td>\n",
       "      <td>1.0</td>\n",
       "      <td>Wami</td>\n",
       "    </tr>\n",
       "    <tr>\n",
       "      <th>2</th>\n",
       "      <td>10978378</td>\n",
       "      <td>1.0</td>\n",
       "      <td>1.0</td>\n",
       "      <td>Wami</td>\n",
       "    </tr>\n",
       "    <tr>\n",
       "      <th>3</th>\n",
       "      <td>10978407</td>\n",
       "      <td>1.0</td>\n",
       "      <td>1.0</td>\n",
       "      <td>Wami</td>\n",
       "    </tr>\n",
       "    <tr>\n",
       "      <th>4</th>\n",
       "      <td>10977732</td>\n",
       "      <td>1.0</td>\n",
       "      <td>1.0</td>\n",
       "      <td>Wami</td>\n",
       "    </tr>\n",
       "    <tr>\n",
       "      <th>...</th>\n",
       "      <td>...</td>\n",
       "      <td>...</td>\n",
       "      <td>...</td>\n",
       "      <td>...</td>\n",
       "    </tr>\n",
       "    <tr>\n",
       "      <th>1747</th>\n",
       "      <td>10978369</td>\n",
       "      <td>35.0</td>\n",
       "      <td>35.0</td>\n",
       "      <td>Ruaha</td>\n",
       "    </tr>\n",
       "    <tr>\n",
       "      <th>1748</th>\n",
       "      <td>10978013</td>\n",
       "      <td>35.0</td>\n",
       "      <td>35.0</td>\n",
       "      <td>Ruaha</td>\n",
       "    </tr>\n",
       "    <tr>\n",
       "      <th>1749</th>\n",
       "      <td>10978579</td>\n",
       "      <td>35.0</td>\n",
       "      <td>35.0</td>\n",
       "      <td>Ruaha</td>\n",
       "    </tr>\n",
       "    <tr>\n",
       "      <th>1750</th>\n",
       "      <td>10977708</td>\n",
       "      <td>35.0</td>\n",
       "      <td>35.0</td>\n",
       "      <td>Ruaha</td>\n",
       "    </tr>\n",
       "    <tr>\n",
       "      <th>1751</th>\n",
       "      <td>10977975</td>\n",
       "      <td>35.0</td>\n",
       "      <td>35.0</td>\n",
       "      <td>Ruaha</td>\n",
       "    </tr>\n",
       "  </tbody>\n",
       "</table>\n",
       "<p>1752 rows × 4 columns</p>\n",
       "</div>"
      ],
      "text/plain": [
       "            Id  Sire   Dam   Line\n",
       "0     10977965   1.0   1.0   Wami\n",
       "1     10978207   1.0   1.0   Wami\n",
       "2     10978378   1.0   1.0   Wami\n",
       "3     10978407   1.0   1.0   Wami\n",
       "4     10977732   1.0   1.0   Wami\n",
       "...        ...   ...   ...    ...\n",
       "1747  10978369  35.0  35.0  Ruaha\n",
       "1748  10978013  35.0  35.0  Ruaha\n",
       "1749  10978579  35.0  35.0  Ruaha\n",
       "1750  10977708  35.0  35.0  Ruaha\n",
       "1751  10977975  35.0  35.0  Ruaha\n",
       "\n",
       "[1752 rows x 4 columns]"
      ]
     },
     "execution_count": 15,
     "metadata": {},
     "output_type": "execute_result"
    }
   ],
   "source": [
    "til_ped.fillna(method='ffill')"
   ]
  },
  {
   "cell_type": "markdown",
   "id": "fe815388",
   "metadata": {},
   "source": [
    "Check for the existence of duplicated values in the first column. In case there are duplicates estimate how many. Remove the duplicates."
   ]
  },
  {
   "cell_type": "code",
   "execution_count": 16,
   "id": "8d8dc2cd",
   "metadata": {},
   "outputs": [
    {
     "data": {
      "text/plain": [
       "True"
      ]
     },
     "execution_count": 16,
     "metadata": {},
     "output_type": "execute_result"
    }
   ],
   "source": [
    "til_ped['Id'].duplicated().any()"
   ]
  },
  {
   "cell_type": "code",
   "execution_count": 17,
   "id": "29f6146b",
   "metadata": {},
   "outputs": [
    {
     "data": {
      "text/plain": [
       "0       False\n",
       "1       False\n",
       "2       False\n",
       "3       False\n",
       "4       False\n",
       "        ...  \n",
       "1747    False\n",
       "1748    False\n",
       "1749    False\n",
       "1750    False\n",
       "1751    False\n",
       "Name: Id, Length: 1752, dtype: bool"
      ]
     },
     "execution_count": 17,
     "metadata": {},
     "output_type": "execute_result"
    }
   ],
   "source": [
    "til_ped['Id'].duplicated()"
   ]
  },
  {
   "cell_type": "code",
   "execution_count": 18,
   "id": "cd704fc9",
   "metadata": {},
   "outputs": [
    {
     "data": {
      "text/plain": [
       "47"
      ]
     },
     "execution_count": 18,
     "metadata": {},
     "output_type": "execute_result"
    }
   ],
   "source": [
    "sum(til_ped['Id'].duplicated())"
   ]
  },
  {
   "cell_type": "code",
   "execution_count": 19,
   "id": "e2531b8f",
   "metadata": {},
   "outputs": [
    {
     "data": {
      "text/plain": [
       "47"
      ]
     },
     "execution_count": 19,
     "metadata": {},
     "output_type": "execute_result"
    }
   ],
   "source": [
    "til_ped.shape[0] - til_ped['Id'].nunique()"
   ]
  },
  {
   "cell_type": "code",
   "execution_count": 20,
   "id": "614ecdf7",
   "metadata": {},
   "outputs": [
    {
     "data": {
      "text/plain": [
       "0       10977965\n",
       "1       10978207\n",
       "2       10978378\n",
       "3       10978407\n",
       "4       10977732\n",
       "          ...   \n",
       "1747    10978369\n",
       "1748    10978013\n",
       "1749    10978579\n",
       "1750    10977708\n",
       "1751    10977975\n",
       "Name: Id, Length: 1705, dtype: object"
      ]
     },
     "execution_count": 20,
     "metadata": {},
     "output_type": "execute_result"
    }
   ],
   "source": [
    "til_ped['Id'].drop_duplicates()"
   ]
  },
  {
   "cell_type": "markdown",
   "id": "01c53d04",
   "metadata": {},
   "source": [
    "A colleague tells you that also the records with `0` denote missing data. Make the appropriate changes so that it is clear that those values denote also missing data."
   ]
  },
  {
   "cell_type": "code",
   "execution_count": 21,
   "id": "7abd8217",
   "metadata": {},
   "outputs": [
    {
     "name": "stdout",
     "output_type": "stream",
     "text": [
      "<class 'pandas.core.frame.DataFrame'>\n",
      "RangeIndex: 1752 entries, 0 to 1751\n",
      "Data columns (total 4 columns):\n",
      " #   Column  Non-Null Count  Dtype  \n",
      "---  ------  --------------  -----  \n",
      " 0   Id      1752 non-null   object \n",
      " 1   Sire    1695 non-null   float64\n",
      " 2   Dam     1700 non-null   float64\n",
      " 3   Line    1752 non-null   object \n",
      "dtypes: float64(2), object(2)\n",
      "memory usage: 54.9+ KB\n"
     ]
    }
   ],
   "source": [
    "til_ped.replace(0, np.nan).info()"
   ]
  },
  {
   "cell_type": "markdown",
   "id": "eba21e0b",
   "metadata": {},
   "source": [
    "After removing all missing values and duplicates create a barplot depicting the number of offspring of each sire."
   ]
  },
  {
   "cell_type": "code",
   "execution_count": 22,
   "id": "e421f4d5",
   "metadata": {},
   "outputs": [
    {
     "data": {
      "text/plain": [
       "(1718, 4)"
      ]
     },
     "execution_count": 22,
     "metadata": {},
     "output_type": "execute_result"
    }
   ],
   "source": [
    "til_ped.dropna(inplace=True)\n",
    "til_ped.shape"
   ]
  },
  {
   "cell_type": "code",
   "execution_count": 23,
   "id": "03992d0a",
   "metadata": {},
   "outputs": [
    {
     "data": {
      "text/plain": [
       "(1672, 4)"
      ]
     },
     "execution_count": 23,
     "metadata": {},
     "output_type": "execute_result"
    }
   ],
   "source": [
    "til_ped.drop_duplicates(subset='Id',inplace=True)\n",
    "til_ped.shape"
   ]
  },
  {
   "cell_type": "code",
   "execution_count": 24,
   "id": "39d735e1",
   "metadata": {},
   "outputs": [
    {
     "data": {
      "text/plain": [
       "<AxesSubplot:>"
      ]
     },
     "execution_count": 24,
     "metadata": {},
     "output_type": "execute_result"
    },
    {
     "data": {
      "image/png": "[encoded data removed]",
      "text/plain": [
       "<Figure size 432x288 with 1 Axes>"
      ]
     },
     "metadata": {
      "needs_background": "light"
     },
     "output_type": "display_data"
    }
   ],
   "source": [
    "til_ped['Sire'].value_counts().plot(kind='bar')"
   ]
  },
  {
   "cell_type": "markdown",
   "id": "8193694c",
   "metadata": {},
   "source": [
    "Same as the previous but this time depicting the size of each family."
   ]
  },
  {
   "cell_type": "code",
   "execution_count": 26,
   "id": "11f2f892",
   "metadata": {},
   "outputs": [
    {
     "data": {
      "text/plain": [
       "<AxesSubplot:>"
      ]
     },
     "execution_count": 26,
     "metadata": {},
     "output_type": "execute_result"
    },
    {
     "data": {
      "image/png": "[encoded data removed]",
      "text/plain": [
       "<Figure size 432x288 with 1 Axes>"
      ]
     },
     "metadata": {
      "needs_background": "light"
     },
     "output_type": "display_data"
    }
   ],
   "source": [
    "til_ped['Family'] = til_ped['Sire'].astype(str) + \"-\" + til_ped['Dam'].astype(str)\n",
    "til_ped['Family'].value_counts().plot(kind='bar')"
   ]
  },
  {
   "cell_type": "markdown",
   "id": "245eac37",
   "metadata": {},
   "source": [
    "Create a new column that for offspring originating from the first 20 sires  has the value `early` and for the rest `late`. Check how many records are on each category?"
   ]
  },
  {
   "cell_type": "code",
   "execution_count": 27,
   "id": "5cc184d4",
   "metadata": {},
   "outputs": [],
   "source": [
    "group_names = ['early', 'late']"
   ]
  },
  {
   "cell_type": "code",
   "execution_count": 28,
   "id": "23b52b13",
   "metadata": {},
   "outputs": [
    {
     "data": {
      "text/html": [
       "<div>\n",
       "<style scoped>\n",
       "    .dataframe tbody tr th:only-of-type {\n",
       "        vertical-align: middle;\n",
       "    }\n",
       "\n",
       "    .dataframe tbody tr th {\n",
       "        vertical-align: top;\n",
       "    }\n",
       "\n",
       "    .dataframe thead th {\n",
       "        text-align: right;\n",
       "    }\n",
       "</style>\n",
       "<table border=\"1\" class=\"dataframe\">\n",
       "  <thead>\n",
       "    <tr style=\"text-align: right;\">\n",
       "      <th></th>\n",
       "      <th>Id</th>\n",
       "      <th>Sire</th>\n",
       "      <th>Dam</th>\n",
       "      <th>Line</th>\n",
       "      <th>Family</th>\n",
       "      <th>Status</th>\n",
       "    </tr>\n",
       "  </thead>\n",
       "  <tbody>\n",
       "    <tr>\n",
       "      <th>0</th>\n",
       "      <td>10977965</td>\n",
       "      <td>1.0</td>\n",
       "      <td>1.0</td>\n",
       "      <td>Wami</td>\n",
       "      <td>1.0-1.0</td>\n",
       "      <td>early</td>\n",
       "    </tr>\n",
       "    <tr>\n",
       "      <th>1</th>\n",
       "      <td>10978207</td>\n",
       "      <td>1.0</td>\n",
       "      <td>1.0</td>\n",
       "      <td>Wami</td>\n",
       "      <td>1.0-1.0</td>\n",
       "      <td>early</td>\n",
       "    </tr>\n",
       "    <tr>\n",
       "      <th>2</th>\n",
       "      <td>10978378</td>\n",
       "      <td>1.0</td>\n",
       "      <td>1.0</td>\n",
       "      <td>Wami</td>\n",
       "      <td>1.0-1.0</td>\n",
       "      <td>early</td>\n",
       "    </tr>\n",
       "    <tr>\n",
       "      <th>3</th>\n",
       "      <td>10978407</td>\n",
       "      <td>1.0</td>\n",
       "      <td>1.0</td>\n",
       "      <td>Wami</td>\n",
       "      <td>1.0-1.0</td>\n",
       "      <td>early</td>\n",
       "    </tr>\n",
       "    <tr>\n",
       "      <th>4</th>\n",
       "      <td>10977732</td>\n",
       "      <td>1.0</td>\n",
       "      <td>1.0</td>\n",
       "      <td>Wami</td>\n",
       "      <td>1.0-1.0</td>\n",
       "      <td>early</td>\n",
       "    </tr>\n",
       "    <tr>\n",
       "      <th>...</th>\n",
       "      <td>...</td>\n",
       "      <td>...</td>\n",
       "      <td>...</td>\n",
       "      <td>...</td>\n",
       "      <td>...</td>\n",
       "      <td>...</td>\n",
       "    </tr>\n",
       "    <tr>\n",
       "      <th>1743</th>\n",
       "      <td>10977635</td>\n",
       "      <td>35.0</td>\n",
       "      <td>35.0</td>\n",
       "      <td>Ruaha</td>\n",
       "      <td>35.0-35.0</td>\n",
       "      <td>late</td>\n",
       "    </tr>\n",
       "    <tr>\n",
       "      <th>1744</th>\n",
       "      <td>10978151</td>\n",
       "      <td>35.0</td>\n",
       "      <td>35.0</td>\n",
       "      <td>Ruaha</td>\n",
       "      <td>35.0-35.0</td>\n",
       "      <td>late</td>\n",
       "    </tr>\n",
       "    <tr>\n",
       "      <th>1745</th>\n",
       "      <td>10977918</td>\n",
       "      <td>35.0</td>\n",
       "      <td>35.0</td>\n",
       "      <td>Ruaha</td>\n",
       "      <td>35.0-35.0</td>\n",
       "      <td>late</td>\n",
       "    </tr>\n",
       "    <tr>\n",
       "      <th>1746</th>\n",
       "      <td>10977945</td>\n",
       "      <td>35.0</td>\n",
       "      <td>35.0</td>\n",
       "      <td>Ruaha</td>\n",
       "      <td>35.0-35.0</td>\n",
       "      <td>late</td>\n",
       "    </tr>\n",
       "    <tr>\n",
       "      <th>1751</th>\n",
       "      <td>10977975</td>\n",
       "      <td>35.0</td>\n",
       "      <td>35.0</td>\n",
       "      <td>Ruaha</td>\n",
       "      <td>35.0-35.0</td>\n",
       "      <td>late</td>\n",
       "    </tr>\n",
       "  </tbody>\n",
       "</table>\n",
       "<p>1672 rows × 6 columns</p>\n",
       "</div>"
      ],
      "text/plain": [
       "            Id  Sire   Dam   Line     Family Status\n",
       "0     10977965   1.0   1.0   Wami    1.0-1.0  early\n",
       "1     10978207   1.0   1.0   Wami    1.0-1.0  early\n",
       "2     10978378   1.0   1.0   Wami    1.0-1.0  early\n",
       "3     10978407   1.0   1.0   Wami    1.0-1.0  early\n",
       "4     10977732   1.0   1.0   Wami    1.0-1.0  early\n",
       "...        ...   ...   ...    ...        ...    ...\n",
       "1743  10977635  35.0  35.0  Ruaha  35.0-35.0   late\n",
       "1744  10978151  35.0  35.0  Ruaha  35.0-35.0   late\n",
       "1745  10977918  35.0  35.0  Ruaha  35.0-35.0   late\n",
       "1746  10977945  35.0  35.0  Ruaha  35.0-35.0   late\n",
       "1751  10977975  35.0  35.0  Ruaha  35.0-35.0   late\n",
       "\n",
       "[1672 rows x 6 columns]"
      ]
     },
     "execution_count": 28,
     "metadata": {},
     "output_type": "execute_result"
    }
   ],
   "source": [
    "til_ped['Status'] = pd.cut(til_ped['Sire'],bins=[0,20,35],labels=group_names) \n",
    "til_ped"
   ]
  },
  {
   "cell_type": "code",
   "execution_count": 29,
   "id": "646aead5",
   "metadata": {},
   "outputs": [
    {
     "data": {
      "text/plain": [
       "early    966\n",
       "late     675\n",
       "Name: Status, dtype: int64"
      ]
     },
     "execution_count": 29,
     "metadata": {},
     "output_type": "execute_result"
    }
   ],
   "source": [
    "til_ped['Status'].value_counts()"
   ]
  },
  {
   "cell_type": "markdown",
   "id": "da71441e",
   "metadata": {},
   "source": [
    "### Exercise 2"
   ]
  },
  {
   "cell_type": "markdown",
   "id": "f6c583ea",
   "metadata": {},
   "source": [
    "For this exercise we will work with the `pheno.txt` file.\n"
   ]
  },
  {
   "cell_type": "markdown",
   "id": "adf9527e",
   "metadata": {},
   "source": [
    "* Change the type of the first column to string. Missing data are coded as `0`. Check how many missing data exist for each column.\n",
    "* Check for duplications in the first column. If any remove them.\n",
    "* For the numeric columns fill the missing values with the column mean.\n",
    "* Create a new column where the animals that have a `weight_final` above 200 have the value `fast_grower`, the animals with a value between 100 - 200 as `medium_grower` and the rest `slow grower`. Check how frequent is each of the above three categories and based on that create a barplot.\n",
    "* Create a new column where the top 1/3 of the animals in terms of weight difference (weight_final - weight_initial) are marked as `A`, the next 1/3 as `B` and the rest as `C`.\n"
   ]
  },
  {
   "cell_type": "markdown",
   "id": "270fca93",
   "metadata": {},
   "source": [
    "Change the type of the first column to string."
   ]
  },
  {
   "cell_type": "code",
   "execution_count": 30,
   "id": "f52d396b",
   "metadata": {},
   "outputs": [
    {
     "data": {
      "text/html": [
       "<div>\n",
       "<style scoped>\n",
       "    .dataframe tbody tr th:only-of-type {\n",
       "        vertical-align: middle;\n",
       "    }\n",
       "\n",
       "    .dataframe tbody tr th {\n",
       "        vertical-align: top;\n",
       "    }\n",
       "\n",
       "    .dataframe thead th {\n",
       "        text-align: right;\n",
       "    }\n",
       "</style>\n",
       "<table border=\"1\" class=\"dataframe\">\n",
       "  <thead>\n",
       "    <tr style=\"text-align: right;\">\n",
       "      <th></th>\n",
       "      <th>Animal_Id</th>\n",
       "      <th>Location</th>\n",
       "      <th>Line</th>\n",
       "      <th>Weight_initial</th>\n",
       "      <th>Weight_final</th>\n",
       "      <th>Length_initial</th>\n",
       "      <th>Length_final</th>\n",
       "    </tr>\n",
       "  </thead>\n",
       "  <tbody>\n",
       "    <tr>\n",
       "      <th>0</th>\n",
       "      <td>10977965</td>\n",
       "      <td>Kunduchi</td>\n",
       "      <td>Wami</td>\n",
       "      <td>84.30</td>\n",
       "      <td>201.50</td>\n",
       "      <td>14.2</td>\n",
       "      <td>18.0</td>\n",
       "    </tr>\n",
       "    <tr>\n",
       "      <th>1</th>\n",
       "      <td>10978207</td>\n",
       "      <td>Kunduchi</td>\n",
       "      <td>Wami</td>\n",
       "      <td>67.80</td>\n",
       "      <td>NaN</td>\n",
       "      <td>13.4</td>\n",
       "      <td>NaN</td>\n",
       "    </tr>\n",
       "    <tr>\n",
       "      <th>2</th>\n",
       "      <td>10978378</td>\n",
       "      <td>Kunduchi</td>\n",
       "      <td>Wami</td>\n",
       "      <td>103.94</td>\n",
       "      <td>225.90</td>\n",
       "      <td>14.4</td>\n",
       "      <td>18.5</td>\n",
       "    </tr>\n",
       "    <tr>\n",
       "      <th>3</th>\n",
       "      <td>10978460</td>\n",
       "      <td>Kunduchi</td>\n",
       "      <td>Wami</td>\n",
       "      <td>84.85</td>\n",
       "      <td>239.20</td>\n",
       "      <td>14.5</td>\n",
       "      <td>19.9</td>\n",
       "    </tr>\n",
       "    <tr>\n",
       "      <th>4</th>\n",
       "      <td>10977732</td>\n",
       "      <td>Kunduchi</td>\n",
       "      <td>Wami</td>\n",
       "      <td>78.29</td>\n",
       "      <td>195.60</td>\n",
       "      <td>14.0</td>\n",
       "      <td>19.0</td>\n",
       "    </tr>\n",
       "    <tr>\n",
       "      <th>...</th>\n",
       "      <td>...</td>\n",
       "      <td>...</td>\n",
       "      <td>...</td>\n",
       "      <td>...</td>\n",
       "      <td>...</td>\n",
       "      <td>...</td>\n",
       "      <td>...</td>\n",
       "    </tr>\n",
       "    <tr>\n",
       "      <th>1747</th>\n",
       "      <td>10978369</td>\n",
       "      <td>Pangani</td>\n",
       "      <td>Ruaha</td>\n",
       "      <td>26.93</td>\n",
       "      <td>86.12</td>\n",
       "      <td>9.4</td>\n",
       "      <td>13.8</td>\n",
       "    </tr>\n",
       "    <tr>\n",
       "      <th>1748</th>\n",
       "      <td>10978013</td>\n",
       "      <td>Pangani</td>\n",
       "      <td>Ruaha</td>\n",
       "      <td>18.02</td>\n",
       "      <td>NaN</td>\n",
       "      <td>8.6</td>\n",
       "      <td>NaN</td>\n",
       "    </tr>\n",
       "    <tr>\n",
       "      <th>1749</th>\n",
       "      <td>10978579</td>\n",
       "      <td>Pangani</td>\n",
       "      <td>Ruaha</td>\n",
       "      <td>46.97</td>\n",
       "      <td>101.54</td>\n",
       "      <td>11.0</td>\n",
       "      <td>14.0</td>\n",
       "    </tr>\n",
       "    <tr>\n",
       "      <th>1750</th>\n",
       "      <td>10977708</td>\n",
       "      <td>Pangani</td>\n",
       "      <td>Ruaha</td>\n",
       "      <td>39.83</td>\n",
       "      <td>64.24</td>\n",
       "      <td>10.7</td>\n",
       "      <td>13.4</td>\n",
       "    </tr>\n",
       "    <tr>\n",
       "      <th>1751</th>\n",
       "      <td>10977975</td>\n",
       "      <td>Pangani</td>\n",
       "      <td>Ruaha</td>\n",
       "      <td>32.14</td>\n",
       "      <td>57.24</td>\n",
       "      <td>10.0</td>\n",
       "      <td>12.0</td>\n",
       "    </tr>\n",
       "  </tbody>\n",
       "</table>\n",
       "<p>1752 rows × 7 columns</p>\n",
       "</div>"
      ],
      "text/plain": [
       "      Animal_Id  Location   Line  Weight_initial  Weight_final  \\\n",
       "0      10977965  Kunduchi   Wami           84.30        201.50   \n",
       "1      10978207  Kunduchi   Wami           67.80           NaN   \n",
       "2      10978378  Kunduchi   Wami          103.94        225.90   \n",
       "3      10978460  Kunduchi   Wami           84.85        239.20   \n",
       "4      10977732  Kunduchi   Wami           78.29        195.60   \n",
       "...         ...       ...    ...             ...           ...   \n",
       "1747   10978369   Pangani  Ruaha           26.93         86.12   \n",
       "1748   10978013   Pangani  Ruaha           18.02           NaN   \n",
       "1749   10978579   Pangani  Ruaha           46.97        101.54   \n",
       "1750   10977708   Pangani  Ruaha           39.83         64.24   \n",
       "1751   10977975   Pangani  Ruaha           32.14         57.24   \n",
       "\n",
       "      Length_initial  Length_final  \n",
       "0               14.2          18.0  \n",
       "1               13.4           NaN  \n",
       "2               14.4          18.5  \n",
       "3               14.5          19.9  \n",
       "4               14.0          19.0  \n",
       "...              ...           ...  \n",
       "1747             9.4          13.8  \n",
       "1748             8.6           NaN  \n",
       "1749            11.0          14.0  \n",
       "1750            10.7          13.4  \n",
       "1751            10.0          12.0  \n",
       "\n",
       "[1752 rows x 7 columns]"
      ]
     },
     "execution_count": 30,
     "metadata": {},
     "output_type": "execute_result"
    }
   ],
   "source": [
    "til_pheno = pd.read_csv(\"pheno.txt\", sep=\"\\t\", na_values=[0])\n",
    "til_pheno"
   ]
  },
  {
   "cell_type": "code",
   "execution_count": 31,
   "id": "6fa72b80",
   "metadata": {},
   "outputs": [
    {
     "name": "stdout",
     "output_type": "stream",
     "text": [
      "<class 'pandas.core.frame.DataFrame'>\n",
      "RangeIndex: 1752 entries, 0 to 1751\n",
      "Data columns (total 7 columns):\n",
      " #   Column          Non-Null Count  Dtype  \n",
      "---  ------          --------------  -----  \n",
      " 0   Animal_Id       1752 non-null   int64  \n",
      " 1   Location        1752 non-null   object \n",
      " 2   Line            1752 non-null   object \n",
      " 3   Weight_initial  1752 non-null   float64\n",
      " 4   Weight_final    1393 non-null   float64\n",
      " 5   Length_initial  1752 non-null   float64\n",
      " 6   Length_final    1393 non-null   float64\n",
      "dtypes: float64(4), int64(1), object(2)\n",
      "memory usage: 95.9+ KB\n"
     ]
    }
   ],
   "source": [
    "til_pheno.info()"
   ]
  },
  {
   "cell_type": "code",
   "execution_count": 32,
   "id": "6156a672",
   "metadata": {},
   "outputs": [
    {
     "name": "stdout",
     "output_type": "stream",
     "text": [
      "<class 'pandas.core.frame.DataFrame'>\n",
      "RangeIndex: 1752 entries, 0 to 1751\n",
      "Data columns (total 7 columns):\n",
      " #   Column          Non-Null Count  Dtype  \n",
      "---  ------          --------------  -----  \n",
      " 0   Animal_Id       1752 non-null   object \n",
      " 1   Location        1752 non-null   object \n",
      " 2   Line            1752 non-null   object \n",
      " 3   Weight_initial  1752 non-null   float64\n",
      " 4   Weight_final    1393 non-null   float64\n",
      " 5   Length_initial  1752 non-null   float64\n",
      " 6   Length_final    1393 non-null   float64\n",
      "dtypes: float64(4), object(3)\n",
      "memory usage: 95.9+ KB\n"
     ]
    }
   ],
   "source": [
    "til_pheno[['Animal_Id']] = til_pheno[['Animal_Id']].astype(str)\n",
    "til_pheno.info()"
   ]
  },
  {
   "cell_type": "markdown",
   "id": "e28a5f45",
   "metadata": {},
   "source": [
    "Check for duplications in the first column. If any remove them."
   ]
  },
  {
   "cell_type": "code",
   "execution_count": 33,
   "id": "2d1263ee",
   "metadata": {},
   "outputs": [
    {
     "data": {
      "text/plain": [
       "True"
      ]
     },
     "execution_count": 33,
     "metadata": {},
     "output_type": "execute_result"
    }
   ],
   "source": [
    "til_pheno['Animal_Id'].duplicated().any()"
   ]
  },
  {
   "cell_type": "code",
   "execution_count": 34,
   "id": "4a8291f4",
   "metadata": {},
   "outputs": [
    {
     "data": {
      "text/plain": [
       "21"
      ]
     },
     "execution_count": 34,
     "metadata": {},
     "output_type": "execute_result"
    }
   ],
   "source": [
    "sum(til_pheno['Animal_Id'].duplicated())"
   ]
  },
  {
   "cell_type": "code",
   "execution_count": 35,
   "id": "0df3e5c6",
   "metadata": {},
   "outputs": [],
   "source": [
    "til_pheno.drop_duplicates(subset='Animal_Id',inplace=True)"
   ]
  },
  {
   "cell_type": "code",
   "execution_count": 36,
   "id": "a4a589c7",
   "metadata": {},
   "outputs": [
    {
     "data": {
      "text/plain": [
       "False"
      ]
     },
     "execution_count": 36,
     "metadata": {},
     "output_type": "execute_result"
    }
   ],
   "source": [
    "til_pheno['Animal_Id'].duplicated().any()"
   ]
  },
  {
   "cell_type": "markdown",
   "id": "d55603b7",
   "metadata": {},
   "source": [
    "For the numeric columns fill the missing values with the column mean."
   ]
  },
  {
   "cell_type": "code",
   "execution_count": 37,
   "id": "b6048ff4",
   "metadata": {},
   "outputs": [],
   "source": [
    "num_columns = ['Weight_initial','Weight_final','Length_initial','Length_final']"
   ]
  },
  {
   "cell_type": "code",
   "execution_count": 38,
   "id": "257dc7f9",
   "metadata": {},
   "outputs": [
    {
     "name": "stdout",
     "output_type": "stream",
     "text": [
      "46.046915077989595\n",
      "113.79408563134979\n",
      "11.048238012709417\n",
      "14.586937590711175\n"
     ]
    }
   ],
   "source": [
    "for column in num_columns:\n",
    "    column_mean = np.nanmean(til_pheno[column])\n",
    "    print(column_mean)\n",
    "    til_pheno[column].fillna(value=column_mean,inplace=True)"
   ]
  },
  {
   "cell_type": "code",
   "execution_count": 39,
   "id": "c73c24fc",
   "metadata": {},
   "outputs": [
    {
     "name": "stdout",
     "output_type": "stream",
     "text": [
      "<class 'pandas.core.frame.DataFrame'>\n",
      "Int64Index: 1731 entries, 0 to 1751\n",
      "Data columns (total 7 columns):\n",
      " #   Column          Non-Null Count  Dtype  \n",
      "---  ------          --------------  -----  \n",
      " 0   Animal_Id       1731 non-null   object \n",
      " 1   Location        1731 non-null   object \n",
      " 2   Line            1731 non-null   object \n",
      " 3   Weight_initial  1731 non-null   float64\n",
      " 4   Weight_final    1731 non-null   float64\n",
      " 5   Length_initial  1731 non-null   float64\n",
      " 6   Length_final    1731 non-null   float64\n",
      "dtypes: float64(4), object(3)\n",
      "memory usage: 108.2+ KB\n"
     ]
    }
   ],
   "source": [
    "til_pheno.info()"
   ]
  },
  {
   "cell_type": "code",
   "execution_count": 40,
   "id": "a7c21f8e",
   "metadata": {},
   "outputs": [
    {
     "data": {
      "text/html": [
       "<div>\n",
       "<style scoped>\n",
       "    .dataframe tbody tr th:only-of-type {\n",
       "        vertical-align: middle;\n",
       "    }\n",
       "\n",
       "    .dataframe tbody tr th {\n",
       "        vertical-align: top;\n",
       "    }\n",
       "\n",
       "    .dataframe thead th {\n",
       "        text-align: right;\n",
       "    }\n",
       "</style>\n",
       "<table border=\"1\" class=\"dataframe\">\n",
       "  <thead>\n",
       "    <tr style=\"text-align: right;\">\n",
       "      <th></th>\n",
       "      <th>Animal_Id</th>\n",
       "      <th>Location</th>\n",
       "      <th>Line</th>\n",
       "      <th>Weight_initial</th>\n",
       "      <th>Weight_final</th>\n",
       "      <th>Length_initial</th>\n",
       "      <th>Length_final</th>\n",
       "    </tr>\n",
       "  </thead>\n",
       "  <tbody>\n",
       "    <tr>\n",
       "      <th>0</th>\n",
       "      <td>10977965</td>\n",
       "      <td>Kunduchi</td>\n",
       "      <td>Wami</td>\n",
       "      <td>84.30</td>\n",
       "      <td>201.500000</td>\n",
       "      <td>14.2</td>\n",
       "      <td>18.000000</td>\n",
       "    </tr>\n",
       "    <tr>\n",
       "      <th>1</th>\n",
       "      <td>10978207</td>\n",
       "      <td>Kunduchi</td>\n",
       "      <td>Wami</td>\n",
       "      <td>67.80</td>\n",
       "      <td>113.794086</td>\n",
       "      <td>13.4</td>\n",
       "      <td>14.586938</td>\n",
       "    </tr>\n",
       "    <tr>\n",
       "      <th>2</th>\n",
       "      <td>10978378</td>\n",
       "      <td>Kunduchi</td>\n",
       "      <td>Wami</td>\n",
       "      <td>103.94</td>\n",
       "      <td>225.900000</td>\n",
       "      <td>14.4</td>\n",
       "      <td>18.500000</td>\n",
       "    </tr>\n",
       "    <tr>\n",
       "      <th>3</th>\n",
       "      <td>10978460</td>\n",
       "      <td>Kunduchi</td>\n",
       "      <td>Wami</td>\n",
       "      <td>84.85</td>\n",
       "      <td>239.200000</td>\n",
       "      <td>14.5</td>\n",
       "      <td>19.900000</td>\n",
       "    </tr>\n",
       "    <tr>\n",
       "      <th>4</th>\n",
       "      <td>10977732</td>\n",
       "      <td>Kunduchi</td>\n",
       "      <td>Wami</td>\n",
       "      <td>78.29</td>\n",
       "      <td>195.600000</td>\n",
       "      <td>14.0</td>\n",
       "      <td>19.000000</td>\n",
       "    </tr>\n",
       "    <tr>\n",
       "      <th>...</th>\n",
       "      <td>...</td>\n",
       "      <td>...</td>\n",
       "      <td>...</td>\n",
       "      <td>...</td>\n",
       "      <td>...</td>\n",
       "      <td>...</td>\n",
       "      <td>...</td>\n",
       "    </tr>\n",
       "    <tr>\n",
       "      <th>1747</th>\n",
       "      <td>10978369</td>\n",
       "      <td>Pangani</td>\n",
       "      <td>Ruaha</td>\n",
       "      <td>26.93</td>\n",
       "      <td>86.120000</td>\n",
       "      <td>9.4</td>\n",
       "      <td>13.800000</td>\n",
       "    </tr>\n",
       "    <tr>\n",
       "      <th>1748</th>\n",
       "      <td>10978013</td>\n",
       "      <td>Pangani</td>\n",
       "      <td>Ruaha</td>\n",
       "      <td>18.02</td>\n",
       "      <td>113.794086</td>\n",
       "      <td>8.6</td>\n",
       "      <td>14.586938</td>\n",
       "    </tr>\n",
       "    <tr>\n",
       "      <th>1749</th>\n",
       "      <td>10978579</td>\n",
       "      <td>Pangani</td>\n",
       "      <td>Ruaha</td>\n",
       "      <td>46.97</td>\n",
       "      <td>101.540000</td>\n",
       "      <td>11.0</td>\n",
       "      <td>14.000000</td>\n",
       "    </tr>\n",
       "    <tr>\n",
       "      <th>1750</th>\n",
       "      <td>10977708</td>\n",
       "      <td>Pangani</td>\n",
       "      <td>Ruaha</td>\n",
       "      <td>39.83</td>\n",
       "      <td>64.240000</td>\n",
       "      <td>10.7</td>\n",
       "      <td>13.400000</td>\n",
       "    </tr>\n",
       "    <tr>\n",
       "      <th>1751</th>\n",
       "      <td>10977975</td>\n",
       "      <td>Pangani</td>\n",
       "      <td>Ruaha</td>\n",
       "      <td>32.14</td>\n",
       "      <td>57.240000</td>\n",
       "      <td>10.0</td>\n",
       "      <td>12.000000</td>\n",
       "    </tr>\n",
       "  </tbody>\n",
       "</table>\n",
       "<p>1731 rows × 7 columns</p>\n",
       "</div>"
      ],
      "text/plain": [
       "     Animal_Id  Location   Line  Weight_initial  Weight_final  Length_initial  \\\n",
       "0     10977965  Kunduchi   Wami           84.30    201.500000            14.2   \n",
       "1     10978207  Kunduchi   Wami           67.80    113.794086            13.4   \n",
       "2     10978378  Kunduchi   Wami          103.94    225.900000            14.4   \n",
       "3     10978460  Kunduchi   Wami           84.85    239.200000            14.5   \n",
       "4     10977732  Kunduchi   Wami           78.29    195.600000            14.0   \n",
       "...        ...       ...    ...             ...           ...             ...   \n",
       "1747  10978369   Pangani  Ruaha           26.93     86.120000             9.4   \n",
       "1748  10978013   Pangani  Ruaha           18.02    113.794086             8.6   \n",
       "1749  10978579   Pangani  Ruaha           46.97    101.540000            11.0   \n",
       "1750  10977708   Pangani  Ruaha           39.83     64.240000            10.7   \n",
       "1751  10977975   Pangani  Ruaha           32.14     57.240000            10.0   \n",
       "\n",
       "      Length_final  \n",
       "0        18.000000  \n",
       "1        14.586938  \n",
       "2        18.500000  \n",
       "3        19.900000  \n",
       "4        19.000000  \n",
       "...            ...  \n",
       "1747     13.800000  \n",
       "1748     14.586938  \n",
       "1749     14.000000  \n",
       "1750     13.400000  \n",
       "1751     12.000000  \n",
       "\n",
       "[1731 rows x 7 columns]"
      ]
     },
     "execution_count": 40,
     "metadata": {},
     "output_type": "execute_result"
    }
   ],
   "source": [
    "til_pheno"
   ]
  },
  {
   "cell_type": "markdown",
   "id": "084506a3",
   "metadata": {},
   "source": [
    "Create a new column where the animals that have a weight_final above 200 have the value fast_grower, the animals with a value between 100 - 200 as medium_grower and the rest slow grower. Check how frequent is each of the above three categories and based on that create a barplot."
   ]
  },
  {
   "cell_type": "code",
   "execution_count": 42,
   "id": "cb17b00b",
   "metadata": {},
   "outputs": [
    {
     "data": {
      "text/html": [
       "<div>\n",
       "<style scoped>\n",
       "    .dataframe tbody tr th:only-of-type {\n",
       "        vertical-align: middle;\n",
       "    }\n",
       "\n",
       "    .dataframe tbody tr th {\n",
       "        vertical-align: top;\n",
       "    }\n",
       "\n",
       "    .dataframe thead th {\n",
       "        text-align: right;\n",
       "    }\n",
       "</style>\n",
       "<table border=\"1\" class=\"dataframe\">\n",
       "  <thead>\n",
       "    <tr style=\"text-align: right;\">\n",
       "      <th></th>\n",
       "      <th>Animal_Id</th>\n",
       "      <th>Location</th>\n",
       "      <th>Line</th>\n",
       "      <th>Weight_initial</th>\n",
       "      <th>Weight_final</th>\n",
       "      <th>Length_initial</th>\n",
       "      <th>Length_final</th>\n",
       "      <th>Growth_status</th>\n",
       "    </tr>\n",
       "  </thead>\n",
       "  <tbody>\n",
       "    <tr>\n",
       "      <th>0</th>\n",
       "      <td>10977965</td>\n",
       "      <td>Kunduchi</td>\n",
       "      <td>Wami</td>\n",
       "      <td>84.30</td>\n",
       "      <td>201.500000</td>\n",
       "      <td>14.2</td>\n",
       "      <td>18.000000</td>\n",
       "      <td>slow_grower</td>\n",
       "    </tr>\n",
       "    <tr>\n",
       "      <th>1</th>\n",
       "      <td>10978207</td>\n",
       "      <td>Kunduchi</td>\n",
       "      <td>Wami</td>\n",
       "      <td>67.80</td>\n",
       "      <td>113.794086</td>\n",
       "      <td>13.4</td>\n",
       "      <td>14.586938</td>\n",
       "      <td>medium_grower</td>\n",
       "    </tr>\n",
       "    <tr>\n",
       "      <th>2</th>\n",
       "      <td>10978378</td>\n",
       "      <td>Kunduchi</td>\n",
       "      <td>Wami</td>\n",
       "      <td>103.94</td>\n",
       "      <td>225.900000</td>\n",
       "      <td>14.4</td>\n",
       "      <td>18.500000</td>\n",
       "      <td>slow_grower</td>\n",
       "    </tr>\n",
       "    <tr>\n",
       "      <th>3</th>\n",
       "      <td>10978460</td>\n",
       "      <td>Kunduchi</td>\n",
       "      <td>Wami</td>\n",
       "      <td>84.85</td>\n",
       "      <td>239.200000</td>\n",
       "      <td>14.5</td>\n",
       "      <td>19.900000</td>\n",
       "      <td>slow_grower</td>\n",
       "    </tr>\n",
       "    <tr>\n",
       "      <th>4</th>\n",
       "      <td>10977732</td>\n",
       "      <td>Kunduchi</td>\n",
       "      <td>Wami</td>\n",
       "      <td>78.29</td>\n",
       "      <td>195.600000</td>\n",
       "      <td>14.0</td>\n",
       "      <td>19.000000</td>\n",
       "      <td>medium_grower</td>\n",
       "    </tr>\n",
       "    <tr>\n",
       "      <th>...</th>\n",
       "      <td>...</td>\n",
       "      <td>...</td>\n",
       "      <td>...</td>\n",
       "      <td>...</td>\n",
       "      <td>...</td>\n",
       "      <td>...</td>\n",
       "      <td>...</td>\n",
       "      <td>...</td>\n",
       "    </tr>\n",
       "    <tr>\n",
       "      <th>1747</th>\n",
       "      <td>10978369</td>\n",
       "      <td>Pangani</td>\n",
       "      <td>Ruaha</td>\n",
       "      <td>26.93</td>\n",
       "      <td>86.120000</td>\n",
       "      <td>9.4</td>\n",
       "      <td>13.800000</td>\n",
       "      <td>fast_grower</td>\n",
       "    </tr>\n",
       "    <tr>\n",
       "      <th>1748</th>\n",
       "      <td>10978013</td>\n",
       "      <td>Pangani</td>\n",
       "      <td>Ruaha</td>\n",
       "      <td>18.02</td>\n",
       "      <td>113.794086</td>\n",
       "      <td>8.6</td>\n",
       "      <td>14.586938</td>\n",
       "      <td>medium_grower</td>\n",
       "    </tr>\n",
       "    <tr>\n",
       "      <th>1749</th>\n",
       "      <td>10978579</td>\n",
       "      <td>Pangani</td>\n",
       "      <td>Ruaha</td>\n",
       "      <td>46.97</td>\n",
       "      <td>101.540000</td>\n",
       "      <td>11.0</td>\n",
       "      <td>14.000000</td>\n",
       "      <td>medium_grower</td>\n",
       "    </tr>\n",
       "    <tr>\n",
       "      <th>1750</th>\n",
       "      <td>10977708</td>\n",
       "      <td>Pangani</td>\n",
       "      <td>Ruaha</td>\n",
       "      <td>39.83</td>\n",
       "      <td>64.240000</td>\n",
       "      <td>10.7</td>\n",
       "      <td>13.400000</td>\n",
       "      <td>fast_grower</td>\n",
       "    </tr>\n",
       "    <tr>\n",
       "      <th>1751</th>\n",
       "      <td>10977975</td>\n",
       "      <td>Pangani</td>\n",
       "      <td>Ruaha</td>\n",
       "      <td>32.14</td>\n",
       "      <td>57.240000</td>\n",
       "      <td>10.0</td>\n",
       "      <td>12.000000</td>\n",
       "      <td>fast_grower</td>\n",
       "    </tr>\n",
       "  </tbody>\n",
       "</table>\n",
       "<p>1731 rows × 8 columns</p>\n",
       "</div>"
      ],
      "text/plain": [
       "     Animal_Id  Location   Line  Weight_initial  Weight_final  Length_initial  \\\n",
       "0     10977965  Kunduchi   Wami           84.30    201.500000            14.2   \n",
       "1     10978207  Kunduchi   Wami           67.80    113.794086            13.4   \n",
       "2     10978378  Kunduchi   Wami          103.94    225.900000            14.4   \n",
       "3     10978460  Kunduchi   Wami           84.85    239.200000            14.5   \n",
       "4     10977732  Kunduchi   Wami           78.29    195.600000            14.0   \n",
       "...        ...       ...    ...             ...           ...             ...   \n",
       "1747  10978369   Pangani  Ruaha           26.93     86.120000             9.4   \n",
       "1748  10978013   Pangani  Ruaha           18.02    113.794086             8.6   \n",
       "1749  10978579   Pangani  Ruaha           46.97    101.540000            11.0   \n",
       "1750  10977708   Pangani  Ruaha           39.83     64.240000            10.7   \n",
       "1751  10977975   Pangani  Ruaha           32.14     57.240000            10.0   \n",
       "\n",
       "      Length_final  Growth_status  \n",
       "0        18.000000    slow_grower  \n",
       "1        14.586938  medium_grower  \n",
       "2        18.500000    slow_grower  \n",
       "3        19.900000    slow_grower  \n",
       "4        19.000000  medium_grower  \n",
       "...            ...            ...  \n",
       "1747     13.800000    fast_grower  \n",
       "1748     14.586938  medium_grower  \n",
       "1749     14.000000  medium_grower  \n",
       "1750     13.400000    fast_grower  \n",
       "1751     12.000000    fast_grower  \n",
       "\n",
       "[1731 rows x 8 columns]"
      ]
     },
     "execution_count": 42,
     "metadata": {},
     "output_type": "execute_result"
    }
   ],
   "source": [
    "labels = ['fast_grower','medium_grower','slow_grower']\n",
    "til_pheno['Growth_status'] = pd.cut(til_pheno['Weight_final'],bins=[0,100,200,max(til_pheno['Weight_final'])],labels=labels)\n",
    "til_pheno"
   ]
  },
  {
   "cell_type": "code",
   "execution_count": 43,
   "id": "33053706",
   "metadata": {},
   "outputs": [
    {
     "data": {
      "text/plain": [
       "medium_grower    979\n",
       "fast_grower      654\n",
       "slow_grower       98\n",
       "Name: Growth_status, dtype: int64"
      ]
     },
     "execution_count": 43,
     "metadata": {},
     "output_type": "execute_result"
    }
   ],
   "source": [
    "til_pheno['Growth_status'].value_counts()"
   ]
  },
  {
   "cell_type": "code",
   "execution_count": 44,
   "id": "1f526e29",
   "metadata": {},
   "outputs": [
    {
     "data": {
      "text/plain": [
       "<AxesSubplot:>"
      ]
     },
     "execution_count": 44,
     "metadata": {},
     "output_type": "execute_result"
    },
    {
     "data": {
      "image/png": "[encoded data removed]",
      "text/plain": [
       "<Figure size 432x288 with 1 Axes>"
      ]
     },
     "metadata": {
      "needs_background": "light"
     },
     "output_type": "display_data"
    }
   ],
   "source": [
    "til_pheno['Growth_status'].value_counts().plot(kind='bar')"
   ]
  },
  {
   "cell_type": "markdown",
   "id": "a2858146",
   "metadata": {},
   "source": [
    "Create a new column where the top 1/3 of the animals in terms of weight difference (weight_final - weight_initial) are marked as A, the next 1/3 as B and the rest as C."
   ]
  },
  {
   "cell_type": "code",
   "execution_count": 45,
   "id": "685646fd",
   "metadata": {},
   "outputs": [
    {
     "data": {
      "text/html": [
       "<div>\n",
       "<style scoped>\n",
       "    .dataframe tbody tr th:only-of-type {\n",
       "        vertical-align: middle;\n",
       "    }\n",
       "\n",
       "    .dataframe tbody tr th {\n",
       "        vertical-align: top;\n",
       "    }\n",
       "\n",
       "    .dataframe thead th {\n",
       "        text-align: right;\n",
       "    }\n",
       "</style>\n",
       "<table border=\"1\" class=\"dataframe\">\n",
       "  <thead>\n",
       "    <tr style=\"text-align: right;\">\n",
       "      <th></th>\n",
       "      <th>Animal_Id</th>\n",
       "      <th>Location</th>\n",
       "      <th>Line</th>\n",
       "      <th>Weight_initial</th>\n",
       "      <th>Weight_final</th>\n",
       "      <th>Length_initial</th>\n",
       "      <th>Length_final</th>\n",
       "      <th>Growth_status</th>\n",
       "      <th>Weight_diff</th>\n",
       "      <th>class</th>\n",
       "    </tr>\n",
       "  </thead>\n",
       "  <tbody>\n",
       "    <tr>\n",
       "      <th>0</th>\n",
       "      <td>10977965</td>\n",
       "      <td>Kunduchi</td>\n",
       "      <td>Wami</td>\n",
       "      <td>84.30</td>\n",
       "      <td>201.500000</td>\n",
       "      <td>14.2</td>\n",
       "      <td>18.000000</td>\n",
       "      <td>slow_grower</td>\n",
       "      <td>117.200000</td>\n",
       "      <td>slow_grower</td>\n",
       "    </tr>\n",
       "    <tr>\n",
       "      <th>1</th>\n",
       "      <td>10978207</td>\n",
       "      <td>Kunduchi</td>\n",
       "      <td>Wami</td>\n",
       "      <td>67.80</td>\n",
       "      <td>113.794086</td>\n",
       "      <td>13.4</td>\n",
       "      <td>14.586938</td>\n",
       "      <td>medium_grower</td>\n",
       "      <td>45.994086</td>\n",
       "      <td>fast_grower</td>\n",
       "    </tr>\n",
       "    <tr>\n",
       "      <th>2</th>\n",
       "      <td>10978378</td>\n",
       "      <td>Kunduchi</td>\n",
       "      <td>Wami</td>\n",
       "      <td>103.94</td>\n",
       "      <td>225.900000</td>\n",
       "      <td>14.4</td>\n",
       "      <td>18.500000</td>\n",
       "      <td>slow_grower</td>\n",
       "      <td>121.960000</td>\n",
       "      <td>slow_grower</td>\n",
       "    </tr>\n",
       "    <tr>\n",
       "      <th>3</th>\n",
       "      <td>10978460</td>\n",
       "      <td>Kunduchi</td>\n",
       "      <td>Wami</td>\n",
       "      <td>84.85</td>\n",
       "      <td>239.200000</td>\n",
       "      <td>14.5</td>\n",
       "      <td>19.900000</td>\n",
       "      <td>slow_grower</td>\n",
       "      <td>154.350000</td>\n",
       "      <td>slow_grower</td>\n",
       "    </tr>\n",
       "    <tr>\n",
       "      <th>4</th>\n",
       "      <td>10977732</td>\n",
       "      <td>Kunduchi</td>\n",
       "      <td>Wami</td>\n",
       "      <td>78.29</td>\n",
       "      <td>195.600000</td>\n",
       "      <td>14.0</td>\n",
       "      <td>19.000000</td>\n",
       "      <td>medium_grower</td>\n",
       "      <td>117.310000</td>\n",
       "      <td>slow_grower</td>\n",
       "    </tr>\n",
       "    <tr>\n",
       "      <th>...</th>\n",
       "      <td>...</td>\n",
       "      <td>...</td>\n",
       "      <td>...</td>\n",
       "      <td>...</td>\n",
       "      <td>...</td>\n",
       "      <td>...</td>\n",
       "      <td>...</td>\n",
       "      <td>...</td>\n",
       "      <td>...</td>\n",
       "      <td>...</td>\n",
       "    </tr>\n",
       "    <tr>\n",
       "      <th>1747</th>\n",
       "      <td>10978369</td>\n",
       "      <td>Pangani</td>\n",
       "      <td>Ruaha</td>\n",
       "      <td>26.93</td>\n",
       "      <td>86.120000</td>\n",
       "      <td>9.4</td>\n",
       "      <td>13.800000</td>\n",
       "      <td>fast_grower</td>\n",
       "      <td>59.190000</td>\n",
       "      <td>medium_grower</td>\n",
       "    </tr>\n",
       "    <tr>\n",
       "      <th>1748</th>\n",
       "      <td>10978013</td>\n",
       "      <td>Pangani</td>\n",
       "      <td>Ruaha</td>\n",
       "      <td>18.02</td>\n",
       "      <td>113.794086</td>\n",
       "      <td>8.6</td>\n",
       "      <td>14.586938</td>\n",
       "      <td>medium_grower</td>\n",
       "      <td>95.774086</td>\n",
       "      <td>slow_grower</td>\n",
       "    </tr>\n",
       "    <tr>\n",
       "      <th>1749</th>\n",
       "      <td>10978579</td>\n",
       "      <td>Pangani</td>\n",
       "      <td>Ruaha</td>\n",
       "      <td>46.97</td>\n",
       "      <td>101.540000</td>\n",
       "      <td>11.0</td>\n",
       "      <td>14.000000</td>\n",
       "      <td>medium_grower</td>\n",
       "      <td>54.570000</td>\n",
       "      <td>medium_grower</td>\n",
       "    </tr>\n",
       "    <tr>\n",
       "      <th>1750</th>\n",
       "      <td>10977708</td>\n",
       "      <td>Pangani</td>\n",
       "      <td>Ruaha</td>\n",
       "      <td>39.83</td>\n",
       "      <td>64.240000</td>\n",
       "      <td>10.7</td>\n",
       "      <td>13.400000</td>\n",
       "      <td>fast_grower</td>\n",
       "      <td>24.410000</td>\n",
       "      <td>fast_grower</td>\n",
       "    </tr>\n",
       "    <tr>\n",
       "      <th>1751</th>\n",
       "      <td>10977975</td>\n",
       "      <td>Pangani</td>\n",
       "      <td>Ruaha</td>\n",
       "      <td>32.14</td>\n",
       "      <td>57.240000</td>\n",
       "      <td>10.0</td>\n",
       "      <td>12.000000</td>\n",
       "      <td>fast_grower</td>\n",
       "      <td>25.100000</td>\n",
       "      <td>fast_grower</td>\n",
       "    </tr>\n",
       "  </tbody>\n",
       "</table>\n",
       "<p>1731 rows × 10 columns</p>\n",
       "</div>"
      ],
      "text/plain": [
       "     Animal_Id  Location   Line  Weight_initial  Weight_final  Length_initial  \\\n",
       "0     10977965  Kunduchi   Wami           84.30    201.500000            14.2   \n",
       "1     10978207  Kunduchi   Wami           67.80    113.794086            13.4   \n",
       "2     10978378  Kunduchi   Wami          103.94    225.900000            14.4   \n",
       "3     10978460  Kunduchi   Wami           84.85    239.200000            14.5   \n",
       "4     10977732  Kunduchi   Wami           78.29    195.600000            14.0   \n",
       "...        ...       ...    ...             ...           ...             ...   \n",
       "1747  10978369   Pangani  Ruaha           26.93     86.120000             9.4   \n",
       "1748  10978013   Pangani  Ruaha           18.02    113.794086             8.6   \n",
       "1749  10978579   Pangani  Ruaha           46.97    101.540000            11.0   \n",
       "1750  10977708   Pangani  Ruaha           39.83     64.240000            10.7   \n",
       "1751  10977975   Pangani  Ruaha           32.14     57.240000            10.0   \n",
       "\n",
       "      Length_final  Growth_status  Weight_diff          class  \n",
       "0        18.000000    slow_grower   117.200000    slow_grower  \n",
       "1        14.586938  medium_grower    45.994086    fast_grower  \n",
       "2        18.500000    slow_grower   121.960000    slow_grower  \n",
       "3        19.900000    slow_grower   154.350000    slow_grower  \n",
       "4        19.000000  medium_grower   117.310000    slow_grower  \n",
       "...            ...            ...          ...            ...  \n",
       "1747     13.800000    fast_grower    59.190000  medium_grower  \n",
       "1748     14.586938  medium_grower    95.774086    slow_grower  \n",
       "1749     14.000000  medium_grower    54.570000  medium_grower  \n",
       "1750     13.400000    fast_grower    24.410000    fast_grower  \n",
       "1751     12.000000    fast_grower    25.100000    fast_grower  \n",
       "\n",
       "[1731 rows x 10 columns]"
      ]
     },
     "execution_count": 45,
     "metadata": {},
     "output_type": "execute_result"
    }
   ],
   "source": [
    "til_pheno['Weight_diff'] = til_pheno['Weight_final'] - til_pheno['Weight_initial']\n",
    "til_pheno['class'] = pd.qcut(til_pheno['Weight_diff'],3,labels=labels)\n",
    "til_pheno"
   ]
  },
  {
   "cell_type": "code",
   "execution_count": 46,
   "id": "81193ef2",
   "metadata": {},
   "outputs": [
    {
     "data": {
      "text/plain": [
       "fast_grower      577\n",
       "medium_grower    577\n",
       "slow_grower      577\n",
       "Name: class, dtype: int64"
      ]
     },
     "execution_count": 46,
     "metadata": {},
     "output_type": "execute_result"
    }
   ],
   "source": [
    "til_pheno['class'].value_counts()"
   ]
  },
  {
   "cell_type": "code",
   "execution_count": null,
   "id": "1f751052",
   "metadata": {},
   "outputs": [],
   "source": []
  }
 ],
 "metadata": {
  "@webio": {
   "lastCommId": null,
   "lastKernelId": null
  },
  "kernelspec": {
   "display_name": "Python 3 (ipykernel)",
   "language": "python",
   "name": "python3"
  },
  "language_info": {
   "codemirror_mode": {
    "name": "ipython",
    "version": 3
   },
   "file_extension": ".py",
   "mimetype": "text/x-python",
   "name": "python",
   "nbconvert_exporter": "python",
   "pygments_lexer": "ipython3",
   "version": "3.9.12"
  }
 },
 "nbformat": 4,
 "nbformat_minor": 5
}
