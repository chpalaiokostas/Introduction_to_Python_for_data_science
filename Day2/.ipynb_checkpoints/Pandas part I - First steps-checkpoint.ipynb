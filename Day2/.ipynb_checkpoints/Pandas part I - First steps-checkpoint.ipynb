{
 "cells": [
  {
   "cell_type": "markdown",
   "metadata": {},
   "source": [
    "# First steps in Pandas"
   ]
  },
  {
   "cell_type": "markdown",
   "metadata": {},
   "source": [
    "We need to load the necessary Python libraries.\n",
    "\n",
    "`import` is a keyword that tells Python to load the specified library.\n",
    "\n",
    "It is common to use shorter names as you can see below. \n",
    "\n",
    "For that we need to also use the keyword `as`.\n",
    "\n",
    "Finally, we need to indicate the short name we want to use."
   ]
  },
  {
   "cell_type": "code",
   "execution_count": 1,
   "metadata": {},
   "outputs": [],
   "source": [
    "import numpy as np\n",
    "import pandas as pd\n",
    "import matplotlib.pyplot as plt\n",
    "import seaborn as sns"
   ]
  },
  {
   "cell_type": "code",
   "execution_count": 2,
   "metadata": {},
   "outputs": [
    {
     "data": {
      "text/plain": [
       "'2.0.3'"
      ]
     },
     "execution_count": 2,
     "metadata": {},
     "output_type": "execute_result"
    }
   ],
   "source": [
    "pd.__version__"
   ]
  },
  {
   "cell_type": "markdown",
   "metadata": {},
   "source": [
    "# Series\n"
   ]
  },
  {
   "cell_type": "markdown",
   "metadata": {},
   "source": [
    "A Series is the building block of Pandas\n",
    "\n",
    "It is like a list with some extra enhancements e.g. it has an explicit index\n",
    "\n",
    "Using several Series together we can form a dataframe"
   ]
  },
  {
   "cell_type": "code",
   "execution_count": 3,
   "metadata": {},
   "outputs": [
    {
     "data": {
      "text/plain": [
       "0    9032\n",
       "1    9033\n",
       "2    9034\n",
       "3    9035\n",
       "dtype: object"
      ]
     },
     "execution_count": 3,
     "metadata": {},
     "output_type": "execute_result"
    }
   ],
   "source": [
    "animals_id = pd.Series([\"9032\",\"9033\",\"9034\",\"9035\"])\n",
    "animals_id"
   ]
  },
  {
   "cell_type": "code",
   "execution_count": 4,
   "metadata": {},
   "outputs": [
    {
     "name": "stdout",
     "output_type": "stream",
     "text": [
      "0    300\n",
      "1    340\n",
      "2    280\n",
      "3    421\n",
      "dtype: int64\n"
     ]
    }
   ],
   "source": [
    "animals_weight = pd.Series([300, 340, 280, 421])\n",
    "print(animals_weight)"
   ]
  },
  {
   "cell_type": "markdown",
   "metadata": {},
   "source": [
    "We can extract the index or the values with the following"
   ]
  },
  {
   "cell_type": "code",
   "execution_count": 5,
   "metadata": {},
   "outputs": [
    {
     "data": {
      "text/plain": [
       "RangeIndex(start=0, stop=4, step=1)"
      ]
     },
     "execution_count": 5,
     "metadata": {},
     "output_type": "execute_result"
    }
   ],
   "source": [
    "animals_weight.index"
   ]
  },
  {
   "cell_type": "code",
   "execution_count": 6,
   "metadata": {},
   "outputs": [
    {
     "data": {
      "text/plain": [
       "<PandasArray>\n",
       "[300, 340, 280, 421]\n",
       "Length: 4, dtype: int64"
      ]
     },
     "execution_count": 6,
     "metadata": {},
     "output_type": "execute_result"
    }
   ],
   "source": [
    "animals_weight.array"
   ]
  },
  {
   "cell_type": "markdown",
   "metadata": {},
   "source": [
    "Like with lists built-in functionality allows getting easily data insights"
   ]
  },
  {
   "cell_type": "code",
   "execution_count": 7,
   "metadata": {},
   "outputs": [
    {
     "data": {
      "text/plain": [
       "421"
      ]
     },
     "execution_count": 7,
     "metadata": {},
     "output_type": "execute_result"
    }
   ],
   "source": [
    "max(animals_weight)"
   ]
  },
  {
   "cell_type": "code",
   "execution_count": 8,
   "metadata": {},
   "outputs": [
    {
     "data": {
      "text/plain": [
       "421"
      ]
     },
     "execution_count": 8,
     "metadata": {},
     "output_type": "execute_result"
    }
   ],
   "source": [
    "animals_weight.max()"
   ]
  },
  {
   "cell_type": "code",
   "execution_count": 9,
   "metadata": {},
   "outputs": [
    {
     "data": {
      "text/plain": [
       "3"
      ]
     },
     "execution_count": 9,
     "metadata": {},
     "output_type": "execute_result"
    }
   ],
   "source": [
    "animals_weight.argmax()"
   ]
  },
  {
   "cell_type": "code",
   "execution_count": 10,
   "metadata": {},
   "outputs": [
    {
     "data": {
      "text/plain": [
       "1341"
      ]
     },
     "execution_count": 10,
     "metadata": {},
     "output_type": "execute_result"
    }
   ],
   "source": [
    "animals_weight.sum()"
   ]
  },
  {
   "cell_type": "code",
   "execution_count": 11,
   "metadata": {},
   "outputs": [
    {
     "data": {
      "text/plain": [
       "0    300.0\n",
       "1    340.0\n",
       "2    280.0\n",
       "3    421.0\n",
       "4      NaN\n",
       "dtype: float64"
      ]
     },
     "execution_count": 11,
     "metadata": {},
     "output_type": "execute_result"
    }
   ],
   "source": [
    "id_index = range(5)\n",
    "\n",
    "animals_weight_na = pd.Series(animals_weight, index=id_index)\n",
    "animals_weight_na"
   ]
  },
  {
   "cell_type": "code",
   "execution_count": 12,
   "metadata": {},
   "outputs": [
    {
     "data": {
      "text/plain": [
       "0    False\n",
       "1    False\n",
       "2    False\n",
       "3    False\n",
       "dtype: bool"
      ]
     },
     "execution_count": 12,
     "metadata": {},
     "output_type": "execute_result"
    }
   ],
   "source": [
    "pd.isnull(animals_weight)"
   ]
  },
  {
   "cell_type": "markdown",
   "metadata": {},
   "source": [
    "Equivalently"
   ]
  },
  {
   "cell_type": "code",
   "execution_count": 26,
   "metadata": {},
   "outputs": [
    {
     "data": {
      "text/plain": [
       "0    False\n",
       "1    False\n",
       "2    False\n",
       "3    False\n",
       "dtype: bool"
      ]
     },
     "execution_count": 26,
     "metadata": {},
     "output_type": "execute_result"
    }
   ],
   "source": [
    "animals_weight.isnull()"
   ]
  },
  {
   "cell_type": "code",
   "execution_count": 27,
   "metadata": {},
   "outputs": [
    {
     "data": {
      "text/plain": [
       "0    False\n",
       "1    False\n",
       "2    False\n",
       "3    False\n",
       "4     True\n",
       "dtype: bool"
      ]
     },
     "execution_count": 27,
     "metadata": {},
     "output_type": "execute_result"
    }
   ],
   "source": [
    "pd.isnull(animals_weight_na)"
   ]
  },
  {
   "cell_type": "code",
   "execution_count": 28,
   "metadata": {},
   "outputs": [
    {
     "data": {
      "text/plain": [
       "0"
      ]
     },
     "execution_count": 28,
     "metadata": {},
     "output_type": "execute_result"
    }
   ],
   "source": [
    "sum(pd.isnull(animals_weight))"
   ]
  },
  {
   "cell_type": "code",
   "execution_count": 29,
   "metadata": {},
   "outputs": [
    {
     "data": {
      "text/plain": [
       "1"
      ]
     },
     "execution_count": 29,
     "metadata": {},
     "output_type": "execute_result"
    }
   ],
   "source": [
    "sum(pd.isnull(animals_weight_na))"
   ]
  },
  {
   "cell_type": "markdown",
   "metadata": {},
   "source": [
    "We can accomplish the same with the following"
   ]
  },
  {
   "cell_type": "code",
   "execution_count": 30,
   "metadata": {},
   "outputs": [
    {
     "data": {
      "text/plain": [
       "1"
      ]
     },
     "execution_count": 30,
     "metadata": {},
     "output_type": "execute_result"
    }
   ],
   "source": [
    "animals_weight_na.isnull().sum()"
   ]
  },
  {
   "cell_type": "markdown",
   "metadata": {},
   "source": [
    "Pandas series resemble a lot ordered dictionaries"
   ]
  },
  {
   "cell_type": "code",
   "execution_count": 31,
   "metadata": {},
   "outputs": [
    {
     "data": {
      "text/plain": [
       "{0: 300, 1: 340, 2: 280, 3: 421}"
      ]
     },
     "execution_count": 31,
     "metadata": {},
     "output_type": "execute_result"
    }
   ],
   "source": [
    "animals_weight.to_dict()"
   ]
  },
  {
   "cell_type": "code",
   "execution_count": 32,
   "metadata": {},
   "outputs": [
    {
     "data": {
      "text/plain": [
       "300"
      ]
     },
     "execution_count": 32,
     "metadata": {},
     "output_type": "execute_result"
    }
   ],
   "source": [
    "animals_weight[0]"
   ]
  },
  {
   "cell_type": "markdown",
   "metadata": {},
   "source": [
    "A useful feature of pandas series is data alignment"
   ]
  },
  {
   "cell_type": "code",
   "execution_count": 33,
   "metadata": {},
   "outputs": [],
   "source": [
    "animals_weight_new = pd.Series([200, 140, 80, 50],index=[1,2,3,5])"
   ]
  },
  {
   "cell_type": "code",
   "execution_count": 34,
   "metadata": {},
   "outputs": [
    {
     "data": {
      "text/plain": [
       "0    300\n",
       "1    340\n",
       "2    280\n",
       "3    421\n",
       "dtype: int64"
      ]
     },
     "execution_count": 34,
     "metadata": {},
     "output_type": "execute_result"
    }
   ],
   "source": [
    "animals_weight"
   ]
  },
  {
   "cell_type": "code",
   "execution_count": 35,
   "metadata": {},
   "outputs": [
    {
     "data": {
      "text/plain": [
       "1    200\n",
       "2    140\n",
       "3     80\n",
       "5     50\n",
       "dtype: int64"
      ]
     },
     "execution_count": 35,
     "metadata": {},
     "output_type": "execute_result"
    }
   ],
   "source": [
    "animals_weight_new"
   ]
  },
  {
   "cell_type": "code",
   "execution_count": 36,
   "metadata": {},
   "outputs": [
    {
     "data": {
      "text/plain": [
       "0      NaN\n",
       "1    540.0\n",
       "2    420.0\n",
       "3    501.0\n",
       "5      NaN\n",
       "dtype: float64"
      ]
     },
     "execution_count": 36,
     "metadata": {},
     "output_type": "execute_result"
    }
   ],
   "source": [
    "animals_weight + animals_weight_new"
   ]
  },
  {
   "cell_type": "markdown",
   "metadata": {},
   "source": [
    "Below we see how we can get extra functionality through accessors. "
   ]
  },
  {
   "cell_type": "code",
   "execution_count": 13,
   "metadata": {},
   "outputs": [],
   "source": [
    "names = pd.Series([\"John\",\"Kate\",\"Mike\",\"Linus\"])"
   ]
  },
  {
   "cell_type": "code",
   "execution_count": 14,
   "metadata": {},
   "outputs": [
    {
     "data": {
      "text/plain": [
       "0     John\n",
       "1     Kate\n",
       "2     Mike\n",
       "3    Linus\n",
       "dtype: object"
      ]
     },
     "execution_count": 14,
     "metadata": {},
     "output_type": "execute_result"
    }
   ],
   "source": [
    "names"
   ]
  },
  {
   "cell_type": "markdown",
   "metadata": {},
   "source": [
    "Yesterday we show some basic python functions. For example the `upper`function."
   ]
  },
  {
   "cell_type": "code",
   "execution_count": 16,
   "metadata": {},
   "outputs": [
    {
     "ename": "AttributeError",
     "evalue": "'Series' object has no attribute 'upper'",
     "output_type": "error",
     "traceback": [
      "\u001b[0;31m---------------------------------------------------------------------------\u001b[0m",
      "\u001b[0;31mAttributeError\u001b[0m                            Traceback (most recent call last)",
      "\u001b[0;32m/var/folders/yq/wh44lztd4yxdv7rnhztylh480000gn/T/ipykernel_14859/3096189821.py\u001b[0m in \u001b[0;36m?\u001b[0;34m()\u001b[0m\n\u001b[0;32m----> 1\u001b[0;31m \u001b[0mnames\u001b[0m\u001b[0;34m.\u001b[0m\u001b[0mupper\u001b[0m\u001b[0;34m(\u001b[0m\u001b[0;34m)\u001b[0m\u001b[0;34m\u001b[0m\u001b[0;34m\u001b[0m\u001b[0m\n\u001b[0m",
      "\u001b[0;32m~/anaconda3/lib/python3.11/site-packages/pandas/core/generic.py\u001b[0m in \u001b[0;36m?\u001b[0;34m(self, name)\u001b[0m\n\u001b[1;32m   5985\u001b[0m             \u001b[0;32mand\u001b[0m \u001b[0mname\u001b[0m \u001b[0;32mnot\u001b[0m \u001b[0;32min\u001b[0m \u001b[0mself\u001b[0m\u001b[0;34m.\u001b[0m\u001b[0m_accessors\u001b[0m\u001b[0;34m\u001b[0m\u001b[0;34m\u001b[0m\u001b[0m\n\u001b[1;32m   5986\u001b[0m             \u001b[0;32mand\u001b[0m \u001b[0mself\u001b[0m\u001b[0;34m.\u001b[0m\u001b[0m_info_axis\u001b[0m\u001b[0;34m.\u001b[0m\u001b[0m_can_hold_identifiers_and_holds_name\u001b[0m\u001b[0;34m(\u001b[0m\u001b[0mname\u001b[0m\u001b[0;34m)\u001b[0m\u001b[0;34m\u001b[0m\u001b[0;34m\u001b[0m\u001b[0m\n\u001b[1;32m   5987\u001b[0m         ):\n\u001b[1;32m   5988\u001b[0m             \u001b[0;32mreturn\u001b[0m \u001b[0mself\u001b[0m\u001b[0;34m[\u001b[0m\u001b[0mname\u001b[0m\u001b[0;34m]\u001b[0m\u001b[0;34m\u001b[0m\u001b[0;34m\u001b[0m\u001b[0m\n\u001b[0;32m-> 5989\u001b[0;31m         \u001b[0;32mreturn\u001b[0m \u001b[0mobject\u001b[0m\u001b[0;34m.\u001b[0m\u001b[0m__getattribute__\u001b[0m\u001b[0;34m(\u001b[0m\u001b[0mself\u001b[0m\u001b[0;34m,\u001b[0m \u001b[0mname\u001b[0m\u001b[0;34m)\u001b[0m\u001b[0;34m\u001b[0m\u001b[0;34m\u001b[0m\u001b[0m\n\u001b[0m",
      "\u001b[0;31mAttributeError\u001b[0m: 'Series' object has no attribute 'upper'"
     ]
    }
   ],
   "source": [
    "names.upper()"
   ]
  },
  {
   "cell_type": "markdown",
   "metadata": {},
   "source": [
    "As you see we got an error. It seems as `Series`don't have this functionality."
   ]
  },
  {
   "cell_type": "code",
   "execution_count": 17,
   "metadata": {},
   "outputs": [
    {
     "data": {
      "text/plain": [
       "{'cat', 'dt', 'sparse', 'str'}"
      ]
     },
     "execution_count": 17,
     "metadata": {},
     "output_type": "execute_result"
    }
   ],
   "source": [
    "pd.Series._accessors"
   ]
  },
  {
   "cell_type": "code",
   "execution_count": 18,
   "metadata": {},
   "outputs": [
    {
     "data": {
      "text/plain": [
       "0     JOHN\n",
       "1     KATE\n",
       "2     MIKE\n",
       "3    LINUS\n",
       "dtype: object"
      ]
     },
     "execution_count": 18,
     "metadata": {},
     "output_type": "execute_result"
    }
   ],
   "source": [
    "names.str.upper()"
   ]
  },
  {
   "cell_type": "markdown",
   "metadata": {},
   "source": [
    "# Dataframes"
   ]
  },
  {
   "cell_type": "markdown",
   "metadata": {},
   "source": [
    "Below we construct our first DataFrame (name 'stolen' from R)"
   ]
  },
  {
   "cell_type": "code",
   "execution_count": 37,
   "metadata": {},
   "outputs": [],
   "source": [
    "animals_data = pd.DataFrame({\"ID\":animals_id,\"Weight\":animals_weight})"
   ]
  },
  {
   "cell_type": "code",
   "execution_count": 38,
   "metadata": {},
   "outputs": [
    {
     "data": {
      "text/html": [
       "<div>\n",
       "<style scoped>\n",
       "    .dataframe tbody tr th:only-of-type {\n",
       "        vertical-align: middle;\n",
       "    }\n",
       "\n",
       "    .dataframe tbody tr th {\n",
       "        vertical-align: top;\n",
       "    }\n",
       "\n",
       "    .dataframe thead th {\n",
       "        text-align: right;\n",
       "    }\n",
       "</style>\n",
       "<table border=\"1\" class=\"dataframe\">\n",
       "  <thead>\n",
       "    <tr style=\"text-align: right;\">\n",
       "      <th></th>\n",
       "      <th>ID</th>\n",
       "      <th>Weight</th>\n",
       "    </tr>\n",
       "  </thead>\n",
       "  <tbody>\n",
       "    <tr>\n",
       "      <th>0</th>\n",
       "      <td>9032</td>\n",
       "      <td>300</td>\n",
       "    </tr>\n",
       "    <tr>\n",
       "      <th>1</th>\n",
       "      <td>9033</td>\n",
       "      <td>340</td>\n",
       "    </tr>\n",
       "    <tr>\n",
       "      <th>2</th>\n",
       "      <td>9034</td>\n",
       "      <td>280</td>\n",
       "    </tr>\n",
       "    <tr>\n",
       "      <th>3</th>\n",
       "      <td>9035</td>\n",
       "      <td>421</td>\n",
       "    </tr>\n",
       "  </tbody>\n",
       "</table>\n",
       "</div>"
      ],
      "text/plain": [
       "     ID  Weight\n",
       "0  9032     300\n",
       "1  9033     340\n",
       "2  9034     280\n",
       "3  9035     421"
      ]
     },
     "execution_count": 38,
     "metadata": {},
     "output_type": "execute_result"
    }
   ],
   "source": [
    "animals_data"
   ]
  },
  {
   "cell_type": "markdown",
   "metadata": {},
   "source": [
    "Most common way to form a DataFrame is through loading data that we have in a file. \n",
    "\n",
    "It is always helpful to check the documentation what arguments the function we use requires. "
   ]
  },
  {
   "cell_type": "code",
   "execution_count": 3,
   "metadata": {},
   "outputs": [],
   "source": [
    "pd.read_csv?"
   ]
  },
  {
   "cell_type": "markdown",
   "metadata": {},
   "source": [
    "As you can see it is practically impossible to remember all the arguments for every function. \n",
    "\n",
    "In the case of `read_csv` I personally find the most important the following:\n",
    "\n",
    "- `sep` we need to tell our function how the columns are separated e.g. `,` or `tab`\n",
    "- `header` usually the first row contains header information. In that case you don't need to do anything.\n",
    "- `na_values` in case a special character is used to indicate a missing value. Will come back later to that.\n",
    "- `skiprows` if we need to skip certain number of rows. Can be useful when our file contains metadata that our not of primary interest for the analysis we wish to conduct\n",
    "\n",
    "Let's see an example. Will first try without changing anything"
   ]
  },
  {
   "cell_type": "code",
   "execution_count": 40,
   "metadata": {},
   "outputs": [
    {
     "data": {
      "text/html": [
       "<div>\n",
       "<style scoped>\n",
       "    .dataframe tbody tr th:only-of-type {\n",
       "        vertical-align: middle;\n",
       "    }\n",
       "\n",
       "    .dataframe tbody tr th {\n",
       "        vertical-align: top;\n",
       "    }\n",
       "\n",
       "    .dataframe thead th {\n",
       "        text-align: right;\n",
       "    }\n",
       "</style>\n",
       "<table border=\"1\" class=\"dataframe\">\n",
       "  <thead>\n",
       "    <tr style=\"text-align: right;\">\n",
       "      <th></th>\n",
       "      <th>Id\\tSire\\tDam</th>\n",
       "    </tr>\n",
       "  </thead>\n",
       "  <tbody>\n",
       "    <tr>\n",
       "      <th>0</th>\n",
       "      <td>G2_431872\\tG1_801698\\tG1_973614</td>\n",
       "    </tr>\n",
       "    <tr>\n",
       "      <th>1</th>\n",
       "      <td>G2_432072\\tG1_801698\\tG1_973614</td>\n",
       "    </tr>\n",
       "    <tr>\n",
       "      <th>2</th>\n",
       "      <td>G2_425484\\tG1_801698\\tG1_973614</td>\n",
       "    </tr>\n",
       "    <tr>\n",
       "      <th>3</th>\n",
       "      <td>G2_426165\\tG1_801698\\tG1_973614</td>\n",
       "    </tr>\n",
       "    <tr>\n",
       "      <th>4</th>\n",
       "      <td>G2_431334\\tG1_801698\\tG1_973614</td>\n",
       "    </tr>\n",
       "    <tr>\n",
       "      <th>...</th>\n",
       "      <td>...</td>\n",
       "    </tr>\n",
       "    <tr>\n",
       "      <th>3984</th>\n",
       "      <td>G2_424756\\tG1_822989\\tG1_965030</td>\n",
       "    </tr>\n",
       "    <tr>\n",
       "      <th>3985</th>\n",
       "      <td>G2_425353\\tG1_822989\\tG1_965030</td>\n",
       "    </tr>\n",
       "    <tr>\n",
       "      <th>3986</th>\n",
       "      <td>G2_424311\\tG1_822989\\tG1_965030</td>\n",
       "    </tr>\n",
       "    <tr>\n",
       "      <th>3987</th>\n",
       "      <td>G2_425083\\tG1_822989\\tG1_965030</td>\n",
       "    </tr>\n",
       "    <tr>\n",
       "      <th>3988</th>\n",
       "      <td>G2_430894\\tG1_822989\\tG1_965030</td>\n",
       "    </tr>\n",
       "  </tbody>\n",
       "</table>\n",
       "<p>3989 rows × 1 columns</p>\n",
       "</div>"
      ],
      "text/plain": [
       "                        Id\\tSire\\tDam\n",
       "0     G2_431872\\tG1_801698\\tG1_973614\n",
       "1     G2_432072\\tG1_801698\\tG1_973614\n",
       "2     G2_425484\\tG1_801698\\tG1_973614\n",
       "3     G2_426165\\tG1_801698\\tG1_973614\n",
       "4     G2_431334\\tG1_801698\\tG1_973614\n",
       "...                               ...\n",
       "3984  G2_424756\\tG1_822989\\tG1_965030\n",
       "3985  G2_425353\\tG1_822989\\tG1_965030\n",
       "3986  G2_424311\\tG1_822989\\tG1_965030\n",
       "3987  G2_425083\\tG1_822989\\tG1_965030\n",
       "3988  G2_430894\\tG1_822989\\tG1_965030\n",
       "\n",
       "[3989 rows x 1 columns]"
      ]
     },
     "execution_count": 40,
     "metadata": {},
     "output_type": "execute_result"
    }
   ],
   "source": [
    "pedigree = pd.read_csv(\"RB_pedigee.txt\")\n",
    "pedigree"
   ]
  },
  {
   "cell_type": "markdown",
   "metadata": {},
   "source": [
    "As you can see not the result we wanted. Let's try one more"
   ]
  },
  {
   "cell_type": "code",
   "execution_count": 41,
   "metadata": {},
   "outputs": [
    {
     "data": {
      "text/html": [
       "<div>\n",
       "<style scoped>\n",
       "    .dataframe tbody tr th:only-of-type {\n",
       "        vertical-align: middle;\n",
       "    }\n",
       "\n",
       "    .dataframe tbody tr th {\n",
       "        vertical-align: top;\n",
       "    }\n",
       "\n",
       "    .dataframe thead th {\n",
       "        text-align: right;\n",
       "    }\n",
       "</style>\n",
       "<table border=\"1\" class=\"dataframe\">\n",
       "  <thead>\n",
       "    <tr style=\"text-align: right;\">\n",
       "      <th></th>\n",
       "      <th>Id</th>\n",
       "      <th>Sire</th>\n",
       "      <th>Dam</th>\n",
       "    </tr>\n",
       "  </thead>\n",
       "  <tbody>\n",
       "    <tr>\n",
       "      <th>0</th>\n",
       "      <td>G2_431872</td>\n",
       "      <td>G1_801698</td>\n",
       "      <td>G1_973614</td>\n",
       "    </tr>\n",
       "    <tr>\n",
       "      <th>1</th>\n",
       "      <td>G2_432072</td>\n",
       "      <td>G1_801698</td>\n",
       "      <td>G1_973614</td>\n",
       "    </tr>\n",
       "    <tr>\n",
       "      <th>2</th>\n",
       "      <td>G2_425484</td>\n",
       "      <td>G1_801698</td>\n",
       "      <td>G1_973614</td>\n",
       "    </tr>\n",
       "    <tr>\n",
       "      <th>3</th>\n",
       "      <td>G2_426165</td>\n",
       "      <td>G1_801698</td>\n",
       "      <td>G1_973614</td>\n",
       "    </tr>\n",
       "    <tr>\n",
       "      <th>4</th>\n",
       "      <td>G2_431334</td>\n",
       "      <td>G1_801698</td>\n",
       "      <td>G1_973614</td>\n",
       "    </tr>\n",
       "    <tr>\n",
       "      <th>...</th>\n",
       "      <td>...</td>\n",
       "      <td>...</td>\n",
       "      <td>...</td>\n",
       "    </tr>\n",
       "    <tr>\n",
       "      <th>3984</th>\n",
       "      <td>G2_424756</td>\n",
       "      <td>G1_822989</td>\n",
       "      <td>G1_965030</td>\n",
       "    </tr>\n",
       "    <tr>\n",
       "      <th>3985</th>\n",
       "      <td>G2_425353</td>\n",
       "      <td>G1_822989</td>\n",
       "      <td>G1_965030</td>\n",
       "    </tr>\n",
       "    <tr>\n",
       "      <th>3986</th>\n",
       "      <td>G2_424311</td>\n",
       "      <td>G1_822989</td>\n",
       "      <td>G1_965030</td>\n",
       "    </tr>\n",
       "    <tr>\n",
       "      <th>3987</th>\n",
       "      <td>G2_425083</td>\n",
       "      <td>G1_822989</td>\n",
       "      <td>G1_965030</td>\n",
       "    </tr>\n",
       "    <tr>\n",
       "      <th>3988</th>\n",
       "      <td>G2_430894</td>\n",
       "      <td>G1_822989</td>\n",
       "      <td>G1_965030</td>\n",
       "    </tr>\n",
       "  </tbody>\n",
       "</table>\n",
       "<p>3989 rows × 3 columns</p>\n",
       "</div>"
      ],
      "text/plain": [
       "             Id       Sire        Dam\n",
       "0     G2_431872  G1_801698  G1_973614\n",
       "1     G2_432072  G1_801698  G1_973614\n",
       "2     G2_425484  G1_801698  G1_973614\n",
       "3     G2_426165  G1_801698  G1_973614\n",
       "4     G2_431334  G1_801698  G1_973614\n",
       "...         ...        ...        ...\n",
       "3984  G2_424756  G1_822989  G1_965030\n",
       "3985  G2_425353  G1_822989  G1_965030\n",
       "3986  G2_424311  G1_822989  G1_965030\n",
       "3987  G2_425083  G1_822989  G1_965030\n",
       "3988  G2_430894  G1_822989  G1_965030\n",
       "\n",
       "[3989 rows x 3 columns]"
      ]
     },
     "execution_count": 41,
     "metadata": {},
     "output_type": "execute_result"
    }
   ],
   "source": [
    "pedigree = pd.read_csv(\"RB_pedigee.txt\",sep=\"\\t\")\n",
    "pedigree"
   ]
  },
  {
   "cell_type": "markdown",
   "metadata": {},
   "source": [
    "Write DataFrames to files"
   ]
  },
  {
   "cell_type": "code",
   "execution_count": 42,
   "metadata": {},
   "outputs": [],
   "source": [
    "pedigree.to_csv(\"pedigree.csv\")"
   ]
  },
  {
   "cell_type": "markdown",
   "metadata": {},
   "source": [
    "Below I will introduce some functions/attributes that I find useful for getting a first feeling of data"
   ]
  },
  {
   "cell_type": "code",
   "execution_count": 43,
   "metadata": {},
   "outputs": [
    {
     "data": {
      "text/html": [
       "<div>\n",
       "<style scoped>\n",
       "    .dataframe tbody tr th:only-of-type {\n",
       "        vertical-align: middle;\n",
       "    }\n",
       "\n",
       "    .dataframe tbody tr th {\n",
       "        vertical-align: top;\n",
       "    }\n",
       "\n",
       "    .dataframe thead th {\n",
       "        text-align: right;\n",
       "    }\n",
       "</style>\n",
       "<table border=\"1\" class=\"dataframe\">\n",
       "  <thead>\n",
       "    <tr style=\"text-align: right;\">\n",
       "      <th></th>\n",
       "      <th>Id</th>\n",
       "      <th>Sire</th>\n",
       "      <th>Dam</th>\n",
       "    </tr>\n",
       "  </thead>\n",
       "  <tbody>\n",
       "    <tr>\n",
       "      <th>0</th>\n",
       "      <td>G2_431872</td>\n",
       "      <td>G1_801698</td>\n",
       "      <td>G1_973614</td>\n",
       "    </tr>\n",
       "    <tr>\n",
       "      <th>1</th>\n",
       "      <td>G2_432072</td>\n",
       "      <td>G1_801698</td>\n",
       "      <td>G1_973614</td>\n",
       "    </tr>\n",
       "    <tr>\n",
       "      <th>2</th>\n",
       "      <td>G2_425484</td>\n",
       "      <td>G1_801698</td>\n",
       "      <td>G1_973614</td>\n",
       "    </tr>\n",
       "    <tr>\n",
       "      <th>3</th>\n",
       "      <td>G2_426165</td>\n",
       "      <td>G1_801698</td>\n",
       "      <td>G1_973614</td>\n",
       "    </tr>\n",
       "    <tr>\n",
       "      <th>4</th>\n",
       "      <td>G2_431334</td>\n",
       "      <td>G1_801698</td>\n",
       "      <td>G1_973614</td>\n",
       "    </tr>\n",
       "  </tbody>\n",
       "</table>\n",
       "</div>"
      ],
      "text/plain": [
       "          Id       Sire        Dam\n",
       "0  G2_431872  G1_801698  G1_973614\n",
       "1  G2_432072  G1_801698  G1_973614\n",
       "2  G2_425484  G1_801698  G1_973614\n",
       "3  G2_426165  G1_801698  G1_973614\n",
       "4  G2_431334  G1_801698  G1_973614"
      ]
     },
     "execution_count": 43,
     "metadata": {},
     "output_type": "execute_result"
    }
   ],
   "source": [
    "pedigree.head()"
   ]
  },
  {
   "cell_type": "code",
   "execution_count": 44,
   "metadata": {},
   "outputs": [
    {
     "data": {
      "text/html": [
       "<div>\n",
       "<style scoped>\n",
       "    .dataframe tbody tr th:only-of-type {\n",
       "        vertical-align: middle;\n",
       "    }\n",
       "\n",
       "    .dataframe tbody tr th {\n",
       "        vertical-align: top;\n",
       "    }\n",
       "\n",
       "    .dataframe thead th {\n",
       "        text-align: right;\n",
       "    }\n",
       "</style>\n",
       "<table border=\"1\" class=\"dataframe\">\n",
       "  <thead>\n",
       "    <tr style=\"text-align: right;\">\n",
       "      <th></th>\n",
       "      <th>Id</th>\n",
       "      <th>Sire</th>\n",
       "      <th>Dam</th>\n",
       "    </tr>\n",
       "  </thead>\n",
       "  <tbody>\n",
       "    <tr>\n",
       "      <th>0</th>\n",
       "      <td>G2_431872</td>\n",
       "      <td>G1_801698</td>\n",
       "      <td>G1_973614</td>\n",
       "    </tr>\n",
       "    <tr>\n",
       "      <th>1</th>\n",
       "      <td>G2_432072</td>\n",
       "      <td>G1_801698</td>\n",
       "      <td>G1_973614</td>\n",
       "    </tr>\n",
       "    <tr>\n",
       "      <th>2</th>\n",
       "      <td>G2_425484</td>\n",
       "      <td>G1_801698</td>\n",
       "      <td>G1_973614</td>\n",
       "    </tr>\n",
       "    <tr>\n",
       "      <th>3</th>\n",
       "      <td>G2_426165</td>\n",
       "      <td>G1_801698</td>\n",
       "      <td>G1_973614</td>\n",
       "    </tr>\n",
       "    <tr>\n",
       "      <th>4</th>\n",
       "      <td>G2_431334</td>\n",
       "      <td>G1_801698</td>\n",
       "      <td>G1_973614</td>\n",
       "    </tr>\n",
       "    <tr>\n",
       "      <th>5</th>\n",
       "      <td>G2_425367</td>\n",
       "      <td>G1_801698</td>\n",
       "      <td>G1_973614</td>\n",
       "    </tr>\n",
       "    <tr>\n",
       "      <th>6</th>\n",
       "      <td>G2_425503</td>\n",
       "      <td>G1_801698</td>\n",
       "      <td>G1_973614</td>\n",
       "    </tr>\n",
       "    <tr>\n",
       "      <th>7</th>\n",
       "      <td>G2_430925</td>\n",
       "      <td>G1_801698</td>\n",
       "      <td>G1_973614</td>\n",
       "    </tr>\n",
       "    <tr>\n",
       "      <th>8</th>\n",
       "      <td>G2_431214</td>\n",
       "      <td>G1_801698</td>\n",
       "      <td>G1_973614</td>\n",
       "    </tr>\n",
       "    <tr>\n",
       "      <th>9</th>\n",
       "      <td>G2_425304</td>\n",
       "      <td>G1_801698</td>\n",
       "      <td>G1_973614</td>\n",
       "    </tr>\n",
       "  </tbody>\n",
       "</table>\n",
       "</div>"
      ],
      "text/plain": [
       "          Id       Sire        Dam\n",
       "0  G2_431872  G1_801698  G1_973614\n",
       "1  G2_432072  G1_801698  G1_973614\n",
       "2  G2_425484  G1_801698  G1_973614\n",
       "3  G2_426165  G1_801698  G1_973614\n",
       "4  G2_431334  G1_801698  G1_973614\n",
       "5  G2_425367  G1_801698  G1_973614\n",
       "6  G2_425503  G1_801698  G1_973614\n",
       "7  G2_430925  G1_801698  G1_973614\n",
       "8  G2_431214  G1_801698  G1_973614\n",
       "9  G2_425304  G1_801698  G1_973614"
      ]
     },
     "execution_count": 44,
     "metadata": {},
     "output_type": "execute_result"
    }
   ],
   "source": [
    "pedigree.head(10)"
   ]
  },
  {
   "cell_type": "code",
   "execution_count": 45,
   "metadata": {},
   "outputs": [
    {
     "data": {
      "text/html": [
       "<div>\n",
       "<style scoped>\n",
       "    .dataframe tbody tr th:only-of-type {\n",
       "        vertical-align: middle;\n",
       "    }\n",
       "\n",
       "    .dataframe tbody tr th {\n",
       "        vertical-align: top;\n",
       "    }\n",
       "\n",
       "    .dataframe thead th {\n",
       "        text-align: right;\n",
       "    }\n",
       "</style>\n",
       "<table border=\"1\" class=\"dataframe\">\n",
       "  <thead>\n",
       "    <tr style=\"text-align: right;\">\n",
       "      <th></th>\n",
       "      <th>Id</th>\n",
       "      <th>Sire</th>\n",
       "      <th>Dam</th>\n",
       "    </tr>\n",
       "  </thead>\n",
       "  <tbody>\n",
       "    <tr>\n",
       "      <th>3979</th>\n",
       "      <td>G2_425292</td>\n",
       "      <td>G1_822989</td>\n",
       "      <td>G1_965030</td>\n",
       "    </tr>\n",
       "    <tr>\n",
       "      <th>3980</th>\n",
       "      <td>G2_431916</td>\n",
       "      <td>G1_822989</td>\n",
       "      <td>G1_965030</td>\n",
       "    </tr>\n",
       "    <tr>\n",
       "      <th>3981</th>\n",
       "      <td>G2_430532</td>\n",
       "      <td>G1_822989</td>\n",
       "      <td>G1_965030</td>\n",
       "    </tr>\n",
       "    <tr>\n",
       "      <th>3982</th>\n",
       "      <td>G2_431430</td>\n",
       "      <td>G1_822989</td>\n",
       "      <td>G1_965030</td>\n",
       "    </tr>\n",
       "    <tr>\n",
       "      <th>3983</th>\n",
       "      <td>G2_431769</td>\n",
       "      <td>G1_822989</td>\n",
       "      <td>G1_965030</td>\n",
       "    </tr>\n",
       "    <tr>\n",
       "      <th>3984</th>\n",
       "      <td>G2_424756</td>\n",
       "      <td>G1_822989</td>\n",
       "      <td>G1_965030</td>\n",
       "    </tr>\n",
       "    <tr>\n",
       "      <th>3985</th>\n",
       "      <td>G2_425353</td>\n",
       "      <td>G1_822989</td>\n",
       "      <td>G1_965030</td>\n",
       "    </tr>\n",
       "    <tr>\n",
       "      <th>3986</th>\n",
       "      <td>G2_424311</td>\n",
       "      <td>G1_822989</td>\n",
       "      <td>G1_965030</td>\n",
       "    </tr>\n",
       "    <tr>\n",
       "      <th>3987</th>\n",
       "      <td>G2_425083</td>\n",
       "      <td>G1_822989</td>\n",
       "      <td>G1_965030</td>\n",
       "    </tr>\n",
       "    <tr>\n",
       "      <th>3988</th>\n",
       "      <td>G2_430894</td>\n",
       "      <td>G1_822989</td>\n",
       "      <td>G1_965030</td>\n",
       "    </tr>\n",
       "  </tbody>\n",
       "</table>\n",
       "</div>"
      ],
      "text/plain": [
       "             Id       Sire        Dam\n",
       "3979  G2_425292  G1_822989  G1_965030\n",
       "3980  G2_431916  G1_822989  G1_965030\n",
       "3981  G2_430532  G1_822989  G1_965030\n",
       "3982  G2_431430  G1_822989  G1_965030\n",
       "3983  G2_431769  G1_822989  G1_965030\n",
       "3984  G2_424756  G1_822989  G1_965030\n",
       "3985  G2_425353  G1_822989  G1_965030\n",
       "3986  G2_424311  G1_822989  G1_965030\n",
       "3987  G2_425083  G1_822989  G1_965030\n",
       "3988  G2_430894  G1_822989  G1_965030"
      ]
     },
     "execution_count": 45,
     "metadata": {},
     "output_type": "execute_result"
    }
   ],
   "source": [
    "pedigree.tail(10)"
   ]
  },
  {
   "cell_type": "code",
   "execution_count": 46,
   "metadata": {},
   "outputs": [
    {
     "data": {
      "text/plain": [
       "RangeIndex(start=0, stop=3989, step=1)"
      ]
     },
     "execution_count": 46,
     "metadata": {},
     "output_type": "execute_result"
    }
   ],
   "source": [
    "pedigree.index"
   ]
  },
  {
   "cell_type": "code",
   "execution_count": 47,
   "metadata": {},
   "outputs": [
    {
     "data": {
      "text/plain": [
       "Index(['Id', 'Sire', 'Dam'], dtype='object')"
      ]
     },
     "execution_count": 47,
     "metadata": {},
     "output_type": "execute_result"
    }
   ],
   "source": [
    "pedigree.columns"
   ]
  },
  {
   "cell_type": "code",
   "execution_count": 48,
   "metadata": {},
   "outputs": [
    {
     "data": {
      "text/plain": [
       "[RangeIndex(start=0, stop=3989, step=1),\n",
       " Index(['Id', 'Sire', 'Dam'], dtype='object')]"
      ]
     },
     "execution_count": 48,
     "metadata": {},
     "output_type": "execute_result"
    }
   ],
   "source": [
    "pedigree.axes"
   ]
  },
  {
   "cell_type": "markdown",
   "metadata": {},
   "source": [
    "The axis marked as 0 refers to the row index, while the axis marked as 1 refers to the column index"
   ]
  },
  {
   "cell_type": "code",
   "execution_count": 49,
   "metadata": {},
   "outputs": [
    {
     "data": {
      "text/plain": [
       "RangeIndex(start=0, stop=3989, step=1)"
      ]
     },
     "execution_count": 49,
     "metadata": {},
     "output_type": "execute_result"
    }
   ],
   "source": [
    "pedigree.axes[0]"
   ]
  },
  {
   "cell_type": "code",
   "execution_count": 50,
   "metadata": {},
   "outputs": [
    {
     "data": {
      "text/plain": [
       "Index(['Id', 'Sire', 'Dam'], dtype='object')"
      ]
     },
     "execution_count": 50,
     "metadata": {},
     "output_type": "execute_result"
    }
   ],
   "source": [
    "pedigree.axes[1]"
   ]
  },
  {
   "cell_type": "markdown",
   "metadata": {},
   "source": [
    "A dataframe borows concepts we encounter in python dictionaries"
   ]
  },
  {
   "cell_type": "code",
   "execution_count": 51,
   "metadata": {},
   "outputs": [
    {
     "data": {
      "text/plain": [
       "Index(['Id', 'Sire', 'Dam'], dtype='object')"
      ]
     },
     "execution_count": 51,
     "metadata": {},
     "output_type": "execute_result"
    }
   ],
   "source": [
    "pedigree.keys()"
   ]
  },
  {
   "cell_type": "code",
   "execution_count": 52,
   "metadata": {},
   "outputs": [
    {
     "data": {
      "text/plain": [
       "True"
      ]
     },
     "execution_count": 52,
     "metadata": {},
     "output_type": "execute_result"
    }
   ],
   "source": [
    "'Id' in pedigree.keys()"
   ]
  },
  {
   "cell_type": "code",
   "execution_count": 53,
   "metadata": {},
   "outputs": [
    {
     "data": {
      "text/plain": [
       "False"
      ]
     },
     "execution_count": 53,
     "metadata": {},
     "output_type": "execute_result"
    }
   ],
   "source": [
    "'Id ' in pedigree.keys()"
   ]
  },
  {
   "cell_type": "code",
   "execution_count": 54,
   "metadata": {},
   "outputs": [
    {
     "data": {
      "text/html": [
       "<div>\n",
       "<style scoped>\n",
       "    .dataframe tbody tr th:only-of-type {\n",
       "        vertical-align: middle;\n",
       "    }\n",
       "\n",
       "    .dataframe tbody tr th {\n",
       "        vertical-align: top;\n",
       "    }\n",
       "\n",
       "    .dataframe thead th {\n",
       "        text-align: right;\n",
       "    }\n",
       "</style>\n",
       "<table border=\"1\" class=\"dataframe\">\n",
       "  <thead>\n",
       "    <tr style=\"text-align: right;\">\n",
       "      <th></th>\n",
       "      <th>Id</th>\n",
       "      <th>Dam</th>\n",
       "      <th>Sire</th>\n",
       "      <th>Generation</th>\n",
       "    </tr>\n",
       "  </thead>\n",
       "  <tbody>\n",
       "    <tr>\n",
       "      <th>0</th>\n",
       "      <td>G2_431872</td>\n",
       "      <td>G1_973614</td>\n",
       "      <td>G1_801698</td>\n",
       "      <td>NaN</td>\n",
       "    </tr>\n",
       "    <tr>\n",
       "      <th>1</th>\n",
       "      <td>G2_432072</td>\n",
       "      <td>G1_973614</td>\n",
       "      <td>G1_801698</td>\n",
       "      <td>NaN</td>\n",
       "    </tr>\n",
       "    <tr>\n",
       "      <th>2</th>\n",
       "      <td>G2_425484</td>\n",
       "      <td>G1_973614</td>\n",
       "      <td>G1_801698</td>\n",
       "      <td>NaN</td>\n",
       "    </tr>\n",
       "    <tr>\n",
       "      <th>3</th>\n",
       "      <td>G2_426165</td>\n",
       "      <td>G1_973614</td>\n",
       "      <td>G1_801698</td>\n",
       "      <td>NaN</td>\n",
       "    </tr>\n",
       "    <tr>\n",
       "      <th>4</th>\n",
       "      <td>G2_431334</td>\n",
       "      <td>G1_973614</td>\n",
       "      <td>G1_801698</td>\n",
       "      <td>NaN</td>\n",
       "    </tr>\n",
       "  </tbody>\n",
       "</table>\n",
       "</div>"
      ],
      "text/plain": [
       "          Id        Dam       Sire  Generation\n",
       "0  G2_431872  G1_973614  G1_801698         NaN\n",
       "1  G2_432072  G1_973614  G1_801698         NaN\n",
       "2  G2_425484  G1_973614  G1_801698         NaN\n",
       "3  G2_426165  G1_973614  G1_801698         NaN\n",
       "4  G2_431334  G1_973614  G1_801698         NaN"
      ]
     },
     "execution_count": 54,
     "metadata": {},
     "output_type": "execute_result"
    }
   ],
   "source": [
    "pedigree_new = pd.DataFrame(pedigree, columns=['Id','Dam','Sire', 'Generation'])\n",
    "pedigree_new.head()"
   ]
  },
  {
   "cell_type": "code",
   "execution_count": 55,
   "metadata": {},
   "outputs": [
    {
     "data": {
      "text/html": [
       "<div>\n",
       "<style scoped>\n",
       "    .dataframe tbody tr th:only-of-type {\n",
       "        vertical-align: middle;\n",
       "    }\n",
       "\n",
       "    .dataframe tbody tr th {\n",
       "        vertical-align: top;\n",
       "    }\n",
       "\n",
       "    .dataframe thead th {\n",
       "        text-align: right;\n",
       "    }\n",
       "</style>\n",
       "<table border=\"1\" class=\"dataframe\">\n",
       "  <thead>\n",
       "    <tr style=\"text-align: right;\">\n",
       "      <th></th>\n",
       "      <th>Id new</th>\n",
       "      <th>Dam new</th>\n",
       "      <th>Sire new</th>\n",
       "    </tr>\n",
       "  </thead>\n",
       "  <tbody>\n",
       "    <tr>\n",
       "      <th>0</th>\n",
       "      <td>G2_431872</td>\n",
       "      <td>G1_801698</td>\n",
       "      <td>G1_973614</td>\n",
       "    </tr>\n",
       "    <tr>\n",
       "      <th>1</th>\n",
       "      <td>G2_432072</td>\n",
       "      <td>G1_801698</td>\n",
       "      <td>G1_973614</td>\n",
       "    </tr>\n",
       "    <tr>\n",
       "      <th>2</th>\n",
       "      <td>G2_425484</td>\n",
       "      <td>G1_801698</td>\n",
       "      <td>G1_973614</td>\n",
       "    </tr>\n",
       "    <tr>\n",
       "      <th>3</th>\n",
       "      <td>G2_426165</td>\n",
       "      <td>G1_801698</td>\n",
       "      <td>G1_973614</td>\n",
       "    </tr>\n",
       "    <tr>\n",
       "      <th>4</th>\n",
       "      <td>G2_431334</td>\n",
       "      <td>G1_801698</td>\n",
       "      <td>G1_973614</td>\n",
       "    </tr>\n",
       "  </tbody>\n",
       "</table>\n",
       "</div>"
      ],
      "text/plain": [
       "      Id new    Dam new   Sire new\n",
       "0  G2_431872  G1_801698  G1_973614\n",
       "1  G2_432072  G1_801698  G1_973614\n",
       "2  G2_425484  G1_801698  G1_973614\n",
       "3  G2_426165  G1_801698  G1_973614\n",
       "4  G2_431334  G1_801698  G1_973614"
      ]
     },
     "execution_count": 55,
     "metadata": {},
     "output_type": "execute_result"
    }
   ],
   "source": [
    "pedigree.columns = ['Id new','Dam new', 'Sire new']\n",
    "pedigree.head()"
   ]
  },
  {
   "cell_type": "code",
   "execution_count": 56,
   "metadata": {},
   "outputs": [
    {
     "data": {
      "text/html": [
       "<div>\n",
       "<style scoped>\n",
       "    .dataframe tbody tr th:only-of-type {\n",
       "        vertical-align: middle;\n",
       "    }\n",
       "\n",
       "    .dataframe tbody tr th {\n",
       "        vertical-align: top;\n",
       "    }\n",
       "\n",
       "    .dataframe thead th {\n",
       "        text-align: right;\n",
       "    }\n",
       "</style>\n",
       "<table border=\"1\" class=\"dataframe\">\n",
       "  <thead>\n",
       "    <tr style=\"text-align: right;\">\n",
       "      <th></th>\n",
       "      <th>Id</th>\n",
       "      <th>Dam</th>\n",
       "      <th>Sire</th>\n",
       "    </tr>\n",
       "  </thead>\n",
       "  <tbody>\n",
       "    <tr>\n",
       "      <th>0</th>\n",
       "      <td>G2_431872</td>\n",
       "      <td>G1_801698</td>\n",
       "      <td>G1_973614</td>\n",
       "    </tr>\n",
       "    <tr>\n",
       "      <th>1</th>\n",
       "      <td>G2_432072</td>\n",
       "      <td>G1_801698</td>\n",
       "      <td>G1_973614</td>\n",
       "    </tr>\n",
       "    <tr>\n",
       "      <th>2</th>\n",
       "      <td>G2_425484</td>\n",
       "      <td>G1_801698</td>\n",
       "      <td>G1_973614</td>\n",
       "    </tr>\n",
       "    <tr>\n",
       "      <th>3</th>\n",
       "      <td>G2_426165</td>\n",
       "      <td>G1_801698</td>\n",
       "      <td>G1_973614</td>\n",
       "    </tr>\n",
       "    <tr>\n",
       "      <th>4</th>\n",
       "      <td>G2_431334</td>\n",
       "      <td>G1_801698</td>\n",
       "      <td>G1_973614</td>\n",
       "    </tr>\n",
       "  </tbody>\n",
       "</table>\n",
       "</div>"
      ],
      "text/plain": [
       "          Id        Dam       Sire\n",
       "0  G2_431872  G1_801698  G1_973614\n",
       "1  G2_432072  G1_801698  G1_973614\n",
       "2  G2_425484  G1_801698  G1_973614\n",
       "3  G2_426165  G1_801698  G1_973614\n",
       "4  G2_431334  G1_801698  G1_973614"
      ]
     },
     "execution_count": 56,
     "metadata": {},
     "output_type": "execute_result"
    }
   ],
   "source": [
    "pedigree.columns = ['Id','Dam', 'Sire']\n",
    "pedigree.head()"
   ]
  },
  {
   "cell_type": "markdown",
   "metadata": {},
   "source": [
    "We can easily change the orientation if needed"
   ]
  },
  {
   "cell_type": "code",
   "execution_count": 57,
   "metadata": {},
   "outputs": [
    {
     "data": {
      "text/html": [
       "<div>\n",
       "<style scoped>\n",
       "    .dataframe tbody tr th:only-of-type {\n",
       "        vertical-align: middle;\n",
       "    }\n",
       "\n",
       "    .dataframe tbody tr th {\n",
       "        vertical-align: top;\n",
       "    }\n",
       "\n",
       "    .dataframe thead th {\n",
       "        text-align: right;\n",
       "    }\n",
       "</style>\n",
       "<table border=\"1\" class=\"dataframe\">\n",
       "  <thead>\n",
       "    <tr style=\"text-align: right;\">\n",
       "      <th></th>\n",
       "      <th>0</th>\n",
       "      <th>1</th>\n",
       "      <th>2</th>\n",
       "      <th>3</th>\n",
       "      <th>4</th>\n",
       "      <th>5</th>\n",
       "      <th>6</th>\n",
       "      <th>7</th>\n",
       "      <th>8</th>\n",
       "      <th>9</th>\n",
       "      <th>...</th>\n",
       "      <th>3979</th>\n",
       "      <th>3980</th>\n",
       "      <th>3981</th>\n",
       "      <th>3982</th>\n",
       "      <th>3983</th>\n",
       "      <th>3984</th>\n",
       "      <th>3985</th>\n",
       "      <th>3986</th>\n",
       "      <th>3987</th>\n",
       "      <th>3988</th>\n",
       "    </tr>\n",
       "  </thead>\n",
       "  <tbody>\n",
       "    <tr>\n",
       "      <th>Id</th>\n",
       "      <td>G2_431872</td>\n",
       "      <td>G2_432072</td>\n",
       "      <td>G2_425484</td>\n",
       "      <td>G2_426165</td>\n",
       "      <td>G2_431334</td>\n",
       "      <td>G2_425367</td>\n",
       "      <td>G2_425503</td>\n",
       "      <td>G2_430925</td>\n",
       "      <td>G2_431214</td>\n",
       "      <td>G2_425304</td>\n",
       "      <td>...</td>\n",
       "      <td>G2_425292</td>\n",
       "      <td>G2_431916</td>\n",
       "      <td>G2_430532</td>\n",
       "      <td>G2_431430</td>\n",
       "      <td>G2_431769</td>\n",
       "      <td>G2_424756</td>\n",
       "      <td>G2_425353</td>\n",
       "      <td>G2_424311</td>\n",
       "      <td>G2_425083</td>\n",
       "      <td>G2_430894</td>\n",
       "    </tr>\n",
       "    <tr>\n",
       "      <th>Dam</th>\n",
       "      <td>G1_801698</td>\n",
       "      <td>G1_801698</td>\n",
       "      <td>G1_801698</td>\n",
       "      <td>G1_801698</td>\n",
       "      <td>G1_801698</td>\n",
       "      <td>G1_801698</td>\n",
       "      <td>G1_801698</td>\n",
       "      <td>G1_801698</td>\n",
       "      <td>G1_801698</td>\n",
       "      <td>G1_801698</td>\n",
       "      <td>...</td>\n",
       "      <td>G1_822989</td>\n",
       "      <td>G1_822989</td>\n",
       "      <td>G1_822989</td>\n",
       "      <td>G1_822989</td>\n",
       "      <td>G1_822989</td>\n",
       "      <td>G1_822989</td>\n",
       "      <td>G1_822989</td>\n",
       "      <td>G1_822989</td>\n",
       "      <td>G1_822989</td>\n",
       "      <td>G1_822989</td>\n",
       "    </tr>\n",
       "    <tr>\n",
       "      <th>Sire</th>\n",
       "      <td>G1_973614</td>\n",
       "      <td>G1_973614</td>\n",
       "      <td>G1_973614</td>\n",
       "      <td>G1_973614</td>\n",
       "      <td>G1_973614</td>\n",
       "      <td>G1_973614</td>\n",
       "      <td>G1_973614</td>\n",
       "      <td>G1_973614</td>\n",
       "      <td>G1_973614</td>\n",
       "      <td>G1_973614</td>\n",
       "      <td>...</td>\n",
       "      <td>G1_965030</td>\n",
       "      <td>G1_965030</td>\n",
       "      <td>G1_965030</td>\n",
       "      <td>G1_965030</td>\n",
       "      <td>G1_965030</td>\n",
       "      <td>G1_965030</td>\n",
       "      <td>G1_965030</td>\n",
       "      <td>G1_965030</td>\n",
       "      <td>G1_965030</td>\n",
       "      <td>G1_965030</td>\n",
       "    </tr>\n",
       "  </tbody>\n",
       "</table>\n",
       "<p>3 rows × 3989 columns</p>\n",
       "</div>"
      ],
      "text/plain": [
       "           0          1          2          3          4          5     \\\n",
       "Id    G2_431872  G2_432072  G2_425484  G2_426165  G2_431334  G2_425367   \n",
       "Dam   G1_801698  G1_801698  G1_801698  G1_801698  G1_801698  G1_801698   \n",
       "Sire  G1_973614  G1_973614  G1_973614  G1_973614  G1_973614  G1_973614   \n",
       "\n",
       "           6          7          8          9     ...       3979       3980  \\\n",
       "Id    G2_425503  G2_430925  G2_431214  G2_425304  ...  G2_425292  G2_431916   \n",
       "Dam   G1_801698  G1_801698  G1_801698  G1_801698  ...  G1_822989  G1_822989   \n",
       "Sire  G1_973614  G1_973614  G1_973614  G1_973614  ...  G1_965030  G1_965030   \n",
       "\n",
       "           3981       3982       3983       3984       3985       3986  \\\n",
       "Id    G2_430532  G2_431430  G2_431769  G2_424756  G2_425353  G2_424311   \n",
       "Dam   G1_822989  G1_822989  G1_822989  G1_822989  G1_822989  G1_822989   \n",
       "Sire  G1_965030  G1_965030  G1_965030  G1_965030  G1_965030  G1_965030   \n",
       "\n",
       "           3987       3988  \n",
       "Id    G2_425083  G2_430894  \n",
       "Dam   G1_822989  G1_822989  \n",
       "Sire  G1_965030  G1_965030  \n",
       "\n",
       "[3 rows x 3989 columns]"
      ]
     },
     "execution_count": 57,
     "metadata": {},
     "output_type": "execute_result"
    }
   ],
   "source": [
    "pedigree.T"
   ]
  },
  {
   "cell_type": "code",
   "execution_count": 74,
   "metadata": {},
   "outputs": [],
   "source": [
    "pedigree_T = pedigree.T"
   ]
  },
  {
   "cell_type": "code",
   "execution_count": 75,
   "metadata": {},
   "outputs": [
    {
     "data": {
      "text/html": [
       "<div>\n",
       "<style scoped>\n",
       "    .dataframe tbody tr th:only-of-type {\n",
       "        vertical-align: middle;\n",
       "    }\n",
       "\n",
       "    .dataframe tbody tr th {\n",
       "        vertical-align: top;\n",
       "    }\n",
       "\n",
       "    .dataframe thead th {\n",
       "        text-align: right;\n",
       "    }\n",
       "</style>\n",
       "<table border=\"1\" class=\"dataframe\">\n",
       "  <thead>\n",
       "    <tr style=\"text-align: right;\">\n",
       "      <th></th>\n",
       "      <th>0</th>\n",
       "      <th>1</th>\n",
       "      <th>2</th>\n",
       "      <th>3</th>\n",
       "      <th>4</th>\n",
       "      <th>5</th>\n",
       "      <th>6</th>\n",
       "      <th>7</th>\n",
       "      <th>8</th>\n",
       "      <th>9</th>\n",
       "      <th>...</th>\n",
       "      <th>3979</th>\n",
       "      <th>3980</th>\n",
       "      <th>3981</th>\n",
       "      <th>3982</th>\n",
       "      <th>3983</th>\n",
       "      <th>3984</th>\n",
       "      <th>3985</th>\n",
       "      <th>3986</th>\n",
       "      <th>3987</th>\n",
       "      <th>3988</th>\n",
       "    </tr>\n",
       "  </thead>\n",
       "  <tbody>\n",
       "    <tr>\n",
       "      <th>Id</th>\n",
       "      <td>G2_431872</td>\n",
       "      <td>G2_432072</td>\n",
       "      <td>G2_425484</td>\n",
       "      <td>G2_426165</td>\n",
       "      <td>G2_431334</td>\n",
       "      <td>G2_425367</td>\n",
       "      <td>G2_425503</td>\n",
       "      <td>G2_430925</td>\n",
       "      <td>G2_431214</td>\n",
       "      <td>G2_425304</td>\n",
       "      <td>...</td>\n",
       "      <td>G2_425292</td>\n",
       "      <td>G2_431916</td>\n",
       "      <td>G2_430532</td>\n",
       "      <td>G2_431430</td>\n",
       "      <td>G2_431769</td>\n",
       "      <td>G2_424756</td>\n",
       "      <td>G2_425353</td>\n",
       "      <td>G2_424311</td>\n",
       "      <td>G2_425083</td>\n",
       "      <td>G2_430894</td>\n",
       "    </tr>\n",
       "    <tr>\n",
       "      <th>Dam</th>\n",
       "      <td>G1_801698</td>\n",
       "      <td>G1_801698</td>\n",
       "      <td>G1_801698</td>\n",
       "      <td>G1_801698</td>\n",
       "      <td>G1_801698</td>\n",
       "      <td>G1_801698</td>\n",
       "      <td>G1_801698</td>\n",
       "      <td>G1_801698</td>\n",
       "      <td>G1_801698</td>\n",
       "      <td>G1_801698</td>\n",
       "      <td>...</td>\n",
       "      <td>G1_822989</td>\n",
       "      <td>G1_822989</td>\n",
       "      <td>G1_822989</td>\n",
       "      <td>G1_822989</td>\n",
       "      <td>G1_822989</td>\n",
       "      <td>G1_822989</td>\n",
       "      <td>G1_822989</td>\n",
       "      <td>G1_822989</td>\n",
       "      <td>G1_822989</td>\n",
       "      <td>G1_822989</td>\n",
       "    </tr>\n",
       "    <tr>\n",
       "      <th>Sire</th>\n",
       "      <td>G1_973614</td>\n",
       "      <td>G1_973614</td>\n",
       "      <td>G1_973614</td>\n",
       "      <td>G1_973614</td>\n",
       "      <td>G1_973614</td>\n",
       "      <td>G1_973614</td>\n",
       "      <td>G1_973614</td>\n",
       "      <td>G1_973614</td>\n",
       "      <td>G1_973614</td>\n",
       "      <td>G1_973614</td>\n",
       "      <td>...</td>\n",
       "      <td>G1_965030</td>\n",
       "      <td>G1_965030</td>\n",
       "      <td>G1_965030</td>\n",
       "      <td>G1_965030</td>\n",
       "      <td>G1_965030</td>\n",
       "      <td>G1_965030</td>\n",
       "      <td>G1_965030</td>\n",
       "      <td>G1_965030</td>\n",
       "      <td>G1_965030</td>\n",
       "      <td>G1_965030</td>\n",
       "    </tr>\n",
       "  </tbody>\n",
       "</table>\n",
       "<p>3 rows × 3989 columns</p>\n",
       "</div>"
      ],
      "text/plain": [
       "           0          1          2          3          4          5     \\\n",
       "Id    G2_431872  G2_432072  G2_425484  G2_426165  G2_431334  G2_425367   \n",
       "Dam   G1_801698  G1_801698  G1_801698  G1_801698  G1_801698  G1_801698   \n",
       "Sire  G1_973614  G1_973614  G1_973614  G1_973614  G1_973614  G1_973614   \n",
       "\n",
       "           6          7          8          9     ...       3979       3980  \\\n",
       "Id    G2_425503  G2_430925  G2_431214  G2_425304  ...  G2_425292  G2_431916   \n",
       "Dam   G1_801698  G1_801698  G1_801698  G1_801698  ...  G1_822989  G1_822989   \n",
       "Sire  G1_973614  G1_973614  G1_973614  G1_973614  ...  G1_965030  G1_965030   \n",
       "\n",
       "           3981       3982       3983       3984       3985       3986  \\\n",
       "Id    G2_430532  G2_431430  G2_431769  G2_424756  G2_425353  G2_424311   \n",
       "Dam   G1_822989  G1_822989  G1_822989  G1_822989  G1_822989  G1_822989   \n",
       "Sire  G1_965030  G1_965030  G1_965030  G1_965030  G1_965030  G1_965030   \n",
       "\n",
       "           3987       3988  \n",
       "Id    G2_425083  G2_430894  \n",
       "Dam   G1_822989  G1_822989  \n",
       "Sire  G1_965030  G1_965030  \n",
       "\n",
       "[3 rows x 3989 columns]"
      ]
     },
     "execution_count": 75,
     "metadata": {},
     "output_type": "execute_result"
    }
   ],
   "source": [
    "pedigree_T"
   ]
  },
  {
   "cell_type": "code",
   "execution_count": 58,
   "metadata": {},
   "outputs": [
    {
     "data": {
      "text/plain": [
       "(3989, 3)"
      ]
     },
     "execution_count": 58,
     "metadata": {},
     "output_type": "execute_result"
    }
   ],
   "source": [
    "pedigree.shape"
   ]
  },
  {
   "cell_type": "code",
   "execution_count": 59,
   "metadata": {},
   "outputs": [
    {
     "data": {
      "text/plain": [
       "11967"
      ]
     },
     "execution_count": 59,
     "metadata": {},
     "output_type": "execute_result"
    }
   ],
   "source": [
    "pedigree.size"
   ]
  },
  {
   "cell_type": "code",
   "execution_count": 60,
   "metadata": {},
   "outputs": [
    {
     "name": "stdout",
     "output_type": "stream",
     "text": [
      "<class 'pandas.core.frame.DataFrame'>\n",
      "RangeIndex: 3989 entries, 0 to 3988\n",
      "Data columns (total 3 columns):\n",
      " #   Column  Non-Null Count  Dtype \n",
      "---  ------  --------------  ----- \n",
      " 0   Id      3989 non-null   object\n",
      " 1   Dam     3989 non-null   object\n",
      " 2   Sire    3989 non-null   object\n",
      "dtypes: object(3)\n",
      "memory usage: 93.6+ KB\n"
     ]
    }
   ],
   "source": [
    "pedigree.info()"
   ]
  },
  {
   "cell_type": "code",
   "execution_count": 61,
   "metadata": {},
   "outputs": [
    {
     "data": {
      "text/plain": [
       "Id      object\n",
       "Dam     object\n",
       "Sire    object\n",
       "dtype: object"
      ]
     },
     "execution_count": 61,
     "metadata": {},
     "output_type": "execute_result"
    }
   ],
   "source": [
    "pedigree.dtypes"
   ]
  },
  {
   "cell_type": "markdown",
   "metadata": {},
   "source": [
    "### Change the type of columns"
   ]
  },
  {
   "cell_type": "code",
   "execution_count": 62,
   "metadata": {},
   "outputs": [
    {
     "data": {
      "text/plain": [
       "Index      128\n",
       "Id       31912\n",
       "Dam      31912\n",
       "Sire     31912\n",
       "dtype: int64"
      ]
     },
     "execution_count": 62,
     "metadata": {},
     "output_type": "execute_result"
    }
   ],
   "source": [
    "pedigree.memory_usage()"
   ]
  },
  {
   "cell_type": "markdown",
   "metadata": {},
   "source": [
    "The `Dam` and `Sire` columns could be represented more efficiently as categorical data "
   ]
  },
  {
   "cell_type": "code",
   "execution_count": 63,
   "metadata": {},
   "outputs": [],
   "source": [
    "pedigree[\"Dam\"] = pedigree[\"Dam\"].astype(\"category\")"
   ]
  },
  {
   "cell_type": "code",
   "execution_count": 64,
   "metadata": {},
   "outputs": [
    {
     "data": {
      "text/plain": [
       "Index      128\n",
       "Id       31912\n",
       "Dam       6493\n",
       "Sire     31912\n",
       "dtype: int64"
      ]
     },
     "execution_count": 64,
     "metadata": {},
     "output_type": "execute_result"
    }
   ],
   "source": [
    "pedigree.memory_usage()"
   ]
  },
  {
   "cell_type": "markdown",
   "metadata": {},
   "source": [
    "## In the following we will see how we can easily access parts of our data"
   ]
  },
  {
   "cell_type": "markdown",
   "metadata": {},
   "source": [
    "You can access a column the same way you would access a value from a dictionary"
   ]
  },
  {
   "cell_type": "code",
   "execution_count": 43,
   "metadata": {},
   "outputs": [
    {
     "data": {
      "text/plain": [
       "0       G2_431872\n",
       "1       G2_432072\n",
       "2       G2_425484\n",
       "3       G2_426165\n",
       "4       G2_431334\n",
       "          ...    \n",
       "3984    G2_424756\n",
       "3985    G2_425353\n",
       "3986    G2_424311\n",
       "3987    G2_425083\n",
       "3988    G2_430894\n",
       "Name: Id, Length: 3989, dtype: object"
      ]
     },
     "execution_count": 43,
     "metadata": {},
     "output_type": "execute_result"
    }
   ],
   "source": [
    "pedigree[\"Id\"]"
   ]
  },
  {
   "cell_type": "markdown",
   "metadata": {},
   "source": [
    "You could also do the same as in the case where you access an attribute of an object"
   ]
  },
  {
   "cell_type": "code",
   "execution_count": 44,
   "metadata": {},
   "outputs": [
    {
     "data": {
      "text/plain": [
       "0       G2_431872\n",
       "1       G2_432072\n",
       "2       G2_425484\n",
       "3       G2_426165\n",
       "4       G2_431334\n",
       "          ...    \n",
       "3984    G2_424756\n",
       "3985    G2_425353\n",
       "3986    G2_424311\n",
       "3987    G2_425083\n",
       "3988    G2_430894\n",
       "Name: Id, Length: 3989, dtype: object"
      ]
     },
     "execution_count": 44,
     "metadata": {},
     "output_type": "execute_result"
    }
   ],
   "source": [
    "pedigree.Id"
   ]
  },
  {
   "cell_type": "markdown",
   "metadata": {},
   "source": [
    "Let's try to access individual values"
   ]
  },
  {
   "cell_type": "code",
   "execution_count": 65,
   "metadata": {},
   "outputs": [
    {
     "name": "stdout",
     "output_type": "stream",
     "text": [
      "G2_431872\n",
      "G2_432072\n"
     ]
    }
   ],
   "source": [
    "Id = pedigree['Id']\n",
    "print(Id[0])\n",
    "print(Id[1])"
   ]
  },
  {
   "cell_type": "markdown",
   "metadata": {},
   "source": [
    "Better though to use `loc` or `iloc`. The former uses corresponding index name(s) to access a row(s), while the latter uses numbers."
   ]
  },
  {
   "cell_type": "code",
   "execution_count": 66,
   "metadata": {},
   "outputs": [
    {
     "data": {
      "text/plain": [
       "Id      G2_431872\n",
       "Dam     G1_801698\n",
       "Sire    G1_973614\n",
       "Name: 0, dtype: object"
      ]
     },
     "execution_count": 66,
     "metadata": {},
     "output_type": "execute_result"
    }
   ],
   "source": [
    "pedigree.loc[0]"
   ]
  },
  {
   "cell_type": "code",
   "execution_count": 67,
   "metadata": {},
   "outputs": [
    {
     "data": {
      "text/plain": [
       "Id      G2_431872\n",
       "Dam     G1_801698\n",
       "Sire    G1_973614\n",
       "Name: 0, dtype: object"
      ]
     },
     "execution_count": 67,
     "metadata": {},
     "output_type": "execute_result"
    }
   ],
   "source": [
    "pedigree.iloc[0]"
   ]
  },
  {
   "cell_type": "markdown",
   "metadata": {},
   "source": [
    "Let's see another example where characters are used to create an index"
   ]
  },
  {
   "cell_type": "code",
   "execution_count": 68,
   "metadata": {},
   "outputs": [
    {
     "data": {
      "text/html": [
       "<div>\n",
       "<style scoped>\n",
       "    .dataframe tbody tr th:only-of-type {\n",
       "        vertical-align: middle;\n",
       "    }\n",
       "\n",
       "    .dataframe tbody tr th {\n",
       "        vertical-align: top;\n",
       "    }\n",
       "\n",
       "    .dataframe thead th {\n",
       "        text-align: right;\n",
       "    }\n",
       "</style>\n",
       "<table border=\"1\" class=\"dataframe\">\n",
       "  <thead>\n",
       "    <tr style=\"text-align: right;\">\n",
       "      <th></th>\n",
       "      <th>Id</th>\n",
       "      <th>Dam</th>\n",
       "      <th>Sire</th>\n",
       "    </tr>\n",
       "  </thead>\n",
       "  <tbody>\n",
       "    <tr>\n",
       "      <th>animal_0</th>\n",
       "      <td>G2_431872</td>\n",
       "      <td>G1_801698</td>\n",
       "      <td>G1_973614</td>\n",
       "    </tr>\n",
       "    <tr>\n",
       "      <th>animal_1</th>\n",
       "      <td>G2_432072</td>\n",
       "      <td>G1_801698</td>\n",
       "      <td>G1_973614</td>\n",
       "    </tr>\n",
       "    <tr>\n",
       "      <th>animal_2</th>\n",
       "      <td>G2_425484</td>\n",
       "      <td>G1_801698</td>\n",
       "      <td>G1_973614</td>\n",
       "    </tr>\n",
       "    <tr>\n",
       "      <th>animal_3</th>\n",
       "      <td>G2_426165</td>\n",
       "      <td>G1_801698</td>\n",
       "      <td>G1_973614</td>\n",
       "    </tr>\n",
       "    <tr>\n",
       "      <th>animal_4</th>\n",
       "      <td>G2_431334</td>\n",
       "      <td>G1_801698</td>\n",
       "      <td>G1_973614</td>\n",
       "    </tr>\n",
       "    <tr>\n",
       "      <th>animal_5</th>\n",
       "      <td>G2_425367</td>\n",
       "      <td>G1_801698</td>\n",
       "      <td>G1_973614</td>\n",
       "    </tr>\n",
       "    <tr>\n",
       "      <th>animal_6</th>\n",
       "      <td>G2_425503</td>\n",
       "      <td>G1_801698</td>\n",
       "      <td>G1_973614</td>\n",
       "    </tr>\n",
       "    <tr>\n",
       "      <th>animal_7</th>\n",
       "      <td>G2_430925</td>\n",
       "      <td>G1_801698</td>\n",
       "      <td>G1_973614</td>\n",
       "    </tr>\n",
       "    <tr>\n",
       "      <th>animal_8</th>\n",
       "      <td>G2_431214</td>\n",
       "      <td>G1_801698</td>\n",
       "      <td>G1_973614</td>\n",
       "    </tr>\n",
       "    <tr>\n",
       "      <th>animal_9</th>\n",
       "      <td>G2_425304</td>\n",
       "      <td>G1_801698</td>\n",
       "      <td>G1_973614</td>\n",
       "    </tr>\n",
       "    <tr>\n",
       "      <th>animal_10</th>\n",
       "      <td>G2_431658</td>\n",
       "      <td>G1_801698</td>\n",
       "      <td>G1_973614</td>\n",
       "    </tr>\n",
       "    <tr>\n",
       "      <th>animal_11</th>\n",
       "      <td>G2_426022</td>\n",
       "      <td>G1_801698</td>\n",
       "      <td>G1_973614</td>\n",
       "    </tr>\n",
       "    <tr>\n",
       "      <th>animal_12</th>\n",
       "      <td>G2_425556</td>\n",
       "      <td>G1_801698</td>\n",
       "      <td>G1_973614</td>\n",
       "    </tr>\n",
       "    <tr>\n",
       "      <th>animal_13</th>\n",
       "      <td>G2_425064</td>\n",
       "      <td>G1_801698</td>\n",
       "      <td>G1_973614</td>\n",
       "    </tr>\n",
       "    <tr>\n",
       "      <th>animal_14</th>\n",
       "      <td>G2_431112</td>\n",
       "      <td>G1_801698</td>\n",
       "      <td>G1_973614</td>\n",
       "    </tr>\n",
       "    <tr>\n",
       "      <th>animal_15</th>\n",
       "      <td>G2_425024</td>\n",
       "      <td>G1_801698</td>\n",
       "      <td>G1_973614</td>\n",
       "    </tr>\n",
       "    <tr>\n",
       "      <th>animal_16</th>\n",
       "      <td>G2_7800873</td>\n",
       "      <td>G1_801698</td>\n",
       "      <td>G1_973614</td>\n",
       "    </tr>\n",
       "    <tr>\n",
       "      <th>animal_17</th>\n",
       "      <td>G2_7801208</td>\n",
       "      <td>G1_801698</td>\n",
       "      <td>G1_973614</td>\n",
       "    </tr>\n",
       "    <tr>\n",
       "      <th>animal_18</th>\n",
       "      <td>G2_7091787</td>\n",
       "      <td>G1_801698</td>\n",
       "      <td>G1_973614</td>\n",
       "    </tr>\n",
       "    <tr>\n",
       "      <th>animal_19</th>\n",
       "      <td>G2_7091747</td>\n",
       "      <td>G1_801698</td>\n",
       "      <td>G1_973614</td>\n",
       "    </tr>\n",
       "  </tbody>\n",
       "</table>\n",
       "</div>"
      ],
      "text/plain": [
       "                   Id        Dam       Sire\n",
       "animal_0    G2_431872  G1_801698  G1_973614\n",
       "animal_1    G2_432072  G1_801698  G1_973614\n",
       "animal_2    G2_425484  G1_801698  G1_973614\n",
       "animal_3    G2_426165  G1_801698  G1_973614\n",
       "animal_4    G2_431334  G1_801698  G1_973614\n",
       "animal_5    G2_425367  G1_801698  G1_973614\n",
       "animal_6    G2_425503  G1_801698  G1_973614\n",
       "animal_7    G2_430925  G1_801698  G1_973614\n",
       "animal_8    G2_431214  G1_801698  G1_973614\n",
       "animal_9    G2_425304  G1_801698  G1_973614\n",
       "animal_10   G2_431658  G1_801698  G1_973614\n",
       "animal_11   G2_426022  G1_801698  G1_973614\n",
       "animal_12   G2_425556  G1_801698  G1_973614\n",
       "animal_13   G2_425064  G1_801698  G1_973614\n",
       "animal_14   G2_431112  G1_801698  G1_973614\n",
       "animal_15   G2_425024  G1_801698  G1_973614\n",
       "animal_16  G2_7800873  G1_801698  G1_973614\n",
       "animal_17  G2_7801208  G1_801698  G1_973614\n",
       "animal_18  G2_7091787  G1_801698  G1_973614\n",
       "animal_19  G2_7091747  G1_801698  G1_973614"
      ]
     },
     "execution_count": 68,
     "metadata": {},
     "output_type": "execute_result"
    }
   ],
   "source": [
    "pedigree_test = pedigree.head(20)\n",
    "pedigree_test.index = ['animal_' + str(i) for i in range(20)]\n",
    "pedigree_test"
   ]
  },
  {
   "cell_type": "code",
   "execution_count": 69,
   "metadata": {},
   "outputs": [
    {
     "data": {
      "text/plain": [
       "Id      G2_431872\n",
       "Dam     G1_801698\n",
       "Sire    G1_973614\n",
       "Name: animal_0, dtype: object"
      ]
     },
     "execution_count": 69,
     "metadata": {},
     "output_type": "execute_result"
    }
   ],
   "source": [
    "pedigree_test.loc['animal_0']"
   ]
  },
  {
   "cell_type": "code",
   "execution_count": 70,
   "metadata": {},
   "outputs": [
    {
     "data": {
      "text/html": [
       "<div>\n",
       "<style scoped>\n",
       "    .dataframe tbody tr th:only-of-type {\n",
       "        vertical-align: middle;\n",
       "    }\n",
       "\n",
       "    .dataframe tbody tr th {\n",
       "        vertical-align: top;\n",
       "    }\n",
       "\n",
       "    .dataframe thead th {\n",
       "        text-align: right;\n",
       "    }\n",
       "</style>\n",
       "<table border=\"1\" class=\"dataframe\">\n",
       "  <thead>\n",
       "    <tr style=\"text-align: right;\">\n",
       "      <th></th>\n",
       "      <th>Id</th>\n",
       "      <th>Dam</th>\n",
       "      <th>Sire</th>\n",
       "    </tr>\n",
       "  </thead>\n",
       "  <tbody>\n",
       "    <tr>\n",
       "      <th>animal_0</th>\n",
       "      <td>G2_431872</td>\n",
       "      <td>G1_801698</td>\n",
       "      <td>G1_973614</td>\n",
       "    </tr>\n",
       "    <tr>\n",
       "      <th>animal_1</th>\n",
       "      <td>G2_432072</td>\n",
       "      <td>G1_801698</td>\n",
       "      <td>G1_973614</td>\n",
       "    </tr>\n",
       "    <tr>\n",
       "      <th>animal_2</th>\n",
       "      <td>G2_425484</td>\n",
       "      <td>G1_801698</td>\n",
       "      <td>G1_973614</td>\n",
       "    </tr>\n",
       "    <tr>\n",
       "      <th>animal_3</th>\n",
       "      <td>G2_426165</td>\n",
       "      <td>G1_801698</td>\n",
       "      <td>G1_973614</td>\n",
       "    </tr>\n",
       "    <tr>\n",
       "      <th>animal_4</th>\n",
       "      <td>G2_431334</td>\n",
       "      <td>G1_801698</td>\n",
       "      <td>G1_973614</td>\n",
       "    </tr>\n",
       "    <tr>\n",
       "      <th>animal_5</th>\n",
       "      <td>G2_425367</td>\n",
       "      <td>G1_801698</td>\n",
       "      <td>G1_973614</td>\n",
       "    </tr>\n",
       "    <tr>\n",
       "      <th>animal_6</th>\n",
       "      <td>G2_425503</td>\n",
       "      <td>G1_801698</td>\n",
       "      <td>G1_973614</td>\n",
       "    </tr>\n",
       "    <tr>\n",
       "      <th>animal_7</th>\n",
       "      <td>G2_430925</td>\n",
       "      <td>G1_801698</td>\n",
       "      <td>G1_973614</td>\n",
       "    </tr>\n",
       "    <tr>\n",
       "      <th>animal_8</th>\n",
       "      <td>G2_431214</td>\n",
       "      <td>G1_801698</td>\n",
       "      <td>G1_973614</td>\n",
       "    </tr>\n",
       "    <tr>\n",
       "      <th>animal_9</th>\n",
       "      <td>G2_425304</td>\n",
       "      <td>G1_801698</td>\n",
       "      <td>G1_973614</td>\n",
       "    </tr>\n",
       "  </tbody>\n",
       "</table>\n",
       "</div>"
      ],
      "text/plain": [
       "                 Id        Dam       Sire\n",
       "animal_0  G2_431872  G1_801698  G1_973614\n",
       "animal_1  G2_432072  G1_801698  G1_973614\n",
       "animal_2  G2_425484  G1_801698  G1_973614\n",
       "animal_3  G2_426165  G1_801698  G1_973614\n",
       "animal_4  G2_431334  G1_801698  G1_973614\n",
       "animal_5  G2_425367  G1_801698  G1_973614\n",
       "animal_6  G2_425503  G1_801698  G1_973614\n",
       "animal_7  G2_430925  G1_801698  G1_973614\n",
       "animal_8  G2_431214  G1_801698  G1_973614\n",
       "animal_9  G2_425304  G1_801698  G1_973614"
      ]
     },
     "execution_count": 70,
     "metadata": {},
     "output_type": "execute_result"
    }
   ],
   "source": [
    "pedigree_test.loc['animal_0':'animal_9']"
   ]
  },
  {
   "cell_type": "code",
   "execution_count": 71,
   "metadata": {},
   "outputs": [
    {
     "data": {
      "text/html": [
       "<div>\n",
       "<style scoped>\n",
       "    .dataframe tbody tr th:only-of-type {\n",
       "        vertical-align: middle;\n",
       "    }\n",
       "\n",
       "    .dataframe tbody tr th {\n",
       "        vertical-align: top;\n",
       "    }\n",
       "\n",
       "    .dataframe thead th {\n",
       "        text-align: right;\n",
       "    }\n",
       "</style>\n",
       "<table border=\"1\" class=\"dataframe\">\n",
       "  <thead>\n",
       "    <tr style=\"text-align: right;\">\n",
       "      <th></th>\n",
       "      <th>Id</th>\n",
       "      <th>Dam</th>\n",
       "      <th>Sire</th>\n",
       "    </tr>\n",
       "  </thead>\n",
       "  <tbody>\n",
       "    <tr>\n",
       "      <th>animal_0</th>\n",
       "      <td>G2_431872</td>\n",
       "      <td>G1_801698</td>\n",
       "      <td>G1_973614</td>\n",
       "    </tr>\n",
       "    <tr>\n",
       "      <th>animal_1</th>\n",
       "      <td>G2_432072</td>\n",
       "      <td>G1_801698</td>\n",
       "      <td>G1_973614</td>\n",
       "    </tr>\n",
       "    <tr>\n",
       "      <th>animal_2</th>\n",
       "      <td>G2_425484</td>\n",
       "      <td>G1_801698</td>\n",
       "      <td>G1_973614</td>\n",
       "    </tr>\n",
       "    <tr>\n",
       "      <th>animal_3</th>\n",
       "      <td>G2_426165</td>\n",
       "      <td>G1_801698</td>\n",
       "      <td>G1_973614</td>\n",
       "    </tr>\n",
       "    <tr>\n",
       "      <th>animal_4</th>\n",
       "      <td>G2_431334</td>\n",
       "      <td>G1_801698</td>\n",
       "      <td>G1_973614</td>\n",
       "    </tr>\n",
       "    <tr>\n",
       "      <th>animal_5</th>\n",
       "      <td>G2_425367</td>\n",
       "      <td>G1_801698</td>\n",
       "      <td>G1_973614</td>\n",
       "    </tr>\n",
       "    <tr>\n",
       "      <th>animal_6</th>\n",
       "      <td>G2_425503</td>\n",
       "      <td>G1_801698</td>\n",
       "      <td>G1_973614</td>\n",
       "    </tr>\n",
       "    <tr>\n",
       "      <th>animal_7</th>\n",
       "      <td>G2_430925</td>\n",
       "      <td>G1_801698</td>\n",
       "      <td>G1_973614</td>\n",
       "    </tr>\n",
       "    <tr>\n",
       "      <th>animal_8</th>\n",
       "      <td>G2_431214</td>\n",
       "      <td>G1_801698</td>\n",
       "      <td>G1_973614</td>\n",
       "    </tr>\n",
       "  </tbody>\n",
       "</table>\n",
       "</div>"
      ],
      "text/plain": [
       "                 Id        Dam       Sire\n",
       "animal_0  G2_431872  G1_801698  G1_973614\n",
       "animal_1  G2_432072  G1_801698  G1_973614\n",
       "animal_2  G2_425484  G1_801698  G1_973614\n",
       "animal_3  G2_426165  G1_801698  G1_973614\n",
       "animal_4  G2_431334  G1_801698  G1_973614\n",
       "animal_5  G2_425367  G1_801698  G1_973614\n",
       "animal_6  G2_425503  G1_801698  G1_973614\n",
       "animal_7  G2_430925  G1_801698  G1_973614\n",
       "animal_8  G2_431214  G1_801698  G1_973614"
      ]
     },
     "execution_count": 71,
     "metadata": {},
     "output_type": "execute_result"
    }
   ],
   "source": [
    "pedigree_test.iloc[0:9]"
   ]
  },
  {
   "cell_type": "markdown",
   "metadata": {},
   "source": [
    "We can use also negative values with `iloc`"
   ]
  },
  {
   "cell_type": "code",
   "execution_count": 72,
   "metadata": {},
   "outputs": [
    {
     "data": {
      "text/html": [
       "<div>\n",
       "<style scoped>\n",
       "    .dataframe tbody tr th:only-of-type {\n",
       "        vertical-align: middle;\n",
       "    }\n",
       "\n",
       "    .dataframe tbody tr th {\n",
       "        vertical-align: top;\n",
       "    }\n",
       "\n",
       "    .dataframe thead th {\n",
       "        text-align: right;\n",
       "    }\n",
       "</style>\n",
       "<table border=\"1\" class=\"dataframe\">\n",
       "  <thead>\n",
       "    <tr style=\"text-align: right;\">\n",
       "      <th></th>\n",
       "      <th>Id</th>\n",
       "      <th>Dam</th>\n",
       "      <th>Sire</th>\n",
       "    </tr>\n",
       "  </thead>\n",
       "  <tbody>\n",
       "    <tr>\n",
       "      <th>3979</th>\n",
       "      <td>G2_425292</td>\n",
       "      <td>G1_822989</td>\n",
       "      <td>G1_965030</td>\n",
       "    </tr>\n",
       "    <tr>\n",
       "      <th>3980</th>\n",
       "      <td>G2_431916</td>\n",
       "      <td>G1_822989</td>\n",
       "      <td>G1_965030</td>\n",
       "    </tr>\n",
       "    <tr>\n",
       "      <th>3981</th>\n",
       "      <td>G2_430532</td>\n",
       "      <td>G1_822989</td>\n",
       "      <td>G1_965030</td>\n",
       "    </tr>\n",
       "    <tr>\n",
       "      <th>3982</th>\n",
       "      <td>G2_431430</td>\n",
       "      <td>G1_822989</td>\n",
       "      <td>G1_965030</td>\n",
       "    </tr>\n",
       "    <tr>\n",
       "      <th>3983</th>\n",
       "      <td>G2_431769</td>\n",
       "      <td>G1_822989</td>\n",
       "      <td>G1_965030</td>\n",
       "    </tr>\n",
       "    <tr>\n",
       "      <th>3984</th>\n",
       "      <td>G2_424756</td>\n",
       "      <td>G1_822989</td>\n",
       "      <td>G1_965030</td>\n",
       "    </tr>\n",
       "    <tr>\n",
       "      <th>3985</th>\n",
       "      <td>G2_425353</td>\n",
       "      <td>G1_822989</td>\n",
       "      <td>G1_965030</td>\n",
       "    </tr>\n",
       "    <tr>\n",
       "      <th>3986</th>\n",
       "      <td>G2_424311</td>\n",
       "      <td>G1_822989</td>\n",
       "      <td>G1_965030</td>\n",
       "    </tr>\n",
       "    <tr>\n",
       "      <th>3987</th>\n",
       "      <td>G2_425083</td>\n",
       "      <td>G1_822989</td>\n",
       "      <td>G1_965030</td>\n",
       "    </tr>\n",
       "    <tr>\n",
       "      <th>3988</th>\n",
       "      <td>G2_430894</td>\n",
       "      <td>G1_822989</td>\n",
       "      <td>G1_965030</td>\n",
       "    </tr>\n",
       "  </tbody>\n",
       "</table>\n",
       "</div>"
      ],
      "text/plain": [
       "             Id        Dam       Sire\n",
       "3979  G2_425292  G1_822989  G1_965030\n",
       "3980  G2_431916  G1_822989  G1_965030\n",
       "3981  G2_430532  G1_822989  G1_965030\n",
       "3982  G2_431430  G1_822989  G1_965030\n",
       "3983  G2_431769  G1_822989  G1_965030\n",
       "3984  G2_424756  G1_822989  G1_965030\n",
       "3985  G2_425353  G1_822989  G1_965030\n",
       "3986  G2_424311  G1_822989  G1_965030\n",
       "3987  G2_425083  G1_822989  G1_965030\n",
       "3988  G2_430894  G1_822989  G1_965030"
      ]
     },
     "execution_count": 72,
     "metadata": {},
     "output_type": "execute_result"
    }
   ],
   "source": [
    "pedigree.iloc[-10:]"
   ]
  },
  {
   "cell_type": "code",
   "execution_count": 73,
   "metadata": {},
   "outputs": [
    {
     "data": {
      "text/html": [
       "<div>\n",
       "<style scoped>\n",
       "    .dataframe tbody tr th:only-of-type {\n",
       "        vertical-align: middle;\n",
       "    }\n",
       "\n",
       "    .dataframe tbody tr th {\n",
       "        vertical-align: top;\n",
       "    }\n",
       "\n",
       "    .dataframe thead th {\n",
       "        text-align: right;\n",
       "    }\n",
       "</style>\n",
       "<table border=\"1\" class=\"dataframe\">\n",
       "  <thead>\n",
       "    <tr style=\"text-align: right;\">\n",
       "      <th></th>\n",
       "      <th>Id</th>\n",
       "      <th>Dam</th>\n",
       "      <th>Sire</th>\n",
       "    </tr>\n",
       "  </thead>\n",
       "  <tbody>\n",
       "    <tr>\n",
       "      <th>3979</th>\n",
       "      <td>G2_425292</td>\n",
       "      <td>G1_822989</td>\n",
       "      <td>G1_965030</td>\n",
       "    </tr>\n",
       "    <tr>\n",
       "      <th>3980</th>\n",
       "      <td>G2_431916</td>\n",
       "      <td>G1_822989</td>\n",
       "      <td>G1_965030</td>\n",
       "    </tr>\n",
       "    <tr>\n",
       "      <th>3981</th>\n",
       "      <td>G2_430532</td>\n",
       "      <td>G1_822989</td>\n",
       "      <td>G1_965030</td>\n",
       "    </tr>\n",
       "    <tr>\n",
       "      <th>3982</th>\n",
       "      <td>G2_431430</td>\n",
       "      <td>G1_822989</td>\n",
       "      <td>G1_965030</td>\n",
       "    </tr>\n",
       "    <tr>\n",
       "      <th>3983</th>\n",
       "      <td>G2_431769</td>\n",
       "      <td>G1_822989</td>\n",
       "      <td>G1_965030</td>\n",
       "    </tr>\n",
       "    <tr>\n",
       "      <th>3984</th>\n",
       "      <td>G2_424756</td>\n",
       "      <td>G1_822989</td>\n",
       "      <td>G1_965030</td>\n",
       "    </tr>\n",
       "    <tr>\n",
       "      <th>3985</th>\n",
       "      <td>G2_425353</td>\n",
       "      <td>G1_822989</td>\n",
       "      <td>G1_965030</td>\n",
       "    </tr>\n",
       "    <tr>\n",
       "      <th>3986</th>\n",
       "      <td>G2_424311</td>\n",
       "      <td>G1_822989</td>\n",
       "      <td>G1_965030</td>\n",
       "    </tr>\n",
       "    <tr>\n",
       "      <th>3987</th>\n",
       "      <td>G2_425083</td>\n",
       "      <td>G1_822989</td>\n",
       "      <td>G1_965030</td>\n",
       "    </tr>\n",
       "    <tr>\n",
       "      <th>3988</th>\n",
       "      <td>G2_430894</td>\n",
       "      <td>G1_822989</td>\n",
       "      <td>G1_965030</td>\n",
       "    </tr>\n",
       "  </tbody>\n",
       "</table>\n",
       "</div>"
      ],
      "text/plain": [
       "             Id        Dam       Sire\n",
       "3979  G2_425292  G1_822989  G1_965030\n",
       "3980  G2_431916  G1_822989  G1_965030\n",
       "3981  G2_430532  G1_822989  G1_965030\n",
       "3982  G2_431430  G1_822989  G1_965030\n",
       "3983  G2_431769  G1_822989  G1_965030\n",
       "3984  G2_424756  G1_822989  G1_965030\n",
       "3985  G2_425353  G1_822989  G1_965030\n",
       "3986  G2_424311  G1_822989  G1_965030\n",
       "3987  G2_425083  G1_822989  G1_965030\n",
       "3988  G2_430894  G1_822989  G1_965030"
      ]
     },
     "execution_count": 73,
     "metadata": {},
     "output_type": "execute_result"
    }
   ],
   "source": [
    " pedigree.tail(10)"
   ]
  },
  {
   "cell_type": "markdown",
   "metadata": {},
   "source": [
    "It is common when we are dealing with categorical variables or simply strings that we need to know how many times those variables are repeated in our DataFrame"
   ]
  },
  {
   "cell_type": "code",
   "execution_count": 76,
   "metadata": {},
   "outputs": [
    {
     "data": {
      "text/plain": [
       "G1_801653    60\n",
       "G1_972535    60\n",
       "G1_973614    30\n",
       "G1_801425    30\n",
       "G1_802835    30\n",
       "             ..\n",
       "G1_823505    30\n",
       "G1_802237    30\n",
       "G1_802087    30\n",
       "G1_965030    30\n",
       "G1_972589    29\n",
       "Name: Sire, Length: 131, dtype: int64"
      ]
     },
     "execution_count": 76,
     "metadata": {},
     "output_type": "execute_result"
    }
   ],
   "source": [
    "pedigree[\"Sire\"].value_counts()"
   ]
  },
  {
   "cell_type": "code",
   "execution_count": 77,
   "metadata": {},
   "outputs": [
    {
     "data": {
      "text/plain": [
       "Id      3989\n",
       "Dam     3989\n",
       "Sire    3989\n",
       "dtype: int64"
      ]
     },
     "execution_count": 77,
     "metadata": {},
     "output_type": "execute_result"
    }
   ],
   "source": [
    "pedigree.count()"
   ]
  },
  {
   "cell_type": "code",
   "execution_count": 57,
   "metadata": {},
   "outputs": [
    {
     "data": {
      "text/plain": [
       "Id      3989\n",
       "Dam       50\n",
       "Sire     131\n",
       "dtype: int64"
      ]
     },
     "execution_count": 57,
     "metadata": {},
     "output_type": "execute_result"
    }
   ],
   "source": [
    "pedigree.nunique()"
   ]
  },
  {
   "cell_type": "markdown",
   "metadata": {},
   "source": [
    "## Create new columns"
   ]
  },
  {
   "cell_type": "code",
   "execution_count": 78,
   "metadata": {},
   "outputs": [
    {
     "data": {
      "text/html": [
       "<div>\n",
       "<style scoped>\n",
       "    .dataframe tbody tr th:only-of-type {\n",
       "        vertical-align: middle;\n",
       "    }\n",
       "\n",
       "    .dataframe tbody tr th {\n",
       "        vertical-align: top;\n",
       "    }\n",
       "\n",
       "    .dataframe thead th {\n",
       "        text-align: right;\n",
       "    }\n",
       "</style>\n",
       "<table border=\"1\" class=\"dataframe\">\n",
       "  <thead>\n",
       "    <tr style=\"text-align: right;\">\n",
       "      <th></th>\n",
       "      <th>Id</th>\n",
       "      <th>Date</th>\n",
       "      <th>Length</th>\n",
       "      <th>Weight</th>\n",
       "      <th>Pond</th>\n",
       "    </tr>\n",
       "  </thead>\n",
       "  <tbody>\n",
       "    <tr>\n",
       "      <th>0</th>\n",
       "      <td>G2_425869</td>\n",
       "      <td>7</td>\n",
       "      <td>390</td>\n",
       "      <td>718.6</td>\n",
       "      <td>1</td>\n",
       "    </tr>\n",
       "    <tr>\n",
       "      <th>1</th>\n",
       "      <td>G2_431479</td>\n",
       "      <td>7</td>\n",
       "      <td>410</td>\n",
       "      <td>969.2</td>\n",
       "      <td>1</td>\n",
       "    </tr>\n",
       "    <tr>\n",
       "      <th>2</th>\n",
       "      <td>G2_425963</td>\n",
       "      <td>7</td>\n",
       "      <td>415</td>\n",
       "      <td>929.5</td>\n",
       "      <td>1</td>\n",
       "    </tr>\n",
       "    <tr>\n",
       "      <th>3</th>\n",
       "      <td>G2_430763</td>\n",
       "      <td>7</td>\n",
       "      <td>415</td>\n",
       "      <td>967.5</td>\n",
       "      <td>1</td>\n",
       "    </tr>\n",
       "    <tr>\n",
       "      <th>4</th>\n",
       "      <td>G2_430664</td>\n",
       "      <td>7</td>\n",
       "      <td>375</td>\n",
       "      <td>831.9</td>\n",
       "      <td>1</td>\n",
       "    </tr>\n",
       "  </tbody>\n",
       "</table>\n",
       "</div>"
      ],
      "text/plain": [
       "          Id  Date  Length  Weight  Pond\n",
       "0  G2_425869     7     390   718.6     1\n",
       "1  G2_431479     7     410   969.2     1\n",
       "2  G2_425963     7     415   929.5     1\n",
       "3  G2_430763     7     415   967.5     1\n",
       "4  G2_430664     7     375   831.9     1"
      ]
     },
     "execution_count": 78,
     "metadata": {},
     "output_type": "execute_result"
    }
   ],
   "source": [
    "pheno = pd.read_csv(\"rt_pheno.txt\",sep=\"\\t\")\n",
    "pheno.head()"
   ]
  },
  {
   "cell_type": "code",
   "execution_count": 79,
   "metadata": {},
   "outputs": [],
   "source": [
    "pheno['Length_std'] = (pheno['Length'] - np.mean(pheno['Length']))/np.std(pheno['Length'])"
   ]
  },
  {
   "cell_type": "code",
   "execution_count": 80,
   "metadata": {},
   "outputs": [],
   "source": [
    "pheno['Weight_std'] = (pheno['Weight'] - np.mean(pheno['Weight']))/np.std(pheno['Weight'])"
   ]
  },
  {
   "cell_type": "code",
   "execution_count": 81,
   "metadata": {},
   "outputs": [
    {
     "data": {
      "text/html": [
       "<div>\n",
       "<style scoped>\n",
       "    .dataframe tbody tr th:only-of-type {\n",
       "        vertical-align: middle;\n",
       "    }\n",
       "\n",
       "    .dataframe tbody tr th {\n",
       "        vertical-align: top;\n",
       "    }\n",
       "\n",
       "    .dataframe thead th {\n",
       "        text-align: right;\n",
       "    }\n",
       "</style>\n",
       "<table border=\"1\" class=\"dataframe\">\n",
       "  <thead>\n",
       "    <tr style=\"text-align: right;\">\n",
       "      <th></th>\n",
       "      <th>Id</th>\n",
       "      <th>Date</th>\n",
       "      <th>Length</th>\n",
       "      <th>Weight</th>\n",
       "      <th>Pond</th>\n",
       "      <th>Length_std</th>\n",
       "      <th>Weight_std</th>\n",
       "    </tr>\n",
       "  </thead>\n",
       "  <tbody>\n",
       "    <tr>\n",
       "      <th>0</th>\n",
       "      <td>G2_425869</td>\n",
       "      <td>7</td>\n",
       "      <td>390</td>\n",
       "      <td>718.6</td>\n",
       "      <td>1</td>\n",
       "      <td>-0.278457</td>\n",
       "      <td>-0.590720</td>\n",
       "    </tr>\n",
       "    <tr>\n",
       "      <th>1</th>\n",
       "      <td>G2_431479</td>\n",
       "      <td>7</td>\n",
       "      <td>410</td>\n",
       "      <td>969.2</td>\n",
       "      <td>1</td>\n",
       "      <td>0.310292</td>\n",
       "      <td>0.686304</td>\n",
       "    </tr>\n",
       "    <tr>\n",
       "      <th>2</th>\n",
       "      <td>G2_425963</td>\n",
       "      <td>7</td>\n",
       "      <td>415</td>\n",
       "      <td>929.5</td>\n",
       "      <td>1</td>\n",
       "      <td>0.457479</td>\n",
       "      <td>0.483998</td>\n",
       "    </tr>\n",
       "    <tr>\n",
       "      <th>3</th>\n",
       "      <td>G2_430763</td>\n",
       "      <td>7</td>\n",
       "      <td>415</td>\n",
       "      <td>967.5</td>\n",
       "      <td>1</td>\n",
       "      <td>0.457479</td>\n",
       "      <td>0.677641</td>\n",
       "    </tr>\n",
       "    <tr>\n",
       "      <th>4</th>\n",
       "      <td>G2_430664</td>\n",
       "      <td>7</td>\n",
       "      <td>375</td>\n",
       "      <td>831.9</td>\n",
       "      <td>1</td>\n",
       "      <td>-0.720019</td>\n",
       "      <td>-0.013358</td>\n",
       "    </tr>\n",
       "  </tbody>\n",
       "</table>\n",
       "</div>"
      ],
      "text/plain": [
       "          Id  Date  Length  Weight  Pond  Length_std  Weight_std\n",
       "0  G2_425869     7     390   718.6     1   -0.278457   -0.590720\n",
       "1  G2_431479     7     410   969.2     1    0.310292    0.686304\n",
       "2  G2_425963     7     415   929.5     1    0.457479    0.483998\n",
       "3  G2_430763     7     415   967.5     1    0.457479    0.677641\n",
       "4  G2_430664     7     375   831.9     1   -0.720019   -0.013358"
      ]
     },
     "execution_count": 81,
     "metadata": {},
     "output_type": "execute_result"
    }
   ],
   "source": [
    "pheno.head()"
   ]
  },
  {
   "cell_type": "markdown",
   "metadata": {},
   "source": [
    "## Simple calculations"
   ]
  },
  {
   "cell_type": "code",
   "execution_count": 82,
   "metadata": {},
   "outputs": [
    {
     "data": {
      "text/plain": [
       "-4.556435671199171e-16"
      ]
     },
     "execution_count": 82,
     "metadata": {},
     "output_type": "execute_result"
    }
   ],
   "source": [
    "np.mean(pheno['Length_std'])"
   ]
  },
  {
   "cell_type": "code",
   "execution_count": 83,
   "metadata": {},
   "outputs": [
    {
     "data": {
      "text/html": [
       "<div>\n",
       "<style scoped>\n",
       "    .dataframe tbody tr th:only-of-type {\n",
       "        vertical-align: middle;\n",
       "    }\n",
       "\n",
       "    .dataframe tbody tr th {\n",
       "        vertical-align: top;\n",
       "    }\n",
       "\n",
       "    .dataframe thead th {\n",
       "        text-align: right;\n",
       "    }\n",
       "</style>\n",
       "<table border=\"1\" class=\"dataframe\">\n",
       "  <thead>\n",
       "    <tr style=\"text-align: right;\">\n",
       "      <th></th>\n",
       "      <th>Date</th>\n",
       "      <th>Length</th>\n",
       "      <th>Weight</th>\n",
       "      <th>Pond</th>\n",
       "      <th>Length_std</th>\n",
       "      <th>Weight_std</th>\n",
       "    </tr>\n",
       "  </thead>\n",
       "  <tbody>\n",
       "    <tr>\n",
       "      <th>count</th>\n",
       "      <td>1768.000000</td>\n",
       "      <td>1768.000000</td>\n",
       "      <td>1768.000000</td>\n",
       "      <td>1768.000000</td>\n",
       "      <td>1.768000e+03</td>\n",
       "      <td>1.768000e+03</td>\n",
       "    </tr>\n",
       "    <tr>\n",
       "      <th>mean</th>\n",
       "      <td>8.241516</td>\n",
       "      <td>399.459276</td>\n",
       "      <td>834.521437</td>\n",
       "      <td>1.500000</td>\n",
       "      <td>-4.556436e-16</td>\n",
       "      <td>3.704537e-17</td>\n",
       "    </tr>\n",
       "    <tr>\n",
       "      <th>std</th>\n",
       "      <td>1.016522</td>\n",
       "      <td>33.979929</td>\n",
       "      <td>196.292927</td>\n",
       "      <td>0.500141</td>\n",
       "      <td>1.000283e+00</td>\n",
       "      <td>1.000283e+00</td>\n",
       "    </tr>\n",
       "    <tr>\n",
       "      <th>min</th>\n",
       "      <td>7.000000</td>\n",
       "      <td>225.000000</td>\n",
       "      <td>186.000000</td>\n",
       "      <td>1.000000</td>\n",
       "      <td>-5.135639e+00</td>\n",
       "      <td>-3.304780e+00</td>\n",
       "    </tr>\n",
       "    <tr>\n",
       "      <th>25%</th>\n",
       "      <td>8.000000</td>\n",
       "      <td>390.000000</td>\n",
       "      <td>751.000000</td>\n",
       "      <td>1.000000</td>\n",
       "      <td>-2.784571e-01</td>\n",
       "      <td>-4.256143e-01</td>\n",
       "    </tr>\n",
       "    <tr>\n",
       "      <th>50%</th>\n",
       "      <td>8.000000</td>\n",
       "      <td>405.000000</td>\n",
       "      <td>860.000000</td>\n",
       "      <td>1.500000</td>\n",
       "      <td>1.631049e-01</td>\n",
       "      <td>1.298354e-01</td>\n",
       "    </tr>\n",
       "    <tr>\n",
       "      <th>75%</th>\n",
       "      <td>9.000000</td>\n",
       "      <td>420.000000</td>\n",
       "      <td>953.000000</td>\n",
       "      <td>2.000000</td>\n",
       "      <td>6.046668e-01</td>\n",
       "      <td>6.037512e-01</td>\n",
       "    </tr>\n",
       "    <tr>\n",
       "      <th>max</th>\n",
       "      <td>14.000000</td>\n",
       "      <td>475.000000</td>\n",
       "      <td>1334.000000</td>\n",
       "      <td>2.000000</td>\n",
       "      <td>2.223727e+00</td>\n",
       "      <td>2.545277e+00</td>\n",
       "    </tr>\n",
       "  </tbody>\n",
       "</table>\n",
       "</div>"
      ],
      "text/plain": [
       "              Date       Length       Weight         Pond    Length_std  \\\n",
       "count  1768.000000  1768.000000  1768.000000  1768.000000  1.768000e+03   \n",
       "mean      8.241516   399.459276   834.521437     1.500000 -4.556436e-16   \n",
       "std       1.016522    33.979929   196.292927     0.500141  1.000283e+00   \n",
       "min       7.000000   225.000000   186.000000     1.000000 -5.135639e+00   \n",
       "25%       8.000000   390.000000   751.000000     1.000000 -2.784571e-01   \n",
       "50%       8.000000   405.000000   860.000000     1.500000  1.631049e-01   \n",
       "75%       9.000000   420.000000   953.000000     2.000000  6.046668e-01   \n",
       "max      14.000000   475.000000  1334.000000     2.000000  2.223727e+00   \n",
       "\n",
       "         Weight_std  \n",
       "count  1.768000e+03  \n",
       "mean   3.704537e-17  \n",
       "std    1.000283e+00  \n",
       "min   -3.304780e+00  \n",
       "25%   -4.256143e-01  \n",
       "50%    1.298354e-01  \n",
       "75%    6.037512e-01  \n",
       "max    2.545277e+00  "
      ]
     },
     "execution_count": 83,
     "metadata": {},
     "output_type": "execute_result"
    }
   ],
   "source": [
    "pheno.describe()"
   ]
  },
  {
   "cell_type": "markdown",
   "metadata": {},
   "source": [
    " Correlation "
   ]
  },
  {
   "cell_type": "code",
   "execution_count": 84,
   "metadata": {},
   "outputs": [
    {
     "data": {
      "text/plain": [
       "0.9405527868715267"
      ]
     },
     "execution_count": 84,
     "metadata": {},
     "output_type": "execute_result"
    }
   ],
   "source": [
    "pheno['Weight'].corr(pheno['Length'])"
   ]
  },
  {
   "cell_type": "markdown",
   "metadata": {},
   "source": [
    "Covariance"
   ]
  },
  {
   "cell_type": "code",
   "execution_count": 85,
   "metadata": {},
   "outputs": [
    {
     "data": {
      "text/plain": [
       "6273.505655596443"
      ]
     },
     "execution_count": 85,
     "metadata": {},
     "output_type": "execute_result"
    }
   ],
   "source": [
    "pheno['Weight'].cov(pheno['Length'])"
   ]
  },
  {
   "cell_type": "markdown",
   "metadata": {},
   "source": [
    "## Querying the dataframe"
   ]
  },
  {
   "cell_type": "code",
   "execution_count": 86,
   "metadata": {},
   "outputs": [
    {
     "data": {
      "text/plain": [
       "0       False\n",
       "1        True\n",
       "2        True\n",
       "3        True\n",
       "4       False\n",
       "        ...  \n",
       "1763    False\n",
       "1764     True\n",
       "1765    False\n",
       "1766    False\n",
       "1767    False\n",
       "Name: Length, Length: 1768, dtype: bool"
      ]
     },
     "execution_count": 86,
     "metadata": {},
     "output_type": "execute_result"
    }
   ],
   "source": [
    "pheno['Length'] > 400"
   ]
  },
  {
   "cell_type": "code",
   "execution_count": 87,
   "metadata": {},
   "outputs": [
    {
     "data": {
      "text/html": [
       "<div>\n",
       "<style scoped>\n",
       "    .dataframe tbody tr th:only-of-type {\n",
       "        vertical-align: middle;\n",
       "    }\n",
       "\n",
       "    .dataframe tbody tr th {\n",
       "        vertical-align: top;\n",
       "    }\n",
       "\n",
       "    .dataframe thead th {\n",
       "        text-align: right;\n",
       "    }\n",
       "</style>\n",
       "<table border=\"1\" class=\"dataframe\">\n",
       "  <thead>\n",
       "    <tr style=\"text-align: right;\">\n",
       "      <th></th>\n",
       "      <th>Id</th>\n",
       "      <th>Date</th>\n",
       "      <th>Length</th>\n",
       "      <th>Weight</th>\n",
       "      <th>Pond</th>\n",
       "      <th>Length_std</th>\n",
       "      <th>Weight_std</th>\n",
       "    </tr>\n",
       "  </thead>\n",
       "  <tbody>\n",
       "    <tr>\n",
       "      <th>1</th>\n",
       "      <td>G2_431479</td>\n",
       "      <td>7</td>\n",
       "      <td>410</td>\n",
       "      <td>969.2</td>\n",
       "      <td>1</td>\n",
       "      <td>0.310292</td>\n",
       "      <td>0.686304</td>\n",
       "    </tr>\n",
       "    <tr>\n",
       "      <th>2</th>\n",
       "      <td>G2_425963</td>\n",
       "      <td>7</td>\n",
       "      <td>415</td>\n",
       "      <td>929.5</td>\n",
       "      <td>1</td>\n",
       "      <td>0.457479</td>\n",
       "      <td>0.483998</td>\n",
       "    </tr>\n",
       "    <tr>\n",
       "      <th>3</th>\n",
       "      <td>G2_430763</td>\n",
       "      <td>7</td>\n",
       "      <td>415</td>\n",
       "      <td>967.5</td>\n",
       "      <td>1</td>\n",
       "      <td>0.457479</td>\n",
       "      <td>0.677641</td>\n",
       "    </tr>\n",
       "    <tr>\n",
       "      <th>5</th>\n",
       "      <td>G2_430856</td>\n",
       "      <td>7</td>\n",
       "      <td>405</td>\n",
       "      <td>780.3</td>\n",
       "      <td>1</td>\n",
       "      <td>0.163105</td>\n",
       "      <td>-0.276305</td>\n",
       "    </tr>\n",
       "    <tr>\n",
       "      <th>9</th>\n",
       "      <td>G2_430576</td>\n",
       "      <td>7</td>\n",
       "      <td>410</td>\n",
       "      <td>889.8</td>\n",
       "      <td>1</td>\n",
       "      <td>0.310292</td>\n",
       "      <td>0.281692</td>\n",
       "    </tr>\n",
       "    <tr>\n",
       "      <th>...</th>\n",
       "      <td>...</td>\n",
       "      <td>...</td>\n",
       "      <td>...</td>\n",
       "      <td>...</td>\n",
       "      <td>...</td>\n",
       "      <td>...</td>\n",
       "      <td>...</td>\n",
       "    </tr>\n",
       "    <tr>\n",
       "      <th>1749</th>\n",
       "      <td>G2_424539</td>\n",
       "      <td>9</td>\n",
       "      <td>420</td>\n",
       "      <td>1028.0</td>\n",
       "      <td>2</td>\n",
       "      <td>0.604667</td>\n",
       "      <td>0.985941</td>\n",
       "    </tr>\n",
       "    <tr>\n",
       "      <th>1751</th>\n",
       "      <td>G2_431453</td>\n",
       "      <td>9</td>\n",
       "      <td>435</td>\n",
       "      <td>1055.0</td>\n",
       "      <td>2</td>\n",
       "      <td>1.046229</td>\n",
       "      <td>1.123530</td>\n",
       "    </tr>\n",
       "    <tr>\n",
       "      <th>1759</th>\n",
       "      <td>G2_432064</td>\n",
       "      <td>14</td>\n",
       "      <td>410</td>\n",
       "      <td>1023.0</td>\n",
       "      <td>2</td>\n",
       "      <td>0.310292</td>\n",
       "      <td>0.960462</td>\n",
       "    </tr>\n",
       "    <tr>\n",
       "      <th>1762</th>\n",
       "      <td>G2_431833</td>\n",
       "      <td>14</td>\n",
       "      <td>405</td>\n",
       "      <td>870.0</td>\n",
       "      <td>2</td>\n",
       "      <td>0.163105</td>\n",
       "      <td>0.180794</td>\n",
       "    </tr>\n",
       "    <tr>\n",
       "      <th>1764</th>\n",
       "      <td>G2_426065</td>\n",
       "      <td>14</td>\n",
       "      <td>415</td>\n",
       "      <td>935.0</td>\n",
       "      <td>2</td>\n",
       "      <td>0.457479</td>\n",
       "      <td>0.512026</td>\n",
       "    </tr>\n",
       "  </tbody>\n",
       "</table>\n",
       "<p>980 rows × 7 columns</p>\n",
       "</div>"
      ],
      "text/plain": [
       "             Id  Date  Length  Weight  Pond  Length_std  Weight_std\n",
       "1     G2_431479     7     410   969.2     1    0.310292    0.686304\n",
       "2     G2_425963     7     415   929.5     1    0.457479    0.483998\n",
       "3     G2_430763     7     415   967.5     1    0.457479    0.677641\n",
       "5     G2_430856     7     405   780.3     1    0.163105   -0.276305\n",
       "9     G2_430576     7     410   889.8     1    0.310292    0.281692\n",
       "...         ...   ...     ...     ...   ...         ...         ...\n",
       "1749  G2_424539     9     420  1028.0     2    0.604667    0.985941\n",
       "1751  G2_431453     9     435  1055.0     2    1.046229    1.123530\n",
       "1759  G2_432064    14     410  1023.0     2    0.310292    0.960462\n",
       "1762  G2_431833    14     405   870.0     2    0.163105    0.180794\n",
       "1764  G2_426065    14     415   935.0     2    0.457479    0.512026\n",
       "\n",
       "[980 rows x 7 columns]"
      ]
     },
     "execution_count": 87,
     "metadata": {},
     "output_type": "execute_result"
    }
   ],
   "source": [
    "pheno[pheno['Length'] > 400]"
   ]
  },
  {
   "cell_type": "code",
   "execution_count": 88,
   "metadata": {},
   "outputs": [
    {
     "data": {
      "text/plain": [
       "0       False\n",
       "1        True\n",
       "2        True\n",
       "3        True\n",
       "4       False\n",
       "        ...  \n",
       "1763    False\n",
       "1764     True\n",
       "1765    False\n",
       "1766    False\n",
       "1767    False\n",
       "Length: 1768, dtype: bool"
      ]
     },
     "execution_count": 88,
     "metadata": {},
     "output_type": "execute_result"
    }
   ],
   "source": [
    "(pheno['Length'] > 400) & (pheno['Weight'] > 800)"
   ]
  },
  {
   "cell_type": "code",
   "execution_count": 89,
   "metadata": {},
   "outputs": [
    {
     "data": {
      "text/html": [
       "<div>\n",
       "<style scoped>\n",
       "    .dataframe tbody tr th:only-of-type {\n",
       "        vertical-align: middle;\n",
       "    }\n",
       "\n",
       "    .dataframe tbody tr th {\n",
       "        vertical-align: top;\n",
       "    }\n",
       "\n",
       "    .dataframe thead th {\n",
       "        text-align: right;\n",
       "    }\n",
       "</style>\n",
       "<table border=\"1\" class=\"dataframe\">\n",
       "  <thead>\n",
       "    <tr style=\"text-align: right;\">\n",
       "      <th></th>\n",
       "      <th>Id</th>\n",
       "      <th>Date</th>\n",
       "      <th>Length</th>\n",
       "      <th>Weight</th>\n",
       "      <th>Pond</th>\n",
       "      <th>Length_std</th>\n",
       "      <th>Weight_std</th>\n",
       "    </tr>\n",
       "  </thead>\n",
       "  <tbody>\n",
       "    <tr>\n",
       "      <th>1</th>\n",
       "      <td>G2_431479</td>\n",
       "      <td>7</td>\n",
       "      <td>410</td>\n",
       "      <td>969.2</td>\n",
       "      <td>1</td>\n",
       "      <td>0.310292</td>\n",
       "      <td>0.686304</td>\n",
       "    </tr>\n",
       "    <tr>\n",
       "      <th>2</th>\n",
       "      <td>G2_425963</td>\n",
       "      <td>7</td>\n",
       "      <td>415</td>\n",
       "      <td>929.5</td>\n",
       "      <td>1</td>\n",
       "      <td>0.457479</td>\n",
       "      <td>0.483998</td>\n",
       "    </tr>\n",
       "    <tr>\n",
       "      <th>3</th>\n",
       "      <td>G2_430763</td>\n",
       "      <td>7</td>\n",
       "      <td>415</td>\n",
       "      <td>967.5</td>\n",
       "      <td>1</td>\n",
       "      <td>0.457479</td>\n",
       "      <td>0.677641</td>\n",
       "    </tr>\n",
       "    <tr>\n",
       "      <th>9</th>\n",
       "      <td>G2_430576</td>\n",
       "      <td>7</td>\n",
       "      <td>410</td>\n",
       "      <td>889.8</td>\n",
       "      <td>1</td>\n",
       "      <td>0.310292</td>\n",
       "      <td>0.281692</td>\n",
       "    </tr>\n",
       "    <tr>\n",
       "      <th>10</th>\n",
       "      <td>G2_424785</td>\n",
       "      <td>7</td>\n",
       "      <td>415</td>\n",
       "      <td>836.6</td>\n",
       "      <td>1</td>\n",
       "      <td>0.457479</td>\n",
       "      <td>0.010592</td>\n",
       "    </tr>\n",
       "    <tr>\n",
       "      <th>...</th>\n",
       "      <td>...</td>\n",
       "      <td>...</td>\n",
       "      <td>...</td>\n",
       "      <td>...</td>\n",
       "      <td>...</td>\n",
       "      <td>...</td>\n",
       "      <td>...</td>\n",
       "    </tr>\n",
       "    <tr>\n",
       "      <th>1749</th>\n",
       "      <td>G2_424539</td>\n",
       "      <td>9</td>\n",
       "      <td>420</td>\n",
       "      <td>1028.0</td>\n",
       "      <td>2</td>\n",
       "      <td>0.604667</td>\n",
       "      <td>0.985941</td>\n",
       "    </tr>\n",
       "    <tr>\n",
       "      <th>1751</th>\n",
       "      <td>G2_431453</td>\n",
       "      <td>9</td>\n",
       "      <td>435</td>\n",
       "      <td>1055.0</td>\n",
       "      <td>2</td>\n",
       "      <td>1.046229</td>\n",
       "      <td>1.123530</td>\n",
       "    </tr>\n",
       "    <tr>\n",
       "      <th>1759</th>\n",
       "      <td>G2_432064</td>\n",
       "      <td>14</td>\n",
       "      <td>410</td>\n",
       "      <td>1023.0</td>\n",
       "      <td>2</td>\n",
       "      <td>0.310292</td>\n",
       "      <td>0.960462</td>\n",
       "    </tr>\n",
       "    <tr>\n",
       "      <th>1762</th>\n",
       "      <td>G2_431833</td>\n",
       "      <td>14</td>\n",
       "      <td>405</td>\n",
       "      <td>870.0</td>\n",
       "      <td>2</td>\n",
       "      <td>0.163105</td>\n",
       "      <td>0.180794</td>\n",
       "    </tr>\n",
       "    <tr>\n",
       "      <th>1764</th>\n",
       "      <td>G2_426065</td>\n",
       "      <td>14</td>\n",
       "      <td>415</td>\n",
       "      <td>935.0</td>\n",
       "      <td>2</td>\n",
       "      <td>0.457479</td>\n",
       "      <td>0.512026</td>\n",
       "    </tr>\n",
       "  </tbody>\n",
       "</table>\n",
       "<p>949 rows × 7 columns</p>\n",
       "</div>"
      ],
      "text/plain": [
       "             Id  Date  Length  Weight  Pond  Length_std  Weight_std\n",
       "1     G2_431479     7     410   969.2     1    0.310292    0.686304\n",
       "2     G2_425963     7     415   929.5     1    0.457479    0.483998\n",
       "3     G2_430763     7     415   967.5     1    0.457479    0.677641\n",
       "9     G2_430576     7     410   889.8     1    0.310292    0.281692\n",
       "10    G2_424785     7     415   836.6     1    0.457479    0.010592\n",
       "...         ...   ...     ...     ...   ...         ...         ...\n",
       "1749  G2_424539     9     420  1028.0     2    0.604667    0.985941\n",
       "1751  G2_431453     9     435  1055.0     2    1.046229    1.123530\n",
       "1759  G2_432064    14     410  1023.0     2    0.310292    0.960462\n",
       "1762  G2_431833    14     405   870.0     2    0.163105    0.180794\n",
       "1764  G2_426065    14     415   935.0     2    0.457479    0.512026\n",
       "\n",
       "[949 rows x 7 columns]"
      ]
     },
     "execution_count": 89,
     "metadata": {},
     "output_type": "execute_result"
    }
   ],
   "source": [
    "pheno[(pheno['Length'] > 400) & (pheno['Weight'] > 800)]"
   ]
  },
  {
   "cell_type": "code",
   "execution_count": 90,
   "metadata": {},
   "outputs": [
    {
     "data": {
      "text/html": [
       "<div>\n",
       "<style scoped>\n",
       "    .dataframe tbody tr th:only-of-type {\n",
       "        vertical-align: middle;\n",
       "    }\n",
       "\n",
       "    .dataframe tbody tr th {\n",
       "        vertical-align: top;\n",
       "    }\n",
       "\n",
       "    .dataframe thead th {\n",
       "        text-align: right;\n",
       "    }\n",
       "</style>\n",
       "<table border=\"1\" class=\"dataframe\">\n",
       "  <thead>\n",
       "    <tr style=\"text-align: right;\">\n",
       "      <th></th>\n",
       "      <th>Id</th>\n",
       "      <th>Date</th>\n",
       "      <th>Length</th>\n",
       "      <th>Weight</th>\n",
       "      <th>Pond</th>\n",
       "      <th>Length_std</th>\n",
       "      <th>Weight_std</th>\n",
       "    </tr>\n",
       "  </thead>\n",
       "  <tbody>\n",
       "    <tr>\n",
       "      <th>0</th>\n",
       "      <td>G2_425869</td>\n",
       "      <td>7</td>\n",
       "      <td>390</td>\n",
       "      <td>718.6</td>\n",
       "      <td>1</td>\n",
       "      <td>-0.278457</td>\n",
       "      <td>-0.590720</td>\n",
       "    </tr>\n",
       "    <tr>\n",
       "      <th>1</th>\n",
       "      <td>G2_431479</td>\n",
       "      <td>7</td>\n",
       "      <td>410</td>\n",
       "      <td>969.2</td>\n",
       "      <td>1</td>\n",
       "      <td>0.310292</td>\n",
       "      <td>0.686304</td>\n",
       "    </tr>\n",
       "    <tr>\n",
       "      <th>2</th>\n",
       "      <td>G2_425963</td>\n",
       "      <td>7</td>\n",
       "      <td>415</td>\n",
       "      <td>929.5</td>\n",
       "      <td>1</td>\n",
       "      <td>0.457479</td>\n",
       "      <td>0.483998</td>\n",
       "    </tr>\n",
       "    <tr>\n",
       "      <th>3</th>\n",
       "      <td>G2_430763</td>\n",
       "      <td>7</td>\n",
       "      <td>415</td>\n",
       "      <td>967.5</td>\n",
       "      <td>1</td>\n",
       "      <td>0.457479</td>\n",
       "      <td>0.677641</td>\n",
       "    </tr>\n",
       "    <tr>\n",
       "      <th>4</th>\n",
       "      <td>G2_430664</td>\n",
       "      <td>7</td>\n",
       "      <td>375</td>\n",
       "      <td>831.9</td>\n",
       "      <td>1</td>\n",
       "      <td>-0.720019</td>\n",
       "      <td>-0.013358</td>\n",
       "    </tr>\n",
       "    <tr>\n",
       "      <th>...</th>\n",
       "      <td>...</td>\n",
       "      <td>...</td>\n",
       "      <td>...</td>\n",
       "      <td>...</td>\n",
       "      <td>...</td>\n",
       "      <td>...</td>\n",
       "      <td>...</td>\n",
       "    </tr>\n",
       "    <tr>\n",
       "      <th>1749</th>\n",
       "      <td>G2_424539</td>\n",
       "      <td>9</td>\n",
       "      <td>420</td>\n",
       "      <td>1028.0</td>\n",
       "      <td>2</td>\n",
       "      <td>0.604667</td>\n",
       "      <td>0.985941</td>\n",
       "    </tr>\n",
       "    <tr>\n",
       "      <th>1751</th>\n",
       "      <td>G2_431453</td>\n",
       "      <td>9</td>\n",
       "      <td>435</td>\n",
       "      <td>1055.0</td>\n",
       "      <td>2</td>\n",
       "      <td>1.046229</td>\n",
       "      <td>1.123530</td>\n",
       "    </tr>\n",
       "    <tr>\n",
       "      <th>1759</th>\n",
       "      <td>G2_432064</td>\n",
       "      <td>14</td>\n",
       "      <td>410</td>\n",
       "      <td>1023.0</td>\n",
       "      <td>2</td>\n",
       "      <td>0.310292</td>\n",
       "      <td>0.960462</td>\n",
       "    </tr>\n",
       "    <tr>\n",
       "      <th>1762</th>\n",
       "      <td>G2_431833</td>\n",
       "      <td>14</td>\n",
       "      <td>405</td>\n",
       "      <td>870.0</td>\n",
       "      <td>2</td>\n",
       "      <td>0.163105</td>\n",
       "      <td>0.180794</td>\n",
       "    </tr>\n",
       "    <tr>\n",
       "      <th>1764</th>\n",
       "      <td>G2_426065</td>\n",
       "      <td>14</td>\n",
       "      <td>415</td>\n",
       "      <td>935.0</td>\n",
       "      <td>2</td>\n",
       "      <td>0.457479</td>\n",
       "      <td>0.512026</td>\n",
       "    </tr>\n",
       "  </tbody>\n",
       "</table>\n",
       "<p>1379 rows × 7 columns</p>\n",
       "</div>"
      ],
      "text/plain": [
       "             Id  Date  Length  Weight  Pond  Length_std  Weight_std\n",
       "0     G2_425869     7     390   718.6     1   -0.278457   -0.590720\n",
       "1     G2_431479     7     410   969.2     1    0.310292    0.686304\n",
       "2     G2_425963     7     415   929.5     1    0.457479    0.483998\n",
       "3     G2_430763     7     415   967.5     1    0.457479    0.677641\n",
       "4     G2_430664     7     375   831.9     1   -0.720019   -0.013358\n",
       "...         ...   ...     ...     ...   ...         ...         ...\n",
       "1749  G2_424539     9     420  1028.0     2    0.604667    0.985941\n",
       "1751  G2_431453     9     435  1055.0     2    1.046229    1.123530\n",
       "1759  G2_432064    14     410  1023.0     2    0.310292    0.960462\n",
       "1762  G2_431833    14     405   870.0     2    0.163105    0.180794\n",
       "1764  G2_426065    14     415   935.0     2    0.457479    0.512026\n",
       "\n",
       "[1379 rows x 7 columns]"
      ]
     },
     "execution_count": 90,
     "metadata": {},
     "output_type": "execute_result"
    }
   ],
   "source": [
    "pheno[(pheno['Length'] > 400) | (pheno['Pond'] == 1)]"
   ]
  },
  {
   "cell_type": "markdown",
   "metadata": {},
   "source": [
    "## Copying dataframes"
   ]
  },
  {
   "cell_type": "code",
   "execution_count": 91,
   "metadata": {},
   "outputs": [
    {
     "data": {
      "text/html": [
       "<div>\n",
       "<style scoped>\n",
       "    .dataframe tbody tr th:only-of-type {\n",
       "        vertical-align: middle;\n",
       "    }\n",
       "\n",
       "    .dataframe tbody tr th {\n",
       "        vertical-align: top;\n",
       "    }\n",
       "\n",
       "    .dataframe thead th {\n",
       "        text-align: right;\n",
       "    }\n",
       "</style>\n",
       "<table border=\"1\" class=\"dataframe\">\n",
       "  <thead>\n",
       "    <tr style=\"text-align: right;\">\n",
       "      <th></th>\n",
       "      <th>Id</th>\n",
       "      <th>Date</th>\n",
       "      <th>Length</th>\n",
       "      <th>Weight</th>\n",
       "      <th>Pond</th>\n",
       "      <th>Length_std</th>\n",
       "      <th>Weight_std</th>\n",
       "    </tr>\n",
       "  </thead>\n",
       "  <tbody>\n",
       "    <tr>\n",
       "      <th>0</th>\n",
       "      <td>G2_425869</td>\n",
       "      <td>7</td>\n",
       "      <td>390</td>\n",
       "      <td>718.6</td>\n",
       "      <td>1</td>\n",
       "      <td>-0.278457</td>\n",
       "      <td>-0.590720</td>\n",
       "    </tr>\n",
       "    <tr>\n",
       "      <th>1</th>\n",
       "      <td>G2_431479</td>\n",
       "      <td>7</td>\n",
       "      <td>410</td>\n",
       "      <td>969.2</td>\n",
       "      <td>1</td>\n",
       "      <td>0.310292</td>\n",
       "      <td>0.686304</td>\n",
       "    </tr>\n",
       "    <tr>\n",
       "      <th>2</th>\n",
       "      <td>G2_425963</td>\n",
       "      <td>7</td>\n",
       "      <td>415</td>\n",
       "      <td>929.5</td>\n",
       "      <td>1</td>\n",
       "      <td>0.457479</td>\n",
       "      <td>0.483998</td>\n",
       "    </tr>\n",
       "    <tr>\n",
       "      <th>3</th>\n",
       "      <td>G2_430763</td>\n",
       "      <td>7</td>\n",
       "      <td>415</td>\n",
       "      <td>967.5</td>\n",
       "      <td>1</td>\n",
       "      <td>0.457479</td>\n",
       "      <td>0.677641</td>\n",
       "    </tr>\n",
       "    <tr>\n",
       "      <th>4</th>\n",
       "      <td>G2_430664</td>\n",
       "      <td>7</td>\n",
       "      <td>375</td>\n",
       "      <td>831.9</td>\n",
       "      <td>1</td>\n",
       "      <td>-0.720019</td>\n",
       "      <td>-0.013358</td>\n",
       "    </tr>\n",
       "  </tbody>\n",
       "</table>\n",
       "</div>"
      ],
      "text/plain": [
       "          Id  Date  Length  Weight  Pond  Length_std  Weight_std\n",
       "0  G2_425869     7     390   718.6     1   -0.278457   -0.590720\n",
       "1  G2_431479     7     410   969.2     1    0.310292    0.686304\n",
       "2  G2_425963     7     415   929.5     1    0.457479    0.483998\n",
       "3  G2_430763     7     415   967.5     1    0.457479    0.677641\n",
       "4  G2_430664     7     375   831.9     1   -0.720019   -0.013358"
      ]
     },
     "execution_count": 91,
     "metadata": {},
     "output_type": "execute_result"
    }
   ],
   "source": [
    "pheno_shallow = pheno\n",
    "pheno_shallow.head()"
   ]
  },
  {
   "cell_type": "code",
   "execution_count": 92,
   "metadata": {},
   "outputs": [
    {
     "data": {
      "text/html": [
       "<div>\n",
       "<style scoped>\n",
       "    .dataframe tbody tr th:only-of-type {\n",
       "        vertical-align: middle;\n",
       "    }\n",
       "\n",
       "    .dataframe tbody tr th {\n",
       "        vertical-align: top;\n",
       "    }\n",
       "\n",
       "    .dataframe thead th {\n",
       "        text-align: right;\n",
       "    }\n",
       "</style>\n",
       "<table border=\"1\" class=\"dataframe\">\n",
       "  <thead>\n",
       "    <tr style=\"text-align: right;\">\n",
       "      <th></th>\n",
       "      <th>Id</th>\n",
       "      <th>Date</th>\n",
       "      <th>Length</th>\n",
       "      <th>Weight</th>\n",
       "      <th>Pond</th>\n",
       "      <th>Length_std</th>\n",
       "      <th>Weight_std</th>\n",
       "    </tr>\n",
       "  </thead>\n",
       "  <tbody>\n",
       "    <tr>\n",
       "      <th>0</th>\n",
       "      <td>G2_425869</td>\n",
       "      <td>7</td>\n",
       "      <td>390</td>\n",
       "      <td>718.6</td>\n",
       "      <td>1</td>\n",
       "      <td>-0.278457</td>\n",
       "      <td>-0.590720</td>\n",
       "    </tr>\n",
       "    <tr>\n",
       "      <th>1</th>\n",
       "      <td>G2_431479</td>\n",
       "      <td>7</td>\n",
       "      <td>410</td>\n",
       "      <td>969.2</td>\n",
       "      <td>1</td>\n",
       "      <td>0.310292</td>\n",
       "      <td>0.686304</td>\n",
       "    </tr>\n",
       "    <tr>\n",
       "      <th>2</th>\n",
       "      <td>G2_425963</td>\n",
       "      <td>7</td>\n",
       "      <td>415</td>\n",
       "      <td>929.5</td>\n",
       "      <td>1</td>\n",
       "      <td>0.457479</td>\n",
       "      <td>0.483998</td>\n",
       "    </tr>\n",
       "    <tr>\n",
       "      <th>3</th>\n",
       "      <td>G2_430763</td>\n",
       "      <td>7</td>\n",
       "      <td>415</td>\n",
       "      <td>967.5</td>\n",
       "      <td>1</td>\n",
       "      <td>0.457479</td>\n",
       "      <td>0.677641</td>\n",
       "    </tr>\n",
       "    <tr>\n",
       "      <th>4</th>\n",
       "      <td>G2_430664</td>\n",
       "      <td>7</td>\n",
       "      <td>375</td>\n",
       "      <td>831.9</td>\n",
       "      <td>1</td>\n",
       "      <td>-0.720019</td>\n",
       "      <td>-0.013358</td>\n",
       "    </tr>\n",
       "  </tbody>\n",
       "</table>\n",
       "</div>"
      ],
      "text/plain": [
       "          Id  Date  Length  Weight  Pond  Length_std  Weight_std\n",
       "0  G2_425869     7     390   718.6     1   -0.278457   -0.590720\n",
       "1  G2_431479     7     410   969.2     1    0.310292    0.686304\n",
       "2  G2_425963     7     415   929.5     1    0.457479    0.483998\n",
       "3  G2_430763     7     415   967.5     1    0.457479    0.677641\n",
       "4  G2_430664     7     375   831.9     1   -0.720019   -0.013358"
      ]
     },
     "execution_count": 92,
     "metadata": {},
     "output_type": "execute_result"
    }
   ],
   "source": [
    "pheno_deep = pheno.copy()\n",
    "pheno_deep.head()"
   ]
  },
  {
   "cell_type": "markdown",
   "metadata": {},
   "source": [
    "## Deleting columns"
   ]
  },
  {
   "cell_type": "code",
   "execution_count": 93,
   "metadata": {},
   "outputs": [
    {
     "data": {
      "text/html": [
       "<div>\n",
       "<style scoped>\n",
       "    .dataframe tbody tr th:only-of-type {\n",
       "        vertical-align: middle;\n",
       "    }\n",
       "\n",
       "    .dataframe tbody tr th {\n",
       "        vertical-align: top;\n",
       "    }\n",
       "\n",
       "    .dataframe thead th {\n",
       "        text-align: right;\n",
       "    }\n",
       "</style>\n",
       "<table border=\"1\" class=\"dataframe\">\n",
       "  <thead>\n",
       "    <tr style=\"text-align: right;\">\n",
       "      <th></th>\n",
       "      <th>Id</th>\n",
       "      <th>Date</th>\n",
       "      <th>Length</th>\n",
       "      <th>Weight</th>\n",
       "      <th>Pond</th>\n",
       "      <th>Weight_std</th>\n",
       "    </tr>\n",
       "  </thead>\n",
       "  <tbody>\n",
       "    <tr>\n",
       "      <th>0</th>\n",
       "      <td>G2_425869</td>\n",
       "      <td>7</td>\n",
       "      <td>390</td>\n",
       "      <td>718.6</td>\n",
       "      <td>1</td>\n",
       "      <td>-0.590720</td>\n",
       "    </tr>\n",
       "    <tr>\n",
       "      <th>1</th>\n",
       "      <td>G2_431479</td>\n",
       "      <td>7</td>\n",
       "      <td>410</td>\n",
       "      <td>969.2</td>\n",
       "      <td>1</td>\n",
       "      <td>0.686304</td>\n",
       "    </tr>\n",
       "    <tr>\n",
       "      <th>2</th>\n",
       "      <td>G2_425963</td>\n",
       "      <td>7</td>\n",
       "      <td>415</td>\n",
       "      <td>929.5</td>\n",
       "      <td>1</td>\n",
       "      <td>0.483998</td>\n",
       "    </tr>\n",
       "    <tr>\n",
       "      <th>3</th>\n",
       "      <td>G2_430763</td>\n",
       "      <td>7</td>\n",
       "      <td>415</td>\n",
       "      <td>967.5</td>\n",
       "      <td>1</td>\n",
       "      <td>0.677641</td>\n",
       "    </tr>\n",
       "    <tr>\n",
       "      <th>4</th>\n",
       "      <td>G2_430664</td>\n",
       "      <td>7</td>\n",
       "      <td>375</td>\n",
       "      <td>831.9</td>\n",
       "      <td>1</td>\n",
       "      <td>-0.013358</td>\n",
       "    </tr>\n",
       "  </tbody>\n",
       "</table>\n",
       "</div>"
      ],
      "text/plain": [
       "          Id  Date  Length  Weight  Pond  Weight_std\n",
       "0  G2_425869     7     390   718.6     1   -0.590720\n",
       "1  G2_431479     7     410   969.2     1    0.686304\n",
       "2  G2_425963     7     415   929.5     1    0.483998\n",
       "3  G2_430763     7     415   967.5     1    0.677641\n",
       "4  G2_430664     7     375   831.9     1   -0.013358"
      ]
     },
     "execution_count": 93,
     "metadata": {},
     "output_type": "execute_result"
    }
   ],
   "source": [
    "del pheno_shallow['Length_std']\n",
    "pheno_shallow.head()"
   ]
  },
  {
   "cell_type": "code",
   "execution_count": 94,
   "metadata": {},
   "outputs": [
    {
     "data": {
      "text/html": [
       "<div>\n",
       "<style scoped>\n",
       "    .dataframe tbody tr th:only-of-type {\n",
       "        vertical-align: middle;\n",
       "    }\n",
       "\n",
       "    .dataframe tbody tr th {\n",
       "        vertical-align: top;\n",
       "    }\n",
       "\n",
       "    .dataframe thead th {\n",
       "        text-align: right;\n",
       "    }\n",
       "</style>\n",
       "<table border=\"1\" class=\"dataframe\">\n",
       "  <thead>\n",
       "    <tr style=\"text-align: right;\">\n",
       "      <th></th>\n",
       "      <th>Id</th>\n",
       "      <th>Date</th>\n",
       "      <th>Length</th>\n",
       "      <th>Weight</th>\n",
       "      <th>Pond</th>\n",
       "      <th>Weight_std</th>\n",
       "    </tr>\n",
       "  </thead>\n",
       "  <tbody>\n",
       "    <tr>\n",
       "      <th>0</th>\n",
       "      <td>G2_425869</td>\n",
       "      <td>7</td>\n",
       "      <td>390</td>\n",
       "      <td>718.6</td>\n",
       "      <td>1</td>\n",
       "      <td>-0.590720</td>\n",
       "    </tr>\n",
       "    <tr>\n",
       "      <th>1</th>\n",
       "      <td>G2_431479</td>\n",
       "      <td>7</td>\n",
       "      <td>410</td>\n",
       "      <td>969.2</td>\n",
       "      <td>1</td>\n",
       "      <td>0.686304</td>\n",
       "    </tr>\n",
       "    <tr>\n",
       "      <th>2</th>\n",
       "      <td>G2_425963</td>\n",
       "      <td>7</td>\n",
       "      <td>415</td>\n",
       "      <td>929.5</td>\n",
       "      <td>1</td>\n",
       "      <td>0.483998</td>\n",
       "    </tr>\n",
       "    <tr>\n",
       "      <th>3</th>\n",
       "      <td>G2_430763</td>\n",
       "      <td>7</td>\n",
       "      <td>415</td>\n",
       "      <td>967.5</td>\n",
       "      <td>1</td>\n",
       "      <td>0.677641</td>\n",
       "    </tr>\n",
       "    <tr>\n",
       "      <th>4</th>\n",
       "      <td>G2_430664</td>\n",
       "      <td>7</td>\n",
       "      <td>375</td>\n",
       "      <td>831.9</td>\n",
       "      <td>1</td>\n",
       "      <td>-0.013358</td>\n",
       "    </tr>\n",
       "  </tbody>\n",
       "</table>\n",
       "</div>"
      ],
      "text/plain": [
       "          Id  Date  Length  Weight  Pond  Weight_std\n",
       "0  G2_425869     7     390   718.6     1   -0.590720\n",
       "1  G2_431479     7     410   969.2     1    0.686304\n",
       "2  G2_425963     7     415   929.5     1    0.483998\n",
       "3  G2_430763     7     415   967.5     1    0.677641\n",
       "4  G2_430664     7     375   831.9     1   -0.013358"
      ]
     },
     "execution_count": 94,
     "metadata": {},
     "output_type": "execute_result"
    }
   ],
   "source": [
    "pheno.head()"
   ]
  },
  {
   "cell_type": "code",
   "execution_count": 95,
   "metadata": {},
   "outputs": [
    {
     "data": {
      "text/html": [
       "<div>\n",
       "<style scoped>\n",
       "    .dataframe tbody tr th:only-of-type {\n",
       "        vertical-align: middle;\n",
       "    }\n",
       "\n",
       "    .dataframe tbody tr th {\n",
       "        vertical-align: top;\n",
       "    }\n",
       "\n",
       "    .dataframe thead th {\n",
       "        text-align: right;\n",
       "    }\n",
       "</style>\n",
       "<table border=\"1\" class=\"dataframe\">\n",
       "  <thead>\n",
       "    <tr style=\"text-align: right;\">\n",
       "      <th></th>\n",
       "      <th>Id</th>\n",
       "      <th>Date</th>\n",
       "      <th>Length</th>\n",
       "      <th>Weight</th>\n",
       "      <th>Pond</th>\n",
       "      <th>Length_std</th>\n",
       "      <th>Weight_std</th>\n",
       "    </tr>\n",
       "  </thead>\n",
       "  <tbody>\n",
       "    <tr>\n",
       "      <th>0</th>\n",
       "      <td>G2_425869</td>\n",
       "      <td>7</td>\n",
       "      <td>390</td>\n",
       "      <td>718.6</td>\n",
       "      <td>1</td>\n",
       "      <td>-0.278457</td>\n",
       "      <td>-0.590720</td>\n",
       "    </tr>\n",
       "    <tr>\n",
       "      <th>1</th>\n",
       "      <td>G2_431479</td>\n",
       "      <td>7</td>\n",
       "      <td>410</td>\n",
       "      <td>969.2</td>\n",
       "      <td>1</td>\n",
       "      <td>0.310292</td>\n",
       "      <td>0.686304</td>\n",
       "    </tr>\n",
       "    <tr>\n",
       "      <th>2</th>\n",
       "      <td>G2_425963</td>\n",
       "      <td>7</td>\n",
       "      <td>415</td>\n",
       "      <td>929.5</td>\n",
       "      <td>1</td>\n",
       "      <td>0.457479</td>\n",
       "      <td>0.483998</td>\n",
       "    </tr>\n",
       "    <tr>\n",
       "      <th>3</th>\n",
       "      <td>G2_430763</td>\n",
       "      <td>7</td>\n",
       "      <td>415</td>\n",
       "      <td>967.5</td>\n",
       "      <td>1</td>\n",
       "      <td>0.457479</td>\n",
       "      <td>0.677641</td>\n",
       "    </tr>\n",
       "    <tr>\n",
       "      <th>4</th>\n",
       "      <td>G2_430664</td>\n",
       "      <td>7</td>\n",
       "      <td>375</td>\n",
       "      <td>831.9</td>\n",
       "      <td>1</td>\n",
       "      <td>-0.720019</td>\n",
       "      <td>-0.013358</td>\n",
       "    </tr>\n",
       "  </tbody>\n",
       "</table>\n",
       "</div>"
      ],
      "text/plain": [
       "          Id  Date  Length  Weight  Pond  Length_std  Weight_std\n",
       "0  G2_425869     7     390   718.6     1   -0.278457   -0.590720\n",
       "1  G2_431479     7     410   969.2     1    0.310292    0.686304\n",
       "2  G2_425963     7     415   929.5     1    0.457479    0.483998\n",
       "3  G2_430763     7     415   967.5     1    0.457479    0.677641\n",
       "4  G2_430664     7     375   831.9     1   -0.720019   -0.013358"
      ]
     },
     "execution_count": 95,
     "metadata": {},
     "output_type": "execute_result"
    }
   ],
   "source": [
    "pheno_deep.head()"
   ]
  },
  {
   "cell_type": "code",
   "execution_count": 96,
   "metadata": {},
   "outputs": [
    {
     "data": {
      "text/html": [
       "<div>\n",
       "<style scoped>\n",
       "    .dataframe tbody tr th:only-of-type {\n",
       "        vertical-align: middle;\n",
       "    }\n",
       "\n",
       "    .dataframe tbody tr th {\n",
       "        vertical-align: top;\n",
       "    }\n",
       "\n",
       "    .dataframe thead th {\n",
       "        text-align: right;\n",
       "    }\n",
       "</style>\n",
       "<table border=\"1\" class=\"dataframe\">\n",
       "  <thead>\n",
       "    <tr style=\"text-align: right;\">\n",
       "      <th></th>\n",
       "      <th>Id</th>\n",
       "      <th>Date</th>\n",
       "      <th>Length</th>\n",
       "      <th>Weight</th>\n",
       "      <th>Pond</th>\n",
       "      <th>Weight_std</th>\n",
       "    </tr>\n",
       "  </thead>\n",
       "  <tbody>\n",
       "    <tr>\n",
       "      <th>0</th>\n",
       "      <td>G2_425869</td>\n",
       "      <td>7</td>\n",
       "      <td>390</td>\n",
       "      <td>718.6</td>\n",
       "      <td>1</td>\n",
       "      <td>-0.590720</td>\n",
       "    </tr>\n",
       "    <tr>\n",
       "      <th>1</th>\n",
       "      <td>G2_431479</td>\n",
       "      <td>7</td>\n",
       "      <td>410</td>\n",
       "      <td>969.2</td>\n",
       "      <td>1</td>\n",
       "      <td>0.686304</td>\n",
       "    </tr>\n",
       "    <tr>\n",
       "      <th>2</th>\n",
       "      <td>G2_425963</td>\n",
       "      <td>7</td>\n",
       "      <td>415</td>\n",
       "      <td>929.5</td>\n",
       "      <td>1</td>\n",
       "      <td>0.483998</td>\n",
       "    </tr>\n",
       "    <tr>\n",
       "      <th>3</th>\n",
       "      <td>G2_430763</td>\n",
       "      <td>7</td>\n",
       "      <td>415</td>\n",
       "      <td>967.5</td>\n",
       "      <td>1</td>\n",
       "      <td>0.677641</td>\n",
       "    </tr>\n",
       "    <tr>\n",
       "      <th>4</th>\n",
       "      <td>G2_430664</td>\n",
       "      <td>7</td>\n",
       "      <td>375</td>\n",
       "      <td>831.9</td>\n",
       "      <td>1</td>\n",
       "      <td>-0.013358</td>\n",
       "    </tr>\n",
       "  </tbody>\n",
       "</table>\n",
       "</div>"
      ],
      "text/plain": [
       "          Id  Date  Length  Weight  Pond  Weight_std\n",
       "0  G2_425869     7     390   718.6     1   -0.590720\n",
       "1  G2_431479     7     410   969.2     1    0.686304\n",
       "2  G2_425963     7     415   929.5     1    0.483998\n",
       "3  G2_430763     7     415   967.5     1    0.677641\n",
       "4  G2_430664     7     375   831.9     1   -0.013358"
      ]
     },
     "execution_count": 96,
     "metadata": {},
     "output_type": "execute_result"
    }
   ],
   "source": [
    "pheno.drop(['Weight_std'],axis=1)\n",
    "pheno.head()"
   ]
  },
  {
   "cell_type": "markdown",
   "metadata": {},
   "source": [
    "Seems to not have worked"
   ]
  },
  {
   "cell_type": "code",
   "execution_count": 97,
   "metadata": {},
   "outputs": [
    {
     "data": {
      "text/html": [
       "<div>\n",
       "<style scoped>\n",
       "    .dataframe tbody tr th:only-of-type {\n",
       "        vertical-align: middle;\n",
       "    }\n",
       "\n",
       "    .dataframe tbody tr th {\n",
       "        vertical-align: top;\n",
       "    }\n",
       "\n",
       "    .dataframe thead th {\n",
       "        text-align: right;\n",
       "    }\n",
       "</style>\n",
       "<table border=\"1\" class=\"dataframe\">\n",
       "  <thead>\n",
       "    <tr style=\"text-align: right;\">\n",
       "      <th></th>\n",
       "      <th>Id</th>\n",
       "      <th>Date</th>\n",
       "      <th>Length</th>\n",
       "      <th>Weight</th>\n",
       "      <th>Pond</th>\n",
       "    </tr>\n",
       "  </thead>\n",
       "  <tbody>\n",
       "    <tr>\n",
       "      <th>0</th>\n",
       "      <td>G2_425869</td>\n",
       "      <td>7</td>\n",
       "      <td>390</td>\n",
       "      <td>718.6</td>\n",
       "      <td>1</td>\n",
       "    </tr>\n",
       "    <tr>\n",
       "      <th>1</th>\n",
       "      <td>G2_431479</td>\n",
       "      <td>7</td>\n",
       "      <td>410</td>\n",
       "      <td>969.2</td>\n",
       "      <td>1</td>\n",
       "    </tr>\n",
       "    <tr>\n",
       "      <th>2</th>\n",
       "      <td>G2_425963</td>\n",
       "      <td>7</td>\n",
       "      <td>415</td>\n",
       "      <td>929.5</td>\n",
       "      <td>1</td>\n",
       "    </tr>\n",
       "    <tr>\n",
       "      <th>3</th>\n",
       "      <td>G2_430763</td>\n",
       "      <td>7</td>\n",
       "      <td>415</td>\n",
       "      <td>967.5</td>\n",
       "      <td>1</td>\n",
       "    </tr>\n",
       "    <tr>\n",
       "      <th>4</th>\n",
       "      <td>G2_430664</td>\n",
       "      <td>7</td>\n",
       "      <td>375</td>\n",
       "      <td>831.9</td>\n",
       "      <td>1</td>\n",
       "    </tr>\n",
       "  </tbody>\n",
       "</table>\n",
       "</div>"
      ],
      "text/plain": [
       "          Id  Date  Length  Weight  Pond\n",
       "0  G2_425869     7     390   718.6     1\n",
       "1  G2_431479     7     410   969.2     1\n",
       "2  G2_425963     7     415   929.5     1\n",
       "3  G2_430763     7     415   967.5     1\n",
       "4  G2_430664     7     375   831.9     1"
      ]
     },
     "execution_count": 97,
     "metadata": {},
     "output_type": "execute_result"
    }
   ],
   "source": [
    "pheno_new = pheno.drop(['Weight_std'], axis=1)\n",
    "pheno_new.head()"
   ]
  },
  {
   "cell_type": "markdown",
   "metadata": {},
   "source": [
    "We can delete rows using axis=0"
   ]
  },
  {
   "cell_type": "code",
   "execution_count": 98,
   "metadata": {},
   "outputs": [
    {
     "data": {
      "text/html": [
       "<div>\n",
       "<style scoped>\n",
       "    .dataframe tbody tr th:only-of-type {\n",
       "        vertical-align: middle;\n",
       "    }\n",
       "\n",
       "    .dataframe tbody tr th {\n",
       "        vertical-align: top;\n",
       "    }\n",
       "\n",
       "    .dataframe thead th {\n",
       "        text-align: right;\n",
       "    }\n",
       "</style>\n",
       "<table border=\"1\" class=\"dataframe\">\n",
       "  <thead>\n",
       "    <tr style=\"text-align: right;\">\n",
       "      <th></th>\n",
       "      <th>Id</th>\n",
       "      <th>Date</th>\n",
       "      <th>Length</th>\n",
       "      <th>Weight</th>\n",
       "      <th>Pond</th>\n",
       "    </tr>\n",
       "  </thead>\n",
       "  <tbody>\n",
       "    <tr>\n",
       "      <th>1</th>\n",
       "      <td>G2_431479</td>\n",
       "      <td>7</td>\n",
       "      <td>410</td>\n",
       "      <td>969.2</td>\n",
       "      <td>1</td>\n",
       "    </tr>\n",
       "    <tr>\n",
       "      <th>2</th>\n",
       "      <td>G2_425963</td>\n",
       "      <td>7</td>\n",
       "      <td>415</td>\n",
       "      <td>929.5</td>\n",
       "      <td>1</td>\n",
       "    </tr>\n",
       "    <tr>\n",
       "      <th>3</th>\n",
       "      <td>G2_430763</td>\n",
       "      <td>7</td>\n",
       "      <td>415</td>\n",
       "      <td>967.5</td>\n",
       "      <td>1</td>\n",
       "    </tr>\n",
       "    <tr>\n",
       "      <th>4</th>\n",
       "      <td>G2_430664</td>\n",
       "      <td>7</td>\n",
       "      <td>375</td>\n",
       "      <td>831.9</td>\n",
       "      <td>1</td>\n",
       "    </tr>\n",
       "    <tr>\n",
       "      <th>5</th>\n",
       "      <td>G2_430856</td>\n",
       "      <td>7</td>\n",
       "      <td>405</td>\n",
       "      <td>780.3</td>\n",
       "      <td>1</td>\n",
       "    </tr>\n",
       "    <tr>\n",
       "      <th>...</th>\n",
       "      <td>...</td>\n",
       "      <td>...</td>\n",
       "      <td>...</td>\n",
       "      <td>...</td>\n",
       "      <td>...</td>\n",
       "    </tr>\n",
       "    <tr>\n",
       "      <th>1763</th>\n",
       "      <td>G2_432045</td>\n",
       "      <td>14</td>\n",
       "      <td>398</td>\n",
       "      <td>688.0</td>\n",
       "      <td>2</td>\n",
       "    </tr>\n",
       "    <tr>\n",
       "      <th>1764</th>\n",
       "      <td>G2_426065</td>\n",
       "      <td>14</td>\n",
       "      <td>415</td>\n",
       "      <td>935.0</td>\n",
       "      <td>2</td>\n",
       "    </tr>\n",
       "    <tr>\n",
       "      <th>1765</th>\n",
       "      <td>G2_425343</td>\n",
       "      <td>14</td>\n",
       "      <td>305</td>\n",
       "      <td>319.0</td>\n",
       "      <td>2</td>\n",
       "    </tr>\n",
       "    <tr>\n",
       "      <th>1766</th>\n",
       "      <td>G2_425174</td>\n",
       "      <td>14</td>\n",
       "      <td>310</td>\n",
       "      <td>312.0</td>\n",
       "      <td>2</td>\n",
       "    </tr>\n",
       "    <tr>\n",
       "      <th>1767</th>\n",
       "      <td>G2_431493</td>\n",
       "      <td>14</td>\n",
       "      <td>390</td>\n",
       "      <td>831.0</td>\n",
       "      <td>2</td>\n",
       "    </tr>\n",
       "  </tbody>\n",
       "</table>\n",
       "<p>1767 rows × 5 columns</p>\n",
       "</div>"
      ],
      "text/plain": [
       "             Id  Date  Length  Weight  Pond\n",
       "1     G2_431479     7     410   969.2     1\n",
       "2     G2_425963     7     415   929.5     1\n",
       "3     G2_430763     7     415   967.5     1\n",
       "4     G2_430664     7     375   831.9     1\n",
       "5     G2_430856     7     405   780.3     1\n",
       "...         ...   ...     ...     ...   ...\n",
       "1763  G2_432045    14     398   688.0     2\n",
       "1764  G2_426065    14     415   935.0     2\n",
       "1765  G2_425343    14     305   319.0     2\n",
       "1766  G2_425174    14     310   312.0     2\n",
       "1767  G2_431493    14     390   831.0     2\n",
       "\n",
       "[1767 rows x 5 columns]"
      ]
     },
     "execution_count": 98,
     "metadata": {},
     "output_type": "execute_result"
    }
   ],
   "source": [
    "pheno_new.drop(0,axis=0)"
   ]
  },
  {
   "cell_type": "markdown",
   "metadata": {},
   "source": [
    "We can delete more than one column at a time"
   ]
  },
  {
   "cell_type": "code",
   "execution_count": 99,
   "metadata": {},
   "outputs": [
    {
     "data": {
      "text/html": [
       "<div>\n",
       "<style scoped>\n",
       "    .dataframe tbody tr th:only-of-type {\n",
       "        vertical-align: middle;\n",
       "    }\n",
       "\n",
       "    .dataframe tbody tr th {\n",
       "        vertical-align: top;\n",
       "    }\n",
       "\n",
       "    .dataframe thead th {\n",
       "        text-align: right;\n",
       "    }\n",
       "</style>\n",
       "<table border=\"1\" class=\"dataframe\">\n",
       "  <thead>\n",
       "    <tr style=\"text-align: right;\">\n",
       "      <th></th>\n",
       "      <th>Id</th>\n",
       "      <th>Date</th>\n",
       "      <th>Length</th>\n",
       "      <th>Weight</th>\n",
       "      <th>Pond</th>\n",
       "    </tr>\n",
       "  </thead>\n",
       "  <tbody>\n",
       "    <tr>\n",
       "      <th>0</th>\n",
       "      <td>G2_425869</td>\n",
       "      <td>7</td>\n",
       "      <td>390</td>\n",
       "      <td>718.6</td>\n",
       "      <td>1</td>\n",
       "    </tr>\n",
       "    <tr>\n",
       "      <th>1</th>\n",
       "      <td>G2_431479</td>\n",
       "      <td>7</td>\n",
       "      <td>410</td>\n",
       "      <td>969.2</td>\n",
       "      <td>1</td>\n",
       "    </tr>\n",
       "    <tr>\n",
       "      <th>2</th>\n",
       "      <td>G2_425963</td>\n",
       "      <td>7</td>\n",
       "      <td>415</td>\n",
       "      <td>929.5</td>\n",
       "      <td>1</td>\n",
       "    </tr>\n",
       "    <tr>\n",
       "      <th>3</th>\n",
       "      <td>G2_430763</td>\n",
       "      <td>7</td>\n",
       "      <td>415</td>\n",
       "      <td>967.5</td>\n",
       "      <td>1</td>\n",
       "    </tr>\n",
       "    <tr>\n",
       "      <th>4</th>\n",
       "      <td>G2_430664</td>\n",
       "      <td>7</td>\n",
       "      <td>375</td>\n",
       "      <td>831.9</td>\n",
       "      <td>1</td>\n",
       "    </tr>\n",
       "  </tbody>\n",
       "</table>\n",
       "</div>"
      ],
      "text/plain": [
       "          Id  Date  Length  Weight  Pond\n",
       "0  G2_425869     7     390   718.6     1\n",
       "1  G2_431479     7     410   969.2     1\n",
       "2  G2_425963     7     415   929.5     1\n",
       "3  G2_430763     7     415   967.5     1\n",
       "4  G2_430664     7     375   831.9     1"
      ]
     },
     "execution_count": 99,
     "metadata": {},
     "output_type": "execute_result"
    }
   ],
   "source": [
    "pheno_deep.drop(['Length_std','Weight_std'], axis=1, inplace=True)\n",
    "pheno_deep.head()"
   ]
  },
  {
   "cell_type": "markdown",
   "metadata": {},
   "source": [
    "## Plotting"
   ]
  },
  {
   "cell_type": "code",
   "execution_count": 100,
   "metadata": {},
   "outputs": [
    {
     "data": {
      "text/plain": [
       "<AxesSubplot:>"
      ]
     },
     "execution_count": 100,
     "metadata": {},
     "output_type": "execute_result"
    },
    {
     "data": {
      "image/png": "[encoded data removed]",
      "text/plain": [
       "<Figure size 432x288 with 1 Axes>"
      ]
     },
     "metadata": {
      "needs_background": "light"
     },
     "output_type": "display_data"
    }
   ],
   "source": [
    "pheno['Weight'].hist()"
   ]
  },
  {
   "cell_type": "code",
   "execution_count": 101,
   "metadata": {},
   "outputs": [
    {
     "data": {
      "text/plain": [
       "<AxesSubplot:>"
      ]
     },
     "execution_count": 101,
     "metadata": {},
     "output_type": "execute_result"
    },
    {
     "data": {
      "image/png": "[encoded data removed]",
      "text/plain": [
       "<Figure size 432x288 with 1 Axes>"
      ]
     },
     "metadata": {
      "needs_background": "light"
     },
     "output_type": "display_data"
    }
   ],
   "source": [
    "pheno['Weight'].hist(bins=50)"
   ]
  },
  {
   "cell_type": "code",
   "execution_count": 102,
   "metadata": {},
   "outputs": [
    {
     "data": {
      "text/plain": [
       "array([[<AxesSubplot:title={'center':'Length'}>,\n",
       "        <AxesSubplot:title={'center':'Weight'}>]], dtype=object)"
      ]
     },
     "execution_count": 102,
     "metadata": {},
     "output_type": "execute_result"
    },
    {
     "data": {
      "image/png": "[encoded data removed]",
      "text/plain": [
       "<Figure size 432x288 with 2 Axes>"
      ]
     },
     "metadata": {
      "needs_background": "light"
     },
     "output_type": "display_data"
    }
   ],
   "source": [
    "pheno[['Length','Weight']].hist(bins=50)"
   ]
  },
  {
   "cell_type": "code",
   "execution_count": 103,
   "metadata": {},
   "outputs": [
    {
     "data": {
      "text/plain": [
       "<AxesSubplot:>"
      ]
     },
     "execution_count": 103,
     "metadata": {},
     "output_type": "execute_result"
    },
    {
     "data": {
      "image/png": "[encoded data removed]",
      "text/plain": [
       "<Figure size 432x288 with 1 Axes>"
      ]
     },
     "metadata": {
      "needs_background": "light"
     },
     "output_type": "display_data"
    }
   ],
   "source": [
    "pheno.boxplot(column=['Length','Weight'])"
   ]
  },
  {
   "cell_type": "code",
   "execution_count": 104,
   "metadata": {},
   "outputs": [
    {
     "data": {
      "text/plain": [
       "<AxesSubplot:>"
      ]
     },
     "execution_count": 104,
     "metadata": {},
     "output_type": "execute_result"
    },
    {
     "data": {
      "image/png": "[encoded data removed]",
      "text/plain": [
       "<Figure size 432x288 with 1 Axes>"
      ]
     },
     "metadata": {
      "needs_background": "light"
     },
     "output_type": "display_data"
    }
   ],
   "source": [
    "pheno[['Length','Weight']].plot(kind='box')"
   ]
  },
  {
   "cell_type": "code",
   "execution_count": 105,
   "metadata": {},
   "outputs": [
    {
     "data": {
      "text/plain": [
       "<AxesSubplot:ylabel='Density'>"
      ]
     },
     "execution_count": 105,
     "metadata": {},
     "output_type": "execute_result"
    },
    {
     "data": {
      "image/png": "[encoded data removed]",
      "text/plain": [
       "<Figure size 432x288 with 1 Axes>"
      ]
     },
     "metadata": {
      "needs_background": "light"
     },
     "output_type": "display_data"
    }
   ],
   "source": [
    "pheno[['Length']].plot(kind='kde')"
   ]
  },
  {
   "cell_type": "markdown",
   "metadata": {},
   "source": [
    "\n",
    "\n",
    "# Summary"
   ]
  },
  {
   "cell_type": "markdown",
   "metadata": {},
   "source": [
    "- Series `pd.Series`.\n",
    "- Dataframe `pd.DataFrame`.\n",
    "- Read data from file `pd.read_csv`.\n",
    "- Get a first idea of your data using `head`, `shape`, `describe`, `count`, `nunique`.\n",
    "- Select parts of the dataframe using `loc` and `iloc`.\n",
    "- Using `copy` we can create a so called deep copy of our dataframe.\n",
    "- Keep in mind that using assignment creates a shallow copy. In that case modifying the copy affects the original object and vice versa.\n",
    "- Delete columns with `drop`.\n",
    "- axis =1 refers to colums while axis=0 to rows.\n",
    "- Many functions have an `inplace` argument. Setting it to true modifies the object in place.\n",
    "- We can use the plot method of a dataframe to make a wide range of plots for the variables we are interested in."
   ]
  },
  {
   "cell_type": "markdown",
   "metadata": {},
   "source": [
    "# Exercises"
   ]
  },
  {
   "cell_type": "markdown",
   "metadata": {},
   "source": [
    "## Exercise 1"
   ]
  },
  {
   "cell_type": "markdown",
   "metadata": {},
   "source": [
    "* Create a dataframe from the file `tilapia_pedigree.csv`. Name the dataframe `til_ped`. Show the first 10 and the last 10 number of rows. \n",
    "* Obtain the number of records of the dataframe. \n",
    "* Check the number of unique values for each column of the data frame.\n",
    "* Change the name of the columns to `Id`, `Sire`, `Dam` and `Population`.\n",
    "* For each Sire get the number of offspring.\n",
    "* For each family (sire and dam) get the number of offspring.\n",
    "* Assign an index that should contail the string `til_` followed by the number of the row. E.g. the index of the first recording should be `til_1` etc.\n",
    "* Extract the 10th row of the dataframe.\n",
    "* Create a new dataframe that contains the values of the original dataframe located between the 200th-300th rows and on the first three columns.\n",
    "* Extract the rows where the last column contains values of either `Mindu` or `Kilola`.\n",
    "* Extract the rows where the last column doesn't contail values of `Ruaha` and `Utete`.\n",
    "* Create a copy of the original dataframe and name it `til_ped_new`. Delete the last column. Make sure this doesn't affect the original dataframe.\n"
   ]
  },
  {
   "cell_type": "markdown",
   "metadata": {},
   "source": [
    "## Exercise 2"
   ]
  },
  {
   "cell_type": "markdown",
   "metadata": {},
   "source": [
    "* Create a dataframe from the file tilapia_pheno.txt. Name the dataframe til_pheno. Show the first 10 and the last 10 number of rows. The columns are separated using `;`.\n",
    "* How many records are in the dataframe.\n",
    "* For the non-numeric columns estimate the number of unique records.\n",
    "* Estimate a descriptive statistics summary.\n",
    "* Which `Location` has the animals with the highest final weight.\n",
    "* Which `Line` has the lowest mean final weight.\n",
    "* Estimate correlations between the weight and length related columns.\n",
    "* Create a new column that has values `Large`, `Medium`, `Small` for the animals that have `Weight_final` above 200, btween 100 - 200 and below 100 respectively.\n",
    "* Create a new dataframe keeping only records where the difference between `Weight_final` and `Weight_initial` is above 100.\n",
    "* Create a new dataframe keeping only records where the difference between `Weight_final` and `Weight_initial` is above 120 and the difference between `Length_final` and `Length_initial` is above 5.\n",
    "* Create histograms depicting the `Weight_final` for each of the `Location.\n",
    "* Create a boxplot depicting the difference between `Weight_final` and `Weight_initial` for each `Line`."
   ]
  },
  {
   "cell_type": "code",
   "execution_count": null,
   "metadata": {},
   "outputs": [],
   "source": []
  }
 ],
 "metadata": {
  "kernelspec": {
   "display_name": "Python 3 (ipykernel)",
   "language": "python",
   "name": "python3"
  },
  "language_info": {
   "codemirror_mode": {
    "name": "ipython",
    "version": 3
   },
   "file_extension": ".py",
   "mimetype": "text/x-python",
   "name": "python",
   "nbconvert_exporter": "python",
   "pygments_lexer": "ipython3",
   "version": "3.11.5"
  }
 },
 "nbformat": 4,
 "nbformat_minor": 2
}
