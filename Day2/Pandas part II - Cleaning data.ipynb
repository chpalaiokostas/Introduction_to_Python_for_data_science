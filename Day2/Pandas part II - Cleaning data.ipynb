{
 "cells": [
  {
   "cell_type": "code",
   "execution_count": 4,
   "metadata": {},
   "outputs": [],
   "source": [
    "import numpy as np\n",
    "import pandas as pd\n",
    "\n",
    "import warnings\n",
    "warnings.filterwarnings('ignore')"
   ]
  },
  {
   "cell_type": "markdown",
   "metadata": {},
   "source": [
    "## Load two datasets"
   ]
  },
  {
   "cell_type": "code",
   "execution_count": 5,
   "metadata": {},
   "outputs": [],
   "source": [
    "pheno = pd.read_csv(\"ac_pheno.txt\", sep=\"\\t\", na_values=\"NA\")"
   ]
  },
  {
   "cell_type": "code",
   "execution_count": 6,
   "metadata": {},
   "outputs": [
    {
     "data": {
      "text/html": [
       "<div>\n",
       "<style scoped>\n",
       "    .dataframe tbody tr th:only-of-type {\n",
       "        vertical-align: middle;\n",
       "    }\n",
       "\n",
       "    .dataframe tbody tr th {\n",
       "        vertical-align: top;\n",
       "    }\n",
       "\n",
       "    .dataframe thead th {\n",
       "        text-align: right;\n",
       "    }\n",
       "</style>\n",
       "<table border=\"1\" class=\"dataframe\">\n",
       "  <thead>\n",
       "    <tr style=\"text-align: right;\">\n",
       "      <th></th>\n",
       "      <th>PIT</th>\n",
       "      <th>Length</th>\n",
       "      <th>Weight</th>\n",
       "      <th>Tank</th>\n",
       "      <th>Site</th>\n",
       "    </tr>\n",
       "  </thead>\n",
       "  <tbody>\n",
       "    <tr>\n",
       "      <th>count</th>\n",
       "      <td>2.862000e+03</td>\n",
       "      <td>2838.000000</td>\n",
       "      <td>2845.000000</td>\n",
       "      <td>2852.000000</td>\n",
       "      <td>2852.000000</td>\n",
       "    </tr>\n",
       "    <tr>\n",
       "      <th>mean</th>\n",
       "      <td>9.527062e+05</td>\n",
       "      <td>463.836152</td>\n",
       "      <td>1648.482250</td>\n",
       "      <td>2.934432</td>\n",
       "      <td>1.461781</td>\n",
       "    </tr>\n",
       "    <tr>\n",
       "      <th>std</th>\n",
       "      <td>5.343191e+05</td>\n",
       "      <td>39.908756</td>\n",
       "      <td>529.221099</td>\n",
       "      <td>1.155825</td>\n",
       "      <td>0.498625</td>\n",
       "    </tr>\n",
       "    <tr>\n",
       "      <th>min</th>\n",
       "      <td>9.155810e+05</td>\n",
       "      <td>305.000000</td>\n",
       "      <td>306.000000</td>\n",
       "      <td>1.000000</td>\n",
       "      <td>1.000000</td>\n",
       "    </tr>\n",
       "    <tr>\n",
       "      <th>25%</th>\n",
       "      <td>9.167982e+05</td>\n",
       "      <td>440.000000</td>\n",
       "      <td>1286.000000</td>\n",
       "      <td>2.000000</td>\n",
       "      <td>1.000000</td>\n",
       "    </tr>\n",
       "    <tr>\n",
       "      <th>50%</th>\n",
       "      <td>9.180005e+05</td>\n",
       "      <td>465.000000</td>\n",
       "      <td>1600.000000</td>\n",
       "      <td>3.000000</td>\n",
       "      <td>1.000000</td>\n",
       "    </tr>\n",
       "    <tr>\n",
       "      <th>75%</th>\n",
       "      <td>9.193178e+05</td>\n",
       "      <td>490.000000</td>\n",
       "      <td>1950.000000</td>\n",
       "      <td>4.000000</td>\n",
       "      <td>2.000000</td>\n",
       "    </tr>\n",
       "    <tr>\n",
       "      <th>max</th>\n",
       "      <td>9.202514e+06</td>\n",
       "      <td>590.000000</td>\n",
       "      <td>3942.000000</td>\n",
       "      <td>4.000000</td>\n",
       "      <td>2.000000</td>\n",
       "    </tr>\n",
       "  </tbody>\n",
       "</table>\n",
       "</div>"
      ],
      "text/plain": [
       "                PIT       Length       Weight         Tank         Site\n",
       "count  2.862000e+03  2838.000000  2845.000000  2852.000000  2852.000000\n",
       "mean   9.527062e+05   463.836152  1648.482250     2.934432     1.461781\n",
       "std    5.343191e+05    39.908756   529.221099     1.155825     0.498625\n",
       "min    9.155810e+05   305.000000   306.000000     1.000000     1.000000\n",
       "25%    9.167982e+05   440.000000  1286.000000     2.000000     1.000000\n",
       "50%    9.180005e+05   465.000000  1600.000000     3.000000     1.000000\n",
       "75%    9.193178e+05   490.000000  1950.000000     4.000000     2.000000\n",
       "max    9.202514e+06   590.000000  3942.000000     4.000000     2.000000"
      ]
     },
     "execution_count": 6,
     "metadata": {},
     "output_type": "execute_result"
    }
   ],
   "source": [
    "pheno.describe()"
   ]
  },
  {
   "cell_type": "code",
   "execution_count": 7,
   "metadata": {},
   "outputs": [
    {
     "name": "stdout",
     "output_type": "stream",
     "text": [
      "<class 'pandas.core.frame.DataFrame'>\n",
      "RangeIndex: 2862 entries, 0 to 2861\n",
      "Data columns (total 6 columns):\n",
      " #   Column  Non-Null Count  Dtype  \n",
      "---  ------  --------------  -----  \n",
      " 0   PIT     2862 non-null   int64  \n",
      " 1   Length  2838 non-null   float64\n",
      " 2   Weight  2845 non-null   float64\n",
      " 3   Tank    2852 non-null   float64\n",
      " 4   Sex     2852 non-null   object \n",
      " 5   Site    2852 non-null   float64\n",
      "dtypes: float64(4), int64(1), object(1)\n",
      "memory usage: 134.3+ KB\n"
     ]
    }
   ],
   "source": [
    "pheno.info()"
   ]
  },
  {
   "cell_type": "code",
   "execution_count": 8,
   "metadata": {},
   "outputs": [],
   "source": [
    "pedigree = pd.read_csv(\"ac_ped.txt\", sep=\"\\t\")"
   ]
  },
  {
   "cell_type": "code",
   "execution_count": 9,
   "metadata": {},
   "outputs": [
    {
     "data": {
      "text/html": [
       "<div>\n",
       "<style scoped>\n",
       "    .dataframe tbody tr th:only-of-type {\n",
       "        vertical-align: middle;\n",
       "    }\n",
       "\n",
       "    .dataframe tbody tr th {\n",
       "        vertical-align: top;\n",
       "    }\n",
       "\n",
       "    .dataframe thead th {\n",
       "        text-align: right;\n",
       "    }\n",
       "</style>\n",
       "<table border=\"1\" class=\"dataframe\">\n",
       "  <thead>\n",
       "    <tr style=\"text-align: right;\">\n",
       "      <th></th>\n",
       "      <th>Id</th>\n",
       "      <th>Sire</th>\n",
       "      <th>Dam</th>\n",
       "      <th>Year_Class</th>\n",
       "      <th>Selected_gen</th>\n",
       "    </tr>\n",
       "  </thead>\n",
       "  <tbody>\n",
       "    <tr>\n",
       "      <th>0</th>\n",
       "      <td>478665</td>\n",
       "      <td>0</td>\n",
       "      <td>0</td>\n",
       "      <td>2013</td>\n",
       "      <td>7</td>\n",
       "    </tr>\n",
       "    <tr>\n",
       "      <th>1</th>\n",
       "      <td>478620</td>\n",
       "      <td>0</td>\n",
       "      <td>0</td>\n",
       "      <td>2013</td>\n",
       "      <td>7</td>\n",
       "    </tr>\n",
       "    <tr>\n",
       "      <th>2</th>\n",
       "      <td>478601</td>\n",
       "      <td>02F49B</td>\n",
       "      <td>01FD38</td>\n",
       "      <td>2013</td>\n",
       "      <td>7</td>\n",
       "    </tr>\n",
       "    <tr>\n",
       "      <th>3</th>\n",
       "      <td>478656</td>\n",
       "      <td>02F49B</td>\n",
       "      <td>01FD38</td>\n",
       "      <td>2013</td>\n",
       "      <td>7</td>\n",
       "    </tr>\n",
       "    <tr>\n",
       "      <th>4</th>\n",
       "      <td>478671</td>\n",
       "      <td>02F49B</td>\n",
       "      <td>01FD38</td>\n",
       "      <td>2013</td>\n",
       "      <td>7</td>\n",
       "    </tr>\n",
       "  </tbody>\n",
       "</table>\n",
       "</div>"
      ],
      "text/plain": [
       "       Id    Sire     Dam  Year_Class  Selected_gen\n",
       "0  478665       0       0        2013             7\n",
       "1  478620       0       0        2013             7\n",
       "2  478601  02F49B  01FD38        2013             7\n",
       "3  478656  02F49B  01FD38        2013             7\n",
       "4  478671  02F49B  01FD38        2013             7"
      ]
     },
     "execution_count": 9,
     "metadata": {},
     "output_type": "execute_result"
    }
   ],
   "source": [
    "pedigree.head()"
   ]
  },
  {
   "cell_type": "code",
   "execution_count": 10,
   "metadata": {},
   "outputs": [
    {
     "name": "stdout",
     "output_type": "stream",
     "text": [
      "<class 'pandas.core.frame.DataFrame'>\n",
      "RangeIndex: 8362 entries, 0 to 8361\n",
      "Data columns (total 5 columns):\n",
      " #   Column        Non-Null Count  Dtype \n",
      "---  ------        --------------  ----- \n",
      " 0   Id            8362 non-null   int64 \n",
      " 1   Sire          8362 non-null   object\n",
      " 2   Dam           8362 non-null   object\n",
      " 3   Year_Class    8362 non-null   int64 \n",
      " 4   Selected_gen  8362 non-null   int64 \n",
      "dtypes: int64(3), object(2)\n",
      "memory usage: 326.8+ KB\n"
     ]
    }
   ],
   "source": [
    "pedigree.info()"
   ]
  },
  {
   "cell_type": "markdown",
   "metadata": {},
   "source": [
    "## Change data type"
   ]
  },
  {
   "cell_type": "code",
   "execution_count": 11,
   "metadata": {},
   "outputs": [
    {
     "data": {
      "text/plain": [
       "0       1.0\n",
       "1       1.0\n",
       "2       1.0\n",
       "3       4.0\n",
       "4       4.0\n",
       "       ... \n",
       "2857    2.0\n",
       "2858    2.0\n",
       "2859    2.0\n",
       "2860    2.0\n",
       "2861    2.0\n",
       "Name: Tank, Length: 2862, dtype: category\n",
       "Categories (4, float64): [1.0, 2.0, 3.0, 4.0]"
      ]
     },
     "execution_count": 11,
     "metadata": {},
     "output_type": "execute_result"
    }
   ],
   "source": [
    "pheno['Tank'].astype('category')"
   ]
  },
  {
   "cell_type": "code",
   "execution_count": 12,
   "metadata": {},
   "outputs": [],
   "source": [
    "pheno[['PIT','Tank','Sex','Site']] = pheno[['PIT','Tank','Sex','Site']].astype('category')"
   ]
  },
  {
   "cell_type": "code",
   "execution_count": 13,
   "metadata": {},
   "outputs": [
    {
     "name": "stdout",
     "output_type": "stream",
     "text": [
      "<class 'pandas.core.frame.DataFrame'>\n",
      "RangeIndex: 2862 entries, 0 to 2861\n",
      "Data columns (total 6 columns):\n",
      " #   Column  Non-Null Count  Dtype   \n",
      "---  ------  --------------  -----   \n",
      " 0   PIT     2862 non-null   category\n",
      " 1   Length  2838 non-null   float64 \n",
      " 2   Weight  2845 non-null   float64 \n",
      " 3   Tank    2852 non-null   category\n",
      " 4   Sex     2852 non-null   category\n",
      " 5   Site    2852 non-null   category\n",
      "dtypes: category(4), float64(2)\n",
      "memory usage: 145.6 KB\n"
     ]
    }
   ],
   "source": [
    "pheno.info()"
   ]
  },
  {
   "cell_type": "markdown",
   "metadata": {},
   "source": [
    "## Missing data"
   ]
  },
  {
   "cell_type": "markdown",
   "metadata": {},
   "source": [
    "Will create first a toy dataframe"
   ]
  },
  {
   "cell_type": "code",
   "execution_count": 14,
   "metadata": {},
   "outputs": [
    {
     "data": {
      "text/html": [
       "<div>\n",
       "<style scoped>\n",
       "    .dataframe tbody tr th:only-of-type {\n",
       "        vertical-align: middle;\n",
       "    }\n",
       "\n",
       "    .dataframe tbody tr th {\n",
       "        vertical-align: top;\n",
       "    }\n",
       "\n",
       "    .dataframe thead th {\n",
       "        text-align: right;\n",
       "    }\n",
       "</style>\n",
       "<table border=\"1\" class=\"dataframe\">\n",
       "  <thead>\n",
       "    <tr style=\"text-align: right;\">\n",
       "      <th></th>\n",
       "      <th>0</th>\n",
       "      <th>1</th>\n",
       "      <th>2</th>\n",
       "      <th>3</th>\n",
       "      <th>4</th>\n",
       "    </tr>\n",
       "  </thead>\n",
       "  <tbody>\n",
       "    <tr>\n",
       "      <th>0</th>\n",
       "      <td>0.417317</td>\n",
       "      <td>0.316734</td>\n",
       "      <td>0.517525</td>\n",
       "      <td>1.298876</td>\n",
       "      <td>NaN</td>\n",
       "    </tr>\n",
       "    <tr>\n",
       "      <th>1</th>\n",
       "      <td>2.544269</td>\n",
       "      <td>0.355959</td>\n",
       "      <td>0.895502</td>\n",
       "      <td>0.388734</td>\n",
       "      <td>NaN</td>\n",
       "    </tr>\n",
       "    <tr>\n",
       "      <th>2</th>\n",
       "      <td>-0.914559</td>\n",
       "      <td>-0.309111</td>\n",
       "      <td>NaN</td>\n",
       "      <td>NaN</td>\n",
       "      <td>NaN</td>\n",
       "    </tr>\n",
       "    <tr>\n",
       "      <th>3</th>\n",
       "      <td>NaN</td>\n",
       "      <td>NaN</td>\n",
       "      <td>NaN</td>\n",
       "      <td>NaN</td>\n",
       "      <td>NaN</td>\n",
       "    </tr>\n",
       "    <tr>\n",
       "      <th>4</th>\n",
       "      <td>-0.711255</td>\n",
       "      <td>-0.040933</td>\n",
       "      <td>-0.798967</td>\n",
       "      <td>-0.050887</td>\n",
       "      <td>NaN</td>\n",
       "    </tr>\n",
       "    <tr>\n",
       "      <th>5</th>\n",
       "      <td>0.368484</td>\n",
       "      <td>-0.356796</td>\n",
       "      <td>-1.585723</td>\n",
       "      <td>1.259869</td>\n",
       "      <td>NaN</td>\n",
       "    </tr>\n",
       "    <tr>\n",
       "      <th>6</th>\n",
       "      <td>-1.888954</td>\n",
       "      <td>0.170213</td>\n",
       "      <td>-0.106694</td>\n",
       "      <td>-0.195518</td>\n",
       "      <td>NaN</td>\n",
       "    </tr>\n",
       "    <tr>\n",
       "      <th>7</th>\n",
       "      <td>2.216900</td>\n",
       "      <td>-1.169001</td>\n",
       "      <td>1.174276</td>\n",
       "      <td>-0.222852</td>\n",
       "      <td>NaN</td>\n",
       "    </tr>\n",
       "    <tr>\n",
       "      <th>8</th>\n",
       "      <td>-1.326401</td>\n",
       "      <td>-0.665227</td>\n",
       "      <td>1.164508</td>\n",
       "      <td>0.091250</td>\n",
       "      <td>NaN</td>\n",
       "    </tr>\n",
       "    <tr>\n",
       "      <th>9</th>\n",
       "      <td>0.070737</td>\n",
       "      <td>-0.537860</td>\n",
       "      <td>1.332300</td>\n",
       "      <td>0.576472</td>\n",
       "      <td>NaN</td>\n",
       "    </tr>\n",
       "  </tbody>\n",
       "</table>\n",
       "</div>"
      ],
      "text/plain": [
       "          0         1         2         3   4\n",
       "0  0.417317  0.316734  0.517525  1.298876 NaN\n",
       "1  2.544269  0.355959  0.895502  0.388734 NaN\n",
       "2 -0.914559 -0.309111       NaN       NaN NaN\n",
       "3       NaN       NaN       NaN       NaN NaN\n",
       "4 -0.711255 -0.040933 -0.798967 -0.050887 NaN\n",
       "5  0.368484 -0.356796 -1.585723  1.259869 NaN\n",
       "6 -1.888954  0.170213 -0.106694 -0.195518 NaN\n",
       "7  2.216900 -1.169001  1.174276 -0.222852 NaN\n",
       "8 -1.326401 -0.665227  1.164508  0.091250 NaN\n",
       "9  0.070737 -0.537860  1.332300  0.576472 NaN"
      ]
     },
     "execution_count": 14,
     "metadata": {},
     "output_type": "execute_result"
    }
   ],
   "source": [
    "df = pd.DataFrame(np.random.randn(10,5))\n",
    "df.iloc[2:3,2:5] = np.nan\n",
    "df.iloc[3,:] = np.nan\n",
    "df.iloc[:,4] = np.nan\n",
    "df"
   ]
  },
  {
   "cell_type": "markdown",
   "metadata": {},
   "source": [
    "If you want to inspect whether a row or a column is full of missing data you could try the following."
   ]
  },
  {
   "cell_type": "code",
   "execution_count": 32,
   "metadata": {},
   "outputs": [
    {
     "name": "stdout",
     "output_type": "stream",
     "text": [
      "Column 0 has non missing data\n",
      "Column 1 has non missing data\n",
      "Column 2 has non missing data\n",
      "Column 3 has non missing data\n",
      "Column 4 is full of missing values\n"
     ]
    }
   ],
   "source": [
    "for column in df.columns:\n",
    "    if df[column].isnull().all():\n",
    "        print(f\"Column {column} is full of missing values\")\n",
    "    else:\n",
    "        print(f\"Column {column} has non missing data\")"
   ]
  },
  {
   "cell_type": "code",
   "execution_count": 33,
   "metadata": {},
   "outputs": [
    {
     "name": "stdout",
     "output_type": "stream",
     "text": [
      "Row 0 has data\n",
      "Row 1 has data\n",
      "Row 2 has data\n",
      "Row 3 is full of missing data\n",
      "Row 4 has data\n",
      "Row 5 has data\n",
      "Row 6 has data\n",
      "Row 7 has data\n",
      "Row 8 has data\n",
      "Row 9 has data\n"
     ]
    }
   ],
   "source": [
    "[print(f\"Row {i} is full of missing data\") if df.iloc[i,:].isnull().all() else print(f\"Row {i} has data\") \n",
    " for i in range(0,df.shape[0])];"
   ]
  },
  {
   "cell_type": "code",
   "execution_count": 74,
   "metadata": {},
   "outputs": [
    {
     "data": {
      "text/html": [
       "<div>\n",
       "<style scoped>\n",
       "    .dataframe tbody tr th:only-of-type {\n",
       "        vertical-align: middle;\n",
       "    }\n",
       "\n",
       "    .dataframe tbody tr th {\n",
       "        vertical-align: top;\n",
       "    }\n",
       "\n",
       "    .dataframe thead th {\n",
       "        text-align: right;\n",
       "    }\n",
       "</style>\n",
       "<table border=\"1\" class=\"dataframe\">\n",
       "  <thead>\n",
       "    <tr style=\"text-align: right;\">\n",
       "      <th></th>\n",
       "      <th>0</th>\n",
       "      <th>1</th>\n",
       "      <th>2</th>\n",
       "      <th>3</th>\n",
       "      <th>4</th>\n",
       "    </tr>\n",
       "  </thead>\n",
       "  <tbody>\n",
       "    <tr>\n",
       "      <th>0</th>\n",
       "      <td>False</td>\n",
       "      <td>False</td>\n",
       "      <td>False</td>\n",
       "      <td>False</td>\n",
       "      <td>True</td>\n",
       "    </tr>\n",
       "    <tr>\n",
       "      <th>1</th>\n",
       "      <td>False</td>\n",
       "      <td>False</td>\n",
       "      <td>False</td>\n",
       "      <td>False</td>\n",
       "      <td>True</td>\n",
       "    </tr>\n",
       "    <tr>\n",
       "      <th>2</th>\n",
       "      <td>False</td>\n",
       "      <td>False</td>\n",
       "      <td>True</td>\n",
       "      <td>True</td>\n",
       "      <td>True</td>\n",
       "    </tr>\n",
       "    <tr>\n",
       "      <th>3</th>\n",
       "      <td>True</td>\n",
       "      <td>True</td>\n",
       "      <td>True</td>\n",
       "      <td>True</td>\n",
       "      <td>True</td>\n",
       "    </tr>\n",
       "    <tr>\n",
       "      <th>4</th>\n",
       "      <td>False</td>\n",
       "      <td>False</td>\n",
       "      <td>False</td>\n",
       "      <td>False</td>\n",
       "      <td>True</td>\n",
       "    </tr>\n",
       "    <tr>\n",
       "      <th>5</th>\n",
       "      <td>False</td>\n",
       "      <td>False</td>\n",
       "      <td>False</td>\n",
       "      <td>False</td>\n",
       "      <td>True</td>\n",
       "    </tr>\n",
       "    <tr>\n",
       "      <th>6</th>\n",
       "      <td>False</td>\n",
       "      <td>False</td>\n",
       "      <td>False</td>\n",
       "      <td>False</td>\n",
       "      <td>True</td>\n",
       "    </tr>\n",
       "    <tr>\n",
       "      <th>7</th>\n",
       "      <td>False</td>\n",
       "      <td>False</td>\n",
       "      <td>False</td>\n",
       "      <td>False</td>\n",
       "      <td>True</td>\n",
       "    </tr>\n",
       "    <tr>\n",
       "      <th>8</th>\n",
       "      <td>False</td>\n",
       "      <td>False</td>\n",
       "      <td>False</td>\n",
       "      <td>False</td>\n",
       "      <td>True</td>\n",
       "    </tr>\n",
       "    <tr>\n",
       "      <th>9</th>\n",
       "      <td>False</td>\n",
       "      <td>False</td>\n",
       "      <td>False</td>\n",
       "      <td>False</td>\n",
       "      <td>True</td>\n",
       "    </tr>\n",
       "  </tbody>\n",
       "</table>\n",
       "</div>"
      ],
      "text/plain": [
       "       0      1      2      3     4\n",
       "0  False  False  False  False  True\n",
       "1  False  False  False  False  True\n",
       "2  False  False   True   True  True\n",
       "3   True   True   True   True  True\n",
       "4  False  False  False  False  True\n",
       "5  False  False  False  False  True\n",
       "6  False  False  False  False  True\n",
       "7  False  False  False  False  True\n",
       "8  False  False  False  False  True\n",
       "9  False  False  False  False  True"
      ]
     },
     "execution_count": 74,
     "metadata": {},
     "output_type": "execute_result"
    }
   ],
   "source": [
    "df.isnull()"
   ]
  },
  {
   "cell_type": "code",
   "execution_count": 79,
   "metadata": {},
   "outputs": [
    {
     "data": {
      "text/html": [
       "<div>\n",
       "<style scoped>\n",
       "    .dataframe tbody tr th:only-of-type {\n",
       "        vertical-align: middle;\n",
       "    }\n",
       "\n",
       "    .dataframe tbody tr th {\n",
       "        vertical-align: top;\n",
       "    }\n",
       "\n",
       "    .dataframe thead th {\n",
       "        text-align: right;\n",
       "    }\n",
       "</style>\n",
       "<table border=\"1\" class=\"dataframe\">\n",
       "  <thead>\n",
       "    <tr style=\"text-align: right;\">\n",
       "      <th></th>\n",
       "      <th>0</th>\n",
       "      <th>1</th>\n",
       "      <th>2</th>\n",
       "      <th>3</th>\n",
       "      <th>4</th>\n",
       "    </tr>\n",
       "  </thead>\n",
       "  <tbody>\n",
       "  </tbody>\n",
       "</table>\n",
       "</div>"
      ],
      "text/plain": [
       "Empty DataFrame\n",
       "Columns: [0, 1, 2, 3, 4]\n",
       "Index: []"
      ]
     },
     "execution_count": 79,
     "metadata": {},
     "output_type": "execute_result"
    }
   ],
   "source": [
    "df_na = df.copy()\n",
    "df_na.dropna()"
   ]
  },
  {
   "cell_type": "markdown",
   "metadata": {},
   "source": [
    "The previous will drop any row that contains a missing value. We can be more flexible"
   ]
  },
  {
   "cell_type": "code",
   "execution_count": 76,
   "metadata": {},
   "outputs": [
    {
     "data": {
      "text/html": [
       "<div>\n",
       "<style scoped>\n",
       "    .dataframe tbody tr th:only-of-type {\n",
       "        vertical-align: middle;\n",
       "    }\n",
       "\n",
       "    .dataframe tbody tr th {\n",
       "        vertical-align: top;\n",
       "    }\n",
       "\n",
       "    .dataframe thead th {\n",
       "        text-align: right;\n",
       "    }\n",
       "</style>\n",
       "<table border=\"1\" class=\"dataframe\">\n",
       "  <thead>\n",
       "    <tr style=\"text-align: right;\">\n",
       "      <th></th>\n",
       "      <th>0</th>\n",
       "      <th>1</th>\n",
       "      <th>2</th>\n",
       "      <th>3</th>\n",
       "      <th>4</th>\n",
       "    </tr>\n",
       "  </thead>\n",
       "  <tbody>\n",
       "    <tr>\n",
       "      <th>0</th>\n",
       "      <td>0.016668</td>\n",
       "      <td>0.760506</td>\n",
       "      <td>-1.725937</td>\n",
       "      <td>-0.630309</td>\n",
       "      <td>NaN</td>\n",
       "    </tr>\n",
       "    <tr>\n",
       "      <th>1</th>\n",
       "      <td>-1.020664</td>\n",
       "      <td>1.134737</td>\n",
       "      <td>-0.636954</td>\n",
       "      <td>0.279499</td>\n",
       "      <td>NaN</td>\n",
       "    </tr>\n",
       "    <tr>\n",
       "      <th>2</th>\n",
       "      <td>1.268727</td>\n",
       "      <td>1.167512</td>\n",
       "      <td>NaN</td>\n",
       "      <td>NaN</td>\n",
       "      <td>NaN</td>\n",
       "    </tr>\n",
       "    <tr>\n",
       "      <th>4</th>\n",
       "      <td>-0.265961</td>\n",
       "      <td>0.342777</td>\n",
       "      <td>-0.224100</td>\n",
       "      <td>-0.304493</td>\n",
       "      <td>NaN</td>\n",
       "    </tr>\n",
       "    <tr>\n",
       "      <th>5</th>\n",
       "      <td>-0.279759</td>\n",
       "      <td>2.422095</td>\n",
       "      <td>2.052635</td>\n",
       "      <td>0.464536</td>\n",
       "      <td>NaN</td>\n",
       "    </tr>\n",
       "    <tr>\n",
       "      <th>6</th>\n",
       "      <td>1.918913</td>\n",
       "      <td>0.704934</td>\n",
       "      <td>-0.367343</td>\n",
       "      <td>1.654645</td>\n",
       "      <td>NaN</td>\n",
       "    </tr>\n",
       "    <tr>\n",
       "      <th>7</th>\n",
       "      <td>0.479391</td>\n",
       "      <td>-0.138547</td>\n",
       "      <td>0.017585</td>\n",
       "      <td>-1.903650</td>\n",
       "      <td>NaN</td>\n",
       "    </tr>\n",
       "    <tr>\n",
       "      <th>8</th>\n",
       "      <td>0.214193</td>\n",
       "      <td>0.401736</td>\n",
       "      <td>-0.220801</td>\n",
       "      <td>-0.484547</td>\n",
       "      <td>NaN</td>\n",
       "    </tr>\n",
       "    <tr>\n",
       "      <th>9</th>\n",
       "      <td>0.739941</td>\n",
       "      <td>0.372546</td>\n",
       "      <td>0.409929</td>\n",
       "      <td>0.616987</td>\n",
       "      <td>NaN</td>\n",
       "    </tr>\n",
       "  </tbody>\n",
       "</table>\n",
       "</div>"
      ],
      "text/plain": [
       "          0         1         2         3   4\n",
       "0  0.016668  0.760506 -1.725937 -0.630309 NaN\n",
       "1 -1.020664  1.134737 -0.636954  0.279499 NaN\n",
       "2  1.268727  1.167512       NaN       NaN NaN\n",
       "4 -0.265961  0.342777 -0.224100 -0.304493 NaN\n",
       "5 -0.279759  2.422095  2.052635  0.464536 NaN\n",
       "6  1.918913  0.704934 -0.367343  1.654645 NaN\n",
       "7  0.479391 -0.138547  0.017585 -1.903650 NaN\n",
       "8  0.214193  0.401736 -0.220801 -0.484547 NaN\n",
       "9  0.739941  0.372546  0.409929  0.616987 NaN"
      ]
     },
     "execution_count": 76,
     "metadata": {},
     "output_type": "execute_result"
    }
   ],
   "source": [
    "df_na.dropna(how='all')"
   ]
  },
  {
   "cell_type": "code",
   "execution_count": 80,
   "metadata": {},
   "outputs": [
    {
     "data": {
      "text/html": [
       "<div>\n",
       "<style scoped>\n",
       "    .dataframe tbody tr th:only-of-type {\n",
       "        vertical-align: middle;\n",
       "    }\n",
       "\n",
       "    .dataframe tbody tr th {\n",
       "        vertical-align: top;\n",
       "    }\n",
       "\n",
       "    .dataframe thead th {\n",
       "        text-align: right;\n",
       "    }\n",
       "</style>\n",
       "<table border=\"1\" class=\"dataframe\">\n",
       "  <thead>\n",
       "    <tr style=\"text-align: right;\">\n",
       "      <th></th>\n",
       "      <th>0</th>\n",
       "      <th>1</th>\n",
       "      <th>2</th>\n",
       "      <th>3</th>\n",
       "    </tr>\n",
       "  </thead>\n",
       "  <tbody>\n",
       "    <tr>\n",
       "      <th>0</th>\n",
       "      <td>0.016668</td>\n",
       "      <td>0.760506</td>\n",
       "      <td>-1.725937</td>\n",
       "      <td>-0.630309</td>\n",
       "    </tr>\n",
       "    <tr>\n",
       "      <th>1</th>\n",
       "      <td>-1.020664</td>\n",
       "      <td>1.134737</td>\n",
       "      <td>-0.636954</td>\n",
       "      <td>0.279499</td>\n",
       "    </tr>\n",
       "    <tr>\n",
       "      <th>2</th>\n",
       "      <td>1.268727</td>\n",
       "      <td>1.167512</td>\n",
       "      <td>NaN</td>\n",
       "      <td>NaN</td>\n",
       "    </tr>\n",
       "    <tr>\n",
       "      <th>3</th>\n",
       "      <td>NaN</td>\n",
       "      <td>NaN</td>\n",
       "      <td>NaN</td>\n",
       "      <td>NaN</td>\n",
       "    </tr>\n",
       "    <tr>\n",
       "      <th>4</th>\n",
       "      <td>-0.265961</td>\n",
       "      <td>0.342777</td>\n",
       "      <td>-0.224100</td>\n",
       "      <td>-0.304493</td>\n",
       "    </tr>\n",
       "    <tr>\n",
       "      <th>5</th>\n",
       "      <td>-0.279759</td>\n",
       "      <td>2.422095</td>\n",
       "      <td>2.052635</td>\n",
       "      <td>0.464536</td>\n",
       "    </tr>\n",
       "    <tr>\n",
       "      <th>6</th>\n",
       "      <td>1.918913</td>\n",
       "      <td>0.704934</td>\n",
       "      <td>-0.367343</td>\n",
       "      <td>1.654645</td>\n",
       "    </tr>\n",
       "    <tr>\n",
       "      <th>7</th>\n",
       "      <td>0.479391</td>\n",
       "      <td>-0.138547</td>\n",
       "      <td>0.017585</td>\n",
       "      <td>-1.903650</td>\n",
       "    </tr>\n",
       "    <tr>\n",
       "      <th>8</th>\n",
       "      <td>0.214193</td>\n",
       "      <td>0.401736</td>\n",
       "      <td>-0.220801</td>\n",
       "      <td>-0.484547</td>\n",
       "    </tr>\n",
       "    <tr>\n",
       "      <th>9</th>\n",
       "      <td>0.739941</td>\n",
       "      <td>0.372546</td>\n",
       "      <td>0.409929</td>\n",
       "      <td>0.616987</td>\n",
       "    </tr>\n",
       "  </tbody>\n",
       "</table>\n",
       "</div>"
      ],
      "text/plain": [
       "          0         1         2         3\n",
       "0  0.016668  0.760506 -1.725937 -0.630309\n",
       "1 -1.020664  1.134737 -0.636954  0.279499\n",
       "2  1.268727  1.167512       NaN       NaN\n",
       "3       NaN       NaN       NaN       NaN\n",
       "4 -0.265961  0.342777 -0.224100 -0.304493\n",
       "5 -0.279759  2.422095  2.052635  0.464536\n",
       "6  1.918913  0.704934 -0.367343  1.654645\n",
       "7  0.479391 -0.138547  0.017585 -1.903650\n",
       "8  0.214193  0.401736 -0.220801 -0.484547\n",
       "9  0.739941  0.372546  0.409929  0.616987"
      ]
     },
     "execution_count": 80,
     "metadata": {},
     "output_type": "execute_result"
    }
   ],
   "source": [
    "df_na.dropna(axis=\"columns\", how='all')"
   ]
  },
  {
   "cell_type": "code",
   "execution_count": 81,
   "metadata": {},
   "outputs": [
    {
     "data": {
      "text/html": [
       "<div>\n",
       "<style scoped>\n",
       "    .dataframe tbody tr th:only-of-type {\n",
       "        vertical-align: middle;\n",
       "    }\n",
       "\n",
       "    .dataframe tbody tr th {\n",
       "        vertical-align: top;\n",
       "    }\n",
       "\n",
       "    .dataframe thead th {\n",
       "        text-align: right;\n",
       "    }\n",
       "</style>\n",
       "<table border=\"1\" class=\"dataframe\">\n",
       "  <thead>\n",
       "    <tr style=\"text-align: right;\">\n",
       "      <th></th>\n",
       "      <th>0</th>\n",
       "      <th>1</th>\n",
       "      <th>2</th>\n",
       "      <th>3</th>\n",
       "      <th>4</th>\n",
       "    </tr>\n",
       "  </thead>\n",
       "  <tbody>\n",
       "    <tr>\n",
       "      <th>0</th>\n",
       "      <td>0.016668</td>\n",
       "      <td>0.760506</td>\n",
       "      <td>-1.725937</td>\n",
       "      <td>-0.630309</td>\n",
       "      <td>NaN</td>\n",
       "    </tr>\n",
       "    <tr>\n",
       "      <th>1</th>\n",
       "      <td>-1.020664</td>\n",
       "      <td>1.134737</td>\n",
       "      <td>-0.636954</td>\n",
       "      <td>0.279499</td>\n",
       "      <td>NaN</td>\n",
       "    </tr>\n",
       "    <tr>\n",
       "      <th>4</th>\n",
       "      <td>-0.265961</td>\n",
       "      <td>0.342777</td>\n",
       "      <td>-0.224100</td>\n",
       "      <td>-0.304493</td>\n",
       "      <td>NaN</td>\n",
       "    </tr>\n",
       "    <tr>\n",
       "      <th>5</th>\n",
       "      <td>-0.279759</td>\n",
       "      <td>2.422095</td>\n",
       "      <td>2.052635</td>\n",
       "      <td>0.464536</td>\n",
       "      <td>NaN</td>\n",
       "    </tr>\n",
       "    <tr>\n",
       "      <th>6</th>\n",
       "      <td>1.918913</td>\n",
       "      <td>0.704934</td>\n",
       "      <td>-0.367343</td>\n",
       "      <td>1.654645</td>\n",
       "      <td>NaN</td>\n",
       "    </tr>\n",
       "    <tr>\n",
       "      <th>7</th>\n",
       "      <td>0.479391</td>\n",
       "      <td>-0.138547</td>\n",
       "      <td>0.017585</td>\n",
       "      <td>-1.903650</td>\n",
       "      <td>NaN</td>\n",
       "    </tr>\n",
       "    <tr>\n",
       "      <th>8</th>\n",
       "      <td>0.214193</td>\n",
       "      <td>0.401736</td>\n",
       "      <td>-0.220801</td>\n",
       "      <td>-0.484547</td>\n",
       "      <td>NaN</td>\n",
       "    </tr>\n",
       "    <tr>\n",
       "      <th>9</th>\n",
       "      <td>0.739941</td>\n",
       "      <td>0.372546</td>\n",
       "      <td>0.409929</td>\n",
       "      <td>0.616987</td>\n",
       "      <td>NaN</td>\n",
       "    </tr>\n",
       "  </tbody>\n",
       "</table>\n",
       "</div>"
      ],
      "text/plain": [
       "          0         1         2         3   4\n",
       "0  0.016668  0.760506 -1.725937 -0.630309 NaN\n",
       "1 -1.020664  1.134737 -0.636954  0.279499 NaN\n",
       "4 -0.265961  0.342777 -0.224100 -0.304493 NaN\n",
       "5 -0.279759  2.422095  2.052635  0.464536 NaN\n",
       "6  1.918913  0.704934 -0.367343  1.654645 NaN\n",
       "7  0.479391 -0.138547  0.017585 -1.903650 NaN\n",
       "8  0.214193  0.401736 -0.220801 -0.484547 NaN\n",
       "9  0.739941  0.372546  0.409929  0.616987 NaN"
      ]
     },
     "execution_count": 81,
     "metadata": {},
     "output_type": "execute_result"
    }
   ],
   "source": [
    "df_na.dropna(thresh=3)"
   ]
  },
  {
   "cell_type": "markdown",
   "metadata": {},
   "source": [
    "### Filling missing value"
   ]
  },
  {
   "cell_type": "code",
   "execution_count": 82,
   "metadata": {},
   "outputs": [
    {
     "data": {
      "text/html": [
       "<div>\n",
       "<style scoped>\n",
       "    .dataframe tbody tr th:only-of-type {\n",
       "        vertical-align: middle;\n",
       "    }\n",
       "\n",
       "    .dataframe tbody tr th {\n",
       "        vertical-align: top;\n",
       "    }\n",
       "\n",
       "    .dataframe thead th {\n",
       "        text-align: right;\n",
       "    }\n",
       "</style>\n",
       "<table border=\"1\" class=\"dataframe\">\n",
       "  <thead>\n",
       "    <tr style=\"text-align: right;\">\n",
       "      <th></th>\n",
       "      <th>0</th>\n",
       "      <th>1</th>\n",
       "      <th>2</th>\n",
       "      <th>3</th>\n",
       "      <th>4</th>\n",
       "    </tr>\n",
       "  </thead>\n",
       "  <tbody>\n",
       "    <tr>\n",
       "      <th>0</th>\n",
       "      <td>0.016668</td>\n",
       "      <td>0.760506</td>\n",
       "      <td>-1.725937</td>\n",
       "      <td>-0.630309</td>\n",
       "      <td>0.0</td>\n",
       "    </tr>\n",
       "    <tr>\n",
       "      <th>1</th>\n",
       "      <td>-1.020664</td>\n",
       "      <td>1.134737</td>\n",
       "      <td>-0.636954</td>\n",
       "      <td>0.279499</td>\n",
       "      <td>0.0</td>\n",
       "    </tr>\n",
       "    <tr>\n",
       "      <th>2</th>\n",
       "      <td>1.268727</td>\n",
       "      <td>1.167512</td>\n",
       "      <td>0.000000</td>\n",
       "      <td>0.000000</td>\n",
       "      <td>0.0</td>\n",
       "    </tr>\n",
       "    <tr>\n",
       "      <th>3</th>\n",
       "      <td>0.000000</td>\n",
       "      <td>0.000000</td>\n",
       "      <td>0.000000</td>\n",
       "      <td>0.000000</td>\n",
       "      <td>0.0</td>\n",
       "    </tr>\n",
       "    <tr>\n",
       "      <th>4</th>\n",
       "      <td>-0.265961</td>\n",
       "      <td>0.342777</td>\n",
       "      <td>-0.224100</td>\n",
       "      <td>-0.304493</td>\n",
       "      <td>0.0</td>\n",
       "    </tr>\n",
       "    <tr>\n",
       "      <th>5</th>\n",
       "      <td>-0.279759</td>\n",
       "      <td>2.422095</td>\n",
       "      <td>2.052635</td>\n",
       "      <td>0.464536</td>\n",
       "      <td>0.0</td>\n",
       "    </tr>\n",
       "    <tr>\n",
       "      <th>6</th>\n",
       "      <td>1.918913</td>\n",
       "      <td>0.704934</td>\n",
       "      <td>-0.367343</td>\n",
       "      <td>1.654645</td>\n",
       "      <td>0.0</td>\n",
       "    </tr>\n",
       "    <tr>\n",
       "      <th>7</th>\n",
       "      <td>0.479391</td>\n",
       "      <td>-0.138547</td>\n",
       "      <td>0.017585</td>\n",
       "      <td>-1.903650</td>\n",
       "      <td>0.0</td>\n",
       "    </tr>\n",
       "    <tr>\n",
       "      <th>8</th>\n",
       "      <td>0.214193</td>\n",
       "      <td>0.401736</td>\n",
       "      <td>-0.220801</td>\n",
       "      <td>-0.484547</td>\n",
       "      <td>0.0</td>\n",
       "    </tr>\n",
       "    <tr>\n",
       "      <th>9</th>\n",
       "      <td>0.739941</td>\n",
       "      <td>0.372546</td>\n",
       "      <td>0.409929</td>\n",
       "      <td>0.616987</td>\n",
       "      <td>0.0</td>\n",
       "    </tr>\n",
       "  </tbody>\n",
       "</table>\n",
       "</div>"
      ],
      "text/plain": [
       "          0         1         2         3    4\n",
       "0  0.016668  0.760506 -1.725937 -0.630309  0.0\n",
       "1 -1.020664  1.134737 -0.636954  0.279499  0.0\n",
       "2  1.268727  1.167512  0.000000  0.000000  0.0\n",
       "3  0.000000  0.000000  0.000000  0.000000  0.0\n",
       "4 -0.265961  0.342777 -0.224100 -0.304493  0.0\n",
       "5 -0.279759  2.422095  2.052635  0.464536  0.0\n",
       "6  1.918913  0.704934 -0.367343  1.654645  0.0\n",
       "7  0.479391 -0.138547  0.017585 -1.903650  0.0\n",
       "8  0.214193  0.401736 -0.220801 -0.484547  0.0\n",
       "9  0.739941  0.372546  0.409929  0.616987  0.0"
      ]
     },
     "execution_count": 82,
     "metadata": {},
     "output_type": "execute_result"
    }
   ],
   "source": [
    "df_na.fillna(0)"
   ]
  },
  {
   "cell_type": "code",
   "execution_count": 83,
   "metadata": {},
   "outputs": [
    {
     "data": {
      "text/html": [
       "<div>\n",
       "<style scoped>\n",
       "    .dataframe tbody tr th:only-of-type {\n",
       "        vertical-align: middle;\n",
       "    }\n",
       "\n",
       "    .dataframe tbody tr th {\n",
       "        vertical-align: top;\n",
       "    }\n",
       "\n",
       "    .dataframe thead th {\n",
       "        text-align: right;\n",
       "    }\n",
       "</style>\n",
       "<table border=\"1\" class=\"dataframe\">\n",
       "  <thead>\n",
       "    <tr style=\"text-align: right;\">\n",
       "      <th></th>\n",
       "      <th>0</th>\n",
       "      <th>1</th>\n",
       "      <th>2</th>\n",
       "      <th>3</th>\n",
       "      <th>4</th>\n",
       "    </tr>\n",
       "  </thead>\n",
       "  <tbody>\n",
       "    <tr>\n",
       "      <th>0</th>\n",
       "      <td>0.016668</td>\n",
       "      <td>0.760506</td>\n",
       "      <td>-1.725937</td>\n",
       "      <td>-0.630309</td>\n",
       "      <td>NaN</td>\n",
       "    </tr>\n",
       "    <tr>\n",
       "      <th>1</th>\n",
       "      <td>-1.020664</td>\n",
       "      <td>1.134737</td>\n",
       "      <td>-0.636954</td>\n",
       "      <td>0.279499</td>\n",
       "      <td>NaN</td>\n",
       "    </tr>\n",
       "    <tr>\n",
       "      <th>2</th>\n",
       "      <td>1.268727</td>\n",
       "      <td>1.167512</td>\n",
       "      <td>-0.636954</td>\n",
       "      <td>0.279499</td>\n",
       "      <td>NaN</td>\n",
       "    </tr>\n",
       "    <tr>\n",
       "      <th>3</th>\n",
       "      <td>1.268727</td>\n",
       "      <td>1.167512</td>\n",
       "      <td>-0.636954</td>\n",
       "      <td>0.279499</td>\n",
       "      <td>NaN</td>\n",
       "    </tr>\n",
       "    <tr>\n",
       "      <th>4</th>\n",
       "      <td>-0.265961</td>\n",
       "      <td>0.342777</td>\n",
       "      <td>-0.224100</td>\n",
       "      <td>-0.304493</td>\n",
       "      <td>NaN</td>\n",
       "    </tr>\n",
       "    <tr>\n",
       "      <th>5</th>\n",
       "      <td>-0.279759</td>\n",
       "      <td>2.422095</td>\n",
       "      <td>2.052635</td>\n",
       "      <td>0.464536</td>\n",
       "      <td>NaN</td>\n",
       "    </tr>\n",
       "    <tr>\n",
       "      <th>6</th>\n",
       "      <td>1.918913</td>\n",
       "      <td>0.704934</td>\n",
       "      <td>-0.367343</td>\n",
       "      <td>1.654645</td>\n",
       "      <td>NaN</td>\n",
       "    </tr>\n",
       "    <tr>\n",
       "      <th>7</th>\n",
       "      <td>0.479391</td>\n",
       "      <td>-0.138547</td>\n",
       "      <td>0.017585</td>\n",
       "      <td>-1.903650</td>\n",
       "      <td>NaN</td>\n",
       "    </tr>\n",
       "    <tr>\n",
       "      <th>8</th>\n",
       "      <td>0.214193</td>\n",
       "      <td>0.401736</td>\n",
       "      <td>-0.220801</td>\n",
       "      <td>-0.484547</td>\n",
       "      <td>NaN</td>\n",
       "    </tr>\n",
       "    <tr>\n",
       "      <th>9</th>\n",
       "      <td>0.739941</td>\n",
       "      <td>0.372546</td>\n",
       "      <td>0.409929</td>\n",
       "      <td>0.616987</td>\n",
       "      <td>NaN</td>\n",
       "    </tr>\n",
       "  </tbody>\n",
       "</table>\n",
       "</div>"
      ],
      "text/plain": [
       "          0         1         2         3   4\n",
       "0  0.016668  0.760506 -1.725937 -0.630309 NaN\n",
       "1 -1.020664  1.134737 -0.636954  0.279499 NaN\n",
       "2  1.268727  1.167512 -0.636954  0.279499 NaN\n",
       "3  1.268727  1.167512 -0.636954  0.279499 NaN\n",
       "4 -0.265961  0.342777 -0.224100 -0.304493 NaN\n",
       "5 -0.279759  2.422095  2.052635  0.464536 NaN\n",
       "6  1.918913  0.704934 -0.367343  1.654645 NaN\n",
       "7  0.479391 -0.138547  0.017585 -1.903650 NaN\n",
       "8  0.214193  0.401736 -0.220801 -0.484547 NaN\n",
       "9  0.739941  0.372546  0.409929  0.616987 NaN"
      ]
     },
     "execution_count": 83,
     "metadata": {},
     "output_type": "execute_result"
    }
   ],
   "source": [
    "df_na.fillna(method='ffill')"
   ]
  },
  {
   "cell_type": "code",
   "execution_count": 84,
   "metadata": {},
   "outputs": [
    {
     "data": {
      "text/plain": [
       "0       False\n",
       "1       False\n",
       "2       False\n",
       "3       False\n",
       "4       False\n",
       "        ...  \n",
       "2857    False\n",
       "2858    False\n",
       "2859    False\n",
       "2860    False\n",
       "2861    False\n",
       "Name: Length, Length: 2862, dtype: bool"
      ]
     },
     "execution_count": 84,
     "metadata": {},
     "output_type": "execute_result"
    }
   ],
   "source": [
    "pheno['Length'].isnull()"
   ]
  },
  {
   "cell_type": "code",
   "execution_count": 85,
   "metadata": {},
   "outputs": [
    {
     "data": {
      "text/plain": [
       "24"
      ]
     },
     "execution_count": 85,
     "metadata": {},
     "output_type": "execute_result"
    }
   ],
   "source": [
    "sum(pheno['Length'].isnull())"
   ]
  },
  {
   "cell_type": "code",
   "execution_count": 86,
   "metadata": {},
   "outputs": [
    {
     "data": {
      "text/plain": [
       "True"
      ]
     },
     "execution_count": 86,
     "metadata": {},
     "output_type": "execute_result"
    }
   ],
   "source": [
    "pheno['Length'].isnull().any()"
   ]
  },
  {
   "cell_type": "code",
   "execution_count": 87,
   "metadata": {},
   "outputs": [
    {
     "data": {
      "text/plain": [
       "0       True\n",
       "1       True\n",
       "2       True\n",
       "3       True\n",
       "4       True\n",
       "        ... \n",
       "2857    True\n",
       "2858    True\n",
       "2859    True\n",
       "2860    True\n",
       "2861    True\n",
       "Name: Length, Length: 2862, dtype: bool"
      ]
     },
     "execution_count": 87,
     "metadata": {},
     "output_type": "execute_result"
    }
   ],
   "source": [
    "pheno['Length'].notnull()"
   ]
  },
  {
   "cell_type": "code",
   "execution_count": 88,
   "metadata": {},
   "outputs": [
    {
     "data": {
      "text/plain": [
       "2838"
      ]
     },
     "execution_count": 88,
     "metadata": {},
     "output_type": "execute_result"
    }
   ],
   "source": [
    "sum(pheno['Length'].notnull())"
   ]
  },
  {
   "cell_type": "code",
   "execution_count": 89,
   "metadata": {},
   "outputs": [
    {
     "data": {
      "text/html": [
       "<div>\n",
       "<style scoped>\n",
       "    .dataframe tbody tr th:only-of-type {\n",
       "        vertical-align: middle;\n",
       "    }\n",
       "\n",
       "    .dataframe tbody tr th {\n",
       "        vertical-align: top;\n",
       "    }\n",
       "\n",
       "    .dataframe thead th {\n",
       "        text-align: right;\n",
       "    }\n",
       "</style>\n",
       "<table border=\"1\" class=\"dataframe\">\n",
       "  <thead>\n",
       "    <tr style=\"text-align: right;\">\n",
       "      <th></th>\n",
       "      <th>PIT</th>\n",
       "      <th>Length</th>\n",
       "      <th>Weight</th>\n",
       "      <th>Tank</th>\n",
       "      <th>Sex</th>\n",
       "      <th>Site</th>\n",
       "    </tr>\n",
       "  </thead>\n",
       "  <tbody>\n",
       "    <tr>\n",
       "      <th>0</th>\n",
       "      <td>False</td>\n",
       "      <td>False</td>\n",
       "      <td>False</td>\n",
       "      <td>False</td>\n",
       "      <td>False</td>\n",
       "      <td>False</td>\n",
       "    </tr>\n",
       "    <tr>\n",
       "      <th>1</th>\n",
       "      <td>False</td>\n",
       "      <td>False</td>\n",
       "      <td>False</td>\n",
       "      <td>False</td>\n",
       "      <td>False</td>\n",
       "      <td>False</td>\n",
       "    </tr>\n",
       "    <tr>\n",
       "      <th>2</th>\n",
       "      <td>False</td>\n",
       "      <td>False</td>\n",
       "      <td>False</td>\n",
       "      <td>False</td>\n",
       "      <td>False</td>\n",
       "      <td>False</td>\n",
       "    </tr>\n",
       "    <tr>\n",
       "      <th>3</th>\n",
       "      <td>False</td>\n",
       "      <td>False</td>\n",
       "      <td>False</td>\n",
       "      <td>False</td>\n",
       "      <td>False</td>\n",
       "      <td>False</td>\n",
       "    </tr>\n",
       "    <tr>\n",
       "      <th>4</th>\n",
       "      <td>False</td>\n",
       "      <td>False</td>\n",
       "      <td>False</td>\n",
       "      <td>False</td>\n",
       "      <td>False</td>\n",
       "      <td>False</td>\n",
       "    </tr>\n",
       "    <tr>\n",
       "      <th>...</th>\n",
       "      <td>...</td>\n",
       "      <td>...</td>\n",
       "      <td>...</td>\n",
       "      <td>...</td>\n",
       "      <td>...</td>\n",
       "      <td>...</td>\n",
       "    </tr>\n",
       "    <tr>\n",
       "      <th>2857</th>\n",
       "      <td>False</td>\n",
       "      <td>False</td>\n",
       "      <td>False</td>\n",
       "      <td>False</td>\n",
       "      <td>False</td>\n",
       "      <td>False</td>\n",
       "    </tr>\n",
       "    <tr>\n",
       "      <th>2858</th>\n",
       "      <td>False</td>\n",
       "      <td>False</td>\n",
       "      <td>False</td>\n",
       "      <td>False</td>\n",
       "      <td>False</td>\n",
       "      <td>False</td>\n",
       "    </tr>\n",
       "    <tr>\n",
       "      <th>2859</th>\n",
       "      <td>False</td>\n",
       "      <td>False</td>\n",
       "      <td>False</td>\n",
       "      <td>False</td>\n",
       "      <td>False</td>\n",
       "      <td>False</td>\n",
       "    </tr>\n",
       "    <tr>\n",
       "      <th>2860</th>\n",
       "      <td>False</td>\n",
       "      <td>False</td>\n",
       "      <td>False</td>\n",
       "      <td>False</td>\n",
       "      <td>False</td>\n",
       "      <td>False</td>\n",
       "    </tr>\n",
       "    <tr>\n",
       "      <th>2861</th>\n",
       "      <td>False</td>\n",
       "      <td>False</td>\n",
       "      <td>False</td>\n",
       "      <td>False</td>\n",
       "      <td>False</td>\n",
       "      <td>False</td>\n",
       "    </tr>\n",
       "  </tbody>\n",
       "</table>\n",
       "<p>2862 rows × 6 columns</p>\n",
       "</div>"
      ],
      "text/plain": [
       "        PIT  Length  Weight   Tank    Sex   Site\n",
       "0     False   False   False  False  False  False\n",
       "1     False   False   False  False  False  False\n",
       "2     False   False   False  False  False  False\n",
       "3     False   False   False  False  False  False\n",
       "4     False   False   False  False  False  False\n",
       "...     ...     ...     ...    ...    ...    ...\n",
       "2857  False   False   False  False  False  False\n",
       "2858  False   False   False  False  False  False\n",
       "2859  False   False   False  False  False  False\n",
       "2860  False   False   False  False  False  False\n",
       "2861  False   False   False  False  False  False\n",
       "\n",
       "[2862 rows x 6 columns]"
      ]
     },
     "execution_count": 89,
     "metadata": {},
     "output_type": "execute_result"
    }
   ],
   "source": [
    "pheno.isnull()"
   ]
  },
  {
   "cell_type": "code",
   "execution_count": 90,
   "metadata": {},
   "outputs": [],
   "source": [
    "pheno_clean = pheno.copy()"
   ]
  },
  {
   "cell_type": "code",
   "execution_count": 91,
   "metadata": {},
   "outputs": [
    {
     "data": {
      "text/plain": [
       "PIT       False\n",
       "Length    False\n",
       "Weight    False\n",
       "Tank      False\n",
       "Sex       False\n",
       "Site      False\n",
       "dtype: bool"
      ]
     },
     "execution_count": 91,
     "metadata": {},
     "output_type": "execute_result"
    }
   ],
   "source": [
    "pheno_clean.dropna(inplace=True)\n",
    "pheno_clean.isna().any()"
   ]
  },
  {
   "cell_type": "markdown",
   "metadata": {},
   "source": [
    "## Replace values"
   ]
  },
  {
   "cell_type": "code",
   "execution_count": 92,
   "metadata": {},
   "outputs": [
    {
     "data": {
      "text/html": [
       "<div>\n",
       "<style scoped>\n",
       "    .dataframe tbody tr th:only-of-type {\n",
       "        vertical-align: middle;\n",
       "    }\n",
       "\n",
       "    .dataframe tbody tr th {\n",
       "        vertical-align: top;\n",
       "    }\n",
       "\n",
       "    .dataframe thead th {\n",
       "        text-align: right;\n",
       "    }\n",
       "</style>\n",
       "<table border=\"1\" class=\"dataframe\">\n",
       "  <thead>\n",
       "    <tr style=\"text-align: right;\">\n",
       "      <th></th>\n",
       "      <th>Id</th>\n",
       "      <th>Sire</th>\n",
       "      <th>Dam</th>\n",
       "      <th>Year_Class</th>\n",
       "      <th>Selected_gen</th>\n",
       "    </tr>\n",
       "  </thead>\n",
       "  <tbody>\n",
       "    <tr>\n",
       "      <th>0</th>\n",
       "      <td>478665</td>\n",
       "      <td>0</td>\n",
       "      <td>0</td>\n",
       "      <td>2013</td>\n",
       "      <td>7</td>\n",
       "    </tr>\n",
       "    <tr>\n",
       "      <th>1</th>\n",
       "      <td>478620</td>\n",
       "      <td>0</td>\n",
       "      <td>0</td>\n",
       "      <td>2013</td>\n",
       "      <td>7</td>\n",
       "    </tr>\n",
       "    <tr>\n",
       "      <th>2</th>\n",
       "      <td>478601</td>\n",
       "      <td>02F49B</td>\n",
       "      <td>01FD38</td>\n",
       "      <td>2013</td>\n",
       "      <td>7</td>\n",
       "    </tr>\n",
       "    <tr>\n",
       "      <th>3</th>\n",
       "      <td>478656</td>\n",
       "      <td>02F49B</td>\n",
       "      <td>01FD38</td>\n",
       "      <td>2013</td>\n",
       "      <td>7</td>\n",
       "    </tr>\n",
       "    <tr>\n",
       "      <th>4</th>\n",
       "      <td>478671</td>\n",
       "      <td>02F49B</td>\n",
       "      <td>01FD38</td>\n",
       "      <td>2013</td>\n",
       "      <td>7</td>\n",
       "    </tr>\n",
       "  </tbody>\n",
       "</table>\n",
       "</div>"
      ],
      "text/plain": [
       "       Id    Sire     Dam  Year_Class  Selected_gen\n",
       "0  478665       0       0        2013             7\n",
       "1  478620       0       0        2013             7\n",
       "2  478601  02F49B  01FD38        2013             7\n",
       "3  478656  02F49B  01FD38        2013             7\n",
       "4  478671  02F49B  01FD38        2013             7"
      ]
     },
     "execution_count": 92,
     "metadata": {},
     "output_type": "execute_result"
    }
   ],
   "source": [
    "pedigree.head()"
   ]
  },
  {
   "cell_type": "code",
   "execution_count": 93,
   "metadata": {},
   "outputs": [
    {
     "data": {
      "text/plain": [
       "0            0\n",
       "1            0\n",
       "2       02F49B\n",
       "3       02F49B\n",
       "4       02F49B\n",
       "         ...  \n",
       "8357    597579\n",
       "8358    597579\n",
       "8359    597579\n",
       "8360    597579\n",
       "8361    597579\n",
       "Name: Sire, Length: 8362, dtype: object"
      ]
     },
     "execution_count": 93,
     "metadata": {},
     "output_type": "execute_result"
    }
   ],
   "source": [
    "pedigree['Sire'].replace(0,np.nan)"
   ]
  },
  {
   "cell_type": "code",
   "execution_count": 95,
   "metadata": {},
   "outputs": [
    {
     "name": "stdout",
     "output_type": "stream",
     "text": [
      "<class 'pandas.core.frame.DataFrame'>\n",
      "RangeIndex: 8362 entries, 0 to 8361\n",
      "Data columns (total 5 columns):\n",
      " #   Column        Non-Null Count  Dtype \n",
      "---  ------        --------------  ----- \n",
      " 0   Id            8362 non-null   int64 \n",
      " 1   Sire          8362 non-null   object\n",
      " 2   Dam           8362 non-null   object\n",
      " 3   Year_Class    8362 non-null   int64 \n",
      " 4   Selected_gen  8362 non-null   int64 \n",
      "dtypes: int64(3), object(2)\n",
      "memory usage: 326.8+ KB\n"
     ]
    }
   ],
   "source": [
    "pedigree.info()"
   ]
  },
  {
   "cell_type": "code",
   "execution_count": 96,
   "metadata": {},
   "outputs": [
    {
     "data": {
      "text/plain": [
       "0          NaN\n",
       "1          NaN\n",
       "2       02F49B\n",
       "3       02F49B\n",
       "4       02F49B\n",
       "         ...  \n",
       "8357    597579\n",
       "8358    597579\n",
       "8359    597579\n",
       "8360    597579\n",
       "8361    597579\n",
       "Name: Sire, Length: 8362, dtype: object"
      ]
     },
     "execution_count": 96,
     "metadata": {},
     "output_type": "execute_result"
    }
   ],
   "source": [
    "pedigree['Sire'].replace('0',np.nan)"
   ]
  },
  {
   "cell_type": "code",
   "execution_count": 31,
   "metadata": {},
   "outputs": [
    {
     "data": {
      "text/html": [
       "<div>\n",
       "<style scoped>\n",
       "    .dataframe tbody tr th:only-of-type {\n",
       "        vertical-align: middle;\n",
       "    }\n",
       "\n",
       "    .dataframe tbody tr th {\n",
       "        vertical-align: top;\n",
       "    }\n",
       "\n",
       "    .dataframe thead th {\n",
       "        text-align: right;\n",
       "    }\n",
       "</style>\n",
       "<table border=\"1\" class=\"dataframe\">\n",
       "  <thead>\n",
       "    <tr style=\"text-align: right;\">\n",
       "      <th></th>\n",
       "      <th>Sire</th>\n",
       "      <th>Dam</th>\n",
       "    </tr>\n",
       "  </thead>\n",
       "  <tbody>\n",
       "    <tr>\n",
       "      <th>0</th>\n",
       "      <td>NaN</td>\n",
       "      <td>NaN</td>\n",
       "    </tr>\n",
       "    <tr>\n",
       "      <th>1</th>\n",
       "      <td>NaN</td>\n",
       "      <td>NaN</td>\n",
       "    </tr>\n",
       "    <tr>\n",
       "      <th>2</th>\n",
       "      <td>02F49B</td>\n",
       "      <td>01FD38</td>\n",
       "    </tr>\n",
       "    <tr>\n",
       "      <th>3</th>\n",
       "      <td>02F49B</td>\n",
       "      <td>01FD38</td>\n",
       "    </tr>\n",
       "    <tr>\n",
       "      <th>4</th>\n",
       "      <td>02F49B</td>\n",
       "      <td>01FD38</td>\n",
       "    </tr>\n",
       "    <tr>\n",
       "      <th>...</th>\n",
       "      <td>...</td>\n",
       "      <td>...</td>\n",
       "    </tr>\n",
       "    <tr>\n",
       "      <th>8357</th>\n",
       "      <td>597579</td>\n",
       "      <td>900730</td>\n",
       "    </tr>\n",
       "    <tr>\n",
       "      <th>8358</th>\n",
       "      <td>597579</td>\n",
       "      <td>900730</td>\n",
       "    </tr>\n",
       "    <tr>\n",
       "      <th>8359</th>\n",
       "      <td>597579</td>\n",
       "      <td>900730</td>\n",
       "    </tr>\n",
       "    <tr>\n",
       "      <th>8360</th>\n",
       "      <td>597579</td>\n",
       "      <td>900730</td>\n",
       "    </tr>\n",
       "    <tr>\n",
       "      <th>8361</th>\n",
       "      <td>597579</td>\n",
       "      <td>900730</td>\n",
       "    </tr>\n",
       "  </tbody>\n",
       "</table>\n",
       "<p>8362 rows × 2 columns</p>\n",
       "</div>"
      ],
      "text/plain": [
       "        Sire     Dam\n",
       "0        NaN     NaN\n",
       "1        NaN     NaN\n",
       "2     02F49B  01FD38\n",
       "3     02F49B  01FD38\n",
       "4     02F49B  01FD38\n",
       "...      ...     ...\n",
       "8357  597579  900730\n",
       "8358  597579  900730\n",
       "8359  597579  900730\n",
       "8360  597579  900730\n",
       "8361  597579  900730\n",
       "\n",
       "[8362 rows x 2 columns]"
      ]
     },
     "execution_count": 31,
     "metadata": {},
     "output_type": "execute_result"
    }
   ],
   "source": [
    "pedigree[['Sire','Dam']].replace('0',np.nan)"
   ]
  },
  {
   "cell_type": "code",
   "execution_count": 98,
   "metadata": {},
   "outputs": [],
   "source": [
    "pedigree.loc[pedigree['Sire']=='0','Sire'] = np.nan"
   ]
  },
  {
   "cell_type": "code",
   "execution_count": 99,
   "metadata": {},
   "outputs": [
    {
     "data": {
      "text/html": [
       "<div>\n",
       "<style scoped>\n",
       "    .dataframe tbody tr th:only-of-type {\n",
       "        vertical-align: middle;\n",
       "    }\n",
       "\n",
       "    .dataframe tbody tr th {\n",
       "        vertical-align: top;\n",
       "    }\n",
       "\n",
       "    .dataframe thead th {\n",
       "        text-align: right;\n",
       "    }\n",
       "</style>\n",
       "<table border=\"1\" class=\"dataframe\">\n",
       "  <thead>\n",
       "    <tr style=\"text-align: right;\">\n",
       "      <th></th>\n",
       "      <th>Id</th>\n",
       "      <th>Sire</th>\n",
       "      <th>Dam</th>\n",
       "      <th>Year_Class</th>\n",
       "      <th>Selected_gen</th>\n",
       "    </tr>\n",
       "  </thead>\n",
       "  <tbody>\n",
       "    <tr>\n",
       "      <th>0</th>\n",
       "      <td>478665</td>\n",
       "      <td>NaN</td>\n",
       "      <td>0</td>\n",
       "      <td>2013</td>\n",
       "      <td>7</td>\n",
       "    </tr>\n",
       "    <tr>\n",
       "      <th>1</th>\n",
       "      <td>478620</td>\n",
       "      <td>NaN</td>\n",
       "      <td>0</td>\n",
       "      <td>2013</td>\n",
       "      <td>7</td>\n",
       "    </tr>\n",
       "    <tr>\n",
       "      <th>2</th>\n",
       "      <td>478601</td>\n",
       "      <td>02F49B</td>\n",
       "      <td>01FD38</td>\n",
       "      <td>2013</td>\n",
       "      <td>7</td>\n",
       "    </tr>\n",
       "    <tr>\n",
       "      <th>3</th>\n",
       "      <td>478656</td>\n",
       "      <td>02F49B</td>\n",
       "      <td>01FD38</td>\n",
       "      <td>2013</td>\n",
       "      <td>7</td>\n",
       "    </tr>\n",
       "    <tr>\n",
       "      <th>4</th>\n",
       "      <td>478671</td>\n",
       "      <td>02F49B</td>\n",
       "      <td>01FD38</td>\n",
       "      <td>2013</td>\n",
       "      <td>7</td>\n",
       "    </tr>\n",
       "  </tbody>\n",
       "</table>\n",
       "</div>"
      ],
      "text/plain": [
       "       Id    Sire     Dam  Year_Class  Selected_gen\n",
       "0  478665     NaN       0        2013             7\n",
       "1  478620     NaN       0        2013             7\n",
       "2  478601  02F49B  01FD38        2013             7\n",
       "3  478656  02F49B  01FD38        2013             7\n",
       "4  478671  02F49B  01FD38        2013             7"
      ]
     },
     "execution_count": 99,
     "metadata": {},
     "output_type": "execute_result"
    }
   ],
   "source": [
    "pedigree.head()"
   ]
  },
  {
   "cell_type": "markdown",
   "metadata": {},
   "source": [
    "## Detect duplications\n"
   ]
  },
  {
   "cell_type": "code",
   "execution_count": 100,
   "metadata": {},
   "outputs": [
    {
     "data": {
      "text/plain": [
       "8362"
      ]
     },
     "execution_count": 100,
     "metadata": {},
     "output_type": "execute_result"
    }
   ],
   "source": [
    "pedigree['Id'].count()"
   ]
  },
  {
   "cell_type": "code",
   "execution_count": 101,
   "metadata": {},
   "outputs": [
    {
     "data": {
      "text/plain": [
       "8359"
      ]
     },
     "execution_count": 101,
     "metadata": {},
     "output_type": "execute_result"
    }
   ],
   "source": [
    "pedigree['Id'].nunique()"
   ]
  },
  {
   "cell_type": "code",
   "execution_count": 102,
   "metadata": {},
   "outputs": [
    {
     "data": {
      "text/plain": [
       "Id              8359\n",
       "Sire              74\n",
       "Dam              105\n",
       "Year_Class         2\n",
       "Selected_gen       2\n",
       "dtype: int64"
      ]
     },
     "execution_count": 102,
     "metadata": {},
     "output_type": "execute_result"
    }
   ],
   "source": [
    "pedigree.nunique()"
   ]
  },
  {
   "cell_type": "code",
   "execution_count": 103,
   "metadata": {},
   "outputs": [
    {
     "data": {
      "text/plain": [
       "0       False\n",
       "1       False\n",
       "2       False\n",
       "3       False\n",
       "4       False\n",
       "        ...  \n",
       "8357    False\n",
       "8358    False\n",
       "8359    False\n",
       "8360    False\n",
       "8361    False\n",
       "Name: Id, Length: 8362, dtype: bool"
      ]
     },
     "execution_count": 103,
     "metadata": {},
     "output_type": "execute_result"
    }
   ],
   "source": [
    "pedigree['Id'].duplicated()"
   ]
  },
  {
   "cell_type": "code",
   "execution_count": 104,
   "metadata": {},
   "outputs": [
    {
     "data": {
      "text/plain": [
       "True"
      ]
     },
     "execution_count": 104,
     "metadata": {},
     "output_type": "execute_result"
    }
   ],
   "source": [
    "pedigree['Id'].duplicated().any()"
   ]
  },
  {
   "cell_type": "code",
   "execution_count": 105,
   "metadata": {},
   "outputs": [
    {
     "data": {
      "text/plain": [
       "0       478665\n",
       "1       478620\n",
       "2       478601\n",
       "3       478656\n",
       "4       478671\n",
       "         ...  \n",
       "8357    919218\n",
       "8358    919013\n",
       "8359    919448\n",
       "8360    919246\n",
       "8361    919420\n",
       "Name: Id, Length: 8359, dtype: int64"
      ]
     },
     "execution_count": 105,
     "metadata": {},
     "output_type": "execute_result"
    }
   ],
   "source": [
    "pedigree['Id'].drop_duplicates()"
   ]
  },
  {
   "cell_type": "code",
   "execution_count": 106,
   "metadata": {},
   "outputs": [],
   "source": [
    "pedigree.drop_duplicates(inplace=True)"
   ]
  },
  {
   "cell_type": "code",
   "execution_count": 107,
   "metadata": {},
   "outputs": [
    {
     "data": {
      "text/plain": [
       "\u001b[0;31mSignature:\u001b[0m\n",
       "\u001b[0mpedigree\u001b[0m\u001b[0;34m.\u001b[0m\u001b[0mdrop_duplicates\u001b[0m\u001b[0;34m(\u001b[0m\u001b[0;34m\u001b[0m\n",
       "\u001b[0;34m\u001b[0m    \u001b[0msubset\u001b[0m\u001b[0;34m:\u001b[0m \u001b[0;34m'Hashable | Sequence[Hashable] | None'\u001b[0m \u001b[0;34m=\u001b[0m \u001b[0;32mNone\u001b[0m\u001b[0;34m,\u001b[0m\u001b[0;34m\u001b[0m\n",
       "\u001b[0;34m\u001b[0m    \u001b[0;34m*\u001b[0m\u001b[0;34m,\u001b[0m\u001b[0;34m\u001b[0m\n",
       "\u001b[0;34m\u001b[0m    \u001b[0mkeep\u001b[0m\u001b[0;34m:\u001b[0m \u001b[0;34m'DropKeep'\u001b[0m \u001b[0;34m=\u001b[0m \u001b[0;34m'first'\u001b[0m\u001b[0;34m,\u001b[0m\u001b[0;34m\u001b[0m\n",
       "\u001b[0;34m\u001b[0m    \u001b[0minplace\u001b[0m\u001b[0;34m:\u001b[0m \u001b[0;34m'bool'\u001b[0m \u001b[0;34m=\u001b[0m \u001b[0;32mFalse\u001b[0m\u001b[0;34m,\u001b[0m\u001b[0;34m\u001b[0m\n",
       "\u001b[0;34m\u001b[0m    \u001b[0mignore_index\u001b[0m\u001b[0;34m:\u001b[0m \u001b[0;34m'bool'\u001b[0m \u001b[0;34m=\u001b[0m \u001b[0;32mFalse\u001b[0m\u001b[0;34m,\u001b[0m\u001b[0;34m\u001b[0m\n",
       "\u001b[0;34m\u001b[0m\u001b[0;34m)\u001b[0m \u001b[0;34m->\u001b[0m \u001b[0;34m'DataFrame | None'\u001b[0m\u001b[0;34m\u001b[0m\u001b[0;34m\u001b[0m\u001b[0m\n",
       "\u001b[0;31mDocstring:\u001b[0m\n",
       "Return DataFrame with duplicate rows removed.\n",
       "\n",
       "Considering certain columns is optional. Indexes, including time indexes\n",
       "are ignored.\n",
       "\n",
       "Parameters\n",
       "----------\n",
       "subset : column label or sequence of labels, optional\n",
       "    Only consider certain columns for identifying duplicates, by\n",
       "    default use all of the columns.\n",
       "keep : {'first', 'last', ``False``}, default 'first'\n",
       "    Determines which duplicates (if any) to keep.\n",
       "\n",
       "    - 'first' : Drop duplicates except for the first occurrence.\n",
       "    - 'last' : Drop duplicates except for the last occurrence.\n",
       "    - ``False`` : Drop all duplicates.\n",
       "\n",
       "inplace : bool, default ``False``\n",
       "    Whether to modify the DataFrame rather than creating a new one.\n",
       "ignore_index : bool, default ``False``\n",
       "    If ``True``, the resulting axis will be labeled 0, 1, …, n - 1.\n",
       "\n",
       "Returns\n",
       "-------\n",
       "DataFrame or None\n",
       "    DataFrame with duplicates removed or None if ``inplace=True``.\n",
       "\n",
       "See Also\n",
       "--------\n",
       "DataFrame.value_counts: Count unique combinations of columns.\n",
       "\n",
       "Examples\n",
       "--------\n",
       "Consider dataset containing ramen rating.\n",
       "\n",
       ">>> df = pd.DataFrame({\n",
       "...     'brand': ['Yum Yum', 'Yum Yum', 'Indomie', 'Indomie', 'Indomie'],\n",
       "...     'style': ['cup', 'cup', 'cup', 'pack', 'pack'],\n",
       "...     'rating': [4, 4, 3.5, 15, 5]\n",
       "... })\n",
       ">>> df\n",
       "    brand style  rating\n",
       "0  Yum Yum   cup     4.0\n",
       "1  Yum Yum   cup     4.0\n",
       "2  Indomie   cup     3.5\n",
       "3  Indomie  pack    15.0\n",
       "4  Indomie  pack     5.0\n",
       "\n",
       "By default, it removes duplicate rows based on all columns.\n",
       "\n",
       ">>> df.drop_duplicates()\n",
       "    brand style  rating\n",
       "0  Yum Yum   cup     4.0\n",
       "2  Indomie   cup     3.5\n",
       "3  Indomie  pack    15.0\n",
       "4  Indomie  pack     5.0\n",
       "\n",
       "To remove duplicates on specific column(s), use ``subset``.\n",
       "\n",
       ">>> df.drop_duplicates(subset=['brand'])\n",
       "    brand style  rating\n",
       "0  Yum Yum   cup     4.0\n",
       "2  Indomie   cup     3.5\n",
       "\n",
       "To remove duplicates and keep last occurrences, use ``keep``.\n",
       "\n",
       ">>> df.drop_duplicates(subset=['brand', 'style'], keep='last')\n",
       "    brand style  rating\n",
       "1  Yum Yum   cup     4.0\n",
       "2  Indomie   cup     3.5\n",
       "4  Indomie  pack     5.0\n",
       "\u001b[0;31mFile:\u001b[0m      ~/anaconda3/lib/python3.11/site-packages/pandas/core/frame.py\n",
       "\u001b[0;31mType:\u001b[0m      method"
      ]
     },
     "metadata": {},
     "output_type": "display_data"
    }
   ],
   "source": [
    "pedigree.drop_duplicates?"
   ]
  },
  {
   "cell_type": "code",
   "execution_count": 108,
   "metadata": {},
   "outputs": [
    {
     "data": {
      "text/plain": [
       "False"
      ]
     },
     "execution_count": 108,
     "metadata": {},
     "output_type": "execute_result"
    }
   ],
   "source": [
    "pedigree['Id'].duplicated().any()"
   ]
  },
  {
   "cell_type": "markdown",
   "metadata": {},
   "source": [
    "## Creating new variables"
   ]
  },
  {
   "cell_type": "code",
   "execution_count": 109,
   "metadata": {},
   "outputs": [
    {
     "data": {
      "text/html": [
       "<div>\n",
       "<style scoped>\n",
       "    .dataframe tbody tr th:only-of-type {\n",
       "        vertical-align: middle;\n",
       "    }\n",
       "\n",
       "    .dataframe tbody tr th {\n",
       "        vertical-align: top;\n",
       "    }\n",
       "\n",
       "    .dataframe thead th {\n",
       "        text-align: right;\n",
       "    }\n",
       "</style>\n",
       "<table border=\"1\" class=\"dataframe\">\n",
       "  <thead>\n",
       "    <tr style=\"text-align: right;\">\n",
       "      <th></th>\n",
       "      <th>PIT</th>\n",
       "      <th>Length</th>\n",
       "      <th>Weight</th>\n",
       "      <th>Tank</th>\n",
       "      <th>Sex</th>\n",
       "      <th>Site</th>\n",
       "    </tr>\n",
       "  </thead>\n",
       "  <tbody>\n",
       "    <tr>\n",
       "      <th>0</th>\n",
       "      <td>919540</td>\n",
       "      <td>465.0</td>\n",
       "      <td>1514.0</td>\n",
       "      <td>1.0</td>\n",
       "      <td>U</td>\n",
       "      <td>1.0</td>\n",
       "    </tr>\n",
       "    <tr>\n",
       "      <th>1</th>\n",
       "      <td>918025</td>\n",
       "      <td>455.0</td>\n",
       "      <td>1250.0</td>\n",
       "      <td>1.0</td>\n",
       "      <td>U</td>\n",
       "      <td>1.0</td>\n",
       "    </tr>\n",
       "    <tr>\n",
       "      <th>2</th>\n",
       "      <td>917803</td>\n",
       "      <td>405.0</td>\n",
       "      <td>937.0</td>\n",
       "      <td>1.0</td>\n",
       "      <td>U</td>\n",
       "      <td>1.0</td>\n",
       "    </tr>\n",
       "    <tr>\n",
       "      <th>3</th>\n",
       "      <td>918763</td>\n",
       "      <td>505.0</td>\n",
       "      <td>2667.0</td>\n",
       "      <td>4.0</td>\n",
       "      <td>M</td>\n",
       "      <td>2.0</td>\n",
       "    </tr>\n",
       "    <tr>\n",
       "      <th>4</th>\n",
       "      <td>917365</td>\n",
       "      <td>500.0</td>\n",
       "      <td>2204.0</td>\n",
       "      <td>4.0</td>\n",
       "      <td>U</td>\n",
       "      <td>2.0</td>\n",
       "    </tr>\n",
       "  </tbody>\n",
       "</table>\n",
       "</div>"
      ],
      "text/plain": [
       "      PIT  Length  Weight Tank Sex Site\n",
       "0  919540   465.0  1514.0  1.0   U  1.0\n",
       "1  918025   455.0  1250.0  1.0   U  1.0\n",
       "2  917803   405.0   937.0  1.0   U  1.0\n",
       "3  918763   505.0  2667.0  4.0   M  2.0\n",
       "4  917365   500.0  2204.0  4.0   U  2.0"
      ]
     },
     "execution_count": 109,
     "metadata": {},
     "output_type": "execute_result"
    }
   ],
   "source": [
    "pheno.head()"
   ]
  },
  {
   "cell_type": "markdown",
   "metadata": {},
   "source": [
    "We want to create a category showing the growth peformance of the animals. Let's say animals can be classified in terms of their weight to the following:\n",
    "\n",
    "- below 500 as slow growers\n",
    "- above 500 and below 1500 as medium growers \n",
    "- above 1500 fast growers"
   ]
  },
  {
   "cell_type": "code",
   "execution_count": 44,
   "metadata": {},
   "outputs": [],
   "source": [
    "thresholds = [300,500, 1500, 4000]"
   ]
  },
  {
   "cell_type": "code",
   "execution_count": 45,
   "metadata": {},
   "outputs": [],
   "source": [
    "group_names = ['slow growing','medium growing', 'fast growing']"
   ]
  },
  {
   "cell_type": "code",
   "execution_count": 110,
   "metadata": {},
   "outputs": [
    {
     "data": {
      "text/plain": [
       "0         fast growing\n",
       "1       medium growing\n",
       "2       medium growing\n",
       "3         fast growing\n",
       "4         fast growing\n",
       "             ...      \n",
       "2857      fast growing\n",
       "2858    medium growing\n",
       "2859      fast growing\n",
       "2860    medium growing\n",
       "2861    medium growing\n",
       "Name: Weight, Length: 2862, dtype: category\n",
       "Categories (3, object): ['slow growing' < 'medium growing' < 'fast growing']"
      ]
     },
     "execution_count": 110,
     "metadata": {},
     "output_type": "execute_result"
    }
   ],
   "source": [
    "pd.cut(pheno['Weight'], bins=thresholds, labels=group_names)"
   ]
  },
  {
   "cell_type": "code",
   "execution_count": 111,
   "metadata": {},
   "outputs": [
    {
     "data": {
      "text/html": [
       "<div>\n",
       "<style scoped>\n",
       "    .dataframe tbody tr th:only-of-type {\n",
       "        vertical-align: middle;\n",
       "    }\n",
       "\n",
       "    .dataframe tbody tr th {\n",
       "        vertical-align: top;\n",
       "    }\n",
       "\n",
       "    .dataframe thead th {\n",
       "        text-align: right;\n",
       "    }\n",
       "</style>\n",
       "<table border=\"1\" class=\"dataframe\">\n",
       "  <thead>\n",
       "    <tr style=\"text-align: right;\">\n",
       "      <th></th>\n",
       "      <th>PIT</th>\n",
       "      <th>Length</th>\n",
       "      <th>Weight</th>\n",
       "      <th>Tank</th>\n",
       "      <th>Sex</th>\n",
       "      <th>Site</th>\n",
       "      <th>Growth_rate</th>\n",
       "    </tr>\n",
       "  </thead>\n",
       "  <tbody>\n",
       "    <tr>\n",
       "      <th>0</th>\n",
       "      <td>919540</td>\n",
       "      <td>465.0</td>\n",
       "      <td>1514.0</td>\n",
       "      <td>1.0</td>\n",
       "      <td>U</td>\n",
       "      <td>1.0</td>\n",
       "      <td>fast growing</td>\n",
       "    </tr>\n",
       "    <tr>\n",
       "      <th>1</th>\n",
       "      <td>918025</td>\n",
       "      <td>455.0</td>\n",
       "      <td>1250.0</td>\n",
       "      <td>1.0</td>\n",
       "      <td>U</td>\n",
       "      <td>1.0</td>\n",
       "      <td>medium growing</td>\n",
       "    </tr>\n",
       "    <tr>\n",
       "      <th>2</th>\n",
       "      <td>917803</td>\n",
       "      <td>405.0</td>\n",
       "      <td>937.0</td>\n",
       "      <td>1.0</td>\n",
       "      <td>U</td>\n",
       "      <td>1.0</td>\n",
       "      <td>medium growing</td>\n",
       "    </tr>\n",
       "    <tr>\n",
       "      <th>3</th>\n",
       "      <td>918763</td>\n",
       "      <td>505.0</td>\n",
       "      <td>2667.0</td>\n",
       "      <td>4.0</td>\n",
       "      <td>M</td>\n",
       "      <td>2.0</td>\n",
       "      <td>fast growing</td>\n",
       "    </tr>\n",
       "    <tr>\n",
       "      <th>4</th>\n",
       "      <td>917365</td>\n",
       "      <td>500.0</td>\n",
       "      <td>2204.0</td>\n",
       "      <td>4.0</td>\n",
       "      <td>U</td>\n",
       "      <td>2.0</td>\n",
       "      <td>fast growing</td>\n",
       "    </tr>\n",
       "  </tbody>\n",
       "</table>\n",
       "</div>"
      ],
      "text/plain": [
       "      PIT  Length  Weight Tank Sex Site     Growth_rate\n",
       "0  919540   465.0  1514.0  1.0   U  1.0    fast growing\n",
       "1  918025   455.0  1250.0  1.0   U  1.0  medium growing\n",
       "2  917803   405.0   937.0  1.0   U  1.0  medium growing\n",
       "3  918763   505.0  2667.0  4.0   M  2.0    fast growing\n",
       "4  917365   500.0  2204.0  4.0   U  2.0    fast growing"
      ]
     },
     "execution_count": 111,
     "metadata": {},
     "output_type": "execute_result"
    }
   ],
   "source": [
    "pheno['Growth_rate'] = pd.cut(pheno['Weight'], bins=thresholds, labels=group_names)\n",
    "pheno.head()"
   ]
  },
  {
   "cell_type": "code",
   "execution_count": 112,
   "metadata": {},
   "outputs": [
    {
     "data": {
      "text/plain": [
       "Growth_rate\n",
       "fast growing      1648\n",
       "medium growing    1191\n",
       "slow growing         6\n",
       "Name: count, dtype: int64"
      ]
     },
     "execution_count": 112,
     "metadata": {},
     "output_type": "execute_result"
    }
   ],
   "source": [
    "pheno['Growth_rate'].value_counts()"
   ]
  },
  {
   "cell_type": "code",
   "execution_count": 113,
   "metadata": {},
   "outputs": [
    {
     "data": {
      "text/html": [
       "<div>\n",
       "<style scoped>\n",
       "    .dataframe tbody tr th:only-of-type {\n",
       "        vertical-align: middle;\n",
       "    }\n",
       "\n",
       "    .dataframe tbody tr th {\n",
       "        vertical-align: top;\n",
       "    }\n",
       "\n",
       "    .dataframe thead th {\n",
       "        text-align: right;\n",
       "    }\n",
       "</style>\n",
       "<table border=\"1\" class=\"dataframe\">\n",
       "  <thead>\n",
       "    <tr style=\"text-align: right;\">\n",
       "      <th></th>\n",
       "      <th>PIT</th>\n",
       "      <th>Length</th>\n",
       "      <th>Weight</th>\n",
       "      <th>Tank</th>\n",
       "      <th>Sex</th>\n",
       "      <th>Site</th>\n",
       "      <th>Growth_rate</th>\n",
       "    </tr>\n",
       "  </thead>\n",
       "  <tbody>\n",
       "    <tr>\n",
       "      <th>0</th>\n",
       "      <td>919540</td>\n",
       "      <td>465.0</td>\n",
       "      <td>1514.0</td>\n",
       "      <td>1.0</td>\n",
       "      <td>U</td>\n",
       "      <td>1.0</td>\n",
       "      <td>slow growing</td>\n",
       "    </tr>\n",
       "    <tr>\n",
       "      <th>1</th>\n",
       "      <td>918025</td>\n",
       "      <td>455.0</td>\n",
       "      <td>1250.0</td>\n",
       "      <td>1.0</td>\n",
       "      <td>U</td>\n",
       "      <td>1.0</td>\n",
       "      <td>slow growing</td>\n",
       "    </tr>\n",
       "    <tr>\n",
       "      <th>2</th>\n",
       "      <td>917803</td>\n",
       "      <td>405.0</td>\n",
       "      <td>937.0</td>\n",
       "      <td>1.0</td>\n",
       "      <td>U</td>\n",
       "      <td>1.0</td>\n",
       "      <td>slow growing</td>\n",
       "    </tr>\n",
       "    <tr>\n",
       "      <th>3</th>\n",
       "      <td>918763</td>\n",
       "      <td>505.0</td>\n",
       "      <td>2667.0</td>\n",
       "      <td>4.0</td>\n",
       "      <td>M</td>\n",
       "      <td>2.0</td>\n",
       "      <td>medium growing</td>\n",
       "    </tr>\n",
       "    <tr>\n",
       "      <th>4</th>\n",
       "      <td>917365</td>\n",
       "      <td>500.0</td>\n",
       "      <td>2204.0</td>\n",
       "      <td>4.0</td>\n",
       "      <td>U</td>\n",
       "      <td>2.0</td>\n",
       "      <td>medium growing</td>\n",
       "    </tr>\n",
       "  </tbody>\n",
       "</table>\n",
       "</div>"
      ],
      "text/plain": [
       "      PIT  Length  Weight Tank Sex Site     Growth_rate\n",
       "0  919540   465.0  1514.0  1.0   U  1.0    slow growing\n",
       "1  918025   455.0  1250.0  1.0   U  1.0    slow growing\n",
       "2  917803   405.0   937.0  1.0   U  1.0    slow growing\n",
       "3  918763   505.0  2667.0  4.0   M  2.0  medium growing\n",
       "4  917365   500.0  2204.0  4.0   U  2.0  medium growing"
      ]
     },
     "execution_count": 113,
     "metadata": {},
     "output_type": "execute_result"
    }
   ],
   "source": [
    "pheno['Growth_rate'] = pd.cut(pheno['Weight'], bins=3, labels=group_names)\n",
    "pheno.head()"
   ]
  },
  {
   "cell_type": "code",
   "execution_count": 114,
   "metadata": {},
   "outputs": [
    {
     "data": {
      "text/plain": [
       "Growth_rate\n",
       "medium growing    1498\n",
       "slow growing      1235\n",
       "fast growing       112\n",
       "Name: count, dtype: int64"
      ]
     },
     "execution_count": 114,
     "metadata": {},
     "output_type": "execute_result"
    }
   ],
   "source": [
    "pheno['Growth_rate'].value_counts()"
   ]
  },
  {
   "cell_type": "code",
   "execution_count": 115,
   "metadata": {},
   "outputs": [
    {
     "data": {
      "text/html": [
       "<div>\n",
       "<style scoped>\n",
       "    .dataframe tbody tr th:only-of-type {\n",
       "        vertical-align: middle;\n",
       "    }\n",
       "\n",
       "    .dataframe tbody tr th {\n",
       "        vertical-align: top;\n",
       "    }\n",
       "\n",
       "    .dataframe thead th {\n",
       "        text-align: right;\n",
       "    }\n",
       "</style>\n",
       "<table border=\"1\" class=\"dataframe\">\n",
       "  <thead>\n",
       "    <tr style=\"text-align: right;\">\n",
       "      <th></th>\n",
       "      <th>PIT</th>\n",
       "      <th>Length</th>\n",
       "      <th>Weight</th>\n",
       "      <th>Tank</th>\n",
       "      <th>Sex</th>\n",
       "      <th>Site</th>\n",
       "      <th>Growth_rate</th>\n",
       "    </tr>\n",
       "  </thead>\n",
       "  <tbody>\n",
       "    <tr>\n",
       "      <th>0</th>\n",
       "      <td>919540</td>\n",
       "      <td>465.0</td>\n",
       "      <td>1514.0</td>\n",
       "      <td>1.0</td>\n",
       "      <td>U</td>\n",
       "      <td>1.0</td>\n",
       "      <td>medium growing</td>\n",
       "    </tr>\n",
       "    <tr>\n",
       "      <th>1</th>\n",
       "      <td>918025</td>\n",
       "      <td>455.0</td>\n",
       "      <td>1250.0</td>\n",
       "      <td>1.0</td>\n",
       "      <td>U</td>\n",
       "      <td>1.0</td>\n",
       "      <td>slow growing</td>\n",
       "    </tr>\n",
       "    <tr>\n",
       "      <th>2</th>\n",
       "      <td>917803</td>\n",
       "      <td>405.0</td>\n",
       "      <td>937.0</td>\n",
       "      <td>1.0</td>\n",
       "      <td>U</td>\n",
       "      <td>1.0</td>\n",
       "      <td>slow growing</td>\n",
       "    </tr>\n",
       "    <tr>\n",
       "      <th>3</th>\n",
       "      <td>918763</td>\n",
       "      <td>505.0</td>\n",
       "      <td>2667.0</td>\n",
       "      <td>4.0</td>\n",
       "      <td>M</td>\n",
       "      <td>2.0</td>\n",
       "      <td>fast growing</td>\n",
       "    </tr>\n",
       "    <tr>\n",
       "      <th>4</th>\n",
       "      <td>917365</td>\n",
       "      <td>500.0</td>\n",
       "      <td>2204.0</td>\n",
       "      <td>4.0</td>\n",
       "      <td>U</td>\n",
       "      <td>2.0</td>\n",
       "      <td>fast growing</td>\n",
       "    </tr>\n",
       "  </tbody>\n",
       "</table>\n",
       "</div>"
      ],
      "text/plain": [
       "      PIT  Length  Weight Tank Sex Site     Growth_rate\n",
       "0  919540   465.0  1514.0  1.0   U  1.0  medium growing\n",
       "1  918025   455.0  1250.0  1.0   U  1.0    slow growing\n",
       "2  917803   405.0   937.0  1.0   U  1.0    slow growing\n",
       "3  918763   505.0  2667.0  4.0   M  2.0    fast growing\n",
       "4  917365   500.0  2204.0  4.0   U  2.0    fast growing"
      ]
     },
     "execution_count": 115,
     "metadata": {},
     "output_type": "execute_result"
    }
   ],
   "source": [
    "pheno['Growth_rate'] = pd.qcut(pheno['Weight'], 3, labels=group_names)\n",
    "pheno.head()"
   ]
  },
  {
   "cell_type": "code",
   "execution_count": 116,
   "metadata": {},
   "outputs": [
    {
     "data": {
      "text/plain": [
       "Growth_rate\n",
       "slow growing      949\n",
       "medium growing    949\n",
       "fast growing      947\n",
       "Name: count, dtype: int64"
      ]
     },
     "execution_count": 116,
     "metadata": {},
     "output_type": "execute_result"
    }
   ],
   "source": [
    "pheno['Growth_rate'].value_counts()"
   ]
  },
  {
   "cell_type": "markdown",
   "metadata": {},
   "source": [
    "In case we have a column of categorical values where it makes more sense to merge categories the following could be of value."
   ]
  },
  {
   "cell_type": "code",
   "execution_count": 117,
   "metadata": {},
   "outputs": [
    {
     "name": "stdout",
     "output_type": "stream",
     "text": [
      "<class 'pandas.core.frame.DataFrame'>\n",
      "RangeIndex: 2862 entries, 0 to 2861\n",
      "Data columns (total 7 columns):\n",
      " #   Column       Non-Null Count  Dtype   \n",
      "---  ------       --------------  -----   \n",
      " 0   PIT          2862 non-null   category\n",
      " 1   Length       2838 non-null   float64 \n",
      " 2   Weight       2845 non-null   float64 \n",
      " 3   Tank         2852 non-null   category\n",
      " 4   Sex          2852 non-null   category\n",
      " 5   Site         2852 non-null   category\n",
      " 6   Growth_rate  2845 non-null   category\n",
      "dtypes: category(5), float64(2)\n",
      "memory usage: 148.6 KB\n"
     ]
    }
   ],
   "source": [
    "pheno.info()"
   ]
  },
  {
   "cell_type": "code",
   "execution_count": 119,
   "metadata": {},
   "outputs": [],
   "source": [
    "new_cat = {\"slow growing\" : \"discard\", \"medium growing\" : \"keep\", \"fast growing\" : \"keep\"}\n",
    "\n",
    "pheno[\"Manage\"] = pheno[\"Growth_rate\"].map(new_cat)\n"
   ]
  },
  {
   "cell_type": "code",
   "execution_count": 59,
   "metadata": {},
   "outputs": [
    {
     "data": {
      "text/html": [
       "<div>\n",
       "<style scoped>\n",
       "    .dataframe tbody tr th:only-of-type {\n",
       "        vertical-align: middle;\n",
       "    }\n",
       "\n",
       "    .dataframe tbody tr th {\n",
       "        vertical-align: top;\n",
       "    }\n",
       "\n",
       "    .dataframe thead th {\n",
       "        text-align: right;\n",
       "    }\n",
       "</style>\n",
       "<table border=\"1\" class=\"dataframe\">\n",
       "  <thead>\n",
       "    <tr style=\"text-align: right;\">\n",
       "      <th></th>\n",
       "      <th>PIT</th>\n",
       "      <th>Length</th>\n",
       "      <th>Weight</th>\n",
       "      <th>Tank</th>\n",
       "      <th>Sex</th>\n",
       "      <th>Site</th>\n",
       "      <th>Growth_rate</th>\n",
       "      <th>Manage</th>\n",
       "    </tr>\n",
       "  </thead>\n",
       "  <tbody>\n",
       "    <tr>\n",
       "      <th>0</th>\n",
       "      <td>919540</td>\n",
       "      <td>465.0</td>\n",
       "      <td>1514.0</td>\n",
       "      <td>1.0</td>\n",
       "      <td>U</td>\n",
       "      <td>1.0</td>\n",
       "      <td>medium growing</td>\n",
       "      <td>keep</td>\n",
       "    </tr>\n",
       "    <tr>\n",
       "      <th>1</th>\n",
       "      <td>918025</td>\n",
       "      <td>455.0</td>\n",
       "      <td>1250.0</td>\n",
       "      <td>1.0</td>\n",
       "      <td>U</td>\n",
       "      <td>1.0</td>\n",
       "      <td>slow growing</td>\n",
       "      <td>discard</td>\n",
       "    </tr>\n",
       "    <tr>\n",
       "      <th>2</th>\n",
       "      <td>917803</td>\n",
       "      <td>405.0</td>\n",
       "      <td>937.0</td>\n",
       "      <td>1.0</td>\n",
       "      <td>U</td>\n",
       "      <td>1.0</td>\n",
       "      <td>slow growing</td>\n",
       "      <td>discard</td>\n",
       "    </tr>\n",
       "    <tr>\n",
       "      <th>3</th>\n",
       "      <td>918763</td>\n",
       "      <td>505.0</td>\n",
       "      <td>2667.0</td>\n",
       "      <td>4.0</td>\n",
       "      <td>M</td>\n",
       "      <td>2.0</td>\n",
       "      <td>fast growing</td>\n",
       "      <td>keep</td>\n",
       "    </tr>\n",
       "    <tr>\n",
       "      <th>4</th>\n",
       "      <td>917365</td>\n",
       "      <td>500.0</td>\n",
       "      <td>2204.0</td>\n",
       "      <td>4.0</td>\n",
       "      <td>U</td>\n",
       "      <td>2.0</td>\n",
       "      <td>fast growing</td>\n",
       "      <td>keep</td>\n",
       "    </tr>\n",
       "    <tr>\n",
       "      <th>...</th>\n",
       "      <td>...</td>\n",
       "      <td>...</td>\n",
       "      <td>...</td>\n",
       "      <td>...</td>\n",
       "      <td>...</td>\n",
       "      <td>...</td>\n",
       "      <td>...</td>\n",
       "      <td>...</td>\n",
       "    </tr>\n",
       "    <tr>\n",
       "      <th>2857</th>\n",
       "      <td>920227</td>\n",
       "      <td>475.0</td>\n",
       "      <td>1565.0</td>\n",
       "      <td>2.0</td>\n",
       "      <td>U</td>\n",
       "      <td>1.0</td>\n",
       "      <td>medium growing</td>\n",
       "      <td>keep</td>\n",
       "    </tr>\n",
       "    <tr>\n",
       "      <th>2858</th>\n",
       "      <td>915897</td>\n",
       "      <td>440.0</td>\n",
       "      <td>1300.0</td>\n",
       "      <td>2.0</td>\n",
       "      <td>U</td>\n",
       "      <td>1.0</td>\n",
       "      <td>slow growing</td>\n",
       "      <td>discard</td>\n",
       "    </tr>\n",
       "    <tr>\n",
       "      <th>2859</th>\n",
       "      <td>917341</td>\n",
       "      <td>450.0</td>\n",
       "      <td>1510.0</td>\n",
       "      <td>2.0</td>\n",
       "      <td>U</td>\n",
       "      <td>1.0</td>\n",
       "      <td>medium growing</td>\n",
       "      <td>keep</td>\n",
       "    </tr>\n",
       "    <tr>\n",
       "      <th>2860</th>\n",
       "      <td>915861</td>\n",
       "      <td>450.0</td>\n",
       "      <td>1464.0</td>\n",
       "      <td>2.0</td>\n",
       "      <td>U</td>\n",
       "      <td>1.0</td>\n",
       "      <td>medium growing</td>\n",
       "      <td>keep</td>\n",
       "    </tr>\n",
       "    <tr>\n",
       "      <th>2861</th>\n",
       "      <td>9197101</td>\n",
       "      <td>420.0</td>\n",
       "      <td>1069.0</td>\n",
       "      <td>2.0</td>\n",
       "      <td>U</td>\n",
       "      <td>1.0</td>\n",
       "      <td>slow growing</td>\n",
       "      <td>discard</td>\n",
       "    </tr>\n",
       "  </tbody>\n",
       "</table>\n",
       "<p>2862 rows × 8 columns</p>\n",
       "</div>"
      ],
      "text/plain": [
       "          PIT  Length  Weight Tank Sex Site     Growth_rate   Manage\n",
       "0      919540   465.0  1514.0  1.0   U  1.0  medium growing     keep\n",
       "1      918025   455.0  1250.0  1.0   U  1.0    slow growing  discard\n",
       "2      917803   405.0   937.0  1.0   U  1.0    slow growing  discard\n",
       "3      918763   505.0  2667.0  4.0   M  2.0    fast growing     keep\n",
       "4      917365   500.0  2204.0  4.0   U  2.0    fast growing     keep\n",
       "...       ...     ...     ...  ...  ..  ...             ...      ...\n",
       "2857   920227   475.0  1565.0  2.0   U  1.0  medium growing     keep\n",
       "2858   915897   440.0  1300.0  2.0   U  1.0    slow growing  discard\n",
       "2859   917341   450.0  1510.0  2.0   U  1.0  medium growing     keep\n",
       "2860   915861   450.0  1464.0  2.0   U  1.0  medium growing     keep\n",
       "2861  9197101   420.0  1069.0  2.0   U  1.0    slow growing  discard\n",
       "\n",
       "[2862 rows x 8 columns]"
      ]
     },
     "execution_count": 59,
     "metadata": {},
     "output_type": "execute_result"
    }
   ],
   "source": [
    "pheno"
   ]
  },
  {
   "cell_type": "code",
   "execution_count": 120,
   "metadata": {},
   "outputs": [
    {
     "name": "stdout",
     "output_type": "stream",
     "text": [
      "<class 'pandas.core.frame.DataFrame'>\n",
      "RangeIndex: 2862 entries, 0 to 2861\n",
      "Data columns (total 8 columns):\n",
      " #   Column       Non-Null Count  Dtype   \n",
      "---  ------       --------------  -----   \n",
      " 0   PIT          2862 non-null   category\n",
      " 1   Length       2838 non-null   float64 \n",
      " 2   Weight       2845 non-null   float64 \n",
      " 3   Tank         2852 non-null   category\n",
      " 4   Sex          2852 non-null   category\n",
      " 5   Site         2852 non-null   category\n",
      " 6   Growth_rate  2845 non-null   category\n",
      " 7   Manage       2845 non-null   object  \n",
      "dtypes: category(5), float64(2), object(1)\n",
      "memory usage: 170.9+ KB\n"
     ]
    }
   ],
   "source": [
    "pheno.info()"
   ]
  },
  {
   "cell_type": "code",
   "execution_count": 121,
   "metadata": {},
   "outputs": [
    {
     "name": "stdout",
     "output_type": "stream",
     "text": [
      "<class 'pandas.core.frame.DataFrame'>\n",
      "RangeIndex: 2862 entries, 0 to 2861\n",
      "Data columns (total 8 columns):\n",
      " #   Column       Non-Null Count  Dtype   \n",
      "---  ------       --------------  -----   \n",
      " 0   PIT          2862 non-null   category\n",
      " 1   Length       2838 non-null   float64 \n",
      " 2   Weight       2845 non-null   float64 \n",
      " 3   Tank         2852 non-null   category\n",
      " 4   Sex          2852 non-null   category\n",
      " 5   Site         2852 non-null   category\n",
      " 6   Growth_rate  2845 non-null   category\n",
      " 7   Manage       2845 non-null   category\n",
      "dtypes: category(6), float64(2)\n",
      "memory usage: 151.5 KB\n"
     ]
    }
   ],
   "source": [
    "pheno[\"Manage\"] = pheno[\"Manage\"].astype(\"category\")\n",
    "pheno.info()"
   ]
  },
  {
   "cell_type": "markdown",
   "metadata": {},
   "source": [
    "## Exercises "
   ]
  },
  {
   "cell_type": "markdown",
   "metadata": {},
   "source": [
    "### Exercise 1"
   ]
  },
  {
   "cell_type": "markdown",
   "metadata": {},
   "source": [
    "For this exercise we will work with the `pedigree.txt` file.\n",
    "\n",
    "* Change the type of the first column to string.\n",
    "* Check whether missing data exist using two different approaches.\n",
    "* Remove any row that has a missing value.\n",
    "* Remove rows only if there are two or more missing values.\n",
    "* Fill the missing values using the next valid observation.\n",
    "* Fill the missing values using the previous valid observation.\n",
    "* Check for the existence of duplicated values in the first column. In case there are duplicates estimate how many. Remove the duplicates.\n",
    "* A colleague tells you that also the records with `0` denote missing data. Make the appropriate changes so that it is clear that those values denote also missing data.\n",
    "* After removing all missing values and duplicates create a barplot depicting the number of offspring of each sire.\n",
    "* Same as the previous but this time depicting the size of each family.\n",
    "* Create a new column that for offspring originating from the first 20 sires and dams has the value `early` and for the rest `late`. Check how many records are on each category."
   ]
  },
  {
   "cell_type": "markdown",
   "metadata": {},
   "source": [
    "### Exercise 2"
   ]
  },
  {
   "cell_type": "markdown",
   "metadata": {},
   "source": [
    "For this exercise we will work with the `pheno.txt` file.\n",
    "\n",
    "* Change the type of the first column to string. Missing data are coded as `0`. Check how many missing data exist for each column.\n",
    "* Check for duplications in the first column. If any remove them.\n",
    "* For the numeric columns fill the missing values with the column mean.\n",
    "* Create a new column where the animals that have a `weight_final` above 200 have the value `fast_grower`, the animals with a value between 100 - 200 as `medium_grower` and the rest `slow grower`. Check how frequent is each of the above three categories and based on that create a barplot.\n",
    "* Create a new column where the top 1/3 of the animals in terms of weight difference (weight_final - weight_initial) are marked as `A`, the next 1/3 as `B` and the rest as `C`.\n"
   ]
  },
  {
   "cell_type": "code",
   "execution_count": null,
   "metadata": {},
   "outputs": [],
   "source": []
  }
 ],
 "metadata": {
  "kernelspec": {
   "display_name": "Python 3 (ipykernel)",
   "language": "python",
   "name": "python3"
  },
  "language_info": {
   "codemirror_mode": {
    "name": "ipython",
    "version": 3
   },
   "file_extension": ".py",
   "mimetype": "text/x-python",
   "name": "python",
   "nbconvert_exporter": "python",
   "pygments_lexer": "ipython3",
   "version": "3.11.8"
  }
 },
 "nbformat": 4,
 "nbformat_minor": 4
}
