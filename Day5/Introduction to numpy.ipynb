{
 "cells": [
  {
   "cell_type": "code",
   "execution_count": 1,
   "metadata": {},
   "outputs": [],
   "source": [
    "import numpy as np"
   ]
  },
  {
   "cell_type": "markdown",
   "metadata": {},
   "source": [
    "Numpy stands for Numerical Python. It's the workhorse behind any numerical calculations allowing superior performance compared to Python built-in functions. Pandas amongst others libraries rely on Numpy"
   ]
  },
  {
   "cell_type": "markdown",
   "metadata": {},
   "source": [
    "Let's first check which verion we have"
   ]
  },
  {
   "cell_type": "code",
   "execution_count": 2,
   "metadata": {},
   "outputs": [
    {
     "data": {
      "text/plain": [
       "'1.26.4'"
      ]
     },
     "execution_count": 2,
     "metadata": {},
     "output_type": "execute_result"
    }
   ],
   "source": [
    "np.__version__"
   ]
  },
  {
   "cell_type": "markdown",
   "metadata": {},
   "source": [
    "## NumPy arrays"
   ]
  },
  {
   "cell_type": "code",
   "execution_count": 3,
   "metadata": {},
   "outputs": [
    {
     "data": {
      "text/plain": [
       "array([1, 2, 3, 4])"
      ]
     },
     "execution_count": 3,
     "metadata": {},
     "output_type": "execute_result"
    }
   ],
   "source": [
    "np.array([1,2,3,4])"
   ]
  },
  {
   "cell_type": "code",
   "execution_count": 4,
   "metadata": {},
   "outputs": [
    {
     "data": {
      "text/plain": [
       "array([1., 2., 3., 4.], dtype=float32)"
      ]
     },
     "execution_count": 4,
     "metadata": {},
     "output_type": "execute_result"
    }
   ],
   "source": [
    "np.array([1,2,3,4],dtype='float32')"
   ]
  },
  {
   "cell_type": "code",
   "execution_count": 5,
   "metadata": {},
   "outputs": [
    {
     "data": {
      "text/plain": [
       "array([0, 0, 0, 0, 0, 0, 0, 0, 0, 0])"
      ]
     },
     "execution_count": 5,
     "metadata": {},
     "output_type": "execute_result"
    }
   ],
   "source": [
    "np.zeros(10,dtype='int')"
   ]
  },
  {
   "cell_type": "code",
   "execution_count": 6,
   "metadata": {},
   "outputs": [
    {
     "data": {
      "text/plain": [
       "array([[1., 1., 1.],\n",
       "       [1., 1., 1.],\n",
       "       [1., 1., 1.]])"
      ]
     },
     "execution_count": 6,
     "metadata": {},
     "output_type": "execute_result"
    }
   ],
   "source": [
    "np.ones((3,3),dtype='float')"
   ]
  },
  {
   "cell_type": "code",
   "execution_count": 7,
   "metadata": {},
   "outputs": [
    {
     "data": {
      "text/plain": [
       "array([0, 1, 2, 3, 4, 5, 6, 7, 8, 9])"
      ]
     },
     "execution_count": 7,
     "metadata": {},
     "output_type": "execute_result"
    }
   ],
   "source": [
    "np.arange(0,10)"
   ]
  },
  {
   "cell_type": "code",
   "execution_count": 8,
   "metadata": {},
   "outputs": [
    {
     "data": {
      "text/plain": [
       "array([0, 2, 4, 6, 8])"
      ]
     },
     "execution_count": 8,
     "metadata": {},
     "output_type": "execute_result"
    }
   ],
   "source": [
    "np.arange(0,10,2)"
   ]
  },
  {
   "cell_type": "code",
   "execution_count": 9,
   "metadata": {},
   "outputs": [
    {
     "data": {
      "text/plain": [
       "array([10,  9,  8,  7,  6,  5,  4,  3,  2,  1])"
      ]
     },
     "execution_count": 9,
     "metadata": {},
     "output_type": "execute_result"
    }
   ],
   "source": [
    "np.arange(10,0,-1)"
   ]
  },
  {
   "cell_type": "markdown",
   "metadata": {},
   "source": [
    "Another useful function is `linspace` for creating equally spaced values"
   ]
  },
  {
   "cell_type": "code",
   "execution_count": 10,
   "metadata": {},
   "outputs": [
    {
     "data": {
      "text/plain": [
       "array([0.  , 0.25, 0.5 , 0.75, 1.  ])"
      ]
     },
     "execution_count": 10,
     "metadata": {},
     "output_type": "execute_result"
    }
   ],
   "source": [
    "np.linspace(0,1,5)"
   ]
  },
  {
   "cell_type": "markdown",
   "metadata": {},
   "source": [
    "It's often the case that we want to create an array with random values"
   ]
  },
  {
   "cell_type": "code",
   "execution_count": 11,
   "metadata": {},
   "outputs": [
    {
     "data": {
      "text/plain": [
       "array([[0.79992743, 0.53221498],\n",
       "       [0.16944939, 0.96259018]])"
      ]
     },
     "execution_count": 11,
     "metadata": {},
     "output_type": "execute_result"
    }
   ],
   "source": [
    "np.random.random((2,2))"
   ]
  },
  {
   "cell_type": "code",
   "execution_count": 12,
   "metadata": {},
   "outputs": [
    {
     "data": {
      "text/plain": [
       "array([[-0.08268171,  0.53982825],\n",
       "       [-1.79964642, -0.33926828]])"
      ]
     },
     "execution_count": 12,
     "metadata": {},
     "output_type": "execute_result"
    }
   ],
   "source": [
    "np.random.normal(0,1,(2,2))"
   ]
  },
  {
   "cell_type": "markdown",
   "metadata": {},
   "source": [
    "Below we see how we can create an identity matrix"
   ]
  },
  {
   "cell_type": "code",
   "execution_count": 13,
   "metadata": {},
   "outputs": [
    {
     "data": {
      "text/plain": [
       "array([[1., 0., 0., 0., 0.],\n",
       "       [0., 1., 0., 0., 0.],\n",
       "       [0., 0., 1., 0., 0.],\n",
       "       [0., 0., 0., 1., 0.],\n",
       "       [0., 0., 0., 0., 1.]])"
      ]
     },
     "execution_count": 13,
     "metadata": {},
     "output_type": "execute_result"
    }
   ],
   "source": [
    "np.eye(5)"
   ]
  },
  {
   "cell_type": "markdown",
   "metadata": {},
   "source": [
    "### Basic operations with numpy arrays"
   ]
  },
  {
   "cell_type": "markdown",
   "metadata": {},
   "source": [
    "Each array has a dimension, a shape and a size"
   ]
  },
  {
   "cell_type": "code",
   "execution_count": 14,
   "metadata": {},
   "outputs": [
    {
     "data": {
      "text/plain": [
       "array([[ 0.08808941,  0.98234717,  0.19073967],\n",
       "       [-2.41962397, -0.22305437, -0.66223197],\n",
       "       [ 0.19883099,  0.10005855, -0.28208093]])"
      ]
     },
     "execution_count": 14,
     "metadata": {},
     "output_type": "execute_result"
    }
   ],
   "source": [
    "x = np.random.normal(0,1,(3,3))\n",
    "x"
   ]
  },
  {
   "cell_type": "code",
   "execution_count": 15,
   "metadata": {},
   "outputs": [
    {
     "name": "stdout",
     "output_type": "stream",
     "text": [
      "x dimension:  2\n",
      "x shape:  (3, 3)\n",
      "x size:  9\n"
     ]
    }
   ],
   "source": [
    "print(\"x dimension: \", x.ndim)\n",
    "print(\"x shape: \", x.shape)\n",
    "print(\"x size: \", x.size)"
   ]
  },
  {
   "cell_type": "markdown",
   "metadata": {},
   "source": [
    "It's also useful to see the type of the elements"
   ]
  },
  {
   "cell_type": "code",
   "execution_count": 16,
   "metadata": {},
   "outputs": [
    {
     "name": "stdout",
     "output_type": "stream",
     "text": [
      "x type:  float64\n"
     ]
    }
   ],
   "source": [
    "print(\"x type: \", x.dtype)"
   ]
  },
  {
   "cell_type": "markdown",
   "metadata": {},
   "source": [
    "Below we see how we can access array elements"
   ]
  },
  {
   "cell_type": "code",
   "execution_count": 21,
   "metadata": {},
   "outputs": [
    {
     "data": {
      "text/plain": [
       "array([ 0,  1,  2,  3,  4,  5,  6,  7,  8,  9, 10])"
      ]
     },
     "execution_count": 21,
     "metadata": {},
     "output_type": "execute_result"
    }
   ],
   "source": [
    "x1 = np.arange(0,11)\n",
    "x1"
   ]
  },
  {
   "cell_type": "code",
   "execution_count": 18,
   "metadata": {},
   "outputs": [
    {
     "data": {
      "text/plain": [
       "0"
      ]
     },
     "execution_count": 18,
     "metadata": {},
     "output_type": "execute_result"
    }
   ],
   "source": [
    "x1[0]"
   ]
  },
  {
   "cell_type": "code",
   "execution_count": 22,
   "metadata": {},
   "outputs": [
    {
     "data": {
      "text/plain": [
       "9"
      ]
     },
     "execution_count": 22,
     "metadata": {},
     "output_type": "execute_result"
    }
   ],
   "source": [
    "x1[9]"
   ]
  },
  {
   "cell_type": "code",
   "execution_count": 23,
   "metadata": {},
   "outputs": [
    {
     "data": {
      "text/plain": [
       "10"
      ]
     },
     "execution_count": 23,
     "metadata": {},
     "output_type": "execute_result"
    }
   ],
   "source": [
    "x1[10]"
   ]
  },
  {
   "cell_type": "code",
   "execution_count": 24,
   "metadata": {},
   "outputs": [
    {
     "data": {
      "text/plain": [
       "10"
      ]
     },
     "execution_count": 24,
     "metadata": {},
     "output_type": "execute_result"
    }
   ],
   "source": [
    "x1[-1]"
   ]
  },
  {
   "cell_type": "code",
   "execution_count": 25,
   "metadata": {},
   "outputs": [
    {
     "data": {
      "text/plain": [
       "array([0, 1, 2, 3])"
      ]
     },
     "execution_count": 25,
     "metadata": {},
     "output_type": "execute_result"
    }
   ],
   "source": [
    "x1[:4]"
   ]
  },
  {
   "cell_type": "code",
   "execution_count": 26,
   "metadata": {},
   "outputs": [
    {
     "data": {
      "text/plain": [
       "array([ 6,  7,  8,  9, 10])"
      ]
     },
     "execution_count": 26,
     "metadata": {},
     "output_type": "execute_result"
    }
   ],
   "source": [
    "x1[-5:]"
   ]
  },
  {
   "cell_type": "code",
   "execution_count": 27,
   "metadata": {},
   "outputs": [
    {
     "data": {
      "text/plain": [
       "array([0, 2, 4])"
      ]
     },
     "execution_count": 27,
     "metadata": {},
     "output_type": "execute_result"
    }
   ],
   "source": [
    "x1[0:6:2]"
   ]
  },
  {
   "cell_type": "markdown",
   "metadata": {},
   "source": [
    "In the case of multidimensional arrays"
   ]
  },
  {
   "cell_type": "code",
   "execution_count": 28,
   "metadata": {},
   "outputs": [
    {
     "data": {
      "text/plain": [
       "array([[ 0.08808941,  0.98234717,  0.19073967],\n",
       "       [-2.41962397, -0.22305437, -0.66223197],\n",
       "       [ 0.19883099,  0.10005855, -0.28208093]])"
      ]
     },
     "execution_count": 28,
     "metadata": {},
     "output_type": "execute_result"
    }
   ],
   "source": [
    "x"
   ]
  },
  {
   "cell_type": "code",
   "execution_count": 29,
   "metadata": {},
   "outputs": [
    {
     "data": {
      "text/plain": [
       "0.0880894134756335"
      ]
     },
     "execution_count": 29,
     "metadata": {},
     "output_type": "execute_result"
    }
   ],
   "source": [
    "x[0,0]"
   ]
  },
  {
   "cell_type": "markdown",
   "metadata": {},
   "source": [
    "Below we select an entire row"
   ]
  },
  {
   "cell_type": "code",
   "execution_count": 30,
   "metadata": {},
   "outputs": [
    {
     "data": {
      "text/plain": [
       "array([0.08808941, 0.98234717, 0.19073967])"
      ]
     },
     "execution_count": 30,
     "metadata": {},
     "output_type": "execute_result"
    }
   ],
   "source": [
    "x[0,:]"
   ]
  },
  {
   "cell_type": "code",
   "execution_count": 31,
   "metadata": {},
   "outputs": [
    {
     "data": {
      "text/plain": [
       "array([0.08808941, 0.98234717, 0.19073967])"
      ]
     },
     "execution_count": 31,
     "metadata": {},
     "output_type": "execute_result"
    }
   ],
   "source": [
    "x[0]"
   ]
  },
  {
   "cell_type": "markdown",
   "metadata": {},
   "source": [
    "Below we select an entire column"
   ]
  },
  {
   "cell_type": "code",
   "execution_count": 32,
   "metadata": {},
   "outputs": [
    {
     "data": {
      "text/plain": [
       "array([ 0.19073967, -0.66223197, -0.28208093])"
      ]
     },
     "execution_count": 32,
     "metadata": {},
     "output_type": "execute_result"
    }
   ],
   "source": [
    "x[:,2]"
   ]
  },
  {
   "cell_type": "markdown",
   "metadata": {},
   "source": [
    "A subtle difference"
   ]
  },
  {
   "cell_type": "code",
   "execution_count": 33,
   "metadata": {},
   "outputs": [
    {
     "name": "stdout",
     "output_type": "stream",
     "text": [
      "[-2.41962397 -0.22305437 -0.66223197]\n"
     ]
    },
    {
     "data": {
      "text/plain": [
       "(3,)"
      ]
     },
     "execution_count": 33,
     "metadata": {},
     "output_type": "execute_result"
    }
   ],
   "source": [
    "print(x[1,:])\n",
    "x[1,:].shape"
   ]
  },
  {
   "cell_type": "code",
   "execution_count": 35,
   "metadata": {},
   "outputs": [
    {
     "name": "stdout",
     "output_type": "stream",
     "text": [
      "[[-2.41962397 -0.22305437 -0.66223197]]\n"
     ]
    },
    {
     "data": {
      "text/plain": [
       "(1, 3)"
      ]
     },
     "execution_count": 35,
     "metadata": {},
     "output_type": "execute_result"
    }
   ],
   "source": [
    "print(x[1:2,:])\n",
    "x[1:2,:].shape"
   ]
  },
  {
   "cell_type": "markdown",
   "metadata": {},
   "source": [
    "Reversing rows and columns"
   ]
  },
  {
   "cell_type": "code",
   "execution_count": 36,
   "metadata": {},
   "outputs": [
    {
     "data": {
      "text/plain": [
       "array([[ 0.08808941,  0.98234717,  0.19073967],\n",
       "       [-2.41962397, -0.22305437, -0.66223197],\n",
       "       [ 0.19883099,  0.10005855, -0.28208093]])"
      ]
     },
     "execution_count": 36,
     "metadata": {},
     "output_type": "execute_result"
    }
   ],
   "source": [
    "x"
   ]
  },
  {
   "cell_type": "code",
   "execution_count": 37,
   "metadata": {},
   "outputs": [
    {
     "data": {
      "text/plain": [
       "array([[ 0.19883099,  0.10005855, -0.28208093],\n",
       "       [-2.41962397, -0.22305437, -0.66223197],\n",
       "       [ 0.08808941,  0.98234717,  0.19073967]])"
      ]
     },
     "execution_count": 37,
     "metadata": {},
     "output_type": "execute_result"
    }
   ],
   "source": [
    "x[::-1,]"
   ]
  },
  {
   "cell_type": "code",
   "execution_count": 38,
   "metadata": {},
   "outputs": [
    {
     "data": {
      "text/plain": [
       "array([[ 0.19073967,  0.98234717,  0.08808941],\n",
       "       [-0.66223197, -0.22305437, -2.41962397],\n",
       "       [-0.28208093,  0.10005855,  0.19883099]])"
      ]
     },
     "execution_count": 38,
     "metadata": {},
     "output_type": "execute_result"
    }
   ],
   "source": [
    "x[:,::-1]"
   ]
  },
  {
   "cell_type": "code",
   "execution_count": 39,
   "metadata": {},
   "outputs": [
    {
     "data": {
      "text/plain": [
       "array([[-0.28208093,  0.10005855,  0.19883099],\n",
       "       [-0.66223197, -0.22305437, -2.41962397],\n",
       "       [ 0.19073967,  0.98234717,  0.08808941]])"
      ]
     },
     "execution_count": 39,
     "metadata": {},
     "output_type": "execute_result"
    }
   ],
   "source": [
    "x[::-1,::-1]"
   ]
  },
  {
   "cell_type": "markdown",
   "metadata": {},
   "source": [
    "### Copy views"
   ]
  },
  {
   "cell_type": "code",
   "execution_count": 40,
   "metadata": {},
   "outputs": [
    {
     "data": {
      "text/plain": [
       "array([ 0,  1,  2,  3,  4,  5,  6,  7,  8,  9, 10])"
      ]
     },
     "execution_count": 40,
     "metadata": {},
     "output_type": "execute_result"
    }
   ],
   "source": [
    "x2 = x1\n",
    "x2"
   ]
  },
  {
   "cell_type": "code",
   "execution_count": 41,
   "metadata": {},
   "outputs": [
    {
     "data": {
      "text/plain": [
       "array([ 0,  1,  2,  3,  4,  5,  6,  7,  8,  9, 10])"
      ]
     },
     "execution_count": 41,
     "metadata": {},
     "output_type": "execute_result"
    }
   ],
   "source": [
    "x1"
   ]
  },
  {
   "cell_type": "code",
   "execution_count": 42,
   "metadata": {},
   "outputs": [
    {
     "data": {
      "text/plain": [
       "array([ 3,  1,  2,  3,  4,  5,  6,  7,  8,  9, 10])"
      ]
     },
     "execution_count": 42,
     "metadata": {},
     "output_type": "execute_result"
    }
   ],
   "source": [
    "x2[0] = 3\n",
    "x2"
   ]
  },
  {
   "cell_type": "code",
   "execution_count": 43,
   "metadata": {},
   "outputs": [
    {
     "data": {
      "text/plain": [
       "array([ 3,  1,  2,  3,  4,  5,  6,  7,  8,  9, 10])"
      ]
     },
     "execution_count": 43,
     "metadata": {},
     "output_type": "execute_result"
    }
   ],
   "source": [
    "x1"
   ]
  },
  {
   "cell_type": "code",
   "execution_count": 44,
   "metadata": {},
   "outputs": [
    {
     "data": {
      "text/plain": [
       "array([ 0,  1,  2,  3,  4,  5,  6,  7,  8,  9, 10])"
      ]
     },
     "execution_count": 44,
     "metadata": {},
     "output_type": "execute_result"
    }
   ],
   "source": [
    "x1 = np.arange(0,11)\n",
    "x2 = x1.copy()\n",
    "x2"
   ]
  },
  {
   "cell_type": "code",
   "execution_count": 45,
   "metadata": {},
   "outputs": [
    {
     "data": {
      "text/plain": [
       "array([ 3,  1,  2,  3,  4,  5,  6,  7,  8,  9, 10])"
      ]
     },
     "execution_count": 45,
     "metadata": {},
     "output_type": "execute_result"
    }
   ],
   "source": [
    "x2[0] = 3\n",
    "x2"
   ]
  },
  {
   "cell_type": "code",
   "execution_count": 46,
   "metadata": {},
   "outputs": [
    {
     "data": {
      "text/plain": [
       "array([ 0,  1,  2,  3,  4,  5,  6,  7,  8,  9, 10])"
      ]
     },
     "execution_count": 46,
     "metadata": {},
     "output_type": "execute_result"
    }
   ],
   "source": [
    "x1"
   ]
  },
  {
   "cell_type": "markdown",
   "metadata": {},
   "source": [
    "### Reshaping numpy arrays"
   ]
  },
  {
   "cell_type": "code",
   "execution_count": 47,
   "metadata": {},
   "outputs": [
    {
     "data": {
      "text/plain": [
       "array([0, 1, 2, 3, 4, 5, 6, 7, 8])"
      ]
     },
     "execution_count": 47,
     "metadata": {},
     "output_type": "execute_result"
    }
   ],
   "source": [
    "x1 = np.arange(0,9)\n",
    "x1"
   ]
  },
  {
   "cell_type": "code",
   "execution_count": 48,
   "metadata": {},
   "outputs": [
    {
     "data": {
      "text/plain": [
       "array([[0, 1, 2],\n",
       "       [3, 4, 5],\n",
       "       [6, 7, 8]])"
      ]
     },
     "execution_count": 48,
     "metadata": {},
     "output_type": "execute_result"
    }
   ],
   "source": [
    "x1.reshape((3,3))"
   ]
  },
  {
   "cell_type": "markdown",
   "metadata": {},
   "source": [
    "create a column vector"
   ]
  },
  {
   "cell_type": "code",
   "execution_count": 50,
   "metadata": {},
   "outputs": [
    {
     "data": {
      "text/plain": [
       "array([[0],\n",
       "       [1],\n",
       "       [2],\n",
       "       [3],\n",
       "       [4],\n",
       "       [5],\n",
       "       [6],\n",
       "       [7],\n",
       "       [8]])"
      ]
     },
     "execution_count": 50,
     "metadata": {},
     "output_type": "execute_result"
    }
   ],
   "source": [
    "x1[:,np.newaxis]"
   ]
  },
  {
   "cell_type": "markdown",
   "metadata": {},
   "source": [
    "or equivalent"
   ]
  },
  {
   "cell_type": "code",
   "execution_count": 51,
   "metadata": {},
   "outputs": [
    {
     "data": {
      "text/plain": [
       "array([[0],\n",
       "       [1],\n",
       "       [2],\n",
       "       [3],\n",
       "       [4],\n",
       "       [5],\n",
       "       [6],\n",
       "       [7],\n",
       "       [8]])"
      ]
     },
     "execution_count": 51,
     "metadata": {},
     "output_type": "execute_result"
    }
   ],
   "source": [
    "x1.reshape((9,1))"
   ]
  },
  {
   "cell_type": "markdown",
   "metadata": {},
   "source": [
    "### Joining arrays"
   ]
  },
  {
   "cell_type": "code",
   "execution_count": 52,
   "metadata": {},
   "outputs": [
    {
     "name": "stdout",
     "output_type": "stream",
     "text": [
      "[0 1 2 3 4 5 6 7 8]\n",
      "[ 3  1  2  3  4  5  6  7  8  9 10]\n"
     ]
    }
   ],
   "source": [
    "print(x1)\n",
    "print(x2)"
   ]
  },
  {
   "cell_type": "code",
   "execution_count": 53,
   "metadata": {},
   "outputs": [
    {
     "data": {
      "text/plain": [
       "array([ 0,  1,  2,  3,  4,  5,  6,  7,  8,  3,  1,  2,  3,  4,  5,  6,  7,\n",
       "        8,  9, 10])"
      ]
     },
     "execution_count": 53,
     "metadata": {},
     "output_type": "execute_result"
    }
   ],
   "source": [
    "np.concatenate([x1,x2])"
   ]
  },
  {
   "cell_type": "code",
   "execution_count": 54,
   "metadata": {},
   "outputs": [
    {
     "data": {
      "text/plain": [
       "array([[1.63236066, 1.1328367 ],\n",
       "       [0.12182427, 1.56122284]])"
      ]
     },
     "execution_count": 54,
     "metadata": {},
     "output_type": "execute_result"
    }
   ],
   "source": [
    "x = np.random.normal(0,1,(2,2))\n",
    "x"
   ]
  },
  {
   "cell_type": "code",
   "execution_count": 55,
   "metadata": {},
   "outputs": [
    {
     "data": {
      "text/plain": [
       "array([[-0.47629142, -0.72075656],\n",
       "       [ 0.17077487, -1.71609713]])"
      ]
     },
     "execution_count": 55,
     "metadata": {},
     "output_type": "execute_result"
    }
   ],
   "source": [
    "y = np.random.normal(0,1,(2,2))\n",
    "y"
   ]
  },
  {
   "cell_type": "code",
   "execution_count": 56,
   "metadata": {},
   "outputs": [
    {
     "data": {
      "text/plain": [
       "array([[ 1.63236066,  1.1328367 ],\n",
       "       [ 0.12182427,  1.56122284],\n",
       "       [-0.47629142, -0.72075656],\n",
       "       [ 0.17077487, -1.71609713]])"
      ]
     },
     "execution_count": 56,
     "metadata": {},
     "output_type": "execute_result"
    }
   ],
   "source": [
    "np.vstack([x,y])"
   ]
  },
  {
   "cell_type": "code",
   "execution_count": 57,
   "metadata": {},
   "outputs": [
    {
     "data": {
      "text/plain": [
       "array([[ 1.63236066,  1.1328367 , -0.47629142, -0.72075656],\n",
       "       [ 0.12182427,  1.56122284,  0.17077487, -1.71609713]])"
      ]
     },
     "execution_count": 57,
     "metadata": {},
     "output_type": "execute_result"
    }
   ],
   "source": [
    "np.hstack([x,y])"
   ]
  },
  {
   "cell_type": "markdown",
   "metadata": {},
   "source": [
    "### Elementwise operations"
   ]
  },
  {
   "cell_type": "code",
   "execution_count": 58,
   "metadata": {},
   "outputs": [
    {
     "data": {
      "text/plain": [
       "array([ 1,  2,  3,  4,  5,  6,  7,  8,  9, 10, 11, 12, 13, 14, 15, 16, 17,\n",
       "       18, 19, 20, 21, 22, 23, 24, 25, 26, 27, 28, 29, 30, 31, 32, 33, 34,\n",
       "       35, 36, 37, 38, 39, 40, 41, 42, 43, 44, 45, 46, 47, 48, 49, 50, 51,\n",
       "       52, 53, 54, 55, 56, 57, 58, 59, 60, 61, 62, 63, 64, 65, 66, 67, 68,\n",
       "       69, 70, 71, 72, 73, 74, 75, 76, 77, 78, 79, 80, 81, 82, 83, 84, 85,\n",
       "       86, 87, 88, 89, 90, 91, 92, 93, 94, 95, 96, 97, 98, 99])"
      ]
     },
     "execution_count": 58,
     "metadata": {},
     "output_type": "execute_result"
    }
   ],
   "source": [
    "x = np.arange(1,100)\n",
    "x"
   ]
  },
  {
   "cell_type": "code",
   "execution_count": 59,
   "metadata": {},
   "outputs": [],
   "source": [
    "def reciprocal(x):\n",
    "    output = np.empty(len(x))\n",
    "    for i in range(len(x)):\n",
    "        output[i] = 1/x[i]\n",
    "    return output"
   ]
  },
  {
   "cell_type": "code",
   "execution_count": 60,
   "metadata": {},
   "outputs": [
    {
     "name": "stdout",
     "output_type": "stream",
     "text": [
      "10.3 µs ± 199 ns per loop (mean ± std. dev. of 7 runs, 100,000 loops each)\n"
     ]
    }
   ],
   "source": [
    "%timeit reciprocal(x)"
   ]
  },
  {
   "cell_type": "code",
   "execution_count": 61,
   "metadata": {},
   "outputs": [
    {
     "name": "stdout",
     "output_type": "stream",
     "text": [
      "790 ns ± 2.83 ns per loop (mean ± std. dev. of 7 runs, 1,000,000 loops each)\n"
     ]
    }
   ],
   "source": [
    "%timeit 1/x"
   ]
  },
  {
   "cell_type": "markdown",
   "metadata": {},
   "source": [
    "Standard numeric operations can be performed"
   ]
  },
  {
   "cell_type": "code",
   "execution_count": 62,
   "metadata": {},
   "outputs": [
    {
     "data": {
      "text/plain": [
       "array([  6,   7,   8,   9,  10,  11,  12,  13,  14,  15,  16,  17,  18,\n",
       "        19,  20,  21,  22,  23,  24,  25,  26,  27,  28,  29,  30,  31,\n",
       "        32,  33,  34,  35,  36,  37,  38,  39,  40,  41,  42,  43,  44,\n",
       "        45,  46,  47,  48,  49,  50,  51,  52,  53,  54,  55,  56,  57,\n",
       "        58,  59,  60,  61,  62,  63,  64,  65,  66,  67,  68,  69,  70,\n",
       "        71,  72,  73,  74,  75,  76,  77,  78,  79,  80,  81,  82,  83,\n",
       "        84,  85,  86,  87,  88,  89,  90,  91,  92,  93,  94,  95,  96,\n",
       "        97,  98,  99, 100, 101, 102, 103, 104])"
      ]
     },
     "execution_count": 62,
     "metadata": {},
     "output_type": "execute_result"
    }
   ],
   "source": [
    "x + 5"
   ]
  },
  {
   "cell_type": "code",
   "execution_count": 63,
   "metadata": {},
   "outputs": [
    {
     "data": {
      "text/plain": [
       "array([   1,    4,    9,   16,   25,   36,   49,   64,   81,  100,  121,\n",
       "        144,  169,  196,  225,  256,  289,  324,  361,  400,  441,  484,\n",
       "        529,  576,  625,  676,  729,  784,  841,  900,  961, 1024, 1089,\n",
       "       1156, 1225, 1296, 1369, 1444, 1521, 1600, 1681, 1764, 1849, 1936,\n",
       "       2025, 2116, 2209, 2304, 2401, 2500, 2601, 2704, 2809, 2916, 3025,\n",
       "       3136, 3249, 3364, 3481, 3600, 3721, 3844, 3969, 4096, 4225, 4356,\n",
       "       4489, 4624, 4761, 4900, 5041, 5184, 5329, 5476, 5625, 5776, 5929,\n",
       "       6084, 6241, 6400, 6561, 6724, 6889, 7056, 7225, 7396, 7569, 7744,\n",
       "       7921, 8100, 8281, 8464, 8649, 8836, 9025, 9216, 9409, 9604, 9801])"
      ]
     },
     "execution_count": 63,
     "metadata": {},
     "output_type": "execute_result"
    }
   ],
   "source": [
    "x**2"
   ]
  },
  {
   "cell_type": "markdown",
   "metadata": {},
   "source": [
    "For large calculations it can be useful to specify beforehand the array where the results will be stored. So instead of creating a temporary array we can write the computations directly where we need them."
   ]
  },
  {
   "cell_type": "code",
   "execution_count": 65,
   "metadata": {},
   "outputs": [],
   "source": [
    "x = np.random.normal(0,1,1000)\n",
    "y = np.empty(1000)"
   ]
  },
  {
   "cell_type": "code",
   "execution_count": 66,
   "metadata": {},
   "outputs": [
    {
     "data": {
      "text/plain": [
       "array([-1.13796463e+00, -1.33122503e+00,  2.23546603e+00,  1.11027547e+00,\n",
       "       -3.14685536e+00,  8.18740922e-01, -2.91358823e+00, -2.04184669e-01,\n",
       "       -1.06466090e+00,  9.69925297e-01, -4.39457345e+00, -2.84019471e-01,\n",
       "       -7.63276028e-01, -1.43226547e+00, -4.24364374e+00, -1.16619725e+00,\n",
       "        4.79890147e-01,  1.23771957e+00, -6.26828519e-01, -2.72499631e+00,\n",
       "       -2.23342032e-01,  5.29738037e-01, -2.22408431e+00,  1.81830150e+00,\n",
       "       -4.07492883e+00, -1.84472359e+00, -1.67878380e-01,  7.32551735e-01,\n",
       "        1.39908101e+00,  2.05925510e+00,  6.89450803e-01, -1.42359445e+00,\n",
       "        3.07837405e+00,  2.06252356e+00,  5.03887017e+00,  1.64556151e+00,\n",
       "       -1.53861078e+00, -9.65803671e-02,  1.35437282e+00,  3.38511792e-01,\n",
       "       -1.19098013e+00,  8.29659546e-01,  2.35321380e+00, -2.88273913e+00,\n",
       "        1.03792666e+00,  2.00632959e+00, -4.45058330e-01,  2.15716004e-02,\n",
       "       -2.83926889e-01,  2.10412203e+00,  2.40267882e+00, -3.43466726e+00,\n",
       "       -1.20452084e+00, -1.22320942e-01, -3.22074038e+00,  5.63558445e-01,\n",
       "        9.93642155e-02, -1.45514752e+00, -2.95272719e-01,  3.10735352e+00,\n",
       "       -1.31760091e-01, -6.90891446e-02, -1.00970088e+00,  3.75889770e+00,\n",
       "        7.81860853e-02,  1.31984533e+00, -7.95230580e-01, -1.79012459e+00,\n",
       "        1.15295218e+00, -3.90476259e-01,  4.66913541e-01,  2.69021049e+00,\n",
       "        3.10906482e+00,  1.20385017e+00,  3.97180969e+00, -1.18393705e-01,\n",
       "       -7.06187535e-01, -3.10451532e+00, -4.56613039e-01, -2.71665911e+00,\n",
       "        8.61221841e-01,  6.31118479e-01, -2.05779649e+00,  5.87736778e-01,\n",
       "        2.05292368e+00, -7.34373311e-01, -5.83107815e-01,  2.98821507e+00,\n",
       "       -2.33247744e+00, -1.12029902e+00, -4.31214466e+00,  3.17134437e+00,\n",
       "        3.54517187e+00,  3.70300519e+00, -2.11867253e-01, -2.00587631e+00,\n",
       "        2.42047205e-01,  1.09246600e-01,  7.90349298e-01,  2.29942754e+00,\n",
       "        1.32880240e+00,  5.88650429e-01, -7.58207066e-01,  1.36209203e+00,\n",
       "        1.93145505e+00, -1.00689636e-01,  5.69150279e-01,  3.26092628e+00,\n",
       "       -1.66173457e+00,  3.84098238e+00, -4.68044634e+00, -2.76648534e-02,\n",
       "        1.26415464e+00, -2.63646230e+00, -4.88310082e-01,  1.56384451e+00,\n",
       "       -1.03246922e+00, -8.55849093e-01, -4.10112531e+00,  3.93744781e-01,\n",
       "       -5.23945482e-01, -3.05539277e+00,  2.69334252e-01, -9.63445976e-01,\n",
       "       -9.32291261e-02, -4.13303689e-01,  1.35979716e-01,  3.01248114e-01,\n",
       "        3.30636385e-01,  4.25822870e+00, -2.06371805e+00, -1.82102777e+00,\n",
       "        3.55698480e-01, -7.08383138e-01, -2.18109416e+00,  2.35834942e-01,\n",
       "       -4.58547359e-01, -1.91900744e+00,  4.63757410e+00,  2.31065624e+00,\n",
       "        3.42866740e+00,  2.18928784e+00,  9.04333338e-01, -2.54803980e+00,\n",
       "        2.28059115e+00,  9.58899820e-01, -2.64922392e+00,  4.83520262e-01,\n",
       "        4.04255752e-02,  2.44742402e+00, -5.70548268e-01, -8.88132330e-01,\n",
       "       -1.63952622e+00, -4.91737979e+00,  2.64916683e+00,  1.49151632e+00,\n",
       "       -8.66677603e-01, -1.22664526e+00,  2.00947328e+00, -2.14222155e+00,\n",
       "        7.59160047e-01,  1.96850733e+00,  1.41657529e+00, -2.74432499e+00,\n",
       "        2.29819195e-01, -2.03521137e+00, -9.24421715e-01,  2.37948709e+00,\n",
       "        3.54547401e+00, -7.16491143e-01,  3.32842572e-01, -1.30326595e+00,\n",
       "       -9.40541003e-01, -2.13933527e+00, -1.20280161e+00, -1.26022032e+00,\n",
       "        9.16439745e-01,  2.77778590e-01,  1.68915458e+00, -1.37745286e+00,\n",
       "       -2.81481547e+00,  2.57529553e+00,  5.14930834e-01, -1.24236420e-01,\n",
       "        2.35699852e+00, -1.56048825e+00,  1.90703472e+00,  1.41526209e+00,\n",
       "        1.75138154e+00, -1.10866540e+00,  1.46668586e-01,  1.55791984e-01,\n",
       "        9.88350534e-01,  2.41631253e+00, -2.90239103e+00,  3.06915650e+00,\n",
       "        6.80036409e-01, -2.31562794e-01,  1.41905946e+00, -3.31669727e-01,\n",
       "       -1.34223645e+00, -1.25715593e-01,  3.84444856e-01, -8.05511511e-01,\n",
       "       -2.57927967e+00, -1.22221070e+00,  6.45913304e-01, -2.39780501e+00,\n",
       "       -2.59780494e+00, -1.89979866e+00,  1.92951350e+00,  1.40575071e+00,\n",
       "       -1.78714192e+00, -1.18089534e+00, -2.72066294e+00, -2.96267198e+00,\n",
       "       -3.25763356e-01, -7.17399664e-01, -2.48897761e+00,  1.14473448e+00,\n",
       "       -1.07746169e+00, -1.42527007e+00,  1.40800883e-01,  3.12935505e+00,\n",
       "       -2.31262821e+00, -5.38059973e+00,  1.46935481e-01, -2.50312503e+00,\n",
       "       -1.02576656e+00,  1.74032834e+00, -1.36169837e+00,  4.52819940e+00,\n",
       "       -6.51073640e-01,  8.11055282e-01,  2.10602284e+00, -1.41096541e+00,\n",
       "        1.34095421e+00, -1.26289320e+00, -1.18059348e+00, -5.66452875e-01,\n",
       "        1.10362747e+00,  2.15615917e+00, -6.85199367e-01,  1.51920972e+00,\n",
       "       -1.66010114e+00, -3.26090694e-03, -3.90029481e-03, -3.47533032e-02,\n",
       "        1.46133999e+00, -9.13907511e-01, -9.52813414e-01, -1.61384460e+00,\n",
       "        6.98974010e-01, -4.50293777e-01, -2.80709735e-01,  7.63789321e-01,\n",
       "       -4.43550471e+00,  1.25648487e+00, -3.06535859e+00,  1.54340741e-01,\n",
       "        1.59794922e+00, -3.25195764e+00,  9.95226541e-01, -3.07514124e+00,\n",
       "       -6.85279307e-01,  2.91255709e+00,  6.74961388e-01,  7.84763209e-01,\n",
       "       -1.65241144e+00,  2.72637099e+00,  1.67825142e+00,  3.49394062e+00,\n",
       "       -2.65731996e+00,  2.44947144e+00,  2.76915085e-01, -3.85558386e+00,\n",
       "       -7.60906395e-01, -1.55042210e+00,  3.41820211e-02, -8.92980365e-03,\n",
       "        1.96568707e+00,  3.99293215e+00,  2.64615868e+00, -4.73665732e-01,\n",
       "       -2.33036134e+00, -3.23726721e-01, -4.04068600e-01, -4.63961345e+00,\n",
       "        2.33005303e+00, -2.27356349e+00,  1.67935109e+00, -1.25719643e+00,\n",
       "       -4.43203234e-01,  1.16159981e+00,  4.00212393e-01, -3.74125160e+00,\n",
       "        1.28271243e+00,  1.88980022e+00, -3.25134759e+00,  4.20242169e+00,\n",
       "       -4.18011453e-02, -2.14694184e+00,  3.83510449e+00,  1.53345224e+00,\n",
       "       -1.38474791e+00,  1.27466844e+00,  2.16435315e-01, -1.02572776e+00,\n",
       "        1.71531063e+00, -1.43810688e-01, -3.77940120e+00, -4.30474242e-01,\n",
       "        1.50026489e+00,  3.24354512e+00, -7.20221965e-01, -5.07240389e+00,\n",
       "       -3.68160587e+00, -3.04555997e-01, -4.05277939e-02,  1.35687485e+00,\n",
       "       -1.02038943e+00, -1.20739349e+00,  2.46243138e-01, -1.23401796e+00,\n",
       "        2.22154587e+00, -3.57526286e+00, -1.13700411e-02,  2.59230086e+00,\n",
       "       -2.76888658e+00,  2.01555809e+00,  3.18772515e+00, -1.08648172e+00,\n",
       "       -2.22762667e+00, -3.15622471e+00,  1.37152172e+00,  2.30299334e+00,\n",
       "       -8.41680764e-01, -4.47110950e-01,  1.68681053e+00,  1.43718137e+00,\n",
       "       -3.43046685e+00,  1.73864211e+00, -1.29376089e+00,  3.04459555e+00,\n",
       "        3.01484072e+00, -1.82702898e-01,  4.69421237e+00, -8.94165462e-01,\n",
       "       -8.84831243e-01,  4.32077458e+00,  3.87580033e+00, -7.85534775e-01,\n",
       "        1.69567327e+00, -6.03404246e-02,  2.19322689e+00, -1.25947636e+00,\n",
       "       -8.96470262e-01, -1.58423701e+00, -3.33949987e-01,  1.17377870e+00,\n",
       "       -8.51598943e-01,  2.97614755e+00,  4.40961520e+00, -7.65919225e-01,\n",
       "       -4.15109779e-02,  2.62416573e+00, -3.24008168e+00,  3.55324904e-02,\n",
       "        7.11121227e-01, -3.31654735e+00, -1.75440096e+00,  2.63955525e+00,\n",
       "        6.06007116e-01,  2.92924088e+00,  1.90233094e+00,  1.32302818e+00,\n",
       "        7.51254643e-01,  3.79761235e+00,  7.55752861e-01,  3.72627116e+00,\n",
       "       -2.53660031e+00,  8.45373541e+00, -4.28018193e+00,  3.93725705e+00,\n",
       "        2.79744401e+00,  1.93660047e-01,  3.52703344e+00, -1.04048544e+00,\n",
       "        4.10085735e+00,  3.19066320e+00,  1.48240511e+00,  2.03903188e+00,\n",
       "        9.98298277e-01, -2.18059622e+00,  1.08615278e+00,  1.68647438e+00,\n",
       "        4.00109362e-01,  3.75433073e+00,  1.80485592e+00, -3.66231661e+00,\n",
       "       -9.34171778e-01,  6.73252937e-01, -1.52250633e+00,  9.20979406e-01,\n",
       "        4.71906110e-02, -9.42885781e-01, -1.82413825e-01, -2.23634127e+00,\n",
       "        3.42513453e+00,  8.45596550e-01,  6.55167934e-01, -1.24074644e+00,\n",
       "        1.63595788e-01,  8.94259110e-01,  1.28978641e+00,  1.25969217e+00,\n",
       "        1.67004368e+00, -1.53504705e+00, -3.09731045e-02,  2.96086892e+00,\n",
       "       -4.35276064e+00,  2.79436738e+00, -3.62374030e+00, -1.53588188e+00,\n",
       "       -1.68441975e+00, -2.11383635e+00,  9.73032620e-01, -1.60910957e+00,\n",
       "        4.32234939e+00,  7.08900322e-01, -1.84093304e+00,  4.37795337e+00,\n",
       "        1.43697310e+00,  2.35294182e+00,  1.12190363e+00, -5.42838418e-01,\n",
       "       -1.11570605e+00, -2.29308730e+00, -8.36730458e-01, -1.72922485e+00,\n",
       "       -1.31151180e+00,  2.05441515e+00,  9.69044276e-01, -2.05896741e+00,\n",
       "       -5.61644997e-01,  1.01113460e+00,  2.39832470e-01, -2.76424290e-01,\n",
       "        1.10307976e+00,  1.24371465e+00, -1.43266558e+00,  9.35864882e-01,\n",
       "        1.43411563e+00, -1.93063008e+00, -1.50174845e+00, -1.24455819e+00,\n",
       "        1.77862932e+00, -2.57503335e+00,  3.86525293e-01, -2.77023662e+00,\n",
       "       -9.93763621e-01, -1.72292470e+00,  2.09765480e+00, -7.40011413e-02,\n",
       "       -1.89022660e+00, -3.22818742e-02, -1.10169183e+00,  2.14942981e+00,\n",
       "       -4.96855425e-01, -1.40563512e-01, -1.85019064e+00,  2.99569621e+00,\n",
       "       -2.81145549e-01,  1.81079035e+00,  9.88389196e-01, -1.92391889e+00,\n",
       "       -5.09967530e+00,  4.43775872e-01, -1.44951789e+00,  2.72044016e+00,\n",
       "        1.29212012e-02, -1.27903202e+00,  1.13019116e+00,  2.90094161e-01,\n",
       "       -1.83965318e+00, -1.29702132e+00, -1.90575809e+00,  8.68244935e-01,\n",
       "        2.15710787e+00,  1.20055964e+00,  1.49175621e+00,  3.10113525e+00,\n",
       "        1.72125923e+00,  1.27274143e+00,  2.33424335e+00,  1.47391958e+00,\n",
       "        5.83685615e-01, -1.24948958e-02,  2.05044430e-01, -1.63551139e+00,\n",
       "       -5.18255914e-01, -2.47603033e+00,  1.36799428e-01, -1.38460666e+00,\n",
       "       -2.56076791e+00,  5.74654319e-01,  9.55978915e-01,  3.64669542e-01,\n",
       "        7.91808191e-01,  1.13960410e+00, -2.40522790e+00, -3.46688128e+00,\n",
       "       -1.36804127e+00,  5.17135239e-01, -2.32295529e+00,  5.34036680e+00,\n",
       "        1.40017009e+00,  2.48619590e+00, -8.45230002e-01,  1.20973501e+00,\n",
       "        1.27905831e-01,  1.16414686e+00, -1.08816533e+00,  1.89436581e+00,\n",
       "        3.05025215e-01, -7.95453027e-01, -9.63479831e-01, -5.21242183e-01,\n",
       "        1.73475797e+00, -4.63099327e-02,  1.20177765e+00, -6.24261272e-01,\n",
       "        1.17634390e+00, -1.31688250e+00,  6.50079024e-01, -1.20872842e+00,\n",
       "       -8.64326704e-01, -1.81017141e+00, -7.55367955e-01,  5.33036324e-01,\n",
       "        2.31340794e+00,  2.74746321e+00, -3.43520838e-01, -1.18985698e+00,\n",
       "        1.32342118e+00, -2.71604752e-01,  2.98652941e+00, -1.95982036e-02,\n",
       "        3.21266342e+00,  2.02497347e-01, -1.19436732e+00, -2.95095755e-01,\n",
       "       -2.32368213e+00, -1.00882566e+00,  1.33574650e+00,  1.59805805e+00,\n",
       "        2.96295559e+00, -2.86505498e+00,  2.95809901e+00, -5.56451342e-01,\n",
       "       -4.44075372e+00, -1.34294609e+00,  1.80790133e+00, -6.13898222e-01,\n",
       "        2.95855051e+00,  1.53058849e+00, -2.32426236e-01,  5.07044532e-01,\n",
       "       -1.06723830e+00,  1.75203534e+00, -4.72390900e-01,  1.22229715e+00,\n",
       "       -6.89042557e-01,  3.25557393e-01, -3.17558005e-01, -3.24117559e+00,\n",
       "        4.52466603e-01, -1.34955439e+00, -1.22154457e+00,  2.84748423e+00,\n",
       "       -1.53874996e-01,  1.00599146e-01, -1.91835024e+00, -4.87760868e-02,\n",
       "       -1.66775380e+00, -1.51735253e+00,  5.58439608e-01, -3.38567076e+00,\n",
       "        2.01278359e+00,  1.80673997e-01,  8.09204329e-01,  2.52666182e-01,\n",
       "       -1.78859917e-01, -2.28968840e-01,  7.00050277e-01,  1.73937406e+00,\n",
       "       -2.44613069e+00, -1.43033267e+00, -2.67912787e+00,  1.09321656e+00,\n",
       "       -9.72531174e-01,  1.44763939e+00, -1.38178988e+00, -1.29143572e+00,\n",
       "       -1.84772657e+00,  8.55234095e-01,  1.43192338e+00,  2.35510033e+00,\n",
       "       -1.28350234e+00,  1.62906306e+00,  5.59162791e-01,  1.57178721e+00,\n",
       "       -6.76995981e-01,  1.27443772e+00,  2.80635314e+00, -2.93549386e-01,\n",
       "        1.40918318e+00, -1.18107954e-01, -1.42025886e+00,  2.92654082e+00,\n",
       "        3.36290481e+00,  5.24562081e-01,  1.49793156e+00,  1.60939454e+00,\n",
       "        1.70685234e+00,  8.18969609e-01, -2.70129670e+00, -5.08311260e+00,\n",
       "       -1.51397915e+00, -4.11439610e-01, -1.39066851e+00,  1.57802619e+00,\n",
       "        7.67536490e-01,  3.05629507e+00, -2.71718675e+00,  1.20651735e+00,\n",
       "        5.68224007e-01, -1.62070416e+00,  1.59307709e+00, -2.91271288e+00,\n",
       "       -1.65996042e+00, -4.07246141e-01, -2.57017658e-01, -7.10009179e-01,\n",
       "        2.21184026e-01,  3.97396266e-03,  1.23241169e+00, -6.37403530e-01,\n",
       "       -8.16411153e-01, -1.71531522e+00, -2.12842743e+00, -6.77456056e-01,\n",
       "        4.59956342e-01, -4.68708502e-01, -5.24365943e-01,  1.78555248e+00,\n",
       "       -5.18417271e+00, -1.46299852e+00,  9.15114787e-01, -1.24137702e-01,\n",
       "        2.35396449e+00, -2.17208006e+00,  2.70500016e+00,  1.57905745e+00,\n",
       "        7.54837028e-01,  1.90816023e+00,  7.18030048e-01, -3.01449594e-01,\n",
       "        8.68203924e-01, -2.98234042e-01, -7.19515032e-02, -6.58546045e-01,\n",
       "       -7.11044401e-01, -2.45823749e-01, -5.06546393e-01, -1.06068059e-01,\n",
       "        3.60815354e+00,  2.23249710e+00, -6.11518306e-01, -1.42991580e+00,\n",
       "        3.91038802e-01, -1.77334425e+00,  1.54497319e+00, -3.77262869e-01,\n",
       "       -1.86840168e+00,  1.39123608e+00,  1.62459963e-01, -4.14656188e-01,\n",
       "        1.98330400e+00, -1.15348954e+00,  2.02078637e+00, -4.36495053e-01,\n",
       "       -2.54998288e-01, -3.51698575e+00,  4.08789552e-01,  1.61626115e+00,\n",
       "        4.48241356e-01,  4.04051824e+00,  1.04411075e+00,  9.69830308e-01,\n",
       "       -2.77592964e+00,  7.67214086e-01, -2.81429189e+00, -1.81800232e+00,\n",
       "        1.94205164e+00,  1.92670185e+00, -6.62950050e-01, -1.27737739e+00,\n",
       "        1.71238430e+00,  6.12100293e-02,  5.41853909e-01,  2.05261184e+00,\n",
       "        7.67944557e-01,  5.46206678e-01,  1.17268845e+00, -2.63685880e+00,\n",
       "       -8.27017622e-01,  3.30384410e+00, -1.49199446e-01,  2.68560815e+00,\n",
       "        1.19957386e+00,  3.64838772e+00, -6.39890592e-01, -2.46655968e-01,\n",
       "        1.47564492e+00,  4.20099005e+00,  1.16832743e+00, -1.01976658e-01,\n",
       "       -1.25788309e+00,  1.41043349e+00, -2.25700382e+00,  2.08872646e+00,\n",
       "        7.53946501e-02, -4.53780874e-01,  6.26706018e+00, -4.27697103e+00,\n",
       "        4.50649425e+00,  6.53200799e-01,  1.51083019e+00, -7.69268601e-01,\n",
       "       -2.65312715e+00,  1.11725776e+00,  1.68367501e+00,  9.69897338e-02,\n",
       "        5.32404826e-01, -8.02575002e-01, -7.18359605e-01, -6.18623411e-01,\n",
       "       -1.89536005e-01,  3.88857075e-01,  8.45527694e-01, -6.91598902e-01,\n",
       "        1.71035803e+00,  2.20574409e+00,  1.15654042e+00, -2.00758480e+00,\n",
       "        2.26055693e+00,  3.12105454e+00, -1.71316222e+00, -5.67596615e-01,\n",
       "       -1.33945442e+00, -1.38461742e+00, -2.25945447e+00, -2.37177689e+00,\n",
       "       -3.01886787e+00,  3.16379866e+00,  3.68745229e+00,  1.20447735e+00,\n",
       "        1.19282781e+00, -3.07332213e+00, -1.53092582e+00, -2.08451231e+00,\n",
       "       -5.38706959e-01, -1.37473723e+00,  1.15128507e+00,  7.15903407e-01,\n",
       "        6.32856430e-01, -6.17498650e-01, -2.29906827e+00, -1.09120808e+00,\n",
       "        1.06413342e+00,  2.68197471e+00,  1.38411291e+00,  8.09325603e-01,\n",
       "        1.50053035e+00,  2.85213307e+00,  4.30567842e-01, -5.95206272e-01,\n",
       "       -8.47191208e-01,  1.64968901e+00,  3.73051438e+00, -1.45127033e+00,\n",
       "        1.90797966e+00, -1.01753500e+00,  2.51471187e+00,  1.66752643e+00,\n",
       "        3.61888446e-02,  8.42064936e-06, -1.94090833e+00, -4.37358750e+00,\n",
       "       -7.08544849e-01, -1.30373231e-01, -2.30991254e+00, -2.06450792e+00,\n",
       "       -7.42036463e-01,  3.72434698e-01, -4.14330363e+00,  4.76538170e-01,\n",
       "       -9.17243872e-01,  3.27649276e+00,  1.00507347e+00, -4.13147895e+00,\n",
       "       -1.04496083e+00, -3.29267667e+00, -2.71877343e-02,  3.67795189e-01,\n",
       "        1.74676362e+00,  3.79409408e+00,  2.34216166e+00,  3.84415997e-01,\n",
       "       -1.43550779e+00,  3.72736835e+00,  2.61665330e-01,  2.31378378e+00,\n",
       "        1.96513276e+00, -3.15998753e+00, -4.79625495e-01,  2.51124204e-01,\n",
       "        9.04122106e-01, -2.56291433e-01,  9.47559142e-02, -1.68974875e-01,\n",
       "       -4.35092147e-01,  1.00905307e+00,  2.87742004e+00,  2.55484207e-01,\n",
       "        1.96781970e+00, -2.25138474e+00, -1.27022155e+00,  5.28765770e-01,\n",
       "        1.31903494e+00, -3.94673928e+00, -3.09652911e-01, -1.92881531e+00,\n",
       "        6.52028522e-01,  1.01013423e+00,  3.35699293e-01,  1.16578889e+00,\n",
       "        5.63283433e-01,  1.39658694e+00, -1.68918857e+00,  1.61510126e-01,\n",
       "       -1.52055138e+00,  1.51084782e+00, -2.54369026e+00, -2.23238740e+00,\n",
       "       -1.53883222e+00,  4.84837298e-01,  2.37606814e-01,  7.21790587e-01,\n",
       "       -1.34363003e+00, -1.95815711e+00, -1.44061845e+00, -1.46660971e+00,\n",
       "       -9.01805737e-01,  2.21781136e+00, -7.79671205e-01, -1.22314704e+00,\n",
       "        1.10949723e+00, -1.99707697e+00, -3.18541859e+00, -5.50183358e-01,\n",
       "       -3.14163215e+00,  2.35425147e-01,  1.87168374e+00, -1.79787284e+00,\n",
       "       -1.48601275e+00, -3.31925738e+00,  1.41902555e+00, -1.41428243e+00,\n",
       "        9.25051381e-01, -2.54518998e+00,  1.25506724e+00,  2.20920229e+00,\n",
       "        4.22271475e-01, -1.52638027e+00, -2.29832998e+00, -3.37822080e+00,\n",
       "        1.53751918e+00, -2.90182267e+00,  1.05901512e+00, -2.31995824e+00,\n",
       "       -1.36039216e+00, -2.62483469e+00, -1.27448592e+00, -1.13401792e+00,\n",
       "        1.54702947e+00, -6.94980244e-01, -2.12802205e+00,  2.66236711e+00,\n",
       "        7.00245168e-01,  1.74750046e+00,  4.16006825e-01,  3.34925942e+00,\n",
       "       -2.15504295e+00,  3.65236457e-02, -4.70730817e+00, -1.51010773e+00,\n",
       "       -1.67258998e+00,  1.28664878e+00,  1.69493621e+00, -5.36543415e-01,\n",
       "        5.57570547e+00,  3.95443574e+00, -1.44188427e-02, -1.08658883e-01,\n",
       "       -1.10031539e+00,  3.84856193e+00,  4.10981143e+00, -4.57883750e+00,\n",
       "        7.13384285e-01,  4.44596731e-01,  1.15278764e+00, -6.29544914e-01,\n",
       "       -1.29688921e-01,  1.68613185e+00, -2.55538206e+00, -1.32249891e+00,\n",
       "        5.28492605e-02, -2.52542818e-01,  2.80003291e+00, -6.46452846e+00,\n",
       "       -2.87333839e+00, -1.48096828e+00, -5.25202178e-01,  1.76072065e+00,\n",
       "        3.17734669e-01,  9.40371532e-01,  3.92152988e-01, -2.36803343e-01,\n",
       "        7.22191462e-01,  3.26601114e+00,  2.44714568e+00, -6.09731242e-03,\n",
       "        3.64419628e-02, -2.67146458e+00,  2.80405253e+00, -1.09426347e+00,\n",
       "       -4.36953393e+00,  2.61388803e+00, -3.40313009e+00, -2.73356817e+00,\n",
       "       -1.13559248e+00,  1.10560245e+00, -1.14404938e+00,  2.66736554e+00,\n",
       "        2.03694922e+00, -5.18100575e-01, -2.16145429e+00,  1.09478611e+00,\n",
       "       -1.42350001e+00,  1.67805843e-01,  1.84705282e-02, -1.83712420e+00,\n",
       "        5.58635897e-01, -2.38808821e+00, -4.91100783e-01,  5.18562330e-01,\n",
       "        2.16763709e-01,  9.86565040e-01, -5.77852374e+00, -7.33853432e-01,\n",
       "        1.30465348e+00,  1.73802395e+00, -3.02582212e-01,  3.09457802e+00,\n",
       "        1.18860934e+00, -2.45994636e+00, -9.11649824e-01, -1.91405999e-01,\n",
       "        7.09910900e-01,  8.64984888e-01,  1.88096005e+00, -2.89126996e+00,\n",
       "        2.55789751e+00,  2.37286712e+00, -5.50483239e-01,  4.76976403e-02,\n",
       "       -2.98132901e+00, -1.74571640e+00, -4.26377572e+00,  1.02713733e-02,\n",
       "        2.46803536e+00,  1.34390861e+00,  1.35284735e+00,  9.16056383e-01,\n",
       "        3.68244676e-01, -3.58024043e+00, -2.75576715e+00, -4.93555283e-01])"
      ]
     },
     "execution_count": 66,
     "metadata": {},
     "output_type": "execute_result"
    }
   ],
   "source": [
    "np.multiply(x,2,out=y)\n",
    "y"
   ]
  },
  {
   "cell_type": "markdown",
   "metadata": {},
   "source": [
    "We can easily perform all sorts of aggregations"
   ]
  },
  {
   "cell_type": "code",
   "execution_count": 67,
   "metadata": {},
   "outputs": [
    {
     "data": {
      "text/plain": [
       "array([1, 2, 3, 4, 5])"
      ]
     },
     "execution_count": 67,
     "metadata": {},
     "output_type": "execute_result"
    }
   ],
   "source": [
    "x = np.arange(1,6)\n",
    "x"
   ]
  },
  {
   "cell_type": "code",
   "execution_count": 68,
   "metadata": {},
   "outputs": [
    {
     "data": {
      "text/plain": [
       "15"
      ]
     },
     "execution_count": 68,
     "metadata": {},
     "output_type": "execute_result"
    }
   ],
   "source": [
    "np.add.reduce(x)"
   ]
  },
  {
   "cell_type": "code",
   "execution_count": 69,
   "metadata": {},
   "outputs": [
    {
     "data": {
      "text/plain": [
       "120"
      ]
     },
     "execution_count": 69,
     "metadata": {},
     "output_type": "execute_result"
    }
   ],
   "source": [
    "np.multiply.reduce(x)"
   ]
  },
  {
   "cell_type": "code",
   "execution_count": 70,
   "metadata": {},
   "outputs": [
    {
     "data": {
      "text/plain": [
       "(-6.464528460199527, 8.453735414607127)"
      ]
     },
     "execution_count": 70,
     "metadata": {},
     "output_type": "execute_result"
    }
   ],
   "source": [
    "np.min(y), np.max(y)"
   ]
  },
  {
   "cell_type": "markdown",
   "metadata": {},
   "source": [
    "In the case of multidimensional arrays we can perform aggregations per axis"
   ]
  },
  {
   "cell_type": "code",
   "execution_count": 71,
   "metadata": {},
   "outputs": [
    {
     "data": {
      "text/plain": [
       "array([[15,  1, 18],\n",
       "       [15,  7, 14],\n",
       "       [12,  6, 12]])"
      ]
     },
     "execution_count": 71,
     "metadata": {},
     "output_type": "execute_result"
    }
   ],
   "source": [
    "x = np.random.randint(1,20,size=9).reshape(3,3)\n",
    "x"
   ]
  },
  {
   "cell_type": "code",
   "execution_count": 72,
   "metadata": {},
   "outputs": [
    {
     "data": {
      "text/plain": [
       "100"
      ]
     },
     "execution_count": 72,
     "metadata": {},
     "output_type": "execute_result"
    }
   ],
   "source": [
    "x.sum()"
   ]
  },
  {
   "cell_type": "markdown",
   "metadata": {},
   "source": [
    "We can obtain the sum per column or per row"
   ]
  },
  {
   "cell_type": "code",
   "execution_count": 73,
   "metadata": {},
   "outputs": [
    {
     "data": {
      "text/plain": [
       "array([42, 14, 44])"
      ]
     },
     "execution_count": 73,
     "metadata": {},
     "output_type": "execute_result"
    }
   ],
   "source": [
    "x.sum(axis=0)"
   ]
  },
  {
   "cell_type": "code",
   "execution_count": 74,
   "metadata": {},
   "outputs": [
    {
     "data": {
      "text/plain": [
       "array([34, 36, 30])"
      ]
     },
     "execution_count": 74,
     "metadata": {},
     "output_type": "execute_result"
    }
   ],
   "source": [
    "x.sum(axis=1)"
   ]
  },
  {
   "cell_type": "markdown",
   "metadata": {},
   "source": [
    "Below we see what happens when we have missing values"
   ]
  },
  {
   "cell_type": "code",
   "execution_count": 75,
   "metadata": {},
   "outputs": [
    {
     "data": {
      "text/plain": [
       "array([[0.13214626, 0.87732991],\n",
       "       [0.76589653, 0.3179049 ]])"
      ]
     },
     "execution_count": 75,
     "metadata": {},
     "output_type": "execute_result"
    }
   ],
   "source": [
    "z = np.random.random((2,2))\n",
    "z"
   ]
  },
  {
   "cell_type": "code",
   "execution_count": 76,
   "metadata": {},
   "outputs": [
    {
     "data": {
      "text/plain": [
       "array([[       nan, 0.87732991],\n",
       "       [0.76589653, 0.3179049 ]])"
      ]
     },
     "execution_count": 76,
     "metadata": {},
     "output_type": "execute_result"
    }
   ],
   "source": [
    "z[0,0] = np.nan\n",
    "z"
   ]
  },
  {
   "cell_type": "code",
   "execution_count": 77,
   "metadata": {},
   "outputs": [
    {
     "data": {
      "text/plain": [
       "nan"
      ]
     },
     "execution_count": 77,
     "metadata": {},
     "output_type": "execute_result"
    }
   ],
   "source": [
    "z.sum()"
   ]
  },
  {
   "cell_type": "code",
   "execution_count": 78,
   "metadata": {},
   "outputs": [
    {
     "data": {
      "text/plain": [
       "array([       nan, 1.19523481])"
      ]
     },
     "execution_count": 78,
     "metadata": {},
     "output_type": "execute_result"
    }
   ],
   "source": [
    "z.sum(axis=0)"
   ]
  },
  {
   "cell_type": "code",
   "execution_count": 79,
   "metadata": {},
   "outputs": [
    {
     "data": {
      "text/plain": [
       "array([       nan, 1.08380143])"
      ]
     },
     "execution_count": 79,
     "metadata": {},
     "output_type": "execute_result"
    }
   ],
   "source": [
    "z.sum(axis=1)"
   ]
  },
  {
   "cell_type": "markdown",
   "metadata": {},
   "source": [
    "NumPy offers special functions to deal with missing values"
   ]
  },
  {
   "cell_type": "code",
   "execution_count": 80,
   "metadata": {},
   "outputs": [
    {
     "data": {
      "text/plain": [
       "1.9611313416191793"
      ]
     },
     "execution_count": 80,
     "metadata": {},
     "output_type": "execute_result"
    }
   ],
   "source": [
    "np.nansum(z)"
   ]
  },
  {
   "cell_type": "code",
   "execution_count": 81,
   "metadata": {},
   "outputs": [
    {
     "data": {
      "text/plain": [
       "array([0.76589653, 1.19523481])"
      ]
     },
     "execution_count": 81,
     "metadata": {},
     "output_type": "execute_result"
    }
   ],
   "source": [
    "np.nansum(z,axis=0)"
   ]
  },
  {
   "cell_type": "code",
   "execution_count": 82,
   "metadata": {},
   "outputs": [
    {
     "data": {
      "text/plain": [
       "array([0.87732991, 1.08380143])"
      ]
     },
     "execution_count": 82,
     "metadata": {},
     "output_type": "execute_result"
    }
   ],
   "source": [
    "np.nansum(z,axis=1)"
   ]
  },
  {
   "cell_type": "markdown",
   "metadata": {},
   "source": [
    "## Broadcasting"
   ]
  },
  {
   "cell_type": "markdown",
   "metadata": {},
   "source": [
    "A set of rules for applying binary universal functions on arrays of different sizes"
   ]
  },
  {
   "cell_type": "markdown",
   "metadata": {},
   "source": [
    "* If the arrays do not have the same rank, then a 1 will be prepended to the smaller ranking array until their ranks match.\n",
    "* Arrays with a 1 along a particular dimension act as if they had the size of the array with the largest shape along that dimension. The value of the array element is repeated along that dimension.\n",
    "* After rules 1 & 2, the sizes of all arrays must match."
   ]
  },
  {
   "cell_type": "code",
   "execution_count": 83,
   "metadata": {},
   "outputs": [
    {
     "data": {
      "text/plain": [
       "array([[ 9,  1, 16],\n",
       "       [ 1, 19, 17],\n",
       "       [ 5, 12,  2]])"
      ]
     },
     "execution_count": 83,
     "metadata": {},
     "output_type": "execute_result"
    }
   ],
   "source": [
    "z = np.random.randint(1,20,size=9).reshape(3,3)\n",
    "z"
   ]
  },
  {
   "cell_type": "code",
   "execution_count": 84,
   "metadata": {},
   "outputs": [
    {
     "data": {
      "text/plain": [
       "array([[1, 2, 3]])"
      ]
     },
     "execution_count": 84,
     "metadata": {},
     "output_type": "execute_result"
    }
   ],
   "source": [
    "a = np.arange(1,4).reshape(1,3)\n",
    "a"
   ]
  },
  {
   "cell_type": "code",
   "execution_count": 85,
   "metadata": {},
   "outputs": [
    {
     "data": {
      "text/plain": [
       "(1, 3)"
      ]
     },
     "execution_count": 85,
     "metadata": {},
     "output_type": "execute_result"
    }
   ],
   "source": [
    "a.shape"
   ]
  },
  {
   "cell_type": "code",
   "execution_count": 86,
   "metadata": {},
   "outputs": [
    {
     "data": {
      "text/plain": [
       "(3, 3)"
      ]
     },
     "execution_count": 86,
     "metadata": {},
     "output_type": "execute_result"
    }
   ],
   "source": [
    "z.shape"
   ]
  },
  {
   "cell_type": "code",
   "execution_count": 87,
   "metadata": {},
   "outputs": [
    {
     "data": {
      "text/plain": [
       "array([[10,  3, 19],\n",
       "       [ 2, 21, 20],\n",
       "       [ 6, 14,  5]])"
      ]
     },
     "execution_count": 87,
     "metadata": {},
     "output_type": "execute_result"
    }
   ],
   "source": [
    "z + a"
   ]
  },
  {
   "cell_type": "code",
   "execution_count": 88,
   "metadata": {},
   "outputs": [
    {
     "data": {
      "text/plain": [
       "array([[4],\n",
       "       [5],\n",
       "       [6]])"
      ]
     },
     "execution_count": 88,
     "metadata": {},
     "output_type": "execute_result"
    }
   ],
   "source": [
    "b = np.arange(4,7).reshape(3,1)\n",
    "b"
   ]
  },
  {
   "cell_type": "code",
   "execution_count": 89,
   "metadata": {},
   "outputs": [
    {
     "data": {
      "text/plain": [
       "(3, 1)"
      ]
     },
     "execution_count": 89,
     "metadata": {},
     "output_type": "execute_result"
    }
   ],
   "source": [
    "b.shape"
   ]
  },
  {
   "cell_type": "code",
   "execution_count": 90,
   "metadata": {},
   "outputs": [
    {
     "data": {
      "text/plain": [
       "(3, 3)"
      ]
     },
     "execution_count": 90,
     "metadata": {},
     "output_type": "execute_result"
    }
   ],
   "source": [
    "z.shape"
   ]
  },
  {
   "cell_type": "code",
   "execution_count": 91,
   "metadata": {},
   "outputs": [
    {
     "data": {
      "text/plain": [
       "array([[13,  5, 20],\n",
       "       [ 6, 24, 22],\n",
       "       [11, 18,  8]])"
      ]
     },
     "execution_count": 91,
     "metadata": {},
     "output_type": "execute_result"
    }
   ],
   "source": [
    "z + b"
   ]
  },
  {
   "cell_type": "code",
   "execution_count": 92,
   "metadata": {},
   "outputs": [
    {
     "data": {
      "text/plain": [
       "(1, 3)"
      ]
     },
     "execution_count": 92,
     "metadata": {},
     "output_type": "execute_result"
    }
   ],
   "source": [
    "a.shape"
   ]
  },
  {
   "cell_type": "code",
   "execution_count": 93,
   "metadata": {},
   "outputs": [
    {
     "data": {
      "text/plain": [
       "(3, 1)"
      ]
     },
     "execution_count": 93,
     "metadata": {},
     "output_type": "execute_result"
    }
   ],
   "source": [
    "b.shape"
   ]
  },
  {
   "cell_type": "code",
   "execution_count": 94,
   "metadata": {},
   "outputs": [
    {
     "data": {
      "text/plain": [
       "array([[5, 6, 7],\n",
       "       [6, 7, 8],\n",
       "       [7, 8, 9]])"
      ]
     },
     "execution_count": 94,
     "metadata": {},
     "output_type": "execute_result"
    }
   ],
   "source": [
    "a + b"
   ]
  },
  {
   "cell_type": "code",
   "execution_count": 95,
   "metadata": {},
   "outputs": [
    {
     "data": {
      "text/plain": [
       "array([8, 9])"
      ]
     },
     "execution_count": 95,
     "metadata": {},
     "output_type": "execute_result"
    }
   ],
   "source": [
    "c = np.arange(8,10)\n",
    "c"
   ]
  },
  {
   "cell_type": "code",
   "execution_count": 96,
   "metadata": {},
   "outputs": [
    {
     "data": {
      "text/plain": [
       "(2,)"
      ]
     },
     "execution_count": 96,
     "metadata": {},
     "output_type": "execute_result"
    }
   ],
   "source": [
    "c.shape"
   ]
  },
  {
   "cell_type": "code",
   "execution_count": 97,
   "metadata": {},
   "outputs": [
    {
     "data": {
      "text/plain": [
       "(3, 3)"
      ]
     },
     "execution_count": 97,
     "metadata": {},
     "output_type": "execute_result"
    }
   ],
   "source": [
    "z.shape"
   ]
  },
  {
   "cell_type": "code",
   "execution_count": 98,
   "metadata": {},
   "outputs": [
    {
     "ename": "ValueError",
     "evalue": "operands could not be broadcast together with shapes (3,3) (2,) ",
     "output_type": "error",
     "traceback": [
      "\u001b[0;31m---------------------------------------------------------------------------\u001b[0m",
      "\u001b[0;31mValueError\u001b[0m                                Traceback (most recent call last)",
      "Cell \u001b[0;32mIn[98], line 1\u001b[0m\n\u001b[0;32m----> 1\u001b[0m z \u001b[38;5;241m+\u001b[39m c\n",
      "\u001b[0;31mValueError\u001b[0m: operands could not be broadcast together with shapes (3,3) (2,) "
     ]
    }
   ],
   "source": [
    "z + c"
   ]
  },
  {
   "cell_type": "markdown",
   "metadata": {},
   "source": [
    "### Conditionals"
   ]
  },
  {
   "cell_type": "code",
   "execution_count": 99,
   "metadata": {},
   "outputs": [
    {
     "data": {
      "text/plain": [
       "array([[ 9,  1, 16],\n",
       "       [ 1, 19, 17],\n",
       "       [ 5, 12,  2]])"
      ]
     },
     "execution_count": 99,
     "metadata": {},
     "output_type": "execute_result"
    }
   ],
   "source": [
    "z"
   ]
  },
  {
   "cell_type": "code",
   "execution_count": 100,
   "metadata": {},
   "outputs": [
    {
     "data": {
      "text/plain": [
       "array([[ True, False,  True],\n",
       "       [False,  True,  True],\n",
       "       [ True,  True, False]])"
      ]
     },
     "execution_count": 100,
     "metadata": {},
     "output_type": "execute_result"
    }
   ],
   "source": [
    "z > 4"
   ]
  },
  {
   "cell_type": "code",
   "execution_count": 101,
   "metadata": {},
   "outputs": [
    {
     "data": {
      "text/plain": [
       "array([ 9, 16, 19, 17,  5, 12])"
      ]
     },
     "execution_count": 101,
     "metadata": {},
     "output_type": "execute_result"
    }
   ],
   "source": [
    "z[z>4]"
   ]
  },
  {
   "cell_type": "markdown",
   "metadata": {},
   "source": [
    "### Linear algebra"
   ]
  },
  {
   "cell_type": "code",
   "execution_count": 113,
   "metadata": {},
   "outputs": [
    {
     "data": {
      "text/plain": [
       "array([[0.82155158, 0.6854406 , 0.48392458],\n",
       "       [0.6713123 , 0.99703274, 0.38350124],\n",
       "       [0.14309541, 0.19077345, 0.94034602],\n",
       "       [0.558754  , 0.26442689, 0.15550532]])"
      ]
     },
     "execution_count": 113,
     "metadata": {},
     "output_type": "execute_result"
    }
   ],
   "source": [
    "y = np.random.rand(4,3)\n",
    "y"
   ]
  },
  {
   "cell_type": "code",
   "execution_count": 105,
   "metadata": {},
   "outputs": [
    {
     "data": {
      "text/plain": [
       "array([0.8003259 , 0.67327747, 0.77245745, 0.54681098])"
      ]
     },
     "execution_count": 105,
     "metadata": {},
     "output_type": "execute_result"
    }
   ],
   "source": [
    "np.diag(y)"
   ]
  },
  {
   "cell_type": "code",
   "execution_count": 106,
   "metadata": {},
   "outputs": [
    {
     "data": {
      "text/plain": [
       "2.792871808944828"
      ]
     },
     "execution_count": 106,
     "metadata": {},
     "output_type": "execute_result"
    }
   ],
   "source": [
    "np.trace(y)"
   ]
  },
  {
   "cell_type": "code",
   "execution_count": 107,
   "metadata": {},
   "outputs": [
    {
     "data": {
      "text/plain": [
       "2.792871808944828"
      ]
     },
     "execution_count": 107,
     "metadata": {},
     "output_type": "execute_result"
    }
   ],
   "source": [
    "np.diag(y).sum()"
   ]
  },
  {
   "cell_type": "markdown",
   "metadata": {},
   "source": [
    "Transpose of a matrix"
   ]
  },
  {
   "cell_type": "code",
   "execution_count": 108,
   "metadata": {},
   "outputs": [
    {
     "data": {
      "text/plain": [
       "array([[0.8003259 , 0.4248953 , 0.91344162, 0.96688284],\n",
       "       [0.74258721, 0.67327747, 0.28347037, 0.10273119],\n",
       "       [0.22179714, 0.24117614, 0.77245745, 0.25255189],\n",
       "       [0.33505874, 0.20617316, 0.53521592, 0.54681098]])"
      ]
     },
     "execution_count": 108,
     "metadata": {},
     "output_type": "execute_result"
    }
   ],
   "source": [
    "y.T"
   ]
  },
  {
   "cell_type": "markdown",
   "metadata": {},
   "source": [
    "Identity matrix"
   ]
  },
  {
   "cell_type": "code",
   "execution_count": 109,
   "metadata": {},
   "outputs": [
    {
     "data": {
      "text/plain": [
       "array([[1., 0., 0.],\n",
       "       [0., 1., 0.],\n",
       "       [0., 0., 1.]])"
      ]
     },
     "execution_count": 109,
     "metadata": {},
     "output_type": "execute_result"
    }
   ],
   "source": [
    "I = np.eye(3,3)\n",
    "I"
   ]
  },
  {
   "cell_type": "code",
   "execution_count": 110,
   "metadata": {},
   "outputs": [
    {
     "data": {
      "text/plain": [
       "array([[0.15680388, 0.37574891, 0.70632196],\n",
       "       [0.40180189, 0.7302616 , 0.28441173],\n",
       "       [0.71115204, 0.65794471, 0.9869288 ]])"
      ]
     },
     "execution_count": 110,
     "metadata": {},
     "output_type": "execute_result"
    }
   ],
   "source": [
    "x = np.random.rand(3,3)\n",
    "x"
   ]
  },
  {
   "cell_type": "code",
   "execution_count": 111,
   "metadata": {},
   "outputs": [
    {
     "data": {
      "text/plain": [
       "array([[0.15680388, 0.37574891, 0.70632196],\n",
       "       [0.40180189, 0.7302616 , 0.28441173],\n",
       "       [0.71115204, 0.65794471, 0.9869288 ]])"
      ]
     },
     "execution_count": 111,
     "metadata": {},
     "output_type": "execute_result"
    }
   ],
   "source": [
    "x.dot(I)"
   ]
  },
  {
   "cell_type": "markdown",
   "metadata": {},
   "source": [
    "Matrix dot product"
   ]
  },
  {
   "cell_type": "code",
   "execution_count": 114,
   "metadata": {},
   "outputs": [
    {
     "ename": "ValueError",
     "evalue": "shapes (3,3) and (4,3) not aligned: 3 (dim 1) != 4 (dim 0)",
     "output_type": "error",
     "traceback": [
      "\u001b[0;31m---------------------------------------------------------------------------\u001b[0m",
      "\u001b[0;31mValueError\u001b[0m                                Traceback (most recent call last)",
      "Cell \u001b[0;32mIn[114], line 1\u001b[0m\n\u001b[0;32m----> 1\u001b[0m x\u001b[38;5;241m.\u001b[39mdot(y)\n",
      "\u001b[0;31mValueError\u001b[0m: shapes (3,3) and (4,3) not aligned: 3 (dim 1) != 4 (dim 0)"
     ]
    }
   ],
   "source": [
    "x.dot(y)"
   ]
  },
  {
   "cell_type": "code",
   "execution_count": 115,
   "metadata": {},
   "outputs": [
    {
     "data": {
      "text/plain": [
       "array([[0.74837775, 1.12764368, 1.25282637],\n",
       "       [0.7786017 , 1.2326622 , 1.13621885],\n",
       "       [0.76782004, 0.81177816, 1.08338421],\n",
       "       [0.30444995, 0.50536591, 0.62333901]])"
      ]
     },
     "execution_count": 115,
     "metadata": {},
     "output_type": "execute_result"
    }
   ],
   "source": [
    "y.dot(x)"
   ]
  },
  {
   "cell_type": "markdown",
   "metadata": {},
   "source": [
    "Inverse and pseudoinverse"
   ]
  },
  {
   "cell_type": "code",
   "execution_count": 116,
   "metadata": {},
   "outputs": [
    {
     "data": {
      "text/plain": [
       "array([[-3.1494714 , -0.55414001,  2.41369461],\n",
       "       [ 1.14678222,  2.05137767, -1.41188841],\n",
       "       [ 1.50490462, -0.96827176,  0.2152543 ]])"
      ]
     },
     "execution_count": 116,
     "metadata": {},
     "output_type": "execute_result"
    }
   ],
   "source": [
    "np.linalg.inv(x)"
   ]
  },
  {
   "cell_type": "code",
   "execution_count": 117,
   "metadata": {},
   "outputs": [
    {
     "data": {
      "text/plain": [
       "array([[ 1.00000000e+00, -1.02516881e-16,  2.19219367e-17],\n",
       "       [-2.93326048e-17,  1.00000000e+00,  1.82733210e-17],\n",
       "       [-1.19372174e-16, -2.52528033e-17,  1.00000000e+00]])"
      ]
     },
     "execution_count": 117,
     "metadata": {},
     "output_type": "execute_result"
    }
   ],
   "source": [
    "x.dot(np.linalg.inv(x))"
   ]
  },
  {
   "cell_type": "code",
   "execution_count": 118,
   "metadata": {},
   "outputs": [
    {
     "data": {
      "text/plain": [
       "array([[-3.1494714 , -0.55414001,  2.41369461],\n",
       "       [ 1.14678222,  2.05137767, -1.41188841],\n",
       "       [ 1.50490462, -0.96827176,  0.2152543 ]])"
      ]
     },
     "execution_count": 118,
     "metadata": {},
     "output_type": "execute_result"
    }
   ],
   "source": [
    "np.linalg.pinv(x)"
   ]
  },
  {
   "cell_type": "markdown",
   "metadata": {},
   "source": [
    "QR decomposition"
   ]
  },
  {
   "cell_type": "code",
   "execution_count": 119,
   "metadata": {},
   "outputs": [],
   "source": [
    "q, r = np.linalg.qr(x)"
   ]
  },
  {
   "cell_type": "code",
   "execution_count": 120,
   "metadata": {},
   "outputs": [
    {
     "data": {
      "text/plain": [
       "array([[0.15680388, 0.37574891, 0.70632196],\n",
       "       [0.40180189, 0.7302616 , 0.28441173],\n",
       "       [0.71115204, 0.65794471, 0.9869288 ]])"
      ]
     },
     "execution_count": 120,
     "metadata": {},
     "output_type": "execute_result"
    }
   ],
   "source": [
    "q.dot(r)"
   ]
  },
  {
   "cell_type": "code",
   "execution_count": 121,
   "metadata": {},
   "outputs": [
    {
     "data": {
      "text/plain": [
       "array([[0.15680388, 0.37574891, 0.70632196],\n",
       "       [0.40180189, 0.7302616 , 0.28441173],\n",
       "       [0.71115204, 0.65794471, 0.9869288 ]])"
      ]
     },
     "execution_count": 121,
     "metadata": {},
     "output_type": "execute_result"
    }
   ],
   "source": [
    "x"
   ]
  },
  {
   "cell_type": "markdown",
   "metadata": {},
   "source": [
    "## Saving and loading NumPy arrays"
   ]
  },
  {
   "cell_type": "markdown",
   "metadata": {},
   "source": [
    "Binary format"
   ]
  },
  {
   "cell_type": "code",
   "execution_count": 122,
   "metadata": {},
   "outputs": [],
   "source": [
    "np.save('my_array', x)"
   ]
  },
  {
   "cell_type": "code",
   "execution_count": 123,
   "metadata": {},
   "outputs": [
    {
     "data": {
      "text/plain": [
       "b\"\\x93NUMPY\\x01\\x00v\\x00{'descr': '<f8', 'fortran_order': False, 'shape': (3, 3), }                                                          \\n\\xf4\\xad\\xe4M&\\x12\\xc4?\\x08\\xd9\\x87#E\\x0c\\xd8?M\\x9d\\x0c\\x830\\x9a\\xe6?\\xb4\\xbfHA\\x1f\\xb7\\xd9?\\x87h\\xde\\x94M^\\xe7?|\\xe6\\xa3@\\xcd3\\xd2?\\x15B\\xd9\\xeb\\xc1\\xc1\\xe6?a\\xe4\\x89\\x11\\xe2\\r\\xe5?\\x8e\\xe8\\xa3\\xb5\\xeb\\x94\\xef?\""
      ]
     },
     "execution_count": 123,
     "metadata": {},
     "output_type": "execute_result"
    }
   ],
   "source": [
    "with open('my_array.npy', 'rb') as a:\n",
    "    array = a.read()\n",
    "array"
   ]
  },
  {
   "cell_type": "code",
   "execution_count": 124,
   "metadata": {},
   "outputs": [
    {
     "data": {
      "text/plain": [
       "array([[0.15680388, 0.37574891, 0.70632196],\n",
       "       [0.40180189, 0.7302616 , 0.28441173],\n",
       "       [0.71115204, 0.65794471, 0.9869288 ]])"
      ]
     },
     "execution_count": 124,
     "metadata": {},
     "output_type": "execute_result"
    }
   ],
   "source": [
    "a_load = np.load('my_array.npy')\n",
    "a_load"
   ]
  },
  {
   "cell_type": "markdown",
   "metadata": {},
   "source": [
    "Text format"
   ]
  },
  {
   "cell_type": "code",
   "execution_count": 125,
   "metadata": {},
   "outputs": [],
   "source": [
    "np.savetxt('my_array.csv',x, delimiter=',')"
   ]
  },
  {
   "cell_type": "code",
   "execution_count": 126,
   "metadata": {},
   "outputs": [
    {
     "data": {
      "text/plain": [
       "array([[0.15680388, 0.37574891, 0.70632196],\n",
       "       [0.40180189, 0.7302616 , 0.28441173],\n",
       "       [0.71115204, 0.65794471, 0.9869288 ]])"
      ]
     },
     "execution_count": 126,
     "metadata": {},
     "output_type": "execute_result"
    }
   ],
   "source": [
    "a_text = np.loadtxt('my_array.csv', delimiter=',')\n",
    "a_text"
   ]
  },
  {
   "cell_type": "markdown",
   "metadata": {},
   "source": [
    "We can also save multiple arrays in zipped format"
   ]
  },
  {
   "cell_type": "code",
   "execution_count": 127,
   "metadata": {},
   "outputs": [],
   "source": [
    "np.savez('my_arrays', my_a=x, my_b=y)"
   ]
  },
  {
   "cell_type": "code",
   "execution_count": 128,
   "metadata": {},
   "outputs": [
    {
     "data": {
      "text/plain": [
       "NpzFile 'my_arrays.npz' with keys: my_a, my_b"
      ]
     },
     "execution_count": 128,
     "metadata": {},
     "output_type": "execute_result"
    }
   ],
   "source": [
    "my_arrays = np.load('my_arrays.npz')\n",
    "my_arrays"
   ]
  },
  {
   "cell_type": "code",
   "execution_count": 129,
   "metadata": {},
   "outputs": [
    {
     "data": {
      "text/plain": [
       "['my_a', 'my_b']"
      ]
     },
     "execution_count": 129,
     "metadata": {},
     "output_type": "execute_result"
    }
   ],
   "source": [
    "my_arrays.files"
   ]
  },
  {
   "cell_type": "code",
   "execution_count": 130,
   "metadata": {},
   "outputs": [
    {
     "data": {
      "text/plain": [
       "array([[0.15680388, 0.37574891, 0.70632196],\n",
       "       [0.40180189, 0.7302616 , 0.28441173],\n",
       "       [0.71115204, 0.65794471, 0.9869288 ]])"
      ]
     },
     "execution_count": 130,
     "metadata": {},
     "output_type": "execute_result"
    }
   ],
   "source": [
    "my_arrays['my_a']"
   ]
  },
  {
   "cell_type": "code",
   "execution_count": 131,
   "metadata": {},
   "outputs": [
    {
     "data": {
      "text/plain": [
       "array([[0.82155158, 0.6854406 , 0.48392458],\n",
       "       [0.6713123 , 0.99703274, 0.38350124],\n",
       "       [0.14309541, 0.19077345, 0.94034602],\n",
       "       [0.558754  , 0.26442689, 0.15550532]])"
      ]
     },
     "execution_count": 131,
     "metadata": {},
     "output_type": "execute_result"
    }
   ],
   "source": [
    "my_arrays['my_b']"
   ]
  },
  {
   "cell_type": "markdown",
   "metadata": {},
   "source": [
    "## Exercises"
   ]
  },
  {
   "cell_type": "markdown",
   "metadata": {},
   "source": [
    "### Exercise 1"
   ]
  },
  {
   "cell_type": "markdown",
   "metadata": {},
   "source": [
    "Create a 5x5 numpy array of booleans where all values are True apart from the first element of the last row."
   ]
  },
  {
   "cell_type": "markdown",
   "metadata": {},
   "source": [
    "### Exercise 2"
   ]
  },
  {
   "cell_type": "markdown",
   "metadata": {},
   "source": [
    "Create a numpy array with values ranging from 1 to 20. Remove the even numbers."
   ]
  },
  {
   "cell_type": "markdown",
   "metadata": {},
   "source": [
    "### Exercise 3"
   ]
  },
  {
   "cell_type": "markdown",
   "metadata": {},
   "source": [
    "Create a 5x5 numpy array and populated with random numbers from a normal distribution (mean=0, std=1). Filter out all the negative values. Change the resulting array to multi-dimensional array where the number of rows will be equal to the number of positive elements and 1 column."
   ]
  },
  {
   "cell_type": "markdown",
   "metadata": {},
   "source": [
    "### Exercise 4"
   ]
  },
  {
   "cell_type": "markdown",
   "metadata": {},
   "source": [
    "Create a 10x10 identity matrix of integer type. Save the matrix in csv format using a file name of your choice. Load back the matrix."
   ]
  },
  {
   "cell_type": "markdown",
   "metadata": {},
   "source": [
    "### Exercise 5"
   ]
  },
  {
   "cell_type": "markdown",
   "metadata": {},
   "source": [
    "Create a 5x5 numpy array populated by random integers ranging from 1 to 100. Calculate the sum of rows, columns and of the diagonal elements."
   ]
  },
  {
   "cell_type": "markdown",
   "metadata": {},
   "source": [
    "### Exercise 6"
   ]
  },
  {
   "cell_type": "markdown",
   "metadata": {},
   "source": [
    "Create a 4x3 numpy array and populated with random integers ranging from 1 to 20. Estimate it's transpose. Multiply the two arrays."
   ]
  },
  {
   "cell_type": "markdown",
   "metadata": {},
   "source": [
    "### Exercise 7"
   ]
  },
  {
   "cell_type": "markdown",
   "metadata": {},
   "source": [
    "Create a 2x4 and a 4x4 numpy arrays. Populate them with random integers ranging from 80 to 100. Join them either vertically or horizontally."
   ]
  },
  {
   "cell_type": "markdown",
   "metadata": {},
   "source": [
    "### Exercise 8"
   ]
  },
  {
   "cell_type": "markdown",
   "metadata": {},
   "source": [
    "Create a 4x4 numpy array and populate with numbers originating from standard normal distribution (mean=0, std=1). Change all negative numbers to missing. Calculate the sum of all the numbers."
   ]
  },
  {
   "cell_type": "markdown",
   "metadata": {},
   "source": [
    "### Exercise 9"
   ]
  },
  {
   "cell_type": "markdown",
   "metadata": {},
   "source": [
    "As Exercise 8 but without affecting the original array."
   ]
  },
  {
   "cell_type": "markdown",
   "metadata": {},
   "source": [
    "### Exercise 10\n"
   ]
  },
  {
   "cell_type": "markdown",
   "metadata": {},
   "source": [
    "Create a 4x4 numpy array and populate it with random integers ranging from 25 to 50. Calculate the inverse and the pseudo inverse of the array. Multiply the original array with it's inverse."
   ]
  },
  {
   "cell_type": "markdown",
   "metadata": {},
   "source": [
    "### Exercise 11"
   ]
  },
  {
   "cell_type": "markdown",
   "metadata": {},
   "source": [
    "Create two numpy arrays and populate the with 30 random numbers ranging from 1 to 7. Find any elements that match.    "
   ]
  },
  {
   "cell_type": "markdown",
   "metadata": {},
   "source": [
    "### Exercise 12"
   ]
  },
  {
   "cell_type": "markdown",
   "metadata": {},
   "source": [
    "Create a 5x4 numpy array and populate it with random integers ranging from 1 to 10. Swap the first and third column and the second and fourth row."
   ]
  }
 ],
 "metadata": {
  "kernelspec": {
   "display_name": "Python 3 (ipykernel)",
   "language": "python",
   "name": "python3"
  },
  "language_info": {
   "codemirror_mode": {
    "name": "ipython",
    "version": 3
   },
   "file_extension": ".py",
   "mimetype": "text/x-python",
   "name": "python",
   "nbconvert_exporter": "python",
   "pygments_lexer": "ipython3",
   "version": "3.11.8"
  }
 },
 "nbformat": 4,
 "nbformat_minor": 4
}
