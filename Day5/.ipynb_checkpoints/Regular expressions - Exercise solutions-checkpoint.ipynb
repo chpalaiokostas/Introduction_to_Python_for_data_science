{
 "cells": [
  {
   "cell_type": "code",
   "execution_count": 2,
   "id": "af260a2b",
   "metadata": {},
   "outputs": [],
   "source": [
    "import re"
   ]
  },
  {
   "cell_type": "markdown",
   "id": "1ed1d46a",
   "metadata": {},
   "source": [
    "### Exercise 1"
   ]
  },
  {
   "cell_type": "markdown",
   "id": "0aff4166",
   "metadata": {},
   "source": [
    "Using the text below:\n",
    "\n",
    "* Extract all numbers\n",
    "* Extract only the number refering to a date\n",
    "* Insert after `Dunedin` the following `(Scottish Gaellic for Edinburgh)`\n",
    "* Create a list with all the unique non-alphanumeric characters of the text\n",
    "* Extract all the instances of `Hoiho` whether it includes uppercase letters or not\n",
    "* Extract the first word that follows a number\n",
    "* Extract the word just before a `,`\n",
    "* Using the `.` as delimiter create a list containing all the sentences of the text\n",
    "* Using the `,` as delimiter create a list containing the relevant text sections. Make sure you don't split at the commas found in the numbers (Look arounds could be handy)\n"
   ]
  },
  {
   "cell_type": "code",
   "execution_count": 3,
   "id": "e5b5f705",
   "metadata": {},
   "outputs": [
    {
     "data": {
      "text/plain": [
       "\"Sometimes, saving a species means treating one animal at a time. The veterinarians at The Wildlife Hospital, Dunedin do just that, going small to go big by caring exclusively for native animals. Headquartered close to the wildlife-rich Otago Peninsula on New Zealand's South Island, the hospital is ideally placed to help where it's most needed. Hoiho are among the world's most endangered penguin species, with just an estimated 4,000 to 5,000 adults left in the wild, and they arrive at the hospital for a variety of reasons including starvation, injury and disease. But each animal has a better chance at survival than ever before, thanks to the combined efforts of The Wildlife Hospital and Penguin Place, a nearby recovery home that has been helping the hoiho since the 1990s.\""
      ]
     },
     "execution_count": 3,
     "metadata": {},
     "output_type": "execute_result"
    }
   ],
   "source": [
    "bbc_text = '''Sometimes, saving a species means treating one animal at a time. The veterinarians at The Wildlife Hospital, Dunedin do just that, going small to go big by caring exclusively for native animals. Headquartered close to the wildlife-rich Otago Peninsula on New Zealand's South Island, the hospital is ideally placed to help where it's most needed. Hoiho are among the world's most endangered penguin species, with just an estimated 4,000 to 5,000 adults left in the wild, and they arrive at the hospital for a variety of reasons including starvation, injury and disease. But each animal has a better chance at survival than ever before, thanks to the combined efforts of The Wildlife Hospital and Penguin Place, a nearby recovery home that has been helping the hoiho since the 1990s.'''\n",
    "bbc_text"
   ]
  },
  {
   "cell_type": "markdown",
   "id": "e4ede45e",
   "metadata": {},
   "source": [
    "Extract all numbers"
   ]
  },
  {
   "cell_type": "code",
   "execution_count": 4,
   "id": "f4c2c409",
   "metadata": {},
   "outputs": [
    {
     "data": {
      "text/plain": [
       "['4,000', '5,000', '1990']"
      ]
     },
     "execution_count": 4,
     "metadata": {},
     "output_type": "execute_result"
    }
   ],
   "source": [
    "re.findall('\\d+,?\\d+', bbc_text)"
   ]
  },
  {
   "cell_type": "markdown",
   "id": "e6188eba",
   "metadata": {},
   "source": [
    "Extract only the number refering to a date"
   ]
  },
  {
   "cell_type": "code",
   "execution_count": 5,
   "id": "80635b12",
   "metadata": {},
   "outputs": [
    {
     "data": {
      "text/plain": [
       "'1990'"
      ]
     },
     "execution_count": 5,
     "metadata": {},
     "output_type": "execute_result"
    }
   ],
   "source": [
    "re.search('(\\d+)s', bbc_text).group(1)"
   ]
  },
  {
   "cell_type": "markdown",
   "id": "0c56d52e",
   "metadata": {},
   "source": [
    "Insert after Dunedin the following (Scottish Gaellic for Edinburgh)"
   ]
  },
  {
   "cell_type": "code",
   "execution_count": 6,
   "id": "2fbdbff8",
   "metadata": {},
   "outputs": [
    {
     "data": {
      "text/plain": [
       "\"Sometimes, saving a species means treating one animal at a time. The veterinarians at The Wildlife Hospital, Dunedin (Scottish Gaellic for Edinburgh) do just that, going small to go big by caring exclusively for native animals. Headquartered close to the wildlife-rich Otago Peninsula on New Zealand's South Island, the hospital is ideally placed to help where it's most needed. Hoiho are among the world's most endangered penguin species, with just an estimated 4,000 to 5,000 adults left in the wild, and they arrive at the hospital for a variety of reasons including starvation, injury and disease. But each animal has a better chance at survival than ever before, thanks to the combined efforts of The Wildlife Hospital and Penguin Place, a nearby recovery home that has been helping the hoiho since the 1990s.\""
      ]
     },
     "execution_count": 6,
     "metadata": {},
     "output_type": "execute_result"
    }
   ],
   "source": [
    "re.sub('(Dunedin)',r'\\1 (Scottish Gaellic for Edinburgh)', bbc_text )"
   ]
  },
  {
   "cell_type": "markdown",
   "id": "e4594c9d",
   "metadata": {},
   "source": [
    "Create a list with all the unique non-alphanumeric characters of the text"
   ]
  },
  {
   "cell_type": "code",
   "execution_count": 7,
   "id": "00ba859a",
   "metadata": {},
   "outputs": [
    {
     "data": {
      "text/plain": [
       "{' ', \"'\", ',', ', ', '-', '.', '. '}"
      ]
     },
     "execution_count": 7,
     "metadata": {},
     "output_type": "execute_result"
    }
   ],
   "source": [
    "set(re.findall('\\W+', bbc_text))"
   ]
  },
  {
   "cell_type": "markdown",
   "id": "cd61a391",
   "metadata": {},
   "source": [
    "Extract all the instances of Hoiho whether it includes uppercase letters or not"
   ]
  },
  {
   "cell_type": "code",
   "execution_count": 8,
   "id": "7a866490",
   "metadata": {},
   "outputs": [
    {
     "data": {
      "text/plain": [
       "['Hoiho', 'hoiho']"
      ]
     },
     "execution_count": 8,
     "metadata": {},
     "output_type": "execute_result"
    }
   ],
   "source": [
    "re.findall('hoiho', bbc_text, flags=re.I)"
   ]
  },
  {
   "cell_type": "markdown",
   "id": "6f018e50",
   "metadata": {},
   "source": [
    "Extract the first word that follows a number"
   ]
  },
  {
   "cell_type": "code",
   "execution_count": 9,
   "id": "a44cee39",
   "metadata": {},
   "outputs": [
    {
     "data": {
      "text/plain": [
       "['to', 'adults']"
      ]
     },
     "execution_count": 9,
     "metadata": {},
     "output_type": "execute_result"
    }
   ],
   "source": [
    "re.findall('(?<=\\d)\\s(\\w+)', bbc_text)"
   ]
  },
  {
   "cell_type": "markdown",
   "id": "8eb2ec69",
   "metadata": {},
   "source": [
    "Extract the word just before a ,"
   ]
  },
  {
   "cell_type": "code",
   "execution_count": 10,
   "id": "bca3c37a",
   "metadata": {},
   "outputs": [
    {
     "data": {
      "text/plain": [
       "['Sometimes',\n",
       " 'Hospital',\n",
       " 'that',\n",
       " 'Island',\n",
       " 'species',\n",
       " '4',\n",
       " '5',\n",
       " 'wild',\n",
       " 'starvation',\n",
       " 'before',\n",
       " 'Place']"
      ]
     },
     "execution_count": 10,
     "metadata": {},
     "output_type": "execute_result"
    }
   ],
   "source": [
    "re.findall('(\\w+)(?=,)', bbc_text)"
   ]
  },
  {
   "cell_type": "markdown",
   "id": "94634d3c",
   "metadata": {},
   "source": [
    "Using the . as delimiter create a list containing all the sentences of the text"
   ]
  },
  {
   "cell_type": "code",
   "execution_count": 11,
   "id": "70612981",
   "metadata": {},
   "outputs": [
    {
     "data": {
      "text/plain": [
       "['Sometimes, saving a species means treating one animal at a time',\n",
       " ' The veterinarians at The Wildlife Hospital, Dunedin do just that, going small to go big by caring exclusively for native animals',\n",
       " \" Headquartered close to the wildlife-rich Otago Peninsula on New Zealand's South Island, the hospital is ideally placed to help where it's most needed\",\n",
       " \" Hoiho are among the world's most endangered penguin species, with just an estimated 4,000 to 5,000 adults left in the wild, and they arrive at the hospital for a variety of reasons including starvation, injury and disease\",\n",
       " ' But each animal has a better chance at survival than ever before, thanks to the combined efforts of The Wildlife Hospital and Penguin Place, a nearby recovery home that has been helping the hoiho since the 1990s',\n",
       " '']"
      ]
     },
     "execution_count": 11,
     "metadata": {},
     "output_type": "execute_result"
    }
   ],
   "source": [
    "re.split('\\.', bbc_text)"
   ]
  },
  {
   "cell_type": "markdown",
   "id": "6a059a55",
   "metadata": {},
   "source": [
    "Using the , as delimiter create a list containing the relevant text sections. Make sure you don't split at the commas found in the numbers (Look arounds could be handy)"
   ]
  },
  {
   "cell_type": "code",
   "execution_count": 40,
   "id": "0a6a95ce",
   "metadata": {},
   "outputs": [
    {
     "data": {
      "text/plain": [
       "['Sometimes',\n",
       " ' saving a species means treating one animal at a time. The veterinarians at The Wildlife Hospital',\n",
       " ' Dunedin do just that',\n",
       " \" going small to go big by caring exclusively for native animals. Headquartered close to the wildlife-rich Otago Peninsula on New Zealand's South Island\",\n",
       " \" the hospital is ideally placed to help where it's most needed. Hoiho are among the world's most endangered penguin species\",\n",
       " ' with just an estimated 4,000 to 5,000 adults left in the wild',\n",
       " ' and they arrive at the hospital for a variety of reasons including starvation',\n",
       " ' injury and disease. But each animal has a better chance at survival than ever before',\n",
       " ' thanks to the combined efforts of The Wildlife Hospital and Penguin Place',\n",
       " ' a nearby recovery home that has been helping the hoiho since the 1990s.']"
      ]
     },
     "execution_count": 40,
     "metadata": {},
     "output_type": "execute_result"
    }
   ],
   "source": [
    "re.split(',(?!0)', bbc_text)"
   ]
  },
  {
   "cell_type": "markdown",
   "id": "f959ea9a",
   "metadata": {},
   "source": [
    "### Exercise 2"
   ]
  },
  {
   "cell_type": "code",
   "execution_count": 13,
   "id": "3cd364c0",
   "metadata": {},
   "outputs": [],
   "source": [
    "alignment = '''2742497 reads; of these:\n",
    "  2742497 (100.00%) were paired; of these:\n",
    "    1510621 (55.08%) aligned concordantly 0 times\n",
    "    903271 (32.94%) aligned concordantly exactly 1 time\n",
    "    328605 (11.98%) aligned concordantly >1 times\n",
    "    ----\n",
    "    1510621 pairs aligned concordantly 0 times; of these:\n",
    "      215924 (14.29%) aligned discordantly 1 time\n",
    "    ----\n",
    "    1294697 pairs aligned 0 times concordantly or discordantly; of these:\n",
    "      2589394 mates make up the pairs; of these:\n",
    "        1091850 (42.17%) aligned 0 times\n",
    "        678263 (26.19%) aligned exactly 1 time\n",
    "        819281 (31.64%) aligned >1 times\n",
    "80.09% overall alignment rate\n",
    "'''"
   ]
  },
  {
   "cell_type": "markdown",
   "id": "84bd65b3",
   "metadata": {},
   "source": [
    "Extract the number of paired reads"
   ]
  },
  {
   "cell_type": "code",
   "execution_count": 14,
   "id": "ece01ecf",
   "metadata": {},
   "outputs": [
    {
     "data": {
      "text/plain": [
       "'2742497'"
      ]
     },
     "execution_count": 14,
     "metadata": {},
     "output_type": "execute_result"
    }
   ],
   "source": [
    "re.search('(\\d+) .* paired', alignment).group(1)"
   ]
  },
  {
   "cell_type": "markdown",
   "id": "097665a3",
   "metadata": {},
   "source": [
    "Extract the overall alignment rate"
   ]
  },
  {
   "cell_type": "code",
   "execution_count": 15,
   "id": "189507a7",
   "metadata": {},
   "outputs": [
    {
     "data": {
      "text/plain": [
       "'80.09'"
      ]
     },
     "execution_count": 15,
     "metadata": {},
     "output_type": "execute_result"
    }
   ],
   "source": [
    "re.search('(\\d+\\.\\d+).*overall', alignment).group(1)"
   ]
  },
  {
   "cell_type": "markdown",
   "id": "a7023d6b",
   "metadata": {},
   "source": [
    "Extract the number of reads aligned exactly 1 time"
   ]
  },
  {
   "cell_type": "code",
   "execution_count": 16,
   "id": "7a07b582",
   "metadata": {},
   "outputs": [
    {
     "data": {
      "text/plain": [
       "'903271'"
      ]
     },
     "execution_count": 16,
     "metadata": {},
     "output_type": "execute_result"
    }
   ],
   "source": [
    "re.search('(\\d+).*concordantly exactly 1 time', alignment).group(1)"
   ]
  },
  {
   "cell_type": "markdown",
   "id": "6e98e9d0",
   "metadata": {},
   "source": [
    "### Exercise 3"
   ]
  },
  {
   "cell_type": "code",
   "execution_count": 20,
   "id": "3a44228c",
   "metadata": {},
   "outputs": [
    {
     "data": {
      "text/html": [
       "<div>\n",
       "<style scoped>\n",
       "    .dataframe tbody tr th:only-of-type {\n",
       "        vertical-align: middle;\n",
       "    }\n",
       "\n",
       "    .dataframe tbody tr th {\n",
       "        vertical-align: top;\n",
       "    }\n",
       "\n",
       "    .dataframe thead th {\n",
       "        text-align: right;\n",
       "    }\n",
       "</style>\n",
       "<table border=\"1\" class=\"dataframe\">\n",
       "  <thead>\n",
       "    <tr style=\"text-align: right;\">\n",
       "      <th></th>\n",
       "      <th>Sequence</th>\n",
       "    </tr>\n",
       "  </thead>\n",
       "  <tbody>\n",
       "    <tr>\n",
       "      <th>0</th>\n",
       "      <td>ACCTAATGCACACCCAGCAGGTTATGGGGG[C/T]GCAGTTAGGTC...</td>\n",
       "    </tr>\n",
       "    <tr>\n",
       "      <th>1</th>\n",
       "      <td>CCTGCTGGTGTGCTGTGCCATCTGGACTCA[A/G]AGAAACACCAG...</td>\n",
       "    </tr>\n",
       "    <tr>\n",
       "      <th>2</th>\n",
       "      <td>TGTGGGCTGTCTGATCAGGCTGTTCTTCAG[C/T]ATGTGGAACAT...</td>\n",
       "    </tr>\n",
       "    <tr>\n",
       "      <th>3</th>\n",
       "      <td>AAACGGAACTTGT[A/T]AGGAACACCTCATGCATCTGATATTACA...</td>\n",
       "    </tr>\n",
       "    <tr>\n",
       "      <th>4</th>\n",
       "      <td>AATGACTAAAGAAAACTGTGTGTGCAAAATGCATT[C/G]CTGAGG...</td>\n",
       "    </tr>\n",
       "    <tr>\n",
       "      <th>5</th>\n",
       "      <td>GCTCATTAGGCCCCAGGAGGT[C/G]TCTACATGGGATAGGTGGTC...</td>\n",
       "    </tr>\n",
       "    <tr>\n",
       "      <th>6</th>\n",
       "      <td>GCATAGTAGGTTACTTCTGTTTTATAGCGGCACAT[G/T]TGCTTAA</td>\n",
       "    </tr>\n",
       "    <tr>\n",
       "      <th>7</th>\n",
       "      <td>TGTT[C/T]TCCCTTAGCAAACGATTGCTATCTTCCCAATAAGT</td>\n",
       "    </tr>\n",
       "    <tr>\n",
       "      <th>8</th>\n",
       "      <td>TCATGGGAATTGTCACTACAAAAGAAT[C/T]TGAAGACAATGCAT...</td>\n",
       "    </tr>\n",
       "    <tr>\n",
       "      <th>9</th>\n",
       "      <td>ATCTCAGATAAAGCATCTGAGTGAGCGAAACAGAG[A/C]CCCCCT...</td>\n",
       "    </tr>\n",
       "    <tr>\n",
       "      <th>10</th>\n",
       "      <td>AAAATAACATCCACCATTACTAGACCATGTACACT[A/C]GGTGAT...</td>\n",
       "    </tr>\n",
       "    <tr>\n",
       "      <th>11</th>\n",
       "      <td>GAATCTGGATGCATCTGAGA[A/G]GTTTCATGTAATATATTAAAA...</td>\n",
       "    </tr>\n",
       "    <tr>\n",
       "      <th>12</th>\n",
       "      <td>AAACAGATAAAAATACAAAAAT[G/T]TATGGATCAGCGGGAACTG...</td>\n",
       "    </tr>\n",
       "    <tr>\n",
       "      <th>13</th>\n",
       "      <td>ACATCCTAACTCAATGGGGTTGCCTCATTGTTTAT[A/G]AGTTTA...</td>\n",
       "    </tr>\n",
       "    <tr>\n",
       "      <th>14</th>\n",
       "      <td>TGCATACAGTACGCTCAAAT[G/T]GACCGTTTTGTTGGTCGGTGT...</td>\n",
       "    </tr>\n",
       "    <tr>\n",
       "      <th>15</th>\n",
       "      <td>AATCAGACAGGTGTCTCGTATGCCATGAAAGAAAT[G/T]ATCTAT...</td>\n",
       "    </tr>\n",
       "    <tr>\n",
       "      <th>16</th>\n",
       "      <td>CTTTGAGGTTTAGCAATTTTTTGGAACATTCAAAA[G/T]TATTAG...</td>\n",
       "    </tr>\n",
       "    <tr>\n",
       "      <th>17</th>\n",
       "      <td>CACTCAAATAACACTAGACTTG[C/T]TATTCAATCCAAACCTATA...</td>\n",
       "    </tr>\n",
       "    <tr>\n",
       "      <th>18</th>\n",
       "      <td>ATTT[G/T]TTGTATTTTTTTTCCAAAACAAATGAATTGTCTAA</td>\n",
       "    </tr>\n",
       "    <tr>\n",
       "      <th>19</th>\n",
       "      <td>TAAACTGTACTGTGGCAGTGGCTCTATTTTCATAG[A/G]AACG</td>\n",
       "    </tr>\n",
       "  </tbody>\n",
       "</table>\n",
       "</div>"
      ],
      "text/plain": [
       "                                             Sequence\n",
       "0   ACCTAATGCACACCCAGCAGGTTATGGGGG[C/T]GCAGTTAGGTC...\n",
       "1   CCTGCTGGTGTGCTGTGCCATCTGGACTCA[A/G]AGAAACACCAG...\n",
       "2   TGTGGGCTGTCTGATCAGGCTGTTCTTCAG[C/T]ATGTGGAACAT...\n",
       "3   AAACGGAACTTGT[A/T]AGGAACACCTCATGCATCTGATATTACA...\n",
       "4   AATGACTAAAGAAAACTGTGTGTGCAAAATGCATT[C/G]CTGAGG...\n",
       "5   GCTCATTAGGCCCCAGGAGGT[C/G]TCTACATGGGATAGGTGGTC...\n",
       "6     GCATAGTAGGTTACTTCTGTTTTATAGCGGCACAT[G/T]TGCTTAA\n",
       "7        TGTT[C/T]TCCCTTAGCAAACGATTGCTATCTTCCCAATAAGT\n",
       "8   TCATGGGAATTGTCACTACAAAAGAAT[C/T]TGAAGACAATGCAT...\n",
       "9   ATCTCAGATAAAGCATCTGAGTGAGCGAAACAGAG[A/C]CCCCCT...\n",
       "10  AAAATAACATCCACCATTACTAGACCATGTACACT[A/C]GGTGAT...\n",
       "11  GAATCTGGATGCATCTGAGA[A/G]GTTTCATGTAATATATTAAAA...\n",
       "12  AAACAGATAAAAATACAAAAAT[G/T]TATGGATCAGCGGGAACTG...\n",
       "13  ACATCCTAACTCAATGGGGTTGCCTCATTGTTTAT[A/G]AGTTTA...\n",
       "14  TGCATACAGTACGCTCAAAT[G/T]GACCGTTTTGTTGGTCGGTGT...\n",
       "15  AATCAGACAGGTGTCTCGTATGCCATGAAAGAAAT[G/T]ATCTAT...\n",
       "16  CTTTGAGGTTTAGCAATTTTTTGGAACATTCAAAA[G/T]TATTAG...\n",
       "17  CACTCAAATAACACTAGACTTG[C/T]TATTCAATCCAAACCTATA...\n",
       "18       ATTT[G/T]TTGTATTTTTTTTCCAAAACAAATGAATTGTCTAA\n",
       "19       TAAACTGTACTGTGGCAGTGGCTCTATTTTCATAG[A/G]AACG"
      ]
     },
     "execution_count": 20,
     "metadata": {},
     "output_type": "execute_result"
    }
   ],
   "source": [
    "import pandas as pd\n",
    "snp_array = pd.read_csv('SNP_data.txt')\n",
    "snp_array  "
   ]
  },
  {
   "cell_type": "code",
   "execution_count": 18,
   "id": "51277cc8",
   "metadata": {},
   "outputs": [
    {
     "data": {
      "text/plain": [
       "'ACCTAATGCACACCCAGCAGGTTATGGGGG[C/T]GCAGTTAGGTCAAGTAACCTTATCAAAAAT CCTGCTGGTGTGCTGTGCCATCTGGACTCA[A/G]AGAAACACCAGATTATGGAGGAACAATACG TGTGGGCTGTCTGATCAGGCTGTTCTTCAG[C/T]ATGTGGAACATCTATTCCCGGGAAATGTAC AAACGGAACTTGT[A/T]AGGAACACCTCATGCATCTGATATTACACCCAACA AATGACTAAAGAAAACTGTGTGTGCAAAATGCATT[C/G]CTGAGGAATTCAGTC GCTCATTAGGCCCCAGGAGGT[C/G]TCTACATGGGATAGGTGGTCTAGATTAGAGGCTTT GCATAGTAGGTTACTTCTGTTTTATAGCGGCACAT[G/T]TGCTTAA TGTT[C/T]TCCCTTAGCAAACGATTGCTATCTTCCCAATAAGT TCATGGGAATTGTCACTACAAAAGAAT[C/T]TGAAGACAATGCATTTCTTGTAGAAGAAAGGAAGT ATCTCAGATAAAGCATCTGAGTGAGCGAAACAGAG[A/C]CCCCCTGTCTCAATA AAAATAACATCCACCATTACTAGACCATGTACACT[A/C]GGTGATATTACACCTTACTCCATTTGGAGATGCGG GAATCTGGATGCATCTGAGA[A/G]GTTTCATGTAATATATTAAAAACTTCTCAGATGCA AAACAGATAAAAATACAAAAAT[G/T]TATGGATCAGCGGGAACTGTAAAGCAACAAACATA ACATCCTAACTCAATGGGGTTGCCTCATTGTTTAT[A/G]AGTTTAATGCATGTTCCTGTCAGCAGTAGAATGTA TGCATACAGTACGCTCAAAT[G/T]GACCGTTTTGTTGGTCGGTGTGAAAACCAATATGA AATCAGACAGGTGTCTCGTATGCCATGAAAGAAAT[G/T]ATCTATTTTCGA CTTTGAGGTTTAGCAATTTTTTGGAACATTCAAAA[G/T]TATTAGCACTCAGGATAGATGT CACTCAAATAACACTAGACTTG[C/T]TATTCAATCCAAACCTATAACCAGGTTAGGTTACG ATTT[G/T]TTGTATTTTTTTTCCAAAACAAATGAATTGTCTAA TAAACTGTACTGTGGCAGTGGCTCTATTTTCATAG[A/G]AACG'"
      ]
     },
     "execution_count": 18,
     "metadata": {},
     "output_type": "execute_result"
    }
   ],
   "source": [
    "sequence = snp_array['Sequence'].to_list()\n",
    "sequence = \" \".join(sequence)\n",
    "sequence"
   ]
  },
  {
   "cell_type": "markdown",
   "id": "8ae8c34f",
   "metadata": {},
   "source": [
    "Extract the SNPs"
   ]
  },
  {
   "cell_type": "code",
   "execution_count": 19,
   "id": "203dd94f",
   "metadata": {},
   "outputs": [
    {
     "data": {
      "text/plain": [
       "['C/T',\n",
       " 'A/G',\n",
       " 'C/T',\n",
       " 'A/T',\n",
       " 'C/G',\n",
       " 'C/G',\n",
       " 'G/T',\n",
       " 'C/T',\n",
       " 'C/T',\n",
       " 'A/C',\n",
       " 'A/C',\n",
       " 'A/G',\n",
       " 'G/T',\n",
       " 'A/G',\n",
       " 'G/T',\n",
       " 'G/T',\n",
       " 'G/T',\n",
       " 'C/T',\n",
       " 'G/T',\n",
       " 'A/G']"
      ]
     },
     "execution_count": 19,
     "metadata": {},
     "output_type": "execute_result"
    }
   ],
   "source": [
    "re.findall('.*?\\[(\\w\\/\\w)\\]*?', sequence)"
   ]
  },
  {
   "cell_type": "markdown",
   "id": "121f4331",
   "metadata": {},
   "source": [
    "Extract 10 bases upstream of each SNP"
   ]
  },
  {
   "cell_type": "code",
   "execution_count": 21,
   "id": "84a24c33",
   "metadata": {},
   "outputs": [
    {
     "data": {
      "text/plain": [
       "['GTTATGGGGG',\n",
       " 'TCTGGACTCA',\n",
       " 'TGTTCTTCAG',\n",
       " 'CGGAACTTGT',\n",
       " 'AAAATGCATT',\n",
       " 'CCCAGGAGGT',\n",
       " 'AGCGGCACAT',\n",
       " 'ACAAAAGAAT',\n",
       " 'CGAAACAGAG',\n",
       " 'CATGTACACT',\n",
       " 'GCATCTGAGA',\n",
       " 'ATACAAAAAT',\n",
       " 'CATTGTTTAT',\n",
       " 'ACGCTCAAAT',\n",
       " 'TGAAAGAAAT',\n",
       " 'ACATTCAAAA',\n",
       " 'ACTAGACTTG',\n",
       " 'ATTTTCATAG']"
      ]
     },
     "execution_count": 21,
     "metadata": {},
     "output_type": "execute_result"
    }
   ],
   "source": [
    "re.findall('.*?(\\w{10})\\[\\w\\/\\w\\]*?', sequence)"
   ]
  },
  {
   "cell_type": "code",
   "execution_count": 22,
   "id": "3c4283f5",
   "metadata": {},
   "outputs": [
    {
     "data": {
      "text/plain": [
       "['GTTATGGGGG',\n",
       " 'TCTGGACTCA',\n",
       " 'TGTTCTTCAG',\n",
       " 'CGGAACTTGT',\n",
       " 'AAAATGCATT',\n",
       " 'CCCAGGAGGT',\n",
       " 'AGCGGCACAT',\n",
       " 'ACAAAAGAAT',\n",
       " 'CGAAACAGAG',\n",
       " 'CATGTACACT',\n",
       " 'GCATCTGAGA',\n",
       " 'ATACAAAAAT',\n",
       " 'CATTGTTTAT',\n",
       " 'ACGCTCAAAT',\n",
       " 'TGAAAGAAAT',\n",
       " 'ACATTCAAAA',\n",
       " 'ACTAGACTTG',\n",
       " 'ATTTTCATAG']"
      ]
     },
     "execution_count": 22,
     "metadata": {},
     "output_type": "execute_result"
    }
   ],
   "source": [
    "re.findall('(\\w{10})(?=\\[\\w\\/\\w\\])', sequence)"
   ]
  },
  {
   "cell_type": "markdown",
   "id": "d40f664e",
   "metadata": {},
   "source": [
    "Extract 10 bases downstream of each SNP"
   ]
  },
  {
   "cell_type": "code",
   "execution_count": 23,
   "id": "fa063a5d",
   "metadata": {},
   "outputs": [
    {
     "data": {
      "text/plain": [
       "['GCAGTTAGGT',\n",
       " 'AGAAACACCA',\n",
       " 'ATGTGGAACA',\n",
       " 'AGGAACACCT',\n",
       " 'CTGAGGAATT',\n",
       " 'TCTACATGGG',\n",
       " 'TCCCTTAGCA',\n",
       " 'TGAAGACAAT',\n",
       " 'CCCCCTGTCT',\n",
       " 'GGTGATATTA',\n",
       " 'GTTTCATGTA',\n",
       " 'TATGGATCAG',\n",
       " 'AGTTTAATGC',\n",
       " 'GACCGTTTTG',\n",
       " 'ATCTATTTTC',\n",
       " 'TATTAGCACT',\n",
       " 'TATTCAATCC',\n",
       " 'TTGTATTTTT']"
      ]
     },
     "execution_count": 23,
     "metadata": {},
     "output_type": "execute_result"
    }
   ],
   "source": [
    "re.findall('(?<=\\[\\w\\/\\w\\])(\\w{10})', sequence)"
   ]
  },
  {
   "cell_type": "markdown",
   "id": "e9737cc8",
   "metadata": {},
   "source": [
    "Extract 10 bases upstream of each SNP only if the first base before the SNP is not a `G`"
   ]
  },
  {
   "cell_type": "code",
   "execution_count": 24,
   "id": "ae86652e",
   "metadata": {},
   "outputs": [
    {
     "data": {
      "text/plain": [
       "['TCTGGACTCA',\n",
       " 'CGGAACTTGT',\n",
       " 'AAAATGCATT',\n",
       " 'CCCAGGAGGT',\n",
       " 'AGCGGCACAT',\n",
       " 'ACAAAAGAAT',\n",
       " 'CATGTACACT',\n",
       " 'GCATCTGAGA',\n",
       " 'ATACAAAAAT',\n",
       " 'CATTGTTTAT',\n",
       " 'ACGCTCAAAT',\n",
       " 'TGAAAGAAAT',\n",
       " 'ACATTCAAAA']"
      ]
     },
     "execution_count": 24,
     "metadata": {},
     "output_type": "execute_result"
    }
   ],
   "source": [
    "re.findall('(\\w{9}[^G])(?=\\[\\w\\/\\w\\])', sequence)"
   ]
  },
  {
   "cell_type": "code",
   "execution_count": null,
   "id": "adc90717",
   "metadata": {},
   "outputs": [],
   "source": []
  }
 ],
 "metadata": {
  "kernelspec": {
   "display_name": "Python 3 (ipykernel)",
   "language": "python",
   "name": "python3"
  },
  "language_info": {
   "codemirror_mode": {
    "name": "ipython",
    "version": 3
   },
   "file_extension": ".py",
   "mimetype": "text/x-python",
   "name": "python",
   "nbconvert_exporter": "python",
   "pygments_lexer": "ipython3",
   "version": "3.9.12"
  }
 },
 "nbformat": 4,
 "nbformat_minor": 5
}
