{
 "cells": [
  {
   "cell_type": "markdown",
   "id": "21ce3595",
   "metadata": {},
   "source": [
    "## Exercises"
   ]
  },
  {
   "cell_type": "code",
   "execution_count": 52,
   "id": "20ec1f6e",
   "metadata": {},
   "outputs": [],
   "source": [
    "import numpy as np"
   ]
  },
  {
   "cell_type": "markdown",
   "id": "481a843a",
   "metadata": {},
   "source": [
    "### Exercise 1"
   ]
  },
  {
   "cell_type": "markdown",
   "id": "2a299739",
   "metadata": {},
   "source": [
    "Create a 5x5 numpy array of booleans where all values are True apart from the first element of the last row."
   ]
  },
  {
   "cell_type": "code",
   "execution_count": 3,
   "id": "d6ec7d55",
   "metadata": {},
   "outputs": [
    {
     "data": {
      "text/plain": [
       "array([[ True,  True,  True,  True,  True],\n",
       "       [ True,  True,  True,  True,  True],\n",
       "       [ True,  True,  True,  True,  True],\n",
       "       [ True,  True,  True,  True,  True],\n",
       "       [False,  True,  True,  True,  True]])"
      ]
     },
     "execution_count": 3,
     "metadata": {},
     "output_type": "execute_result"
    }
   ],
   "source": [
    "x = np.ones((5,5),dtype=bool)\n",
    "x[4,0] = False\n",
    "x"
   ]
  },
  {
   "cell_type": "markdown",
   "id": "3effe16c",
   "metadata": {},
   "source": [
    "### Exercise 2"
   ]
  },
  {
   "cell_type": "markdown",
   "id": "1a5162cb",
   "metadata": {},
   "source": [
    "Create a numpy array with values ranging from 1 to 20. Remove the even numbers."
   ]
  },
  {
   "cell_type": "code",
   "execution_count": 4,
   "id": "b8de545f",
   "metadata": {},
   "outputs": [
    {
     "data": {
      "text/plain": [
       "array([ 1,  2,  3,  4,  5,  6,  7,  8,  9, 10, 11, 12, 13, 14, 15, 16, 17,\n",
       "       18, 19, 20])"
      ]
     },
     "execution_count": 4,
     "metadata": {},
     "output_type": "execute_result"
    }
   ],
   "source": [
    "x = np.arange(1,21)\n",
    "x"
   ]
  },
  {
   "cell_type": "code",
   "execution_count": 5,
   "id": "409b2bcb",
   "metadata": {},
   "outputs": [
    {
     "data": {
      "text/plain": [
       "array([ 1,  3,  5,  7,  9, 11, 13, 15, 17, 19])"
      ]
     },
     "execution_count": 5,
     "metadata": {},
     "output_type": "execute_result"
    }
   ],
   "source": [
    "x[x%2!=0]"
   ]
  },
  {
   "cell_type": "markdown",
   "id": "2b99de54",
   "metadata": {},
   "source": [
    "### Exercise 3"
   ]
  },
  {
   "cell_type": "markdown",
   "id": "aebc5bda",
   "metadata": {},
   "source": [
    "Create a 5x5 numpy array and populated with random numbers from a normal distribution (mean=0, std=1). Filter out all the negative values. Change the resulting array to multi-dimensional array where the number of rows will be equal to the number of positive elements and 1 column."
   ]
  },
  {
   "cell_type": "code",
   "execution_count": 6,
   "id": "54e6f54d",
   "metadata": {},
   "outputs": [
    {
     "data": {
      "text/plain": [
       "array([[-0.13800647,  0.77801345,  0.68126053, -1.2733094 ,  0.67398599],\n",
       "       [-0.11060115, -0.80942336, -1.1541595 , -0.31904814,  0.20902864],\n",
       "       [-0.85083428,  1.03523531,  0.96438203,  2.02522122,  0.82634465],\n",
       "       [ 0.43432725,  0.96157163, -1.4263487 , -0.61495012, -0.95100917],\n",
       "       [-0.06722852,  0.96209184,  0.06309427,  1.54341553, -1.10431717]])"
      ]
     },
     "execution_count": 6,
     "metadata": {},
     "output_type": "execute_result"
    }
   ],
   "source": [
    "x = np.random.normal(0,1,(5,5))\n",
    "x "
   ]
  },
  {
   "cell_type": "code",
   "execution_count": 7,
   "id": "daae0adf",
   "metadata": {},
   "outputs": [
    {
     "data": {
      "text/plain": [
       "array([[0.77801345],\n",
       "       [0.68126053],\n",
       "       [0.67398599],\n",
       "       [0.20902864],\n",
       "       [1.03523531],\n",
       "       [0.96438203],\n",
       "       [2.02522122],\n",
       "       [0.82634465],\n",
       "       [0.43432725],\n",
       "       [0.96157163],\n",
       "       [0.96209184],\n",
       "       [0.06309427],\n",
       "       [1.54341553]])"
      ]
     },
     "execution_count": 7,
     "metadata": {},
     "output_type": "execute_result"
    }
   ],
   "source": [
    "x[x>0].reshape(-1,1)"
   ]
  },
  {
   "cell_type": "markdown",
   "id": "d10963cd",
   "metadata": {},
   "source": [
    "### Exercise 4"
   ]
  },
  {
   "cell_type": "markdown",
   "id": "318f3616",
   "metadata": {},
   "source": [
    "Create a 10x10 identity matrix of integer type. Save the matrix in csv format using a file name of your choice. Load back the matrix."
   ]
  },
  {
   "cell_type": "code",
   "execution_count": 8,
   "id": "694a94fd",
   "metadata": {},
   "outputs": [
    {
     "data": {
      "text/plain": [
       "array([[1, 0, 0, 0, 0, 0, 0, 0, 0, 0],\n",
       "       [0, 1, 0, 0, 0, 0, 0, 0, 0, 0],\n",
       "       [0, 0, 1, 0, 0, 0, 0, 0, 0, 0],\n",
       "       [0, 0, 0, 1, 0, 0, 0, 0, 0, 0],\n",
       "       [0, 0, 0, 0, 1, 0, 0, 0, 0, 0],\n",
       "       [0, 0, 0, 0, 0, 1, 0, 0, 0, 0],\n",
       "       [0, 0, 0, 0, 0, 0, 1, 0, 0, 0],\n",
       "       [0, 0, 0, 0, 0, 0, 0, 1, 0, 0],\n",
       "       [0, 0, 0, 0, 0, 0, 0, 0, 1, 0],\n",
       "       [0, 0, 0, 0, 0, 0, 0, 0, 0, 1]])"
      ]
     },
     "execution_count": 8,
     "metadata": {},
     "output_type": "execute_result"
    }
   ],
   "source": [
    "I = np.eye(10,10,dtype='int')\n",
    "I"
   ]
  },
  {
   "cell_type": "code",
   "execution_count": 9,
   "id": "5fbe2688",
   "metadata": {},
   "outputs": [],
   "source": [
    "np.savetxt('identity_matrix.csv',I, delimiter=',')"
   ]
  },
  {
   "cell_type": "code",
   "execution_count": 10,
   "id": "8dfcda3a",
   "metadata": {},
   "outputs": [
    {
     "data": {
      "text/plain": [
       "array([[1., 0., 0., 0., 0., 0., 0., 0., 0., 0.],\n",
       "       [0., 1., 0., 0., 0., 0., 0., 0., 0., 0.],\n",
       "       [0., 0., 1., 0., 0., 0., 0., 0., 0., 0.],\n",
       "       [0., 0., 0., 1., 0., 0., 0., 0., 0., 0.],\n",
       "       [0., 0., 0., 0., 1., 0., 0., 0., 0., 0.],\n",
       "       [0., 0., 0., 0., 0., 1., 0., 0., 0., 0.],\n",
       "       [0., 0., 0., 0., 0., 0., 1., 0., 0., 0.],\n",
       "       [0., 0., 0., 0., 0., 0., 0., 1., 0., 0.],\n",
       "       [0., 0., 0., 0., 0., 0., 0., 0., 1., 0.],\n",
       "       [0., 0., 0., 0., 0., 0., 0., 0., 0., 1.]])"
      ]
     },
     "execution_count": 10,
     "metadata": {},
     "output_type": "execute_result"
    }
   ],
   "source": [
    "identity_matrix = np.loadtxt('identity_matrix.csv', delimiter=',')\n",
    "identity_matrix"
   ]
  },
  {
   "cell_type": "markdown",
   "id": "37b393dd",
   "metadata": {},
   "source": [
    "### Exercise 5"
   ]
  },
  {
   "cell_type": "markdown",
   "id": "18455509",
   "metadata": {},
   "source": [
    "Create a 5x5 numpy array populated by random integers ranging from 1 to 100. Calculate the sum of rows, columns and of the diagonal elements."
   ]
  },
  {
   "cell_type": "code",
   "execution_count": 13,
   "id": "a8965b31",
   "metadata": {},
   "outputs": [
    {
     "data": {
      "text/plain": [
       "array([[55, 55, 16, 46, 32],\n",
       "       [69, 59, 83, 95, 40],\n",
       "       [ 2, 91, 85, 90,  5],\n",
       "       [49, 78, 77, 55, 63],\n",
       "       [92, 72, 68, 27, 46]])"
      ]
     },
     "execution_count": 13,
     "metadata": {},
     "output_type": "execute_result"
    }
   ],
   "source": [
    "z = np.random.randint(1,100,size=25).reshape((5,5))\n",
    "z"
   ]
  },
  {
   "cell_type": "code",
   "execution_count": 18,
   "id": "c72cc7a0",
   "metadata": {},
   "outputs": [
    {
     "data": {
      "text/plain": [
       "array([204, 346, 273, 322, 305])"
      ]
     },
     "execution_count": 18,
     "metadata": {},
     "output_type": "execute_result"
    }
   ],
   "source": [
    "z.sum(axis=1)"
   ]
  },
  {
   "cell_type": "code",
   "execution_count": 19,
   "id": "00321f80",
   "metadata": {},
   "outputs": [
    {
     "data": {
      "text/plain": [
       "array([267, 355, 329, 313, 186])"
      ]
     },
     "execution_count": 19,
     "metadata": {},
     "output_type": "execute_result"
    }
   ],
   "source": [
    "z.sum(axis=0)"
   ]
  },
  {
   "cell_type": "code",
   "execution_count": 20,
   "id": "64e06fa5",
   "metadata": {},
   "outputs": [
    {
     "data": {
      "text/plain": [
       "300"
      ]
     },
     "execution_count": 20,
     "metadata": {},
     "output_type": "execute_result"
    }
   ],
   "source": [
    "np.diag(z).sum()"
   ]
  },
  {
   "cell_type": "markdown",
   "id": "e1506c9b",
   "metadata": {},
   "source": [
    "### Exercise 6"
   ]
  },
  {
   "cell_type": "markdown",
   "id": "9e5826a0",
   "metadata": {},
   "source": [
    "Create a 4x3 numpy array and populated with random integers ranging from 1 to 20. Estimate it's transpose. Multiply the two arrays."
   ]
  },
  {
   "cell_type": "code",
   "execution_count": 21,
   "id": "69ddc965",
   "metadata": {},
   "outputs": [
    {
     "data": {
      "text/plain": [
       "array([[ 2,  6,  5],\n",
       "       [19,  3, 13],\n",
       "       [ 3,  6, 14],\n",
       "       [10, 15, 13]])"
      ]
     },
     "execution_count": 21,
     "metadata": {},
     "output_type": "execute_result"
    }
   ],
   "source": [
    "y = np.random.randint(1,20,size=12).reshape((4,3))\n",
    "y"
   ]
  },
  {
   "cell_type": "code",
   "execution_count": 22,
   "id": "60f5fd1d",
   "metadata": {},
   "outputs": [
    {
     "data": {
      "text/plain": [
       "array([[ 2, 19,  3, 10],\n",
       "       [ 6,  3,  6, 15],\n",
       "       [ 5, 13, 14, 13]])"
      ]
     },
     "execution_count": 22,
     "metadata": {},
     "output_type": "execute_result"
    }
   ],
   "source": [
    "y_T = y.T\n",
    "y_T"
   ]
  },
  {
   "cell_type": "code",
   "execution_count": 23,
   "id": "cf9ba932",
   "metadata": {},
   "outputs": [
    {
     "data": {
      "text/plain": [
       "array([[ 65, 121, 112, 175],\n",
       "       [121, 539, 257, 404],\n",
       "       [112, 257, 241, 302],\n",
       "       [175, 404, 302, 494]])"
      ]
     },
     "execution_count": 23,
     "metadata": {},
     "output_type": "execute_result"
    }
   ],
   "source": [
    "y.dot(y_T)"
   ]
  },
  {
   "cell_type": "markdown",
   "id": "af5a1e68",
   "metadata": {},
   "source": [
    "### Exercise 7"
   ]
  },
  {
   "cell_type": "markdown",
   "id": "b379848f",
   "metadata": {},
   "source": [
    "Create a 2x4 and a 4x4 numpy arrays. Populate them with random integers ranging from 80 to 100. Join them either vertically or horizontally."
   ]
  },
  {
   "cell_type": "code",
   "execution_count": 24,
   "id": "d8459562",
   "metadata": {},
   "outputs": [
    {
     "data": {
      "text/plain": [
       "array([[95, 81, 97, 87],\n",
       "       [99, 89, 93, 98]])"
      ]
     },
     "execution_count": 24,
     "metadata": {},
     "output_type": "execute_result"
    }
   ],
   "source": [
    "x = np.random.randint(80,100,size=8).reshape((2,4))\n",
    "x"
   ]
  },
  {
   "cell_type": "code",
   "execution_count": 27,
   "id": "708530c8",
   "metadata": {},
   "outputs": [
    {
     "data": {
      "text/plain": [
       "array([[96, 84, 86, 98],\n",
       "       [96, 94, 88, 80],\n",
       "       [85, 88, 95, 92],\n",
       "       [92, 85, 80, 80]])"
      ]
     },
     "execution_count": 27,
     "metadata": {},
     "output_type": "execute_result"
    }
   ],
   "source": [
    "z = np.random.randint(80,100,size=16).reshape((4,4))\n",
    "z"
   ]
  },
  {
   "cell_type": "code",
   "execution_count": 28,
   "id": "ff4cae65",
   "metadata": {},
   "outputs": [
    {
     "data": {
      "text/plain": [
       "array([[95, 81, 97, 87],\n",
       "       [99, 89, 93, 98],\n",
       "       [96, 84, 86, 98],\n",
       "       [96, 94, 88, 80],\n",
       "       [85, 88, 95, 92],\n",
       "       [92, 85, 80, 80]])"
      ]
     },
     "execution_count": 28,
     "metadata": {},
     "output_type": "execute_result"
    }
   ],
   "source": [
    "np.vstack([x,z])"
   ]
  },
  {
   "cell_type": "markdown",
   "id": "f9431fec",
   "metadata": {},
   "source": [
    "### Exercise 8"
   ]
  },
  {
   "cell_type": "markdown",
   "id": "68ff0588",
   "metadata": {},
   "source": [
    "Create a 4x4 numpy array and populate with numbers originating from the standard normal distribution (mean=0, std=1). Change all negative numbers to missing. Calculate the sum of all the numbers."
   ]
  },
  {
   "cell_type": "code",
   "execution_count": 31,
   "id": "b02818bd",
   "metadata": {},
   "outputs": [
    {
     "data": {
      "text/plain": [
       "array([[-0.1746599 , -0.91777923,  0.5233243 ,  0.88072216],\n",
       "       [-0.82404628,  0.11448392, -0.49188936,  0.45278204],\n",
       "       [ 0.91040041, -0.05239358,  1.433211  , -1.50028849],\n",
       "       [ 0.75539002,  0.18728244, -0.60639067,  0.41268069]])"
      ]
     },
     "execution_count": 31,
     "metadata": {},
     "output_type": "execute_result"
    }
   ],
   "source": [
    "z = np.random.normal(0,1,(4,4))\n",
    "z"
   ]
  },
  {
   "cell_type": "code",
   "execution_count": 32,
   "id": "356dc757",
   "metadata": {},
   "outputs": [
    {
     "data": {
      "text/plain": [
       "array([[       nan,        nan, 0.5233243 , 0.88072216],\n",
       "       [       nan, 0.11448392,        nan, 0.45278204],\n",
       "       [0.91040041,        nan, 1.433211  ,        nan],\n",
       "       [0.75539002, 0.18728244,        nan, 0.41268069]])"
      ]
     },
     "execution_count": 32,
     "metadata": {},
     "output_type": "execute_result"
    }
   ],
   "source": [
    "z[z < 0] = np.nan\n",
    "z"
   ]
  },
  {
   "cell_type": "code",
   "execution_count": 33,
   "id": "5d69949c",
   "metadata": {},
   "outputs": [
    {
     "data": {
      "text/plain": [
       "5.670276963166906"
      ]
     },
     "execution_count": 33,
     "metadata": {},
     "output_type": "execute_result"
    }
   ],
   "source": [
    "np.nansum(z)"
   ]
  },
  {
   "cell_type": "markdown",
   "id": "3612dc7d",
   "metadata": {},
   "source": [
    "### Exercise 9"
   ]
  },
  {
   "cell_type": "markdown",
   "id": "b2d98545",
   "metadata": {},
   "source": [
    "As Exercise 8 but without affecting the original array."
   ]
  },
  {
   "cell_type": "code",
   "execution_count": 34,
   "id": "a80e705c",
   "metadata": {},
   "outputs": [
    {
     "data": {
      "text/plain": [
       "array([[ 0.7329518 , -0.41866972, -0.24329669,  0.72775977],\n",
       "       [ 0.15862388,  1.51095994,  0.63584747, -0.65771613],\n",
       "       [ 2.58098063,  0.15917378,  0.18467324, -1.70207205],\n",
       "       [-0.95493402, -0.29753408,  0.87286398,  0.48556672]])"
      ]
     },
     "execution_count": 34,
     "metadata": {},
     "output_type": "execute_result"
    }
   ],
   "source": [
    "z = np.random.normal(0,1,(4,4))\n",
    "z"
   ]
  },
  {
   "cell_type": "code",
   "execution_count": 35,
   "id": "8d0edf0e",
   "metadata": {},
   "outputs": [],
   "source": [
    "z_new = np.where(z<0,np.nan,z)"
   ]
  },
  {
   "cell_type": "code",
   "execution_count": 36,
   "id": "3e5b29d5",
   "metadata": {},
   "outputs": [
    {
     "data": {
      "text/plain": [
       "array([[ 0.7329518 , -0.41866972, -0.24329669,  0.72775977],\n",
       "       [ 0.15862388,  1.51095994,  0.63584747, -0.65771613],\n",
       "       [ 2.58098063,  0.15917378,  0.18467324, -1.70207205],\n",
       "       [-0.95493402, -0.29753408,  0.87286398,  0.48556672]])"
      ]
     },
     "execution_count": 36,
     "metadata": {},
     "output_type": "execute_result"
    }
   ],
   "source": [
    "z"
   ]
  },
  {
   "cell_type": "code",
   "execution_count": 37,
   "id": "f9d174d7",
   "metadata": {},
   "outputs": [
    {
     "data": {
      "text/plain": [
       "array([[0.7329518 ,        nan,        nan, 0.72775977],\n",
       "       [0.15862388, 1.51095994, 0.63584747,        nan],\n",
       "       [2.58098063, 0.15917378, 0.18467324,        nan],\n",
       "       [       nan,        nan, 0.87286398, 0.48556672]])"
      ]
     },
     "execution_count": 37,
     "metadata": {},
     "output_type": "execute_result"
    }
   ],
   "source": [
    "z_new"
   ]
  },
  {
   "cell_type": "markdown",
   "id": "13a94299",
   "metadata": {},
   "source": [
    "### Exercise 10"
   ]
  },
  {
   "cell_type": "markdown",
   "id": "1eda9660",
   "metadata": {},
   "source": [
    "Create a 4x4 numpy array and populate it with random integers ranging from 25 to 50. Calculate the inverse and the pseudo inverse of the array. Multiply the original array with it's inverse."
   ]
  },
  {
   "cell_type": "code",
   "execution_count": 38,
   "id": "298ccf07",
   "metadata": {},
   "outputs": [
    {
     "data": {
      "text/plain": [
       "array([[49, 26, 32, 34],\n",
       "       [29, 49, 47, 39],\n",
       "       [45, 35, 26, 32],\n",
       "       [28, 32, 27, 34]])"
      ]
     },
     "execution_count": 38,
     "metadata": {},
     "output_type": "execute_result"
    }
   ],
   "source": [
    "z = np.random.randint(25,50,size=16).reshape(4,4)\n",
    "z"
   ]
  },
  {
   "cell_type": "code",
   "execution_count": 39,
   "id": "cb991840",
   "metadata": {},
   "outputs": [
    {
     "data": {
      "text/plain": [
       "array([[ 0.0157201 , -0.00618389,  0.03489015, -0.04146461],\n",
       "       [-0.06655818,  0.01790073,  0.07794955, -0.0273393 ],\n",
       "       [ 0.05410578,  0.04745321, -0.05299919, -0.05865582],\n",
       "       [ 0.00673068, -0.04943857, -0.06000976,  0.13586981]])"
      ]
     },
     "execution_count": 39,
     "metadata": {},
     "output_type": "execute_result"
    }
   ],
   "source": [
    "z_inv = np.linalg.inv(z)\n",
    "z_inv"
   ]
  },
  {
   "cell_type": "code",
   "execution_count": 51,
   "id": "a0411e34",
   "metadata": {},
   "outputs": [
    {
     "data": {
      "text/plain": [
       "array([[ 1.00000000e+00,  0.00000000e+00,  0.00000000e+00,\n",
       "         0.00000000e+00],\n",
       "       [-5.55111512e-17,  1.00000000e+00,  0.00000000e+00,\n",
       "         8.88178420e-16],\n",
       "       [-2.77555756e-17,  0.00000000e+00,  1.00000000e+00,\n",
       "         8.88178420e-16],\n",
       "       [-2.77555756e-17,  0.00000000e+00,  0.00000000e+00,\n",
       "         1.00000000e+00]])"
      ]
     },
     "execution_count": 51,
     "metadata": {},
     "output_type": "execute_result"
    }
   ],
   "source": [
    "z.dot(z_inv)"
   ]
  },
  {
   "cell_type": "code",
   "execution_count": 42,
   "id": "4283172e",
   "metadata": {},
   "outputs": [
    {
     "data": {
      "text/plain": [
       "array([[ 0.0157201 , -0.00618389,  0.03489015, -0.04146461],\n",
       "       [-0.06655818,  0.01790073,  0.07794955, -0.0273393 ],\n",
       "       [ 0.05410578,  0.04745321, -0.05299919, -0.05865582],\n",
       "       [ 0.00673068, -0.04943857, -0.06000976,  0.13586981]])"
      ]
     },
     "execution_count": 42,
     "metadata": {},
     "output_type": "execute_result"
    }
   ],
   "source": [
    "z_pinv = np.linalg.pinv(z)\n",
    "z_pinv"
   ]
  },
  {
   "cell_type": "code",
   "execution_count": 53,
   "id": "270ccd11",
   "metadata": {},
   "outputs": [
    {
     "data": {
      "text/plain": [
       "array([[ 1.00000000e+00, -1.11022302e-15,  0.00000000e+00,\n",
       "         0.00000000e+00],\n",
       "       [ 9.43689571e-16,  1.00000000e+00, -8.88178420e-16,\n",
       "         0.00000000e+00],\n",
       "       [ 5.55111512e-16, -8.88178420e-16,  1.00000000e+00,\n",
       "        -8.88178420e-16],\n",
       "       [ 7.49400542e-16, -4.44089210e-16, -4.44089210e-16,\n",
       "         1.00000000e+00]])"
      ]
     },
     "execution_count": 53,
     "metadata": {},
     "output_type": "execute_result"
    }
   ],
   "source": [
    "z.dot(z_pinv)"
   ]
  },
  {
   "cell_type": "markdown",
   "id": "99f8e8bf",
   "metadata": {},
   "source": [
    "### Exercise 11"
   ]
  },
  {
   "cell_type": "markdown",
   "id": "b15d692c",
   "metadata": {},
   "source": [
    "Create two numpy arrays and populate the with 30 random numbers ranging from 1 to 7. Find any elements that match.    "
   ]
  },
  {
   "cell_type": "code",
   "execution_count": 54,
   "id": "6b473950",
   "metadata": {},
   "outputs": [
    {
     "data": {
      "text/plain": [
       "array([2, 5, 1, 6, 2, 5, 2, 6, 2, 6, 1, 2, 2, 1, 3, 2, 2, 6, 3, 4, 4, 2,\n",
       "       1, 2, 4, 4, 2, 4, 6, 5])"
      ]
     },
     "execution_count": 54,
     "metadata": {},
     "output_type": "execute_result"
    }
   ],
   "source": [
    "x = np.random.randint(1,7,size=30)\n",
    "x"
   ]
  },
  {
   "cell_type": "code",
   "execution_count": 55,
   "id": "3a26cf66",
   "metadata": {},
   "outputs": [
    {
     "data": {
      "text/plain": [
       "array([3, 1, 6, 1, 4, 5, 2, 2, 6, 2, 1, 1, 2, 4, 5, 6, 2, 3, 3, 3, 4, 5,\n",
       "       6, 1, 6, 5, 5, 3, 4, 4])"
      ]
     },
     "execution_count": 55,
     "metadata": {},
     "output_type": "execute_result"
    }
   ],
   "source": [
    "z = np.random.randint(1,7,size=30)\n",
    "z"
   ]
  },
  {
   "cell_type": "code",
   "execution_count": 56,
   "id": "9e575902",
   "metadata": {},
   "outputs": [
    {
     "data": {
      "text/plain": [
       "(array([ 5,  6, 10, 12, 16, 18, 20]),)"
      ]
     },
     "execution_count": 56,
     "metadata": {},
     "output_type": "execute_result"
    }
   ],
   "source": [
    "np.where(x==z)"
   ]
  },
  {
   "cell_type": "markdown",
   "id": "5577a01b",
   "metadata": {},
   "source": [
    "### Exercise 12"
   ]
  },
  {
   "cell_type": "markdown",
   "id": "e3bbf75d",
   "metadata": {},
   "source": [
    "Create a 5x4 numpy array and populate it with random integers ranging from 1 to 10. Swap the first and third column and the second and fourth row."
   ]
  },
  {
   "cell_type": "code",
   "execution_count": 57,
   "id": "a6d5e7d5",
   "metadata": {},
   "outputs": [
    {
     "data": {
      "text/plain": [
       "array([[5, 5, 2, 6],\n",
       "       [1, 9, 8, 8],\n",
       "       [9, 3, 7, 3],\n",
       "       [8, 4, 1, 4],\n",
       "       [5, 6, 7, 4]])"
      ]
     },
     "execution_count": 57,
     "metadata": {},
     "output_type": "execute_result"
    }
   ],
   "source": [
    "x = np.random.randint(1,10,size=20).reshape((5,4))\n",
    "x"
   ]
  },
  {
   "cell_type": "code",
   "execution_count": 58,
   "id": "549c3106",
   "metadata": {},
   "outputs": [
    {
     "data": {
      "text/plain": [
       "array([[2, 5, 5, 6],\n",
       "       [8, 9, 1, 8],\n",
       "       [7, 3, 9, 3],\n",
       "       [1, 4, 8, 4],\n",
       "       [7, 6, 5, 4]])"
      ]
     },
     "execution_count": 58,
     "metadata": {},
     "output_type": "execute_result"
    }
   ],
   "source": [
    "x[:,[2,1,0,3]]"
   ]
  },
  {
   "cell_type": "code",
   "execution_count": 59,
   "id": "6c60c1ac",
   "metadata": {},
   "outputs": [
    {
     "data": {
      "text/plain": [
       "array([[5, 5, 2, 6],\n",
       "       [8, 4, 1, 4],\n",
       "       [9, 3, 7, 3],\n",
       "       [1, 9, 8, 8],\n",
       "       [5, 6, 7, 4]])"
      ]
     },
     "execution_count": 59,
     "metadata": {},
     "output_type": "execute_result"
    }
   ],
   "source": [
    "x[[0,3,2,1,4],:]"
   ]
  },
  {
   "cell_type": "code",
   "execution_count": null,
   "id": "730645fd",
   "metadata": {},
   "outputs": [],
   "source": []
  }
 ],
 "metadata": {
  "kernelspec": {
   "display_name": "Python 3 (ipykernel)",
   "language": "python",
   "name": "python3"
  },
  "language_info": {
   "codemirror_mode": {
    "name": "ipython",
    "version": 3
   },
   "file_extension": ".py",
   "mimetype": "text/x-python",
   "name": "python",
   "nbconvert_exporter": "python",
   "pygments_lexer": "ipython3",
   "version": "3.9.12"
  }
 },
 "nbformat": 4,
 "nbformat_minor": 5
}
