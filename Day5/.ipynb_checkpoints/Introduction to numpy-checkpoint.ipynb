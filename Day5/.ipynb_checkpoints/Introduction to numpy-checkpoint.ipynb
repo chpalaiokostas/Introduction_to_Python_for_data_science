{
 "cells": [
  {
   "cell_type": "code",
   "execution_count": 2,
   "metadata": {},
   "outputs": [],
   "source": [
    "import numpy as np"
   ]
  },
  {
   "cell_type": "markdown",
   "metadata": {},
   "source": [
    "Numpy stands for Numerical Python. It's the workhorse behind any numerical calculations allowing superior performance compared to Python built-in functions. Pandas amongst others libraries rely on Numpy"
   ]
  },
  {
   "cell_type": "markdown",
   "metadata": {},
   "source": [
    "Let's first check which verion we have"
   ]
  },
  {
   "cell_type": "code",
   "execution_count": 4,
   "metadata": {},
   "outputs": [
    {
     "data": {
      "text/plain": [
       "'1.21.5'"
      ]
     },
     "execution_count": 4,
     "metadata": {},
     "output_type": "execute_result"
    }
   ],
   "source": [
    "np.__version__"
   ]
  },
  {
   "cell_type": "markdown",
   "metadata": {},
   "source": [
    "## NumPy arrays"
   ]
  },
  {
   "cell_type": "code",
   "execution_count": 5,
   "metadata": {},
   "outputs": [
    {
     "data": {
      "text/plain": [
       "array([1, 2, 3, 4])"
      ]
     },
     "execution_count": 5,
     "metadata": {},
     "output_type": "execute_result"
    }
   ],
   "source": [
    "np.array([1,2,3,4])"
   ]
  },
  {
   "cell_type": "code",
   "execution_count": 6,
   "metadata": {},
   "outputs": [
    {
     "data": {
      "text/plain": [
       "array([1., 2., 3., 4.], dtype=float32)"
      ]
     },
     "execution_count": 6,
     "metadata": {},
     "output_type": "execute_result"
    }
   ],
   "source": [
    "np.array([1,2,3,4],dtype='float32')"
   ]
  },
  {
   "cell_type": "code",
   "execution_count": 7,
   "metadata": {},
   "outputs": [
    {
     "data": {
      "text/plain": [
       "array([0, 0, 0, 0, 0, 0, 0, 0, 0, 0])"
      ]
     },
     "execution_count": 7,
     "metadata": {},
     "output_type": "execute_result"
    }
   ],
   "source": [
    "np.zeros(10,dtype='int')"
   ]
  },
  {
   "cell_type": "code",
   "execution_count": 8,
   "metadata": {},
   "outputs": [
    {
     "data": {
      "text/plain": [
       "array([[1., 1., 1.],\n",
       "       [1., 1., 1.],\n",
       "       [1., 1., 1.]])"
      ]
     },
     "execution_count": 8,
     "metadata": {},
     "output_type": "execute_result"
    }
   ],
   "source": [
    "np.ones((3,3),dtype='float')"
   ]
  },
  {
   "cell_type": "code",
   "execution_count": 9,
   "metadata": {},
   "outputs": [
    {
     "data": {
      "text/plain": [
       "array([0, 1, 2, 3, 4, 5, 6, 7, 8, 9])"
      ]
     },
     "execution_count": 9,
     "metadata": {},
     "output_type": "execute_result"
    }
   ],
   "source": [
    "np.arange(0,10)"
   ]
  },
  {
   "cell_type": "code",
   "execution_count": 10,
   "metadata": {},
   "outputs": [
    {
     "data": {
      "text/plain": [
       "array([0, 2, 4, 6, 8])"
      ]
     },
     "execution_count": 10,
     "metadata": {},
     "output_type": "execute_result"
    }
   ],
   "source": [
    "np.arange(0,10,2)"
   ]
  },
  {
   "cell_type": "code",
   "execution_count": 11,
   "metadata": {},
   "outputs": [
    {
     "data": {
      "text/plain": [
       "array([10,  9,  8,  7,  6,  5,  4,  3,  2,  1])"
      ]
     },
     "execution_count": 11,
     "metadata": {},
     "output_type": "execute_result"
    }
   ],
   "source": [
    "np.arange(10,0,-1)"
   ]
  },
  {
   "cell_type": "markdown",
   "metadata": {},
   "source": [
    "Another useful function is `linspace` for creating equally spaced values"
   ]
  },
  {
   "cell_type": "code",
   "execution_count": 12,
   "metadata": {},
   "outputs": [
    {
     "data": {
      "text/plain": [
       "array([0.  , 0.25, 0.5 , 0.75, 1.  ])"
      ]
     },
     "execution_count": 12,
     "metadata": {},
     "output_type": "execute_result"
    }
   ],
   "source": [
    "np.linspace(0,1,5)"
   ]
  },
  {
   "cell_type": "markdown",
   "metadata": {},
   "source": [
    "It's often the case that we want to create an array with random values"
   ]
  },
  {
   "cell_type": "code",
   "execution_count": 13,
   "metadata": {},
   "outputs": [
    {
     "data": {
      "text/plain": [
       "array([[0.32183719, 0.00238077],\n",
       "       [0.42838104, 0.35874323]])"
      ]
     },
     "execution_count": 13,
     "metadata": {},
     "output_type": "execute_result"
    }
   ],
   "source": [
    "np.random.random((2,2))"
   ]
  },
  {
   "cell_type": "code",
   "execution_count": 14,
   "metadata": {},
   "outputs": [
    {
     "data": {
      "text/plain": [
       "array([[ 0.67272365,  2.91338935],\n",
       "       [-0.43398108,  1.36707055]])"
      ]
     },
     "execution_count": 14,
     "metadata": {},
     "output_type": "execute_result"
    }
   ],
   "source": [
    "np.random.normal(0,1,(2,2))"
   ]
  },
  {
   "cell_type": "markdown",
   "metadata": {},
   "source": [
    "Below we see how we can create an identity matrix"
   ]
  },
  {
   "cell_type": "code",
   "execution_count": 15,
   "metadata": {},
   "outputs": [
    {
     "data": {
      "text/plain": [
       "array([[1., 0., 0., 0., 0.],\n",
       "       [0., 1., 0., 0., 0.],\n",
       "       [0., 0., 1., 0., 0.],\n",
       "       [0., 0., 0., 1., 0.],\n",
       "       [0., 0., 0., 0., 1.]])"
      ]
     },
     "execution_count": 15,
     "metadata": {},
     "output_type": "execute_result"
    }
   ],
   "source": [
    "np.eye(5)"
   ]
  },
  {
   "cell_type": "markdown",
   "metadata": {},
   "source": [
    "### Basic operations with numpy arrays"
   ]
  },
  {
   "cell_type": "markdown",
   "metadata": {},
   "source": [
    "Each array has a dimension, a shape and a size"
   ]
  },
  {
   "cell_type": "code",
   "execution_count": 16,
   "metadata": {},
   "outputs": [
    {
     "data": {
      "text/plain": [
       "array([[-0.32248205, -0.02840202,  1.75901197],\n",
       "       [ 0.01159954,  0.71409998, -0.06792266],\n",
       "       [-0.27676733,  0.21081527,  0.36618532]])"
      ]
     },
     "execution_count": 16,
     "metadata": {},
     "output_type": "execute_result"
    }
   ],
   "source": [
    "x = np.random.normal(0,1,(3,3))\n",
    "x"
   ]
  },
  {
   "cell_type": "code",
   "execution_count": 17,
   "metadata": {},
   "outputs": [
    {
     "name": "stdout",
     "output_type": "stream",
     "text": [
      "x dimension:  2\n",
      "x shape:  (3, 3)\n",
      "x size:  9\n"
     ]
    }
   ],
   "source": [
    "print(\"x dimension: \", x.ndim)\n",
    "print(\"x shape: \", x.shape)\n",
    "print(\"x size: \", x.size)"
   ]
  },
  {
   "cell_type": "markdown",
   "metadata": {},
   "source": [
    "It's also useful to see the type of the elements"
   ]
  },
  {
   "cell_type": "code",
   "execution_count": 18,
   "metadata": {},
   "outputs": [
    {
     "name": "stdout",
     "output_type": "stream",
     "text": [
      "x type:  float64\n"
     ]
    }
   ],
   "source": [
    "print(\"x type: \", x.dtype)"
   ]
  },
  {
   "cell_type": "markdown",
   "metadata": {},
   "source": [
    "Below we see how we can access array elements"
   ]
  },
  {
   "cell_type": "code",
   "execution_count": 19,
   "metadata": {},
   "outputs": [
    {
     "data": {
      "text/plain": [
       "array([ 0,  1,  2,  3,  4,  5,  6,  7,  8,  9, 10])"
      ]
     },
     "execution_count": 19,
     "metadata": {},
     "output_type": "execute_result"
    }
   ],
   "source": [
    "x1 = np.arange(0,11)\n",
    "x1"
   ]
  },
  {
   "cell_type": "code",
   "execution_count": 20,
   "metadata": {},
   "outputs": [
    {
     "data": {
      "text/plain": [
       "0"
      ]
     },
     "execution_count": 20,
     "metadata": {},
     "output_type": "execute_result"
    }
   ],
   "source": [
    "x1[0]"
   ]
  },
  {
   "cell_type": "code",
   "execution_count": 21,
   "metadata": {},
   "outputs": [
    {
     "data": {
      "text/plain": [
       "9"
      ]
     },
     "execution_count": 21,
     "metadata": {},
     "output_type": "execute_result"
    }
   ],
   "source": [
    "x1[9]"
   ]
  },
  {
   "cell_type": "code",
   "execution_count": 22,
   "metadata": {},
   "outputs": [
    {
     "ename": "IndexError",
     "evalue": "index 10 is out of bounds for axis 0 with size 3",
     "output_type": "error",
     "traceback": [
      "\u001b[0;31m---------------------------------------------------------------------------\u001b[0m",
      "\u001b[0;31mIndexError\u001b[0m                                Traceback (most recent call last)",
      "Input \u001b[0;32mIn [22]\u001b[0m, in \u001b[0;36m<cell line: 1>\u001b[0;34m()\u001b[0m\n\u001b[0;32m----> 1\u001b[0m \u001b[43mx\u001b[49m\u001b[43m[\u001b[49m\u001b[38;5;241;43m10\u001b[39;49m\u001b[43m]\u001b[49m\n",
      "\u001b[0;31mIndexError\u001b[0m: index 10 is out of bounds for axis 0 with size 3"
     ]
    }
   ],
   "source": [
    "x[10]"
   ]
  },
  {
   "cell_type": "code",
   "execution_count": 23,
   "metadata": {},
   "outputs": [
    {
     "data": {
      "text/plain": [
       "10"
      ]
     },
     "execution_count": 23,
     "metadata": {},
     "output_type": "execute_result"
    }
   ],
   "source": [
    "x1[-1]"
   ]
  },
  {
   "cell_type": "code",
   "execution_count": 24,
   "metadata": {},
   "outputs": [
    {
     "data": {
      "text/plain": [
       "array([0, 1, 2, 3])"
      ]
     },
     "execution_count": 24,
     "metadata": {},
     "output_type": "execute_result"
    }
   ],
   "source": [
    "x1[:4]"
   ]
  },
  {
   "cell_type": "code",
   "execution_count": 25,
   "metadata": {},
   "outputs": [
    {
     "data": {
      "text/plain": [
       "array([ 6,  7,  8,  9, 10])"
      ]
     },
     "execution_count": 25,
     "metadata": {},
     "output_type": "execute_result"
    }
   ],
   "source": [
    "x1[-5:]"
   ]
  },
  {
   "cell_type": "code",
   "execution_count": 26,
   "metadata": {},
   "outputs": [
    {
     "data": {
      "text/plain": [
       "array([0, 2, 4])"
      ]
     },
     "execution_count": 26,
     "metadata": {},
     "output_type": "execute_result"
    }
   ],
   "source": [
    "x1[0:6:2]"
   ]
  },
  {
   "cell_type": "markdown",
   "metadata": {},
   "source": [
    "In the case of multidimensional arrays"
   ]
  },
  {
   "cell_type": "code",
   "execution_count": 27,
   "metadata": {},
   "outputs": [
    {
     "data": {
      "text/plain": [
       "array([[-0.32248205, -0.02840202,  1.75901197],\n",
       "       [ 0.01159954,  0.71409998, -0.06792266],\n",
       "       [-0.27676733,  0.21081527,  0.36618532]])"
      ]
     },
     "execution_count": 27,
     "metadata": {},
     "output_type": "execute_result"
    }
   ],
   "source": [
    "x"
   ]
  },
  {
   "cell_type": "code",
   "execution_count": 28,
   "metadata": {},
   "outputs": [
    {
     "data": {
      "text/plain": [
       "-0.3224820549303557"
      ]
     },
     "execution_count": 28,
     "metadata": {},
     "output_type": "execute_result"
    }
   ],
   "source": [
    "x[0,0]"
   ]
  },
  {
   "cell_type": "markdown",
   "metadata": {},
   "source": [
    "Below we select an entire row"
   ]
  },
  {
   "cell_type": "code",
   "execution_count": 29,
   "metadata": {},
   "outputs": [
    {
     "data": {
      "text/plain": [
       "array([-0.32248205, -0.02840202,  1.75901197])"
      ]
     },
     "execution_count": 29,
     "metadata": {},
     "output_type": "execute_result"
    }
   ],
   "source": [
    "x[0,:]"
   ]
  },
  {
   "cell_type": "code",
   "execution_count": 30,
   "metadata": {},
   "outputs": [
    {
     "data": {
      "text/plain": [
       "array([-0.32248205, -0.02840202,  1.75901197])"
      ]
     },
     "execution_count": 30,
     "metadata": {},
     "output_type": "execute_result"
    }
   ],
   "source": [
    "x[0]"
   ]
  },
  {
   "cell_type": "markdown",
   "metadata": {},
   "source": [
    "Below we select an entire column"
   ]
  },
  {
   "cell_type": "code",
   "execution_count": 31,
   "metadata": {},
   "outputs": [
    {
     "data": {
      "text/plain": [
       "array([ 1.75901197, -0.06792266,  0.36618532])"
      ]
     },
     "execution_count": 31,
     "metadata": {},
     "output_type": "execute_result"
    }
   ],
   "source": [
    "x[:,2]"
   ]
  },
  {
   "cell_type": "markdown",
   "metadata": {},
   "source": [
    "A subtle difference"
   ]
  },
  {
   "cell_type": "code",
   "execution_count": 30,
   "metadata": {},
   "outputs": [
    {
     "name": "stdout",
     "output_type": "stream",
     "text": [
      "[-1.94910578 -1.4694522  -0.15714879]\n"
     ]
    },
    {
     "data": {
      "text/plain": [
       "(3,)"
      ]
     },
     "execution_count": 30,
     "metadata": {},
     "output_type": "execute_result"
    }
   ],
   "source": [
    "print(x[1,:])\n",
    "x[1,:].shape"
   ]
  },
  {
   "cell_type": "code",
   "execution_count": 33,
   "metadata": {},
   "outputs": [
    {
     "name": "stdout",
     "output_type": "stream",
     "text": [
      "[[ 0.01159954  0.71409998 -0.06792266]]\n"
     ]
    },
    {
     "data": {
      "text/plain": [
       "(1, 3)"
      ]
     },
     "execution_count": 33,
     "metadata": {},
     "output_type": "execute_result"
    }
   ],
   "source": [
    "print(x[1:2,:])\n",
    "x[1:2,:].shape"
   ]
  },
  {
   "cell_type": "markdown",
   "metadata": {},
   "source": [
    "Reversing rows and columns"
   ]
  },
  {
   "cell_type": "code",
   "execution_count": 34,
   "metadata": {},
   "outputs": [
    {
     "data": {
      "text/plain": [
       "array([[-0.32248205, -0.02840202,  1.75901197],\n",
       "       [ 0.01159954,  0.71409998, -0.06792266],\n",
       "       [-0.27676733,  0.21081527,  0.36618532]])"
      ]
     },
     "execution_count": 34,
     "metadata": {},
     "output_type": "execute_result"
    }
   ],
   "source": [
    "x"
   ]
  },
  {
   "cell_type": "code",
   "execution_count": 35,
   "metadata": {},
   "outputs": [
    {
     "data": {
      "text/plain": [
       "array([[-0.27676733,  0.21081527,  0.36618532],\n",
       "       [ 0.01159954,  0.71409998, -0.06792266],\n",
       "       [-0.32248205, -0.02840202,  1.75901197]])"
      ]
     },
     "execution_count": 35,
     "metadata": {},
     "output_type": "execute_result"
    }
   ],
   "source": [
    "x[::-1,]"
   ]
  },
  {
   "cell_type": "code",
   "execution_count": 36,
   "metadata": {},
   "outputs": [
    {
     "data": {
      "text/plain": [
       "array([[ 1.75901197, -0.02840202, -0.32248205],\n",
       "       [-0.06792266,  0.71409998,  0.01159954],\n",
       "       [ 0.36618532,  0.21081527, -0.27676733]])"
      ]
     },
     "execution_count": 36,
     "metadata": {},
     "output_type": "execute_result"
    }
   ],
   "source": [
    "x[:,::-1]"
   ]
  },
  {
   "cell_type": "code",
   "execution_count": 37,
   "metadata": {},
   "outputs": [
    {
     "data": {
      "text/plain": [
       "array([[ 0.36618532,  0.21081527, -0.27676733],\n",
       "       [-0.06792266,  0.71409998,  0.01159954],\n",
       "       [ 1.75901197, -0.02840202, -0.32248205]])"
      ]
     },
     "execution_count": 37,
     "metadata": {},
     "output_type": "execute_result"
    }
   ],
   "source": [
    "x[::-1,::-1]"
   ]
  },
  {
   "cell_type": "markdown",
   "metadata": {},
   "source": [
    "### Copy views"
   ]
  },
  {
   "cell_type": "code",
   "execution_count": 38,
   "metadata": {},
   "outputs": [
    {
     "data": {
      "text/plain": [
       "array([ 0,  1,  2,  3,  4,  5,  6,  7,  8,  9, 10])"
      ]
     },
     "execution_count": 38,
     "metadata": {},
     "output_type": "execute_result"
    }
   ],
   "source": [
    "x2 = x1\n",
    "x2"
   ]
  },
  {
   "cell_type": "code",
   "execution_count": 39,
   "metadata": {},
   "outputs": [
    {
     "data": {
      "text/plain": [
       "array([ 3,  1,  2,  3,  4,  5,  6,  7,  8,  9, 10])"
      ]
     },
     "execution_count": 39,
     "metadata": {},
     "output_type": "execute_result"
    }
   ],
   "source": [
    "x2[0] = 3\n",
    "x2"
   ]
  },
  {
   "cell_type": "code",
   "execution_count": 40,
   "metadata": {},
   "outputs": [
    {
     "data": {
      "text/plain": [
       "array([ 3,  1,  2,  3,  4,  5,  6,  7,  8,  9, 10])"
      ]
     },
     "execution_count": 40,
     "metadata": {},
     "output_type": "execute_result"
    }
   ],
   "source": [
    "x1"
   ]
  },
  {
   "cell_type": "code",
   "execution_count": 41,
   "metadata": {},
   "outputs": [
    {
     "data": {
      "text/plain": [
       "array([ 0,  1,  2,  3,  4,  5,  6,  7,  8,  9, 10])"
      ]
     },
     "execution_count": 41,
     "metadata": {},
     "output_type": "execute_result"
    }
   ],
   "source": [
    "x1 = np.arange(0,11)\n",
    "x2 = x1.copy()\n",
    "x2"
   ]
  },
  {
   "cell_type": "code",
   "execution_count": 42,
   "metadata": {},
   "outputs": [
    {
     "data": {
      "text/plain": [
       "array([ 3,  1,  2,  3,  4,  5,  6,  7,  8,  9, 10])"
      ]
     },
     "execution_count": 42,
     "metadata": {},
     "output_type": "execute_result"
    }
   ],
   "source": [
    "x2[0] = 3\n",
    "x2"
   ]
  },
  {
   "cell_type": "code",
   "execution_count": 43,
   "metadata": {},
   "outputs": [
    {
     "data": {
      "text/plain": [
       "array([ 0,  1,  2,  3,  4,  5,  6,  7,  8,  9, 10])"
      ]
     },
     "execution_count": 43,
     "metadata": {},
     "output_type": "execute_result"
    }
   ],
   "source": [
    "x1"
   ]
  },
  {
   "cell_type": "markdown",
   "metadata": {},
   "source": [
    "### Reshaping numpy arrays"
   ]
  },
  {
   "cell_type": "code",
   "execution_count": 45,
   "metadata": {},
   "outputs": [
    {
     "data": {
      "text/plain": [
       "array([0, 1, 2, 3, 4, 5, 6, 7, 8])"
      ]
     },
     "execution_count": 45,
     "metadata": {},
     "output_type": "execute_result"
    }
   ],
   "source": [
    "x1 = np.arange(0,9)\n",
    "x1"
   ]
  },
  {
   "cell_type": "code",
   "execution_count": 46,
   "metadata": {},
   "outputs": [
    {
     "data": {
      "text/plain": [
       "array([[0, 1, 2],\n",
       "       [3, 4, 5],\n",
       "       [6, 7, 8]])"
      ]
     },
     "execution_count": 46,
     "metadata": {},
     "output_type": "execute_result"
    }
   ],
   "source": [
    "x1.reshape((3,3))"
   ]
  },
  {
   "cell_type": "markdown",
   "metadata": {},
   "source": [
    "create a column vector"
   ]
  },
  {
   "cell_type": "code",
   "execution_count": 47,
   "metadata": {},
   "outputs": [
    {
     "data": {
      "text/plain": [
       "array([[0],\n",
       "       [1],\n",
       "       [2],\n",
       "       [3],\n",
       "       [4],\n",
       "       [5],\n",
       "       [6],\n",
       "       [7],\n",
       "       [8]])"
      ]
     },
     "execution_count": 47,
     "metadata": {},
     "output_type": "execute_result"
    }
   ],
   "source": [
    "x1[:,np.newaxis]"
   ]
  },
  {
   "cell_type": "markdown",
   "metadata": {},
   "source": [
    "or equivalent"
   ]
  },
  {
   "cell_type": "code",
   "execution_count": 48,
   "metadata": {},
   "outputs": [
    {
     "data": {
      "text/plain": [
       "array([[0],\n",
       "       [1],\n",
       "       [2],\n",
       "       [3],\n",
       "       [4],\n",
       "       [5],\n",
       "       [6],\n",
       "       [7],\n",
       "       [8]])"
      ]
     },
     "execution_count": 48,
     "metadata": {},
     "output_type": "execute_result"
    }
   ],
   "source": [
    "x1.reshape((9,1))"
   ]
  },
  {
   "cell_type": "markdown",
   "metadata": {},
   "source": [
    "### Joining arrays"
   ]
  },
  {
   "cell_type": "code",
   "execution_count": 49,
   "metadata": {},
   "outputs": [
    {
     "name": "stdout",
     "output_type": "stream",
     "text": [
      "[0 1 2 3 4 5 6 7 8]\n",
      "[ 3  1  2  3  4  5  6  7  8  9 10]\n"
     ]
    }
   ],
   "source": [
    "print(x1)\n",
    "print(x2)"
   ]
  },
  {
   "cell_type": "code",
   "execution_count": 50,
   "metadata": {},
   "outputs": [
    {
     "data": {
      "text/plain": [
       "array([ 0,  1,  2,  3,  4,  5,  6,  7,  8,  3,  1,  2,  3,  4,  5,  6,  7,\n",
       "        8,  9, 10])"
      ]
     },
     "execution_count": 50,
     "metadata": {},
     "output_type": "execute_result"
    }
   ],
   "source": [
    "np.concatenate([x1,x2])"
   ]
  },
  {
   "cell_type": "code",
   "execution_count": 51,
   "metadata": {},
   "outputs": [
    {
     "data": {
      "text/plain": [
       "array([[-0.59333594, -3.36879222],\n",
       "       [-0.0329754 , -0.64658301]])"
      ]
     },
     "execution_count": 51,
     "metadata": {},
     "output_type": "execute_result"
    }
   ],
   "source": [
    "x = np.random.normal(0,1,(2,2))\n",
    "x"
   ]
  },
  {
   "cell_type": "code",
   "execution_count": 52,
   "metadata": {},
   "outputs": [
    {
     "data": {
      "text/plain": [
       "array([[ 1.24274197, -0.4051792 ],\n",
       "       [ 0.03653333,  0.07009243]])"
      ]
     },
     "execution_count": 52,
     "metadata": {},
     "output_type": "execute_result"
    }
   ],
   "source": [
    "y = np.random.normal(0,1,(2,2))\n",
    "y"
   ]
  },
  {
   "cell_type": "code",
   "execution_count": 51,
   "metadata": {},
   "outputs": [
    {
     "data": {
      "text/plain": [
       "array([[-1.87444847, -0.46085227],\n",
       "       [-1.70351041,  0.59714942],\n",
       "       [-0.86246613, -0.87572901],\n",
       "       [-1.60433729, -0.21235857]])"
      ]
     },
     "execution_count": 51,
     "metadata": {},
     "output_type": "execute_result"
    }
   ],
   "source": [
    "np.vstack([x,y])"
   ]
  },
  {
   "cell_type": "code",
   "execution_count": 53,
   "metadata": {},
   "outputs": [
    {
     "data": {
      "text/plain": [
       "array([[-0.59333594, -3.36879222,  1.24274197, -0.4051792 ],\n",
       "       [-0.0329754 , -0.64658301,  0.03653333,  0.07009243]])"
      ]
     },
     "execution_count": 53,
     "metadata": {},
     "output_type": "execute_result"
    }
   ],
   "source": [
    "np.hstack([x,y])"
   ]
  },
  {
   "cell_type": "markdown",
   "metadata": {},
   "source": [
    "### Elementwise operations"
   ]
  },
  {
   "cell_type": "code",
   "execution_count": 54,
   "metadata": {},
   "outputs": [
    {
     "data": {
      "text/plain": [
       "array([ 1,  2,  3,  4,  5,  6,  7,  8,  9, 10, 11, 12, 13, 14, 15, 16, 17,\n",
       "       18, 19, 20, 21, 22, 23, 24, 25, 26, 27, 28, 29, 30, 31, 32, 33, 34,\n",
       "       35, 36, 37, 38, 39, 40, 41, 42, 43, 44, 45, 46, 47, 48, 49, 50, 51,\n",
       "       52, 53, 54, 55, 56, 57, 58, 59, 60, 61, 62, 63, 64, 65, 66, 67, 68,\n",
       "       69, 70, 71, 72, 73, 74, 75, 76, 77, 78, 79, 80, 81, 82, 83, 84, 85,\n",
       "       86, 87, 88, 89, 90, 91, 92, 93, 94, 95, 96, 97, 98, 99])"
      ]
     },
     "execution_count": 54,
     "metadata": {},
     "output_type": "execute_result"
    }
   ],
   "source": [
    "x = np.arange(1,100)\n",
    "x"
   ]
  },
  {
   "cell_type": "code",
   "execution_count": 55,
   "metadata": {},
   "outputs": [],
   "source": [
    "def reciprocal(x):\n",
    "    output = np.empty(len(x))\n",
    "    for i in range(len(x)):\n",
    "        output[i] = 1/x[i]\n",
    "    return output"
   ]
  },
  {
   "cell_type": "code",
   "execution_count": 56,
   "metadata": {},
   "outputs": [
    {
     "name": "stdout",
     "output_type": "stream",
     "text": [
      "19.9 µs ± 291 ns per loop (mean ± std. dev. of 7 runs, 10,000 loops each)\n"
     ]
    }
   ],
   "source": [
    "%timeit reciprocal(x)"
   ]
  },
  {
   "cell_type": "code",
   "execution_count": 57,
   "metadata": {},
   "outputs": [
    {
     "name": "stdout",
     "output_type": "stream",
     "text": [
      "785 ns ± 1.34 ns per loop (mean ± std. dev. of 7 runs, 1,000,000 loops each)\n"
     ]
    }
   ],
   "source": [
    "%timeit 1/x"
   ]
  },
  {
   "cell_type": "markdown",
   "metadata": {},
   "source": [
    "Standard numeric operations can be performed"
   ]
  },
  {
   "cell_type": "code",
   "execution_count": 58,
   "metadata": {},
   "outputs": [
    {
     "data": {
      "text/plain": [
       "array([  6,   7,   8,   9,  10,  11,  12,  13,  14,  15,  16,  17,  18,\n",
       "        19,  20,  21,  22,  23,  24,  25,  26,  27,  28,  29,  30,  31,\n",
       "        32,  33,  34,  35,  36,  37,  38,  39,  40,  41,  42,  43,  44,\n",
       "        45,  46,  47,  48,  49,  50,  51,  52,  53,  54,  55,  56,  57,\n",
       "        58,  59,  60,  61,  62,  63,  64,  65,  66,  67,  68,  69,  70,\n",
       "        71,  72,  73,  74,  75,  76,  77,  78,  79,  80,  81,  82,  83,\n",
       "        84,  85,  86,  87,  88,  89,  90,  91,  92,  93,  94,  95,  96,\n",
       "        97,  98,  99, 100, 101, 102, 103, 104])"
      ]
     },
     "execution_count": 58,
     "metadata": {},
     "output_type": "execute_result"
    }
   ],
   "source": [
    "x + 5"
   ]
  },
  {
   "cell_type": "code",
   "execution_count": 59,
   "metadata": {},
   "outputs": [
    {
     "data": {
      "text/plain": [
       "array([   1,    4,    9,   16,   25,   36,   49,   64,   81,  100,  121,\n",
       "        144,  169,  196,  225,  256,  289,  324,  361,  400,  441,  484,\n",
       "        529,  576,  625,  676,  729,  784,  841,  900,  961, 1024, 1089,\n",
       "       1156, 1225, 1296, 1369, 1444, 1521, 1600, 1681, 1764, 1849, 1936,\n",
       "       2025, 2116, 2209, 2304, 2401, 2500, 2601, 2704, 2809, 2916, 3025,\n",
       "       3136, 3249, 3364, 3481, 3600, 3721, 3844, 3969, 4096, 4225, 4356,\n",
       "       4489, 4624, 4761, 4900, 5041, 5184, 5329, 5476, 5625, 5776, 5929,\n",
       "       6084, 6241, 6400, 6561, 6724, 6889, 7056, 7225, 7396, 7569, 7744,\n",
       "       7921, 8100, 8281, 8464, 8649, 8836, 9025, 9216, 9409, 9604, 9801])"
      ]
     },
     "execution_count": 59,
     "metadata": {},
     "output_type": "execute_result"
    }
   ],
   "source": [
    "x**2"
   ]
  },
  {
   "cell_type": "markdown",
   "metadata": {},
   "source": [
    "For large calculations it can be useful to specify beforehand the array where the results will be stored. So instead of creating a temporary array we can write the computations directly where we need them."
   ]
  },
  {
   "cell_type": "code",
   "execution_count": 58,
   "metadata": {},
   "outputs": [],
   "source": [
    "x = np.random.normal(0,1,1000)\n",
    "y = np.empty(1000)"
   ]
  },
  {
   "cell_type": "code",
   "execution_count": 59,
   "metadata": {},
   "outputs": [
    {
     "data": {
      "text/plain": [
       "array([-1.51771764e+00, -1.91904762e+00,  1.28201936e+00, -2.13416177e+00,\n",
       "        2.72717494e+00,  1.76919331e+00, -3.15442272e+00,  9.53746167e-01,\n",
       "       -4.07263768e+00, -4.15312753e+00, -2.15337579e+00,  2.34687039e+00,\n",
       "       -2.46830262e+00, -2.70820582e+00, -3.35965873e-01,  3.16643092e+00,\n",
       "       -9.47652247e-01,  3.46499592e+00, -2.08390153e+00,  1.46743525e+00,\n",
       "        1.84887851e+00,  3.03293688e-01,  2.84654679e+00, -9.50198502e-01,\n",
       "       -2.69685212e-01,  6.97888900e-01, -7.34278818e-01, -3.71785571e-01,\n",
       "       -1.19995951e+00,  1.40354885e+00,  2.03936556e+00,  1.00582285e+00,\n",
       "        1.53618600e+00, -1.69540952e+00, -2.55680127e-01, -2.68112423e+00,\n",
       "        1.52565340e+00,  2.00463065e+00, -1.64112369e+00, -1.66188119e+00,\n",
       "        3.00592369e+00,  2.68376863e+00,  1.96562525e+00,  4.32935993e-01,\n",
       "        2.10537463e+00, -1.56378285e+00,  9.94227194e-01, -6.82839478e-01,\n",
       "       -1.24887088e-01, -4.02977296e+00, -4.65284760e-02,  1.78736591e+00,\n",
       "       -1.16762533e+00,  2.56285800e+00,  1.14937169e+00,  9.30190649e-01,\n",
       "        1.93829629e+00, -2.42018589e-01, -5.85523147e-01,  9.58866311e-01,\n",
       "        1.01369437e+00,  2.08016264e-01, -2.63686863e-01, -3.69224505e+00,\n",
       "        4.52468366e+00,  9.19768111e-01, -2.38103182e+00, -8.59003654e-01,\n",
       "       -7.52104409e-01,  2.78446260e-01, -6.02079365e-01,  2.85924562e+00,\n",
       "       -9.95496867e-01,  3.70473679e+00,  2.40774120e+00, -1.60419607e+00,\n",
       "        2.36940054e+00, -8.10563202e-01,  2.24925414e+00,  5.93956786e-01,\n",
       "       -2.77289008e-01, -1.33322403e+00, -1.45173762e+00,  3.51251231e+00,\n",
       "       -4.56936407e+00,  6.47095659e-01,  1.99124751e+00,  2.96989026e+00,\n",
       "        1.12772194e+00,  2.49007259e+00,  5.54074451e-01,  1.03399097e+00,\n",
       "        1.36382415e+00,  6.70480751e-01,  1.43021406e-01,  3.28798433e+00,\n",
       "       -1.74525040e-01,  7.80911667e-01, -6.24604712e+00, -1.23741597e+00,\n",
       "        2.42918639e+00, -5.43405768e-01, -1.46561340e+00,  1.29111509e+00,\n",
       "       -2.85734742e-02,  2.43130554e+00, -3.02275155e+00, -1.30679417e+00,\n",
       "        2.41426693e+00,  1.47160833e+00, -4.18407355e-01, -1.93020507e+00,\n",
       "        1.59143637e-02,  1.08853674e+00, -9.54900243e-01,  1.76651965e+00,\n",
       "        1.58571268e+00,  3.68239081e-01, -3.82334754e+00,  4.55864029e+00,\n",
       "        1.63571719e+00, -2.37843612e+00,  1.30438326e+00,  1.97987694e+00,\n",
       "       -3.35466422e-01,  2.56871608e+00,  5.29013963e-01, -1.66516246e+00,\n",
       "       -4.98522258e-01, -2.59218902e+00, -1.47462862e+00,  1.91383996e+00,\n",
       "       -2.16240490e+00,  2.35555521e+00,  1.66515240e+00,  3.75332585e+00,\n",
       "       -2.70296924e+00,  4.37090004e-01,  9.60622662e-01,  9.50226991e-01,\n",
       "       -1.01722570e+00,  2.49076967e+00,  1.99558178e+00,  2.51792488e+00,\n",
       "       -2.32881802e+00, -2.26618253e+00, -5.44210685e-01,  2.55194739e+00,\n",
       "       -3.36779127e-01,  1.25348248e+00, -4.40245422e+00, -1.01479398e+00,\n",
       "       -2.79439146e+00,  4.14290144e+00, -1.50184734e+00, -1.89653177e+00,\n",
       "       -3.62335423e-01,  1.86403325e+00,  2.68883864e+00, -6.80698741e-01,\n",
       "       -2.01150020e+00,  2.34624617e+00,  7.88490781e-01, -1.03439266e+00,\n",
       "        5.14675038e-01,  3.23532733e+00,  2.36964514e+00, -8.82920268e-01,\n",
       "       -8.75838734e-03,  1.10873433e+00, -4.84990743e-01, -3.86037774e-01,\n",
       "       -1.94242178e+00, -3.83899262e+00,  1.01169912e+00, -1.31841101e+00,\n",
       "       -9.87182230e-01, -1.10287591e+00,  1.25778868e-01,  6.69856504e-02,\n",
       "       -2.67560390e+00,  9.87274609e-01,  2.42094435e-01,  1.47583788e+00,\n",
       "        2.86539598e+00, -1.07762093e-02, -1.38603514e+00,  3.85043723e-01,\n",
       "        1.60695486e+00, -1.17622129e+00, -1.45362558e+00, -7.02474201e-01,\n",
       "        4.39003963e+00, -3.03469337e+00, -2.86539621e+00,  1.48054198e-01,\n",
       "       -3.04200461e+00,  1.59427567e+00,  1.75009696e+00,  8.14526286e-01,\n",
       "        5.05617568e-01, -2.39150521e+00, -4.09982396e+00, -9.39360984e-01,\n",
       "       -2.09162994e+00,  2.00652563e+00, -1.66719912e+00,  2.04954662e-02,\n",
       "       -3.62855102e-01,  5.51444496e-01, -1.41840709e+00, -8.23591418e-01,\n",
       "        9.45713600e-01, -2.85268534e+00, -1.95261988e+00,  4.42305517e+00,\n",
       "       -7.41988256e-01,  5.92131208e-01, -1.21978804e+00,  4.77503564e-01,\n",
       "       -2.72247260e-01,  1.07538271e+00,  4.08514929e-01, -6.48444762e-01,\n",
       "        1.49855980e-01, -1.17155691e+00,  6.02283650e-01,  5.24419353e-01,\n",
       "        1.31092208e+00,  1.53980933e+00,  2.33523327e-01,  3.82349621e+00,\n",
       "        2.44249125e+00, -1.97475849e+00, -9.62133530e-01,  1.32171594e+00,\n",
       "       -9.19461876e-01, -9.99169966e-01, -1.81324718e+00, -2.72657113e+00,\n",
       "       -2.77008359e+00,  2.50406612e-01, -1.50685509e+00, -7.85186081e-01,\n",
       "       -1.04013787e+00, -2.44801141e+00, -1.73292853e+00,  1.90225540e+00,\n",
       "        5.06997970e-01, -1.66927364e+00,  2.45870673e+00, -3.04003450e+00,\n",
       "        1.06937245e-01, -4.45109412e-01, -1.27542992e+00, -4.40322105e-01,\n",
       "       -1.41101971e+00, -2.35368075e+00, -9.73602286e-01, -5.43459089e-01,\n",
       "        2.01159706e+00, -2.54190331e-02, -1.00398998e+00, -1.79075827e+00,\n",
       "       -8.74508966e-01, -2.46893338e+00, -1.05466802e+00,  3.69802906e-01,\n",
       "       -4.24913825e-01, -8.24849678e-01,  1.44275550e-01, -2.76639490e-01,\n",
       "       -7.24951371e-01,  1.45659044e+00,  2.37978054e+00,  9.03901499e-01,\n",
       "        1.04206212e+00, -4.62400612e-02,  3.66570258e-01, -1.04077398e+00,\n",
       "       -2.51402828e+00,  4.68970034e-01,  1.67710561e+00, -1.79123241e+00,\n",
       "        7.19839647e-01, -2.59211066e+00, -4.37154367e+00,  1.55903896e-01,\n",
       "        7.20678210e-01, -1.71166552e+00, -1.88471706e+00, -3.61766736e+00,\n",
       "        9.88764335e-01, -1.55572973e+00, -2.05819625e-02,  4.61544695e+00,\n",
       "       -1.21027814e+00,  2.69935306e-01, -3.22153828e+00,  1.73635629e+00,\n",
       "       -1.68869648e+00,  1.17446445e+00,  3.53570777e+00, -1.88620510e-01,\n",
       "        2.14025422e+00, -4.13134707e-02, -2.36627007e+00, -8.27173111e-01,\n",
       "        2.75743473e+00, -3.34503817e+00, -2.05870633e+00,  2.87003560e+00,\n",
       "       -4.38907533e-01,  4.26847102e-01,  1.44195056e+00, -3.04015209e-01,\n",
       "       -2.06215764e+00, -3.95950701e+00,  3.73629490e-01, -1.29549741e-01,\n",
       "        2.56445587e-01,  1.44178310e+00, -9.14069679e-01,  4.99079577e+00,\n",
       "        5.45232881e-01, -8.31418039e-01,  1.25208989e+00, -1.88047004e-01,\n",
       "        4.13650966e+00,  5.72401137e-01, -1.30876217e+00, -3.03247911e+00,\n",
       "        5.86409070e-01,  4.00817269e+00, -3.52335772e+00, -1.66472576e+00,\n",
       "       -1.86335795e+00,  3.15700417e-01, -2.24027901e+00,  4.37775318e+00,\n",
       "       -9.16497822e-02,  3.47829872e-02,  4.29802317e+00, -1.79427455e+00,\n",
       "        1.82245570e+00,  2.01047665e+00, -1.33280582e+00,  5.00518447e-01,\n",
       "        3.47582200e+00,  2.36322546e+00, -2.36176397e+00,  2.24412618e+00,\n",
       "       -7.34458093e-01,  5.20344840e-01, -1.33369989e+00, -4.59308907e-01,\n",
       "       -6.01619363e-01,  6.21517187e-01, -1.96785677e-01,  2.08301202e+00,\n",
       "       -4.64094014e+00, -2.14622400e+00,  2.16205483e+00,  2.20825705e-01,\n",
       "       -1.84059399e-01,  1.12401196e+00, -3.13890129e-01,  3.12342088e+00,\n",
       "       -4.54964425e+00,  4.41154562e-01,  1.36338204e+00, -1.63812506e-01,\n",
       "        6.87983297e-01,  2.09781204e+00,  4.03152582e-01, -1.13816906e+00,\n",
       "       -2.63508696e+00,  9.05967827e-01, -5.83186605e-01,  3.95586871e+00,\n",
       "       -1.03921475e+00, -3.01249511e+00, -3.58557652e+00,  3.63959700e+00,\n",
       "       -2.38470420e+00, -4.29255240e+00, -2.51822763e+00,  3.20685226e+00,\n",
       "        1.89374131e+00,  1.35054647e+00,  3.02219966e+00,  1.43003461e+00,\n",
       "       -1.02447171e+00, -1.54436006e-01, -7.80614719e-01, -9.73432052e-02,\n",
       "       -1.62062611e+00,  3.43021398e+00,  1.89972080e+00,  2.10842565e+00,\n",
       "        1.19080423e+00,  1.25568651e+00,  1.51193116e+00, -2.56510473e+00,\n",
       "        2.27823473e+00,  2.05675827e+00, -1.70889985e+00, -7.93634971e-01,\n",
       "        1.78101074e+00,  4.60713081e+00, -1.40705191e+00,  1.41563032e+00,\n",
       "        1.98626013e+00, -4.98964545e+00,  9.88741920e-01,  1.08073727e+00,\n",
       "       -2.37895077e-01, -1.06590361e-01, -1.09764475e+00, -4.00810536e+00,\n",
       "       -1.08018563e+00, -1.51259761e+00, -1.91842053e+00,  3.70952058e-01,\n",
       "        1.83045026e+00,  7.24360851e-02, -4.41170526e-01, -2.34592270e+00,\n",
       "       -5.09602621e-01,  3.61036717e-01,  1.62397685e+00,  2.52263574e+00,\n",
       "        2.24436066e+00,  1.04896983e-01, -9.19484108e-01,  2.46038945e+00,\n",
       "        5.12171335e+00,  2.78134869e+00,  2.79932692e-01, -1.93584264e-01,\n",
       "       -2.34096904e+00,  1.58676198e+00, -9.95462187e-01,  1.91420497e-01,\n",
       "        1.04984755e+00,  1.26904851e+00,  9.26677328e-01,  3.03588441e+00,\n",
       "       -2.69962316e+00, -9.99261096e-01, -1.77267070e+00,  3.97250877e+00,\n",
       "        1.23660370e-02, -3.11886182e+00,  4.65355191e+00,  7.01207949e-01,\n",
       "       -1.41304112e+00,  8.29797217e-01,  1.64472205e+00, -2.49253704e-01,\n",
       "       -9.98713152e-01, -1.67444438e+00,  1.29150598e+00, -1.00475919e+00,\n",
       "       -1.07693800e+00,  4.95447896e-01,  3.59178118e-01,  1.23374350e+00,\n",
       "       -2.99365750e-01,  1.65555820e+00,  2.31937760e+00,  1.72398363e-01,\n",
       "        8.77224257e-01,  2.09001469e+00,  3.09756770e+00,  8.06929352e-02,\n",
       "        6.33378157e-01, -6.79476210e-01,  3.93611262e+00,  3.92008481e-01,\n",
       "       -2.46288407e+00,  8.77476710e-01,  4.24367120e+00, -7.89104072e-01,\n",
       "       -2.64198949e+00, -3.35210871e+00, -5.04488701e+00, -3.23990769e+00,\n",
       "        1.45473970e+00, -1.54946259e+00,  2.39738283e-01, -1.74894020e-01,\n",
       "        2.67066733e+00,  5.53514852e-01, -2.28087595e-01,  1.10975957e+00,\n",
       "        3.07034054e-01, -1.59364315e+00, -2.68430854e-01,  2.58519323e+00,\n",
       "        3.66255676e+00, -2.45612707e+00,  2.16414792e+00,  6.54043764e-01,\n",
       "        4.07506580e-01, -3.56306883e+00, -1.46163236e+00,  3.99472868e-01,\n",
       "       -3.09974818e+00,  9.40082681e-01, -5.52259235e-01,  3.12210995e+00,\n",
       "       -1.84081258e+00, -9.44259237e-01,  8.95713565e-01, -7.76536817e-01,\n",
       "        2.77109112e+00,  4.77011521e-02, -1.60348468e+00,  1.11202321e+00,\n",
       "       -1.16803992e+00, -4.16542536e+00, -2.18075839e-01, -4.56808393e-01,\n",
       "       -5.87850404e-01, -4.82925531e-01,  3.41877976e-01,  5.21217323e-01,\n",
       "       -8.42807780e-01, -3.18884081e+00,  4.55391336e+00, -1.71982519e+00,\n",
       "       -2.14576721e+00, -1.12737926e+00, -6.78040673e-01,  4.22542843e-02,\n",
       "        3.52327553e-01, -1.83382749e+00, -1.81788262e+00, -1.96312997e-01,\n",
       "        1.19825249e+00,  4.20189782e+00, -1.61522814e+00,  6.91189999e-01,\n",
       "       -1.76415664e+00,  2.69512032e+00, -1.01335882e+00, -2.64068963e+00,\n",
       "        2.37110589e+00,  2.79518091e+00,  3.92842305e-01,  6.07246001e-01,\n",
       "        2.51638558e+00,  3.96721753e+00, -8.65057337e-01,  1.30620351e+00,\n",
       "       -2.15666499e+00, -1.54148256e+00,  2.87882168e+00,  4.89101320e-01,\n",
       "        1.27519302e+00, -1.62570945e+00,  1.75901087e+00,  9.65865384e-01,\n",
       "       -3.55545813e+00,  2.59630330e-01,  2.36504457e+00,  1.89848323e+00,\n",
       "        1.35644982e+00,  4.98478092e-01, -3.50523214e+00, -2.44830940e+00,\n",
       "       -1.66917577e+00,  2.56964906e+00,  3.96231860e-01, -6.22661083e-01,\n",
       "       -1.21789609e-01,  8.91868164e-01, -6.17380460e-01, -5.75458509e-01,\n",
       "        1.70551860e+00,  1.36245654e-01, -3.45530813e-01,  5.59359099e-01,\n",
       "       -1.83688206e+00,  2.87042506e+00,  4.95206295e+00, -2.52551029e+00,\n",
       "        1.24897833e+00,  4.42585290e-01, -7.23516529e+00, -9.15432499e-01,\n",
       "        2.26697567e+00, -1.13577111e+00,  2.42854267e+00,  9.69198329e-01,\n",
       "       -1.51065826e+00, -1.46032012e+00, -4.03355383e-01, -2.92405454e-01,\n",
       "        7.72698746e-01,  8.79422352e-01, -5.50744255e-01,  9.85616098e-01,\n",
       "        1.16330734e+00, -1.51164768e+00,  3.40812693e+00,  2.23701670e-01,\n",
       "        2.99176794e-01, -4.16388538e+00,  1.76617023e-01,  2.89365008e+00,\n",
       "        2.64110288e+00, -2.04151805e-01, -1.19515376e+00, -2.02706798e-01,\n",
       "       -7.62483212e-01, -1.96449415e+00,  2.71330037e+00, -3.37400900e+00,\n",
       "        1.11612056e+00,  3.44396171e+00,  2.49181262e+00,  7.14297379e-01,\n",
       "        5.55629382e-01, -1.59178554e+00, -1.73583477e+00,  2.63197928e+00,\n",
       "       -2.32169051e+00,  5.25439681e+00,  3.61050877e+00,  7.40761010e-01,\n",
       "       -3.60119955e+00,  1.19907887e+00, -2.72217667e+00,  1.77524905e+00,\n",
       "       -1.70546319e+00,  1.64091283e+00, -8.72025979e-01, -1.19401519e+00,\n",
       "       -7.12434364e-01,  8.09559956e-01,  2.61151398e+00,  4.41775829e-02,\n",
       "        1.99784884e+00, -1.50305593e+00,  2.24901024e+00, -2.84845938e+00,\n",
       "       -7.78761380e-01,  9.34002642e-01,  2.11731219e+00,  8.39338108e-01,\n",
       "        1.83598471e+00,  2.40523595e+00,  1.15088178e-01, -9.93378607e-01,\n",
       "       -1.67768212e-01, -1.51252539e+00,  4.44943782e+00,  1.46689226e+00,\n",
       "       -5.23024026e-01,  4.09813019e-01,  1.04196733e-01,  3.86429973e-01,\n",
       "        1.91418290e-01,  2.45339320e+00, -2.14839792e+00,  1.06082681e+00,\n",
       "        6.83171507e-01,  4.95315274e+00,  2.70406946e+00,  2.37815467e+00,\n",
       "       -9.56181261e-01,  6.78140015e-01,  1.10825596e+00,  2.03130679e+00,\n",
       "       -3.46885325e+00, -4.06828242e+00, -9.39975212e-01,  5.63346724e-01,\n",
       "        1.51357023e+00, -1.61682686e+00, -3.30899074e+00, -2.31598562e+00,\n",
       "       -1.83339087e+00, -6.88009116e-01,  7.45639322e-01,  3.60844793e+00,\n",
       "       -4.83392994e-01,  2.44070891e-01,  2.48025205e+00,  2.95135371e+00,\n",
       "        2.39361531e+00,  1.53101736e+00,  1.07922550e+00, -1.76233140e+00,\n",
       "        1.14981948e+00, -1.16266969e+00, -1.18264321e+00, -1.31782239e+00,\n",
       "        2.01279586e+00,  1.04911971e+00, -2.41181557e+00, -1.64604750e+00,\n",
       "       -1.07096019e+00,  4.77259987e-01,  6.85278389e-01, -1.33233438e+00,\n",
       "       -2.24360968e-02, -6.49128427e-01, -6.10018574e-01, -1.27948335e+00,\n",
       "       -1.63977510e+00,  1.58440016e+00,  2.86337137e+00, -1.80053989e+00,\n",
       "        1.04050675e+00, -5.29668291e-01, -2.44807093e+00, -2.77365835e-01,\n",
       "       -1.51190496e+00,  1.54873737e+00, -6.24536846e-01, -3.32551624e+00,\n",
       "       -3.39837331e-01,  1.90440111e+00,  2.46423853e-01, -1.92296812e+00,\n",
       "       -1.30823393e+00, -1.01369760e+00,  2.09778698e+00,  1.10220382e+00,\n",
       "       -5.49186753e-01, -3.45637005e+00, -1.28579402e+00,  3.68074755e+00,\n",
       "        3.36497236e-01, -1.86128176e+00, -1.92918426e-01, -1.65732570e+00,\n",
       "       -2.25671408e+00,  1.82960697e+00,  1.91560328e+00, -2.09430819e-01,\n",
       "       -2.09730922e+00,  1.01489445e+00, -4.99548133e-01, -2.80349805e+00,\n",
       "       -2.40299269e+00, -3.51862064e+00, -5.29596988e+00, -8.04641782e-02,\n",
       "        4.53387171e+00, -2.63342833e+00, -7.56146071e-01, -2.77668926e+00,\n",
       "        1.47127162e+00,  1.07543110e+00, -2.55643418e+00,  2.03455622e+00,\n",
       "       -2.69722876e+00, -4.15296788e-01, -3.92520284e+00,  1.71548815e+00,\n",
       "        7.22728940e-01, -2.05163676e+00,  5.37973980e-01,  4.62804002e+00,\n",
       "       -4.61203506e+00,  7.42672610e-01,  1.34490286e-01,  1.49421779e+00,\n",
       "        9.67563777e-01,  5.33354280e+00, -3.24545644e+00, -2.33585188e+00,\n",
       "        1.09866245e+00,  3.45469162e+00,  2.14069533e+00, -1.79714253e+00,\n",
       "       -1.24658448e+00, -4.99450774e-01, -1.73372770e+00, -6.26862467e-01,\n",
       "        3.37856552e+00,  1.27706101e+00, -7.86891300e-01,  5.81221587e-01,\n",
       "       -2.16423620e+00,  1.00855853e+00,  6.32110300e-01,  4.50570199e-01,\n",
       "       -2.19233722e+00,  2.25767133e+00,  1.72956518e+00, -1.08442630e+00,\n",
       "        2.59363545e+00, -4.37661143e-01, -5.75872830e-01,  2.24582595e-01,\n",
       "        7.17974041e-01,  1.19702844e+00,  4.72355270e-02,  1.36249919e-01,\n",
       "       -1.22648119e+00,  2.51580945e+00, -1.67342638e+00, -1.97448465e+00,\n",
       "        2.98913326e+00,  6.49427574e-01,  7.76746537e-01,  1.82040676e-01,\n",
       "        2.43685252e+00,  1.57042011e+00, -1.88957238e+00, -2.69549734e+00,\n",
       "       -2.87602827e+00, -8.65333249e-01,  4.05783568e-01,  1.97481435e+00,\n",
       "        2.24057372e+00,  7.04145488e-01, -2.77115223e+00, -1.17208229e+00,\n",
       "       -1.88753386e+00,  5.91470320e+00, -3.80294750e+00,  6.48267119e-01,\n",
       "       -1.09181206e+00, -4.38106492e+00, -8.54470832e-01, -2.65209381e+00,\n",
       "        1.76199948e+00, -2.30265868e+00, -9.81047247e-01,  2.82419898e-01,\n",
       "        4.54247052e-01, -1.03486897e+00,  3.84408461e+00,  4.91715497e-01,\n",
       "       -3.16315460e+00,  4.00121958e+00,  4.32292156e+00, -1.18165037e+00,\n",
       "       -9.31369528e-02,  7.62268181e-01, -2.15296598e+00, -9.72952509e-01,\n",
       "       -4.59000494e+00, -1.51803219e+00, -6.73268940e-01,  1.85061425e+00,\n",
       "       -4.91133661e-02,  5.33341772e-01, -1.12562407e+00, -2.47791821e-01,\n",
       "        4.00177155e+00,  2.47183758e+00,  1.60346035e+00, -2.58136246e-01,\n",
       "        2.06105358e+00, -2.78751739e-01,  8.65833385e-01,  1.36935356e-02,\n",
       "        4.55543530e-01,  3.54751022e+00,  2.17579269e+00,  3.94419344e-01,\n",
       "        1.28778486e+00,  7.80306060e-01, -1.36335164e+00, -7.76310509e-02,\n",
       "       -2.37723647e+00,  1.00709458e+00, -4.62155873e-01, -2.39150972e+00,\n",
       "       -1.45317220e+00, -3.32376095e+00,  1.48504195e-01,  2.10211456e+00,\n",
       "       -3.45096358e+00,  2.66878277e+00,  1.51567882e+00,  4.05831114e-01,\n",
       "       -2.84592391e+00, -2.80800426e+00, -1.95792621e+00,  1.40284171e-01,\n",
       "       -1.07457302e+00, -1.79555678e+00,  1.51078813e+00, -3.32712286e+00,\n",
       "       -9.07420825e-01,  3.88177807e-01, -1.76895683e+00, -4.19853209e-01,\n",
       "        1.03092128e+00,  2.03348874e+00, -5.29014498e-01,  1.52180291e+00,\n",
       "       -3.31726129e+00,  3.21574718e+00,  2.10291161e+00, -1.74727764e+00,\n",
       "        5.60433833e-01,  5.16297064e+00, -2.31372209e+00, -1.58490878e+00,\n",
       "        2.54133212e+00, -3.00515745e+00, -3.17730024e+00, -2.97120400e-01,\n",
       "       -1.48326306e+00, -1.98632834e+00, -5.51773179e-01,  3.82885116e-01,\n",
       "       -2.48020307e+00,  4.62605979e-01, -1.71136585e+00, -2.95879759e-01,\n",
       "       -1.82507276e+00,  2.33462563e+00, -5.55966026e-03, -2.49691793e+00,\n",
       "        1.64446338e-01,  2.10676890e+00,  1.22104242e+00,  3.74198144e+00,\n",
       "        7.69856720e-01,  6.52846611e-02,  7.00356859e-01, -2.87282673e+00,\n",
       "        1.89607244e+00, -2.66182136e+00,  2.40049381e+00,  1.58784877e+00,\n",
       "       -3.14632583e+00,  1.97734961e+00, -8.63018274e-01, -5.03808866e-01,\n",
       "        4.57574235e-01, -4.08703408e-01,  7.37091547e-01, -5.13494184e-01,\n",
       "        4.18028408e+00, -2.03428557e+00,  1.67580156e+00,  3.65680565e+00,\n",
       "       -6.23066233e-01,  4.45512016e-01,  8.60174557e-01, -1.20835103e+00,\n",
       "       -3.10565072e+00, -1.05375815e+00, -1.37319846e+00, -8.12306268e-01,\n",
       "       -1.48769411e+00, -2.48813143e+00, -1.65850553e+00,  2.84108357e+00,\n",
       "        3.72497418e+00,  1.38582884e+00,  1.37065122e+00, -2.97651430e+00,\n",
       "        1.90572989e+00,  1.02289473e+00,  3.01522585e-01,  2.20863210e-01,\n",
       "       -5.34909242e+00,  1.98631336e-01, -3.61652659e+00, -2.38064710e+00,\n",
       "        9.65551808e-01,  2.68540886e-01, -1.34665648e+00,  2.67183456e+00,\n",
       "        2.17861402e+00,  7.35097960e-01,  1.88797368e+00, -1.56184894e+00,\n",
       "       -8.39518492e-01,  1.24251783e+00,  2.74405395e+00,  1.27111718e+00,\n",
       "       -2.71175822e+00,  1.81872241e+00,  1.05556003e+00, -1.96796076e+00,\n",
       "        9.52924101e-01,  2.38443714e+00,  1.64039035e+00,  1.16014288e+00,\n",
       "        3.83256248e+00, -7.91134432e-01,  1.05404884e+00, -2.07255208e+00,\n",
       "        1.45906860e+00, -3.24719205e+00, -6.50651353e-02,  1.16236044e+00])"
      ]
     },
     "execution_count": 59,
     "metadata": {},
     "output_type": "execute_result"
    }
   ],
   "source": [
    "np.multiply(x,2,out=y)\n",
    "y"
   ]
  },
  {
   "cell_type": "markdown",
   "metadata": {},
   "source": [
    "We can easily perform all sorts of aggregations"
   ]
  },
  {
   "cell_type": "code",
   "execution_count": 60,
   "metadata": {},
   "outputs": [
    {
     "data": {
      "text/plain": [
       "array([1, 2, 3, 4, 5])"
      ]
     },
     "execution_count": 60,
     "metadata": {},
     "output_type": "execute_result"
    }
   ],
   "source": [
    "x = np.arange(1,6)\n",
    "x"
   ]
  },
  {
   "cell_type": "code",
   "execution_count": 61,
   "metadata": {},
   "outputs": [
    {
     "data": {
      "text/plain": [
       "15"
      ]
     },
     "execution_count": 61,
     "metadata": {},
     "output_type": "execute_result"
    }
   ],
   "source": [
    "np.add.reduce(x)"
   ]
  },
  {
   "cell_type": "code",
   "execution_count": 62,
   "metadata": {},
   "outputs": [
    {
     "data": {
      "text/plain": [
       "120"
      ]
     },
     "execution_count": 62,
     "metadata": {},
     "output_type": "execute_result"
    }
   ],
   "source": [
    "np.multiply.reduce(x)"
   ]
  },
  {
   "cell_type": "code",
   "execution_count": 63,
   "metadata": {},
   "outputs": [
    {
     "data": {
      "text/plain": [
       "(-0.4051792033354831, 1.2427419690595571)"
      ]
     },
     "execution_count": 63,
     "metadata": {},
     "output_type": "execute_result"
    }
   ],
   "source": [
    "np.min(y), np.max(y)"
   ]
  },
  {
   "cell_type": "markdown",
   "metadata": {},
   "source": [
    "In the case of multidimensional arrays we can perform aggregations per axis"
   ]
  },
  {
   "cell_type": "code",
   "execution_count": 64,
   "metadata": {},
   "outputs": [
    {
     "data": {
      "text/plain": [
       "array([[13, 16,  4],\n",
       "       [ 6,  9, 17],\n",
       "       [14, 10,  8]])"
      ]
     },
     "execution_count": 64,
     "metadata": {},
     "output_type": "execute_result"
    }
   ],
   "source": [
    "x = np.random.randint(1,20,size=9).reshape(3,3)\n",
    "x"
   ]
  },
  {
   "cell_type": "code",
   "execution_count": 65,
   "metadata": {},
   "outputs": [
    {
     "data": {
      "text/plain": [
       "97"
      ]
     },
     "execution_count": 65,
     "metadata": {},
     "output_type": "execute_result"
    }
   ],
   "source": [
    "x.sum()"
   ]
  },
  {
   "cell_type": "markdown",
   "metadata": {},
   "source": [
    "We can obtain the sum per column or per row"
   ]
  },
  {
   "cell_type": "code",
   "execution_count": 66,
   "metadata": {},
   "outputs": [
    {
     "data": {
      "text/plain": [
       "array([33, 35, 29])"
      ]
     },
     "execution_count": 66,
     "metadata": {},
     "output_type": "execute_result"
    }
   ],
   "source": [
    "x.sum(axis=0)"
   ]
  },
  {
   "cell_type": "code",
   "execution_count": 67,
   "metadata": {},
   "outputs": [
    {
     "data": {
      "text/plain": [
       "array([33, 32, 32])"
      ]
     },
     "execution_count": 67,
     "metadata": {},
     "output_type": "execute_result"
    }
   ],
   "source": [
    "x.sum(axis=1)"
   ]
  },
  {
   "cell_type": "markdown",
   "metadata": {},
   "source": [
    "Below we see what happens when we have missing values"
   ]
  },
  {
   "cell_type": "code",
   "execution_count": 68,
   "metadata": {},
   "outputs": [
    {
     "data": {
      "text/plain": [
       "array([[0.75107519, 0.20730095],\n",
       "       [0.61992884, 0.25071352]])"
      ]
     },
     "execution_count": 68,
     "metadata": {},
     "output_type": "execute_result"
    }
   ],
   "source": [
    "z = np.random.random((2,2))\n",
    "z"
   ]
  },
  {
   "cell_type": "code",
   "execution_count": 69,
   "metadata": {},
   "outputs": [
    {
     "data": {
      "text/plain": [
       "array([[       nan, 0.20730095],\n",
       "       [0.61992884, 0.25071352]])"
      ]
     },
     "execution_count": 69,
     "metadata": {},
     "output_type": "execute_result"
    }
   ],
   "source": [
    "z[0,0] = np.nan\n",
    "z"
   ]
  },
  {
   "cell_type": "code",
   "execution_count": 70,
   "metadata": {},
   "outputs": [
    {
     "data": {
      "text/plain": [
       "nan"
      ]
     },
     "execution_count": 70,
     "metadata": {},
     "output_type": "execute_result"
    }
   ],
   "source": [
    "z.sum()"
   ]
  },
  {
   "cell_type": "code",
   "execution_count": 71,
   "metadata": {},
   "outputs": [
    {
     "data": {
      "text/plain": [
       "array([       nan, 0.45801447])"
      ]
     },
     "execution_count": 71,
     "metadata": {},
     "output_type": "execute_result"
    }
   ],
   "source": [
    "z.sum(axis=0)"
   ]
  },
  {
   "cell_type": "code",
   "execution_count": 72,
   "metadata": {},
   "outputs": [
    {
     "data": {
      "text/plain": [
       "array([       nan, 0.87064236])"
      ]
     },
     "execution_count": 72,
     "metadata": {},
     "output_type": "execute_result"
    }
   ],
   "source": [
    "z.sum(axis=1)"
   ]
  },
  {
   "cell_type": "markdown",
   "metadata": {},
   "source": [
    "NumPy offers special functions to deal with missing values"
   ]
  },
  {
   "cell_type": "code",
   "execution_count": 73,
   "metadata": {},
   "outputs": [
    {
     "data": {
      "text/plain": [
       "1.0779433100353955"
      ]
     },
     "execution_count": 73,
     "metadata": {},
     "output_type": "execute_result"
    }
   ],
   "source": [
    "np.nansum(z)"
   ]
  },
  {
   "cell_type": "code",
   "execution_count": 74,
   "metadata": {},
   "outputs": [
    {
     "data": {
      "text/plain": [
       "array([0.61992884, 0.45801447])"
      ]
     },
     "execution_count": 74,
     "metadata": {},
     "output_type": "execute_result"
    }
   ],
   "source": [
    "np.nansum(z,axis=0)"
   ]
  },
  {
   "cell_type": "code",
   "execution_count": 75,
   "metadata": {},
   "outputs": [
    {
     "data": {
      "text/plain": [
       "array([0.20730095, 0.87064236])"
      ]
     },
     "execution_count": 75,
     "metadata": {},
     "output_type": "execute_result"
    }
   ],
   "source": [
    "np.nansum(z,axis=1)"
   ]
  },
  {
   "cell_type": "markdown",
   "metadata": {},
   "source": [
    "## Broadcasting"
   ]
  },
  {
   "cell_type": "markdown",
   "metadata": {},
   "source": [
    "A set of rules for applying binary universal functions on arrays of different sizes"
   ]
  },
  {
   "cell_type": "markdown",
   "metadata": {},
   "source": [
    "* If the arrays do not have the same rank, then a 1 will be prepended to the smaller ranking array until their ranks match.\n",
    "* Arrays with a 1 along a particular dimension act as if they had the size of the array with the largest shape along that dimension. The value of the array element is repeated along that dimension.\n",
    "* After rules 1 & 2, the sizes of all arrays must match."
   ]
  },
  {
   "cell_type": "code",
   "execution_count": 76,
   "metadata": {},
   "outputs": [
    {
     "data": {
      "text/plain": [
       "array([[16, 13,  8],\n",
       "       [10,  9, 18],\n",
       "       [ 3, 17,  7]])"
      ]
     },
     "execution_count": 76,
     "metadata": {},
     "output_type": "execute_result"
    }
   ],
   "source": [
    "z = np.random.randint(1,20,size=9).reshape(3,3)\n",
    "z"
   ]
  },
  {
   "cell_type": "code",
   "execution_count": 77,
   "metadata": {},
   "outputs": [
    {
     "data": {
      "text/plain": [
       "array([[1, 2, 3]])"
      ]
     },
     "execution_count": 77,
     "metadata": {},
     "output_type": "execute_result"
    }
   ],
   "source": [
    "a = np.arange(1,4).reshape(1,3)\n",
    "a"
   ]
  },
  {
   "cell_type": "code",
   "execution_count": 78,
   "metadata": {},
   "outputs": [
    {
     "data": {
      "text/plain": [
       "(1, 3)"
      ]
     },
     "execution_count": 78,
     "metadata": {},
     "output_type": "execute_result"
    }
   ],
   "source": [
    "a.shape"
   ]
  },
  {
   "cell_type": "code",
   "execution_count": 79,
   "metadata": {},
   "outputs": [
    {
     "data": {
      "text/plain": [
       "array([[17, 15, 11],\n",
       "       [11, 11, 21],\n",
       "       [ 4, 19, 10]])"
      ]
     },
     "execution_count": 79,
     "metadata": {},
     "output_type": "execute_result"
    }
   ],
   "source": [
    "z + a"
   ]
  },
  {
   "cell_type": "code",
   "execution_count": 80,
   "metadata": {},
   "outputs": [
    {
     "data": {
      "text/plain": [
       "array([[4],\n",
       "       [5],\n",
       "       [6]])"
      ]
     },
     "execution_count": 80,
     "metadata": {},
     "output_type": "execute_result"
    }
   ],
   "source": [
    "b = np.arange(4,7).reshape(3,1)\n",
    "b"
   ]
  },
  {
   "cell_type": "code",
   "execution_count": 81,
   "metadata": {},
   "outputs": [
    {
     "data": {
      "text/plain": [
       "(3, 1)"
      ]
     },
     "execution_count": 81,
     "metadata": {},
     "output_type": "execute_result"
    }
   ],
   "source": [
    "b.shape"
   ]
  },
  {
   "cell_type": "code",
   "execution_count": 82,
   "metadata": {},
   "outputs": [
    {
     "data": {
      "text/plain": [
       "array([[20, 17, 12],\n",
       "       [15, 14, 23],\n",
       "       [ 9, 23, 13]])"
      ]
     },
     "execution_count": 82,
     "metadata": {},
     "output_type": "execute_result"
    }
   ],
   "source": [
    "z + b"
   ]
  },
  {
   "cell_type": "code",
   "execution_count": 83,
   "metadata": {},
   "outputs": [
    {
     "data": {
      "text/plain": [
       "array([[5, 6, 7],\n",
       "       [6, 7, 8],\n",
       "       [7, 8, 9]])"
      ]
     },
     "execution_count": 83,
     "metadata": {},
     "output_type": "execute_result"
    }
   ],
   "source": [
    "a + b"
   ]
  },
  {
   "cell_type": "code",
   "execution_count": 84,
   "metadata": {},
   "outputs": [
    {
     "data": {
      "text/plain": [
       "array([8, 9])"
      ]
     },
     "execution_count": 84,
     "metadata": {},
     "output_type": "execute_result"
    }
   ],
   "source": [
    "c = np.arange(8,10)\n",
    "c"
   ]
  },
  {
   "cell_type": "code",
   "execution_count": 85,
   "metadata": {},
   "outputs": [
    {
     "data": {
      "text/plain": [
       "(2,)"
      ]
     },
     "execution_count": 85,
     "metadata": {},
     "output_type": "execute_result"
    }
   ],
   "source": [
    "c.shape"
   ]
  },
  {
   "cell_type": "code",
   "execution_count": 86,
   "metadata": {},
   "outputs": [
    {
     "ename": "ValueError",
     "evalue": "operands could not be broadcast together with shapes (3,3) (2,) ",
     "output_type": "error",
     "traceback": [
      "\u001b[0;31m---------------------------------------------------------------------------\u001b[0m",
      "\u001b[0;31mValueError\u001b[0m                                Traceback (most recent call last)",
      "Input \u001b[0;32mIn [86]\u001b[0m, in \u001b[0;36m<cell line: 1>\u001b[0;34m()\u001b[0m\n\u001b[0;32m----> 1\u001b[0m \u001b[43mz\u001b[49m\u001b[43m \u001b[49m\u001b[38;5;241;43m+\u001b[39;49m\u001b[43m \u001b[49m\u001b[43mc\u001b[49m\n",
      "\u001b[0;31mValueError\u001b[0m: operands could not be broadcast together with shapes (3,3) (2,) "
     ]
    }
   ],
   "source": [
    "z + c"
   ]
  },
  {
   "cell_type": "markdown",
   "metadata": {},
   "source": [
    "### Conditionals"
   ]
  },
  {
   "cell_type": "code",
   "execution_count": 87,
   "metadata": {},
   "outputs": [
    {
     "data": {
      "text/plain": [
       "array([[16, 13,  8],\n",
       "       [10,  9, 18],\n",
       "       [ 3, 17,  7]])"
      ]
     },
     "execution_count": 87,
     "metadata": {},
     "output_type": "execute_result"
    }
   ],
   "source": [
    "z"
   ]
  },
  {
   "cell_type": "code",
   "execution_count": 88,
   "metadata": {},
   "outputs": [
    {
     "data": {
      "text/plain": [
       "array([[ True,  True,  True],\n",
       "       [ True,  True,  True],\n",
       "       [False,  True,  True]])"
      ]
     },
     "execution_count": 88,
     "metadata": {},
     "output_type": "execute_result"
    }
   ],
   "source": [
    "z > 4"
   ]
  },
  {
   "cell_type": "code",
   "execution_count": 89,
   "metadata": {},
   "outputs": [
    {
     "data": {
      "text/plain": [
       "array([16, 13,  8, 10,  9, 18, 17,  7])"
      ]
     },
     "execution_count": 89,
     "metadata": {},
     "output_type": "execute_result"
    }
   ],
   "source": [
    "z[z>4]"
   ]
  },
  {
   "cell_type": "markdown",
   "metadata": {},
   "source": [
    "### Linear algebra"
   ]
  },
  {
   "cell_type": "code",
   "execution_count": 90,
   "metadata": {},
   "outputs": [
    {
     "data": {
      "text/plain": [
       "array([[0.34184788, 0.91010925, 0.70321383],\n",
       "       [0.37656193, 0.38085573, 0.16105871],\n",
       "       [0.56881393, 0.19993466, 0.33951123],\n",
       "       [0.69668403, 0.79061662, 0.94803788]])"
      ]
     },
     "execution_count": 90,
     "metadata": {},
     "output_type": "execute_result"
    }
   ],
   "source": [
    "y = np.random.rand(4,3)\n",
    "y"
   ]
  },
  {
   "cell_type": "code",
   "execution_count": 91,
   "metadata": {},
   "outputs": [
    {
     "data": {
      "text/plain": [
       "array([0.34184788, 0.38085573, 0.33951123])"
      ]
     },
     "execution_count": 91,
     "metadata": {},
     "output_type": "execute_result"
    }
   ],
   "source": [
    "np.diag(y)"
   ]
  },
  {
   "cell_type": "code",
   "execution_count": 92,
   "metadata": {},
   "outputs": [
    {
     "data": {
      "text/plain": [
       "1.062214836340567"
      ]
     },
     "execution_count": 92,
     "metadata": {},
     "output_type": "execute_result"
    }
   ],
   "source": [
    "np.trace(y)"
   ]
  },
  {
   "cell_type": "code",
   "execution_count": 93,
   "metadata": {},
   "outputs": [
    {
     "data": {
      "text/plain": [
       "1.062214836340567"
      ]
     },
     "execution_count": 93,
     "metadata": {},
     "output_type": "execute_result"
    }
   ],
   "source": [
    "np.diag(y).sum()"
   ]
  },
  {
   "cell_type": "markdown",
   "metadata": {},
   "source": [
    "Transpose of a matrix"
   ]
  },
  {
   "cell_type": "code",
   "execution_count": 94,
   "metadata": {},
   "outputs": [
    {
     "data": {
      "text/plain": [
       "array([[0.34184788, 0.37656193, 0.56881393, 0.69668403],\n",
       "       [0.91010925, 0.38085573, 0.19993466, 0.79061662],\n",
       "       [0.70321383, 0.16105871, 0.33951123, 0.94803788]])"
      ]
     },
     "execution_count": 94,
     "metadata": {},
     "output_type": "execute_result"
    }
   ],
   "source": [
    "y.T"
   ]
  },
  {
   "cell_type": "markdown",
   "metadata": {},
   "source": [
    "Identity matrix"
   ]
  },
  {
   "cell_type": "code",
   "execution_count": 95,
   "metadata": {},
   "outputs": [
    {
     "data": {
      "text/plain": [
       "array([[1., 0., 0.],\n",
       "       [0., 1., 0.],\n",
       "       [0., 0., 1.]])"
      ]
     },
     "execution_count": 95,
     "metadata": {},
     "output_type": "execute_result"
    }
   ],
   "source": [
    "I = np.eye(3,3)\n",
    "I"
   ]
  },
  {
   "cell_type": "code",
   "execution_count": 96,
   "metadata": {},
   "outputs": [
    {
     "data": {
      "text/plain": [
       "array([[0.2091946 , 0.99655408, 0.61469084],\n",
       "       [0.42505216, 0.02747529, 0.87092633],\n",
       "       [0.96334636, 0.42872496, 0.99101317]])"
      ]
     },
     "execution_count": 96,
     "metadata": {},
     "output_type": "execute_result"
    }
   ],
   "source": [
    "x = np.random.rand(3,3)\n",
    "x"
   ]
  },
  {
   "cell_type": "code",
   "execution_count": 97,
   "metadata": {},
   "outputs": [
    {
     "data": {
      "text/plain": [
       "array([[0.2091946 , 0.99655408, 0.61469084],\n",
       "       [0.42505216, 0.02747529, 0.87092633],\n",
       "       [0.96334636, 0.42872496, 0.99101317]])"
      ]
     },
     "execution_count": 97,
     "metadata": {},
     "output_type": "execute_result"
    }
   ],
   "source": [
    "x.dot(I)"
   ]
  },
  {
   "cell_type": "markdown",
   "metadata": {},
   "source": [
    "Matrix dot product"
   ]
  },
  {
   "cell_type": "code",
   "execution_count": 98,
   "metadata": {},
   "outputs": [
    {
     "ename": "ValueError",
     "evalue": "shapes (3,3) and (4,3) not aligned: 3 (dim 1) != 4 (dim 0)",
     "output_type": "error",
     "traceback": [
      "\u001b[0;31m---------------------------------------------------------------------------\u001b[0m",
      "\u001b[0;31mValueError\u001b[0m                                Traceback (most recent call last)",
      "Input \u001b[0;32mIn [98]\u001b[0m, in \u001b[0;36m<cell line: 1>\u001b[0;34m()\u001b[0m\n\u001b[0;32m----> 1\u001b[0m \u001b[43mx\u001b[49m\u001b[38;5;241;43m.\u001b[39;49m\u001b[43mdot\u001b[49m\u001b[43m(\u001b[49m\u001b[43my\u001b[49m\u001b[43m)\u001b[49m\n",
      "\u001b[0;31mValueError\u001b[0m: shapes (3,3) and (4,3) not aligned: 3 (dim 1) != 4 (dim 0)"
     ]
    }
   ],
   "source": [
    "x.dot(y)"
   ]
  },
  {
   "cell_type": "code",
   "execution_count": 99,
   "metadata": {},
   "outputs": [
    {
     "data": {
      "text/plain": [
       "array([[1.13579511, 0.66716073, 1.69966303],\n",
       "       [0.3958136 , 0.45477833, 0.72277776],\n",
       "       [0.53104237, 0.71790405, 0.86023317],\n",
       "       [1.39508468, 1.12245324, 2.05633215]])"
      ]
     },
     "execution_count": 99,
     "metadata": {},
     "output_type": "execute_result"
    }
   ],
   "source": [
    "y.dot(x)"
   ]
  },
  {
   "cell_type": "markdown",
   "metadata": {},
   "source": [
    "Inverse and pseudoinverse"
   ]
  },
  {
   "cell_type": "code",
   "execution_count": 100,
   "metadata": {},
   "outputs": [
    {
     "data": {
      "text/plain": [
       "array([[-0.78732958, -1.64686432,  1.93565721],\n",
       "       [ 0.95020882, -0.87531993,  0.179871  ],\n",
       "       [ 0.35427667,  1.97956226, -0.95036428]])"
      ]
     },
     "execution_count": 100,
     "metadata": {},
     "output_type": "execute_result"
    }
   ],
   "source": [
    "np.linalg.inv(x)"
   ]
  },
  {
   "cell_type": "code",
   "execution_count": 101,
   "metadata": {},
   "outputs": [
    {
     "data": {
      "text/plain": [
       "array([[1.00000000e+00, 2.22044605e-16, 1.11022302e-16],\n",
       "       [0.00000000e+00, 1.00000000e+00, 0.00000000e+00],\n",
       "       [0.00000000e+00, 0.00000000e+00, 1.00000000e+00]])"
      ]
     },
     "execution_count": 101,
     "metadata": {},
     "output_type": "execute_result"
    }
   ],
   "source": [
    "x.dot(np.linalg.inv(x))"
   ]
  },
  {
   "cell_type": "code",
   "execution_count": 102,
   "metadata": {},
   "outputs": [
    {
     "data": {
      "text/plain": [
       "array([[-0.78732958, -1.64686432,  1.93565721],\n",
       "       [ 0.95020882, -0.87531993,  0.179871  ],\n",
       "       [ 0.35427667,  1.97956226, -0.95036428]])"
      ]
     },
     "execution_count": 102,
     "metadata": {},
     "output_type": "execute_result"
    }
   ],
   "source": [
    "np.linalg.pinv(x)"
   ]
  },
  {
   "cell_type": "markdown",
   "metadata": {},
   "source": [
    "QR decomposition"
   ]
  },
  {
   "cell_type": "code",
   "execution_count": 103,
   "metadata": {},
   "outputs": [],
   "source": [
    "q, r = np.linalg.qr(x)"
   ]
  },
  {
   "cell_type": "code",
   "execution_count": 104,
   "metadata": {},
   "outputs": [
    {
     "data": {
      "text/plain": [
       "array([[0.2091946 , 0.99655408, 0.61469084],\n",
       "       [0.42505216, 0.02747529, 0.87092633],\n",
       "       [0.96334636, 0.42872496, 0.99101317]])"
      ]
     },
     "execution_count": 104,
     "metadata": {},
     "output_type": "execute_result"
    }
   ],
   "source": [
    "q.dot(r)"
   ]
  },
  {
   "cell_type": "code",
   "execution_count": 105,
   "metadata": {},
   "outputs": [
    {
     "data": {
      "text/plain": [
       "array([[0.2091946 , 0.99655408, 0.61469084],\n",
       "       [0.42505216, 0.02747529, 0.87092633],\n",
       "       [0.96334636, 0.42872496, 0.99101317]])"
      ]
     },
     "execution_count": 105,
     "metadata": {},
     "output_type": "execute_result"
    }
   ],
   "source": [
    "x"
   ]
  },
  {
   "cell_type": "markdown",
   "metadata": {},
   "source": [
    "## Saving and loading NumPy arrays"
   ]
  },
  {
   "cell_type": "markdown",
   "metadata": {},
   "source": [
    "Binary format"
   ]
  },
  {
   "cell_type": "code",
   "execution_count": 107,
   "metadata": {},
   "outputs": [],
   "source": [
    "np.save('my_array', x)"
   ]
  },
  {
   "cell_type": "code",
   "execution_count": 108,
   "metadata": {},
   "outputs": [
    {
     "data": {
      "text/plain": [
       "b'\\x93NUMPY\\x01\\x00v\\x00{\\'descr\\': \\'<f8\\', \\'fortran_order\\': False, \\'shape\\': (3, 3), }                                                          \\n\\xc3\\xce\\xa5\\xb7\\xcc<\\xeb?z\\xaaG\\x10d\\xec\\xef?i\"\"9j\\x96\\xe4?\\x10\\xe8\\x85\\x1e\\xc3\\x9e\\xde?0\\x1a+\\xb7\\x1ef\\xc5?\\x16\\xae\\xed\\x01\\xfc\\xc5\\xd5?a\\xcfB\\x86\\xc1P\\xef?\\xa0\\x98\\xf7M?\\xc8\\xc6?\\x80\\xcd\\xf6!\\xe6sy?'"
      ]
     },
     "execution_count": 108,
     "metadata": {},
     "output_type": "execute_result"
    }
   ],
   "source": [
    "with open('my_array.npy', 'rb') as a:\n",
    "    array = a.read()\n",
    "array"
   ]
  },
  {
   "cell_type": "code",
   "execution_count": 109,
   "metadata": {},
   "outputs": [
    {
     "data": {
      "text/plain": [
       "array([[0.85117184, 0.99760631, 0.6433612 ],\n",
       "       [0.47844007, 0.16717895, 0.34020901],\n",
       "       [0.9786079 , 0.17798606, 0.00621405]])"
      ]
     },
     "execution_count": 109,
     "metadata": {},
     "output_type": "execute_result"
    }
   ],
   "source": [
    "a_load = np.load('my_array.npy')\n",
    "a_load"
   ]
  },
  {
   "cell_type": "markdown",
   "metadata": {},
   "source": [
    "Text format"
   ]
  },
  {
   "cell_type": "code",
   "execution_count": 110,
   "metadata": {},
   "outputs": [],
   "source": [
    "np.savetxt('my_array.csv',x, delimiter=',')"
   ]
  },
  {
   "cell_type": "code",
   "execution_count": 111,
   "metadata": {},
   "outputs": [
    {
     "data": {
      "text/plain": [
       "array([[0.85117184, 0.99760631, 0.6433612 ],\n",
       "       [0.47844007, 0.16717895, 0.34020901],\n",
       "       [0.9786079 , 0.17798606, 0.00621405]])"
      ]
     },
     "execution_count": 111,
     "metadata": {},
     "output_type": "execute_result"
    }
   ],
   "source": [
    "a_text = np.loadtxt('my_array.csv', delimiter=',')\n",
    "a_text"
   ]
  },
  {
   "cell_type": "markdown",
   "metadata": {},
   "source": [
    "We can also save multiple arrays in zipped format"
   ]
  },
  {
   "cell_type": "code",
   "execution_count": 112,
   "metadata": {},
   "outputs": [],
   "source": [
    "np.savez('my_arrays', my_a=x, my_b=y)"
   ]
  },
  {
   "cell_type": "code",
   "execution_count": 113,
   "metadata": {},
   "outputs": [
    {
     "data": {
      "text/plain": [
       "<numpy.lib.npyio.NpzFile at 0x7f7c18690d90>"
      ]
     },
     "execution_count": 113,
     "metadata": {},
     "output_type": "execute_result"
    }
   ],
   "source": [
    "my_arrays = np.load('my_arrays.npz')\n",
    "my_arrays"
   ]
  },
  {
   "cell_type": "code",
   "execution_count": 114,
   "metadata": {},
   "outputs": [
    {
     "data": {
      "text/plain": [
       "['my_a', 'my_b']"
      ]
     },
     "execution_count": 114,
     "metadata": {},
     "output_type": "execute_result"
    }
   ],
   "source": [
    "my_arrays.files"
   ]
  },
  {
   "cell_type": "code",
   "execution_count": 115,
   "metadata": {},
   "outputs": [
    {
     "data": {
      "text/plain": [
       "array([[0.85117184, 0.99760631, 0.6433612 ],\n",
       "       [0.47844007, 0.16717895, 0.34020901],\n",
       "       [0.9786079 , 0.17798606, 0.00621405]])"
      ]
     },
     "execution_count": 115,
     "metadata": {},
     "output_type": "execute_result"
    }
   ],
   "source": [
    "my_arrays['my_a']"
   ]
  },
  {
   "cell_type": "code",
   "execution_count": 116,
   "metadata": {},
   "outputs": [
    {
     "data": {
      "text/plain": [
       "array([[0.68746388, 0.2816058 , 0.89282825],\n",
       "       [0.6405917 , 0.14424422, 0.59779783],\n",
       "       [0.52358756, 0.34698647, 0.84553148],\n",
       "       [0.02958928, 0.52621407, 0.76746453]])"
      ]
     },
     "execution_count": 116,
     "metadata": {},
     "output_type": "execute_result"
    }
   ],
   "source": [
    "my_arrays['my_b']"
   ]
  },
  {
   "cell_type": "markdown",
   "metadata": {},
   "source": [
    "## Exercises"
   ]
  },
  {
   "cell_type": "markdown",
   "metadata": {},
   "source": [
    "### Exercise 1"
   ]
  },
  {
   "cell_type": "markdown",
   "metadata": {},
   "source": [
    "Create a 5x5 numpy array of booleans where all values are True apart from the first element of the last row."
   ]
  },
  {
   "cell_type": "markdown",
   "metadata": {},
   "source": [
    "### Exercise 2"
   ]
  },
  {
   "cell_type": "markdown",
   "metadata": {},
   "source": [
    "Create a numpy array with values ranging from 1 to 20. Remove the even numbers."
   ]
  },
  {
   "cell_type": "markdown",
   "metadata": {},
   "source": [
    "### Exercise 3"
   ]
  },
  {
   "cell_type": "markdown",
   "metadata": {},
   "source": [
    "Create a 5x5 numpy array and populated with random numbers from a normal distribution (mean=0, std=1). Filter out all the negative values. Change the resulting array to multi-dimensional array where the number of rows will be equal to the number of positive elements and 1 column."
   ]
  },
  {
   "cell_type": "markdown",
   "metadata": {},
   "source": [
    "### Exercise 4"
   ]
  },
  {
   "cell_type": "markdown",
   "metadata": {},
   "source": [
    "Create a 10x10 identity matrix of integer type. Save the matrix in csv format using a file name of your choice. Load back the matrix."
   ]
  },
  {
   "cell_type": "markdown",
   "metadata": {},
   "source": [
    "### Exercise 5"
   ]
  },
  {
   "cell_type": "markdown",
   "metadata": {},
   "source": [
    "Create a 5x5 numpy array populated by random integers ranging from 1 to 100. Calculate the sum of rows, columns and of the diagonal elements."
   ]
  },
  {
   "cell_type": "markdown",
   "metadata": {},
   "source": [
    "### Exercise 6"
   ]
  },
  {
   "cell_type": "markdown",
   "metadata": {},
   "source": [
    "Create a 4x3 numpy array and populated with random integers ranging from 1 to 20. Estimate it's transpose. Multiply the two arrays."
   ]
  },
  {
   "cell_type": "markdown",
   "metadata": {},
   "source": [
    "### Exercise 7"
   ]
  },
  {
   "cell_type": "markdown",
   "metadata": {},
   "source": [
    "Create a 2x4 and a 4x4 numpy arrays. Populate them with random integers ranging from 80 to 100. Join them either vertically or horizontally."
   ]
  },
  {
   "cell_type": "markdown",
   "metadata": {},
   "source": [
    "### Exercise 8"
   ]
  },
  {
   "cell_type": "markdown",
   "metadata": {},
   "source": [
    "Create a 4x4 numpy array and populate with numbers originating from standard normal distribution (mean=0, std=1). Change all negative numbers to missing. Calculate the sum of all the numbers."
   ]
  },
  {
   "cell_type": "markdown",
   "metadata": {},
   "source": [
    "### Exercise 9"
   ]
  },
  {
   "cell_type": "markdown",
   "metadata": {},
   "source": [
    "As Exercise 8 but without affecting the original array."
   ]
  },
  {
   "cell_type": "markdown",
   "metadata": {},
   "source": [
    "### Exercise 10\n"
   ]
  },
  {
   "cell_type": "markdown",
   "metadata": {},
   "source": [
    "Create a 4x4 numpy array and populate it with random integers ranging from 25 to 50. Calculate the inverse and the pseudo inverse of the array. Multiply the original array with it's inverse."
   ]
  },
  {
   "cell_type": "markdown",
   "metadata": {},
   "source": [
    "### Exercise 11"
   ]
  },
  {
   "cell_type": "markdown",
   "metadata": {},
   "source": [
    "Create two numpy arrays and populate the with 30 random numbers ranging from 1 to 7. Find any elements that match.    "
   ]
  },
  {
   "cell_type": "markdown",
   "metadata": {},
   "source": [
    "### Exercise 12"
   ]
  },
  {
   "cell_type": "markdown",
   "metadata": {},
   "source": [
    "Create a 5x4 numpy array and populate it with random integers ranging from 1 to 10. Swap the first and third column and the second and fourth row."
   ]
  }
 ],
 "metadata": {
  "kernelspec": {
   "display_name": "Python 3 (ipykernel)",
   "language": "python",
   "name": "python3"
  },
  "language_info": {
   "codemirror_mode": {
    "name": "ipython",
    "version": 3
   },
   "file_extension": ".py",
   "mimetype": "text/x-python",
   "name": "python",
   "nbconvert_exporter": "python",
   "pygments_lexer": "ipython3",
   "version": "3.9.12"
  }
 },
 "nbformat": 4,
 "nbformat_minor": 2
}
