{
 "cells": [
  {
   "cell_type": "markdown",
   "id": "21ce3595",
   "metadata": {},
   "source": [
    "## Exercises"
   ]
  },
  {
   "cell_type": "code",
   "execution_count": 52,
   "id": "20ec1f6e",
   "metadata": {},
   "outputs": [],
   "source": [
    "import numpy as np"
   ]
  },
  {
   "cell_type": "markdown",
   "id": "481a843a",
   "metadata": {},
   "source": [
    "### Exercise 1"
   ]
  },
  {
   "cell_type": "markdown",
   "id": "2a299739",
   "metadata": {},
   "source": [
    "Create a 5x5 numpy array of booleans where all values are True apart from the first element of the last row."
   ]
  },
  {
   "cell_type": "code",
   "execution_count": 60,
   "id": "d6ec7d55",
   "metadata": {},
   "outputs": [
    {
     "data": {
      "text/plain": [
       "array([[ True,  True,  True,  True,  True],\n",
       "       [ True,  True,  True,  True,  True],\n",
       "       [ True,  True,  True,  True,  True],\n",
       "       [ True,  True,  True,  True,  True],\n",
       "       [False,  True,  True,  True,  True]])"
      ]
     },
     "execution_count": 60,
     "metadata": {},
     "output_type": "execute_result"
    }
   ],
   "source": [
    "x = np.ones((5,5),dtype=bool)\n",
    "x[4,0] = False\n",
    "x"
   ]
  },
  {
   "cell_type": "markdown",
   "id": "3effe16c",
   "metadata": {},
   "source": [
    "### Exercise 2"
   ]
  },
  {
   "cell_type": "markdown",
   "id": "1a5162cb",
   "metadata": {},
   "source": [
    "Create a numpy array with values ranging from 1 to 20. Remove the even numbers."
   ]
  },
  {
   "cell_type": "code",
   "execution_count": 61,
   "id": "b8de545f",
   "metadata": {},
   "outputs": [
    {
     "data": {
      "text/plain": [
       "array([ 1,  2,  3,  4,  5,  6,  7,  8,  9, 10, 11, 12, 13, 14, 15, 16, 17,\n",
       "       18, 19, 20])"
      ]
     },
     "execution_count": 61,
     "metadata": {},
     "output_type": "execute_result"
    }
   ],
   "source": [
    "x = np.arange(1,21)\n",
    "x"
   ]
  },
  {
   "cell_type": "code",
   "execution_count": 62,
   "id": "409b2bcb",
   "metadata": {},
   "outputs": [
    {
     "data": {
      "text/plain": [
       "array([ 1,  3,  5,  7,  9, 11, 13, 15, 17, 19])"
      ]
     },
     "execution_count": 62,
     "metadata": {},
     "output_type": "execute_result"
    }
   ],
   "source": [
    "x[x%2!=0]"
   ]
  },
  {
   "cell_type": "markdown",
   "id": "2b99de54",
   "metadata": {},
   "source": [
    "### Exercise 3"
   ]
  },
  {
   "cell_type": "markdown",
   "id": "aebc5bda",
   "metadata": {},
   "source": [
    "Create a 5x5 numpy array and populated with random numbers from a normal distribution (mean=0, std=1). Filter out all the negative values. Change the resulting array to multi-dimensional array where the number of rows will be equal to the number of positive elements and 1 column."
   ]
  },
  {
   "cell_type": "code",
   "execution_count": 63,
   "id": "54e6f54d",
   "metadata": {},
   "outputs": [
    {
     "data": {
      "text/plain": [
       "array([[-1.79966539,  2.3667242 , -0.61462058, -1.06618465, -0.64145652],\n",
       "       [ 1.03901354,  0.54233745,  1.60144415, -1.76095182,  0.60788325],\n",
       "       [ 0.5990161 , -1.03980567,  1.2068951 , -1.90314966,  0.24857064],\n",
       "       [ 1.31501687,  1.31747029,  0.74440524, -0.78292883,  0.26704688],\n",
       "       [-1.53116731, -0.87279545, -1.02253383, -1.09636819, -0.75401669]])"
      ]
     },
     "execution_count": 63,
     "metadata": {},
     "output_type": "execute_result"
    }
   ],
   "source": [
    "x = np.random.normal(0,1,(5,5))\n",
    "x "
   ]
  },
  {
   "cell_type": "code",
   "execution_count": 64,
   "id": "daae0adf",
   "metadata": {},
   "outputs": [
    {
     "data": {
      "text/plain": [
       "array([[2.3667242 ],\n",
       "       [1.03901354],\n",
       "       [0.54233745],\n",
       "       [1.60144415],\n",
       "       [0.60788325],\n",
       "       [0.5990161 ],\n",
       "       [1.2068951 ],\n",
       "       [0.24857064],\n",
       "       [1.31501687],\n",
       "       [1.31747029],\n",
       "       [0.74440524],\n",
       "       [0.26704688]])"
      ]
     },
     "execution_count": 64,
     "metadata": {},
     "output_type": "execute_result"
    }
   ],
   "source": [
    "x[x>0].reshape(-1,1)"
   ]
  },
  {
   "cell_type": "markdown",
   "id": "d10963cd",
   "metadata": {},
   "source": [
    "### Exercise 4"
   ]
  },
  {
   "cell_type": "markdown",
   "id": "318f3616",
   "metadata": {},
   "source": [
    "Create a 10x10 identity matrix of integer type. Save the matrix in csv format using a file name of your choice. Load back the matrix."
   ]
  },
  {
   "cell_type": "code",
   "execution_count": 65,
   "id": "694a94fd",
   "metadata": {},
   "outputs": [
    {
     "data": {
      "text/plain": [
       "array([[1, 0, 0, 0, 0, 0, 0, 0, 0, 0],\n",
       "       [0, 1, 0, 0, 0, 0, 0, 0, 0, 0],\n",
       "       [0, 0, 1, 0, 0, 0, 0, 0, 0, 0],\n",
       "       [0, 0, 0, 1, 0, 0, 0, 0, 0, 0],\n",
       "       [0, 0, 0, 0, 1, 0, 0, 0, 0, 0],\n",
       "       [0, 0, 0, 0, 0, 1, 0, 0, 0, 0],\n",
       "       [0, 0, 0, 0, 0, 0, 1, 0, 0, 0],\n",
       "       [0, 0, 0, 0, 0, 0, 0, 1, 0, 0],\n",
       "       [0, 0, 0, 0, 0, 0, 0, 0, 1, 0],\n",
       "       [0, 0, 0, 0, 0, 0, 0, 0, 0, 1]])"
      ]
     },
     "execution_count": 65,
     "metadata": {},
     "output_type": "execute_result"
    }
   ],
   "source": [
    "I = np.eye(10,10,dtype='int')\n",
    "I"
   ]
  },
  {
   "cell_type": "code",
   "execution_count": 66,
   "id": "5fbe2688",
   "metadata": {},
   "outputs": [],
   "source": [
    "np.savetxt('identity_matrix.csv',I, delimiter=',')"
   ]
  },
  {
   "cell_type": "code",
   "execution_count": 67,
   "id": "8dfcda3a",
   "metadata": {},
   "outputs": [
    {
     "data": {
      "text/plain": [
       "array([[1., 0., 0., 0., 0., 0., 0., 0., 0., 0.],\n",
       "       [0., 1., 0., 0., 0., 0., 0., 0., 0., 0.],\n",
       "       [0., 0., 1., 0., 0., 0., 0., 0., 0., 0.],\n",
       "       [0., 0., 0., 1., 0., 0., 0., 0., 0., 0.],\n",
       "       [0., 0., 0., 0., 1., 0., 0., 0., 0., 0.],\n",
       "       [0., 0., 0., 0., 0., 1., 0., 0., 0., 0.],\n",
       "       [0., 0., 0., 0., 0., 0., 1., 0., 0., 0.],\n",
       "       [0., 0., 0., 0., 0., 0., 0., 1., 0., 0.],\n",
       "       [0., 0., 0., 0., 0., 0., 0., 0., 1., 0.],\n",
       "       [0., 0., 0., 0., 0., 0., 0., 0., 0., 1.]])"
      ]
     },
     "execution_count": 67,
     "metadata": {},
     "output_type": "execute_result"
    }
   ],
   "source": [
    "identity_matrix = np.loadtxt('identity_matrix.csv', delimiter=',')\n",
    "identity_matrix"
   ]
  },
  {
   "cell_type": "markdown",
   "id": "37b393dd",
   "metadata": {},
   "source": [
    "### Exercise 5"
   ]
  },
  {
   "cell_type": "markdown",
   "id": "18455509",
   "metadata": {},
   "source": [
    "Create a 5x5 numpy array populated by random integers ranging from 1 to 100. Calculate the sum of rows, columns and of the diagonal elements."
   ]
  },
  {
   "cell_type": "code",
   "execution_count": 69,
   "id": "a8965b31",
   "metadata": {},
   "outputs": [
    {
     "data": {
      "text/plain": [
       "array([[73, 78, 97, 97, 95],\n",
       "       [72, 84, 49,  1, 73],\n",
       "       [43,  4, 53, 31, 77],\n",
       "       [35, 53, 83, 53, 27],\n",
       "       [77, 69, 54, 87, 34]])"
      ]
     },
     "execution_count": 69,
     "metadata": {},
     "output_type": "execute_result"
    }
   ],
   "source": [
    "z = np.random.randint(1,101,size=25).reshape((5,5))\n",
    "z"
   ]
  },
  {
   "cell_type": "code",
   "execution_count": 70,
   "id": "c72cc7a0",
   "metadata": {},
   "outputs": [
    {
     "data": {
      "text/plain": [
       "array([440, 279, 208, 251, 321])"
      ]
     },
     "execution_count": 70,
     "metadata": {},
     "output_type": "execute_result"
    }
   ],
   "source": [
    "z.sum(axis=1)"
   ]
  },
  {
   "cell_type": "code",
   "execution_count": 71,
   "id": "00321f80",
   "metadata": {},
   "outputs": [
    {
     "data": {
      "text/plain": [
       "array([300, 288, 336, 269, 306])"
      ]
     },
     "execution_count": 71,
     "metadata": {},
     "output_type": "execute_result"
    }
   ],
   "source": [
    "z.sum(axis=0)"
   ]
  },
  {
   "cell_type": "code",
   "execution_count": 72,
   "id": "64e06fa5",
   "metadata": {},
   "outputs": [
    {
     "data": {
      "text/plain": [
       "297"
      ]
     },
     "execution_count": 72,
     "metadata": {},
     "output_type": "execute_result"
    }
   ],
   "source": [
    "np.diag(z).sum()"
   ]
  },
  {
   "cell_type": "markdown",
   "id": "e1506c9b",
   "metadata": {},
   "source": [
    "### Exercise 6"
   ]
  },
  {
   "cell_type": "markdown",
   "id": "9e5826a0",
   "metadata": {},
   "source": [
    "Create a 4x3 numpy array and populated with random integers ranging from 1 to 20. Estimate it's transpose. Multiply the two arrays."
   ]
  },
  {
   "cell_type": "code",
   "execution_count": 73,
   "id": "69ddc965",
   "metadata": {},
   "outputs": [
    {
     "data": {
      "text/plain": [
       "array([[ 5,  2,  9],\n",
       "       [15, 20, 11],\n",
       "       [ 7, 11, 15],\n",
       "       [10,  9, 10]])"
      ]
     },
     "execution_count": 73,
     "metadata": {},
     "output_type": "execute_result"
    }
   ],
   "source": [
    "y = np.random.randint(1,21,size=12).reshape((4,3))\n",
    "y"
   ]
  },
  {
   "cell_type": "code",
   "execution_count": 74,
   "id": "60f5fd1d",
   "metadata": {},
   "outputs": [
    {
     "data": {
      "text/plain": [
       "array([[ 5, 15,  7, 10],\n",
       "       [ 2, 20, 11,  9],\n",
       "       [ 9, 11, 15, 10]])"
      ]
     },
     "execution_count": 74,
     "metadata": {},
     "output_type": "execute_result"
    }
   ],
   "source": [
    "y_T = y.T\n",
    "y_T"
   ]
  },
  {
   "cell_type": "code",
   "execution_count": 75,
   "id": "cf9ba932",
   "metadata": {},
   "outputs": [
    {
     "data": {
      "text/plain": [
       "array([[110, 214, 192, 158],\n",
       "       [214, 746, 490, 440],\n",
       "       [192, 490, 395, 319],\n",
       "       [158, 440, 319, 281]])"
      ]
     },
     "execution_count": 75,
     "metadata": {},
     "output_type": "execute_result"
    }
   ],
   "source": [
    "y.dot(y_T)"
   ]
  },
  {
   "cell_type": "markdown",
   "id": "af5a1e68",
   "metadata": {},
   "source": [
    "### Exercise 7"
   ]
  },
  {
   "cell_type": "markdown",
   "id": "b379848f",
   "metadata": {},
   "source": [
    "Create a 2x4 and a 4x4 numpy arrays. Populate them with random integers ranging from 80 to 100. Join them either vertically or horizontally."
   ]
  },
  {
   "cell_type": "code",
   "execution_count": 76,
   "id": "d8459562",
   "metadata": {},
   "outputs": [
    {
     "data": {
      "text/plain": [
       "array([[96, 95, 93, 95],\n",
       "       [85, 87, 99, 87]])"
      ]
     },
     "execution_count": 76,
     "metadata": {},
     "output_type": "execute_result"
    }
   ],
   "source": [
    "x = np.random.randint(80,101,size=8).reshape((2,4))\n",
    "x"
   ]
  },
  {
   "cell_type": "code",
   "execution_count": 77,
   "id": "708530c8",
   "metadata": {},
   "outputs": [
    {
     "data": {
      "text/plain": [
       "array([[ 96,  94,  98,  88],\n",
       "       [ 90,  83,  81,  84],\n",
       "       [100,  89, 100,  86],\n",
       "       [100,  93,  90,  95]])"
      ]
     },
     "execution_count": 77,
     "metadata": {},
     "output_type": "execute_result"
    }
   ],
   "source": [
    "z = np.random.randint(80,101,size=16).reshape((4,4))\n",
    "z"
   ]
  },
  {
   "cell_type": "code",
   "execution_count": 78,
   "id": "ff4cae65",
   "metadata": {},
   "outputs": [
    {
     "data": {
      "text/plain": [
       "array([[ 96,  95,  93,  95],\n",
       "       [ 85,  87,  99,  87],\n",
       "       [ 96,  94,  98,  88],\n",
       "       [ 90,  83,  81,  84],\n",
       "       [100,  89, 100,  86],\n",
       "       [100,  93,  90,  95]])"
      ]
     },
     "execution_count": 78,
     "metadata": {},
     "output_type": "execute_result"
    }
   ],
   "source": [
    "np.vstack([x,z])"
   ]
  },
  {
   "cell_type": "markdown",
   "id": "f9431fec",
   "metadata": {},
   "source": [
    "### Exercise 8"
   ]
  },
  {
   "cell_type": "markdown",
   "id": "68ff0588",
   "metadata": {},
   "source": [
    "Create a 4x4 numpy array and populate with numbers originating from the standard normal distribution (mean=0, std=1). Change all negative numbers to missing. Calculate the sum of all the numbers."
   ]
  },
  {
   "cell_type": "code",
   "execution_count": 79,
   "id": "b02818bd",
   "metadata": {},
   "outputs": [
    {
     "data": {
      "text/plain": [
       "array([[ 1.38391553, -0.38444757, -0.18103868, -0.57665233],\n",
       "       [ 0.2465454 , -1.12101577, -1.07241391, -0.9577624 ],\n",
       "       [-0.1113773 ,  0.87539514,  2.00990107,  0.42753398],\n",
       "       [-0.50762431,  0.87696068, -1.20370658, -0.30075403]])"
      ]
     },
     "execution_count": 79,
     "metadata": {},
     "output_type": "execute_result"
    }
   ],
   "source": [
    "z = np.random.normal(0,1,(4,4))\n",
    "z"
   ]
  },
  {
   "cell_type": "code",
   "execution_count": 80,
   "id": "356dc757",
   "metadata": {},
   "outputs": [
    {
     "data": {
      "text/plain": [
       "array([[1.38391553,        nan,        nan,        nan],\n",
       "       [0.2465454 ,        nan,        nan,        nan],\n",
       "       [       nan, 0.87539514, 2.00990107, 0.42753398],\n",
       "       [       nan, 0.87696068,        nan,        nan]])"
      ]
     },
     "execution_count": 80,
     "metadata": {},
     "output_type": "execute_result"
    }
   ],
   "source": [
    "z[z < 0] = np.nan\n",
    "z"
   ]
  },
  {
   "cell_type": "code",
   "execution_count": 81,
   "id": "9334bd52",
   "metadata": {},
   "outputs": [
    {
     "data": {
      "text/plain": [
       "nan"
      ]
     },
     "execution_count": 81,
     "metadata": {},
     "output_type": "execute_result"
    }
   ],
   "source": [
    "np.sum(z)"
   ]
  },
  {
   "cell_type": "code",
   "execution_count": 82,
   "id": "5d69949c",
   "metadata": {},
   "outputs": [
    {
     "data": {
      "text/plain": [
       "5.820251804415929"
      ]
     },
     "execution_count": 82,
     "metadata": {},
     "output_type": "execute_result"
    }
   ],
   "source": [
    "np.nansum(z)"
   ]
  },
  {
   "cell_type": "markdown",
   "id": "3612dc7d",
   "metadata": {},
   "source": [
    "### Exercise 9"
   ]
  },
  {
   "cell_type": "markdown",
   "id": "b2d98545",
   "metadata": {},
   "source": [
    "As Exercise 8 but without affecting the original array."
   ]
  },
  {
   "cell_type": "code",
   "execution_count": 83,
   "id": "a80e705c",
   "metadata": {},
   "outputs": [
    {
     "data": {
      "text/plain": [
       "array([[ 0.76699451, -0.34710582,  0.22246955,  0.20562044],\n",
       "       [-0.59134437, -0.53319631, -0.29222972,  0.23332592],\n",
       "       [ 0.73554138,  1.25048356, -0.88315744,  0.08701086],\n",
       "       [-0.20069209, -0.5694384 ,  0.59696977,  0.13010978]])"
      ]
     },
     "execution_count": 83,
     "metadata": {},
     "output_type": "execute_result"
    }
   ],
   "source": [
    "z = np.random.normal(0,1,(4,4))\n",
    "z"
   ]
  },
  {
   "cell_type": "code",
   "execution_count": 35,
   "id": "8d0edf0e",
   "metadata": {},
   "outputs": [],
   "source": [
    "z_new = np.where(z<0,np.nan,z)"
   ]
  },
  {
   "cell_type": "code",
   "execution_count": 84,
   "id": "3e5b29d5",
   "metadata": {},
   "outputs": [
    {
     "data": {
      "text/plain": [
       "array([[ 0.76699451, -0.34710582,  0.22246955,  0.20562044],\n",
       "       [-0.59134437, -0.53319631, -0.29222972,  0.23332592],\n",
       "       [ 0.73554138,  1.25048356, -0.88315744,  0.08701086],\n",
       "       [-0.20069209, -0.5694384 ,  0.59696977,  0.13010978]])"
      ]
     },
     "execution_count": 84,
     "metadata": {},
     "output_type": "execute_result"
    }
   ],
   "source": [
    "z"
   ]
  },
  {
   "cell_type": "code",
   "execution_count": 85,
   "id": "f9d174d7",
   "metadata": {},
   "outputs": [
    {
     "data": {
      "text/plain": [
       "array([[0.7329518 ,        nan,        nan, 0.72775977],\n",
       "       [0.15862388, 1.51095994, 0.63584747,        nan],\n",
       "       [2.58098063, 0.15917378, 0.18467324,        nan],\n",
       "       [       nan,        nan, 0.87286398, 0.48556672]])"
      ]
     },
     "execution_count": 85,
     "metadata": {},
     "output_type": "execute_result"
    }
   ],
   "source": [
    "z_new"
   ]
  },
  {
   "cell_type": "markdown",
   "id": "13a94299",
   "metadata": {},
   "source": [
    "### Exercise 10"
   ]
  },
  {
   "cell_type": "markdown",
   "id": "1eda9660",
   "metadata": {},
   "source": [
    "Create a 4x4 numpy array and populate it with random integers ranging from 25 to 50. Calculate the inverse and the pseudo inverse of the array. Multiply the original array with it's inverse."
   ]
  },
  {
   "cell_type": "code",
   "execution_count": 86,
   "id": "298ccf07",
   "metadata": {},
   "outputs": [
    {
     "data": {
      "text/plain": [
       "array([[40, 41, 35, 48],\n",
       "       [39, 41, 27, 37],\n",
       "       [33, 29, 46, 31],\n",
       "       [28, 38, 25, 34]])"
      ]
     },
     "execution_count": 86,
     "metadata": {},
     "output_type": "execute_result"
    }
   ],
   "source": [
    "z = np.random.randint(25,51,size=16).reshape(4,4)\n",
    "z"
   ]
  },
  {
   "cell_type": "code",
   "execution_count": 87,
   "id": "cb991840",
   "metadata": {},
   "outputs": [
    {
     "data": {
      "text/plain": [
       "array([[-0.00369432,  0.11658031,  0.00098748, -0.12255164],\n",
       "       [-0.07878901,  0.00518135, -0.00095262,  0.10646158],\n",
       "       [-0.01798369, -0.03626943,  0.04254281,  0.02606938],\n",
       "       [ 0.10432399, -0.07512953, -0.03103   , -0.00781849]])"
      ]
     },
     "execution_count": 87,
     "metadata": {},
     "output_type": "execute_result"
    }
   ],
   "source": [
    "z_inv = np.linalg.inv(z)\n",
    "z_inv"
   ]
  },
  {
   "cell_type": "code",
   "execution_count": 88,
   "id": "a0411e34",
   "metadata": {},
   "outputs": [
    {
     "data": {
      "text/plain": [
       "array([[ 1.00000000e+00,  0.00000000e+00,  0.00000000e+00,\n",
       "         3.33066907e-16],\n",
       "       [-4.44089210e-16,  1.00000000e+00, -2.22044605e-16,\n",
       "         9.43689571e-16],\n",
       "       [-4.44089210e-16, -8.88178420e-16,  1.00000000e+00,\n",
       "         2.77555756e-17],\n",
       "       [-4.44089210e-16, -4.44089210e-16,  0.00000000e+00,\n",
       "         1.00000000e+00]])"
      ]
     },
     "execution_count": 88,
     "metadata": {},
     "output_type": "execute_result"
    }
   ],
   "source": [
    "z.dot(z_inv)"
   ]
  },
  {
   "cell_type": "code",
   "execution_count": 89,
   "id": "4283172e",
   "metadata": {},
   "outputs": [
    {
     "data": {
      "text/plain": [
       "array([[-0.00369432,  0.11658031,  0.00098748, -0.12255164],\n",
       "       [-0.07878901,  0.00518135, -0.00095262,  0.10646158],\n",
       "       [-0.01798369, -0.03626943,  0.04254281,  0.02606938],\n",
       "       [ 0.10432399, -0.07512953, -0.03103   , -0.00781849]])"
      ]
     },
     "execution_count": 89,
     "metadata": {},
     "output_type": "execute_result"
    }
   ],
   "source": [
    "z_pinv = np.linalg.pinv(z)\n",
    "z_pinv"
   ]
  },
  {
   "cell_type": "code",
   "execution_count": 90,
   "id": "270ccd11",
   "metadata": {},
   "outputs": [
    {
     "data": {
      "text/plain": [
       "array([[ 1.00000000e+00, -8.88178420e-16,  6.66133815e-16,\n",
       "         6.10622664e-16],\n",
       "       [ 0.00000000e+00,  1.00000000e+00,  4.44089210e-16,\n",
       "         2.33146835e-15],\n",
       "       [ 0.00000000e+00, -2.22044605e-15,  1.00000000e+00,\n",
       "         1.85962357e-15],\n",
       "       [-4.44089210e-16, -1.77635684e-15,  4.44089210e-16,\n",
       "         1.00000000e+00]])"
      ]
     },
     "execution_count": 90,
     "metadata": {},
     "output_type": "execute_result"
    }
   ],
   "source": [
    "z.dot(z_pinv)"
   ]
  },
  {
   "cell_type": "markdown",
   "id": "99f8e8bf",
   "metadata": {},
   "source": [
    "### Exercise 11"
   ]
  },
  {
   "cell_type": "markdown",
   "id": "b15d692c",
   "metadata": {},
   "source": [
    "Create two numpy arrays and populate the with 30 random numbers ranging from 1 to 7. Find any elements that match.    "
   ]
  },
  {
   "cell_type": "code",
   "execution_count": 91,
   "id": "6b473950",
   "metadata": {},
   "outputs": [
    {
     "data": {
      "text/plain": [
       "array([1, 5, 2, 1, 1, 4, 2, 4, 1, 4, 5, 6, 1, 2, 2, 3, 3, 3, 3, 5, 2, 2,\n",
       "       1, 2, 6, 5, 2, 1, 2, 2])"
      ]
     },
     "execution_count": 91,
     "metadata": {},
     "output_type": "execute_result"
    }
   ],
   "source": [
    "x = np.random.randint(1,7,size=30)\n",
    "x"
   ]
  },
  {
   "cell_type": "code",
   "execution_count": 92,
   "id": "3a26cf66",
   "metadata": {},
   "outputs": [
    {
     "data": {
      "text/plain": [
       "array([6, 5, 2, 1, 4, 2, 5, 5, 2, 5, 1, 2, 6, 2, 4, 3, 3, 6, 5, 2, 4, 3,\n",
       "       3, 3, 2, 5, 4, 6, 1, 4])"
      ]
     },
     "execution_count": 92,
     "metadata": {},
     "output_type": "execute_result"
    }
   ],
   "source": [
    "z = np.random.randint(1,7,size=30)\n",
    "z"
   ]
  },
  {
   "cell_type": "code",
   "execution_count": 93,
   "id": "9e575902",
   "metadata": {},
   "outputs": [
    {
     "data": {
      "text/plain": [
       "(array([ 1,  2,  3, 13, 15, 16, 25]),)"
      ]
     },
     "execution_count": 93,
     "metadata": {},
     "output_type": "execute_result"
    }
   ],
   "source": [
    "np.where(x==z)"
   ]
  },
  {
   "cell_type": "markdown",
   "id": "5577a01b",
   "metadata": {},
   "source": [
    "### Exercise 12"
   ]
  },
  {
   "cell_type": "markdown",
   "id": "e3bbf75d",
   "metadata": {},
   "source": [
    "Create a 5x4 numpy array and populate it with random integers ranging from 1 to 10. Swap the first and third column and the second and fourth row."
   ]
  },
  {
   "cell_type": "code",
   "execution_count": 57,
   "id": "a6d5e7d5",
   "metadata": {},
   "outputs": [
    {
     "data": {
      "text/plain": [
       "array([[5, 5, 2, 6],\n",
       "       [1, 9, 8, 8],\n",
       "       [9, 3, 7, 3],\n",
       "       [8, 4, 1, 4],\n",
       "       [5, 6, 7, 4]])"
      ]
     },
     "execution_count": 57,
     "metadata": {},
     "output_type": "execute_result"
    }
   ],
   "source": [
    "x = np.random.randint(1,10,size=20).reshape((5,4))\n",
    "x"
   ]
  },
  {
   "cell_type": "code",
   "execution_count": 58,
   "id": "549c3106",
   "metadata": {},
   "outputs": [
    {
     "data": {
      "text/plain": [
       "array([[2, 5, 5, 6],\n",
       "       [8, 9, 1, 8],\n",
       "       [7, 3, 9, 3],\n",
       "       [1, 4, 8, 4],\n",
       "       [7, 6, 5, 4]])"
      ]
     },
     "execution_count": 58,
     "metadata": {},
     "output_type": "execute_result"
    }
   ],
   "source": [
    "x[:,[2,1,0,3]]"
   ]
  },
  {
   "cell_type": "code",
   "execution_count": 59,
   "id": "6c60c1ac",
   "metadata": {},
   "outputs": [
    {
     "data": {
      "text/plain": [
       "array([[5, 5, 2, 6],\n",
       "       [8, 4, 1, 4],\n",
       "       [9, 3, 7, 3],\n",
       "       [1, 9, 8, 8],\n",
       "       [5, 6, 7, 4]])"
      ]
     },
     "execution_count": 59,
     "metadata": {},
     "output_type": "execute_result"
    }
   ],
   "source": [
    "x[[0,3,2,1,4],:]"
   ]
  },
  {
   "cell_type": "code",
   "execution_count": null,
   "id": "16ebbde8",
   "metadata": {},
   "outputs": [],
   "source": []
  }
 ],
 "metadata": {
  "kernelspec": {
   "display_name": "Python 3 (ipykernel)",
   "language": "python",
   "name": "python3"
  },
  "language_info": {
   "codemirror_mode": {
    "name": "ipython",
    "version": 3
   },
   "file_extension": ".py",
   "mimetype": "text/x-python",
   "name": "python",
   "nbconvert_exporter": "python",
   "pygments_lexer": "ipython3",
   "version": "3.11.8"
  }
 },
 "nbformat": 4,
 "nbformat_minor": 5
}
