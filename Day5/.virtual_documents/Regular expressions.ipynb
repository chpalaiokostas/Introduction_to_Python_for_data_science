





import re











text = "SNPs unaccounted for in the catalog and were excluded."


match = re.match('SNPs', text)








match.span()


match.start()


match.end()





if match:
    print('Found a match')
else:
    print('No match was found')








match = re.search('SNPs', text)
match





if re.search('SNPs', text):
    print('Found a match')
else:
    print('No match was found')





text = "SNPs unaccounted for in SNPs. The catalog and were excluded."


re.findall('SNPs', text)





re.sub('SNPs', 'SNP', text)





re.split('\.', text)











text = '''57614 matching loci, 261 contained no verified haplotypes
0 loci contained SNPs unaccounted for in the catalog and were excluded
74934 total haplotypes examined from matching loci, 74673 verified.
'''


re.findall('\d+', text) # finds all numbers in our text


re.findall('\w+',text)


re.findall('\W+', text)





re.search('\d+','57614 matching loci')


re.search('\w+\s\w+','57614 matching')





re.search('\d+?', '57614')


re.search('\w+ \w+?','57614 matching')


re.findall('\s',text)


re.findall('\S', text)





text


re.findall('\d+\s\w+',text)


re.findall('\d?\s\w+',text)


re.findall('\d\s\w*', text)


re.findall('^\d+', text) 





re.findall('\w+$', text, flags=re.M)


text


re.findall('snps',text)


re.findall('snps', text, flags=re.I)





re.findall('\w+.', text) # was aiming to find the last word of each sentence


re.findall('\w+\.', text)





re.findall('loci|haplotypes', text)





re.findall('[Abcd]', 'With the wind, they hear us coming')


re.findall('[a-z]+', 'With the wind, they hear us coming')


re.findall('[a-zåöä]+', 'With the wind, they hear us coming åöä')


re.findall('[A-Za-z]+','With the wind, they hear us coming')





re.findall('[^A-Qa-q]+','With the wind, they hear us coming')








match = re.search('\w+\s(\w+).*','With the wind, they hear us coming')
match


match.groups()


text = '''57614 matching loci, 261 contained no verified haplotypes.
  0 loci contained SNPs unaccounted for in the catalog and were excluded.'''


match = re.search('(\d+)\s\w+.*?(\d+).*',text)
match


match.groups()


match.group(1)


match.group(2)


match.group(0)


match.group()





re.findall('(\d{3,5})\s\w+.*?',text)





match = re.search('(?P<valid>\d+)\s\w+.*?(?P<invalid>\d+).*',text)
match


match.groups()


match.group('valid')


match.group('invalid')





re.sub('(\d+)\s\w+.*?(\d+).*', 'We have \1 valid loci and \2 invalid loci', 
       '57614 matching loci, 261 contained no verified haplotypes.')





re.sub('(\d+)\s\w+.*?(\d+).*', 
       r'We have \1 valid loci and \2 invalid loci', 
       '57614 matching loci, 261 contained no verified haplotypes.')





re.sub('(?P<valid>\d+)\s\w+.*?(?P<invalid>\d+).*', 
       r'We have \g<valid> valid loci and \g<invalid> invalid loci', 
       '57614 matching loci, 261 contained no verified haplotypes.')








text





re.findall('(\d+)\s.*?',text)


re.findall('(\d+)\s(?=matching).*?',text)


re.findall('(\d+)\s(?!matching).*',text)





re.findall('(?<=\s)(\d+)',text)





re.findall('(?<!\s)(\d+)',text)


re.findall('(?<=\d)\s(\w+)',text)





re.findall('(?<=\d{2,})(\d+)',text)











bbc_text = '''Sometimes, saving a species means treating one animal at a time. The veterinarians at The Wildlife Hospital, Dunedin do just that, going small to go big by caring exclusively for native animals. Headquartered close to the wildlife-rich Otago Peninsula on New Zealand's South Island, the hospital is ideally placed to help where it's most needed. Hoiho are among the world's most endangered penguin species, with just an estimated 4,000 to 5,000 adults left in the wild, and they arrive at the hospital for a variety of reasons including starvation, injury and disease.
But each animal has a better chance at survival than ever before, thanks to the combined efforts of The Wildlife Hospital and Penguin Place, a nearby recovery home that has been helping the hoiho since the 1990s.'''
bbc_text





alignment = '''2742497 reads; of these:
  2742497 (100.00%) were paired; of these:
    1510621 (55.08%) aligned concordantly 0 times
    903271 (32.94%) aligned concordantly exactly 1 time
    328605 (11.98%) aligned concordantly >1 times
    ----
    1510621 pairs aligned concordantly 0 times; of these:
      215924 (14.29%) aligned discordantly 1 time
    ----
    1294697 pairs aligned 0 times concordantly or discordantly; of these:
      2589394 mates make up the pairs; of these:
        1091850 (42.17%) aligned 0 times
        678263 (26.19%) aligned exactly 1 time
        819281 (31.64%) aligned >1 times
80.09% overall alignment rate
'''








import pandas as pd
snp_array = pd.read_csv('SNP_data.txt')
snp_array.head()                        






