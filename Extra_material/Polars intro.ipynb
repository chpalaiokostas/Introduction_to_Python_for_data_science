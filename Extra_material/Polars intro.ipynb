{
 "cells": [
  {
   "cell_type": "code",
   "execution_count": 2,
   "id": "60d7ff13",
   "metadata": {},
   "outputs": [],
   "source": [
    "import pandas as pd\n",
    "import polars as pl"
   ]
  },
  {
   "cell_type": "code",
   "execution_count": 2,
   "id": "ef3a9b5c",
   "metadata": {},
   "outputs": [
    {
     "name": "stdout",
     "output_type": "stream",
     "text": [
      "Name: polars\r\n",
      "Version: 0.20.5\r\n",
      "Summary: Blazingly fast DataFrame library\r\n",
      "Home-page: \r\n",
      "Author: \r\n",
      "Author-email: Ritchie Vink <ritchie46@gmail.com>\r\n",
      "License: \r\n",
      "Location: /Library/Frameworks/Python.framework/Versions/3.12/lib/python3.12/site-packages\r\n",
      "Requires: \r\n",
      "Required-by: \r\n"
     ]
    }
   ],
   "source": [
    "!pip show polars"
   ]
  },
  {
   "cell_type": "markdown",
   "id": "8904cf0d",
   "metadata": {},
   "source": [
    "### Basic functionality"
   ]
  },
  {
   "cell_type": "markdown",
   "id": "b1e866ca",
   "metadata": {},
   "source": [
    "We can import data in a similar fashion to pandas"
   ]
  },
  {
   "cell_type": "code",
   "execution_count": 3,
   "id": "1ef30df4",
   "metadata": {},
   "outputs": [],
   "source": [
    "ac_pheno = pl.read_csv(\"ac_pheno.txt\",separator=\"\\t\",null_values=\"NA\")"
   ]
  },
  {
   "cell_type": "code",
   "execution_count": 4,
   "id": "b04388a1",
   "metadata": {},
   "outputs": [
    {
     "data": {
      "text/html": [
       "<div><style>\n",
       ".dataframe > thead > tr,\n",
       ".dataframe > tbody > tr {\n",
       "  text-align: right;\n",
       "  white-space: pre-wrap;\n",
       "}\n",
       "</style>\n",
       "<small>shape: (2_862, 6)</small><table border=\"1\" class=\"dataframe\"><thead><tr><th>PIT</th><th>Length</th><th>Weight</th><th>Tank</th><th>Sex</th><th>Site</th></tr><tr><td>i64</td><td>i64</td><td>i64</td><td>i64</td><td>str</td><td>i64</td></tr></thead><tbody><tr><td>919540</td><td>465</td><td>1514</td><td>1</td><td>&quot;U&quot;</td><td>1</td></tr><tr><td>918025</td><td>455</td><td>1250</td><td>1</td><td>&quot;U&quot;</td><td>1</td></tr><tr><td>917803</td><td>405</td><td>937</td><td>1</td><td>&quot;U&quot;</td><td>1</td></tr><tr><td>918763</td><td>505</td><td>2667</td><td>4</td><td>&quot;M&quot;</td><td>2</td></tr><tr><td>917365</td><td>500</td><td>2204</td><td>4</td><td>&quot;U&quot;</td><td>2</td></tr><tr><td>916380</td><td>520</td><td>2336</td><td>4</td><td>&quot;U&quot;</td><td>2</td></tr><tr><td>9186524</td><td>535</td><td>3065</td><td>4</td><td>&quot;U&quot;</td><td>2</td></tr><tr><td>915778</td><td>490</td><td>1774</td><td>4</td><td>&quot;U&quot;</td><td>2</td></tr><tr><td>916993</td><td>435</td><td>1426</td><td>3</td><td>&quot;U&quot;</td><td>1</td></tr><tr><td>916238</td><td>475</td><td>1545</td><td>3</td><td>&quot;U&quot;</td><td>1</td></tr><tr><td>916890</td><td>475</td><td>1408</td><td>3</td><td>&quot;U&quot;</td><td>1</td></tr><tr><td>919647</td><td>525</td><td>2424</td><td>3</td><td>&quot;M&quot;</td><td>1</td></tr><tr><td>&hellip;</td><td>&hellip;</td><td>&hellip;</td><td>&hellip;</td><td>&hellip;</td><td>&hellip;</td></tr><tr><td>916210</td><td>null</td><td>1331</td><td>2</td><td>&quot;U&quot;</td><td>1</td></tr><tr><td>920428</td><td>490</td><td>2134</td><td>2</td><td>&quot;M&quot;</td><td>1</td></tr><tr><td>920343</td><td>490</td><td>1661</td><td>2</td><td>&quot;M&quot;</td><td>1</td></tr><tr><td>918125</td><td>455</td><td>1371</td><td>2</td><td>&quot;U&quot;</td><td>1</td></tr><tr><td>918957</td><td>435</td><td>1276</td><td>2</td><td>&quot;U&quot;</td><td>1</td></tr><tr><td>9195532</td><td>430</td><td>1847</td><td>2</td><td>&quot;U&quot;</td><td>1</td></tr><tr><td>917155</td><td>445</td><td>1377</td><td>2</td><td>&quot;U&quot;</td><td>1</td></tr><tr><td>920227</td><td>475</td><td>1565</td><td>2</td><td>&quot;U&quot;</td><td>1</td></tr><tr><td>915897</td><td>440</td><td>1300</td><td>2</td><td>&quot;U&quot;</td><td>1</td></tr><tr><td>917341</td><td>450</td><td>1510</td><td>2</td><td>&quot;U&quot;</td><td>1</td></tr><tr><td>915861</td><td>450</td><td>1464</td><td>2</td><td>&quot;U&quot;</td><td>1</td></tr><tr><td>9197101</td><td>420</td><td>1069</td><td>2</td><td>&quot;U&quot;</td><td>1</td></tr></tbody></table></div>"
      ],
      "text/plain": [
       "shape: (2_862, 6)\n",
       "┌─────────┬────────┬────────┬──────┬─────┬──────┐\n",
       "│ PIT     ┆ Length ┆ Weight ┆ Tank ┆ Sex ┆ Site │\n",
       "│ ---     ┆ ---    ┆ ---    ┆ ---  ┆ --- ┆ ---  │\n",
       "│ i64     ┆ i64    ┆ i64    ┆ i64  ┆ str ┆ i64  │\n",
       "╞═════════╪════════╪════════╪══════╪═════╪══════╡\n",
       "│ 919540  ┆ 465    ┆ 1514   ┆ 1    ┆ U   ┆ 1    │\n",
       "│ 918025  ┆ 455    ┆ 1250   ┆ 1    ┆ U   ┆ 1    │\n",
       "│ 917803  ┆ 405    ┆ 937    ┆ 1    ┆ U   ┆ 1    │\n",
       "│ 918763  ┆ 505    ┆ 2667   ┆ 4    ┆ M   ┆ 2    │\n",
       "│ 917365  ┆ 500    ┆ 2204   ┆ 4    ┆ U   ┆ 2    │\n",
       "│ …       ┆ …      ┆ …      ┆ …    ┆ …   ┆ …    │\n",
       "│ 920227  ┆ 475    ┆ 1565   ┆ 2    ┆ U   ┆ 1    │\n",
       "│ 915897  ┆ 440    ┆ 1300   ┆ 2    ┆ U   ┆ 1    │\n",
       "│ 917341  ┆ 450    ┆ 1510   ┆ 2    ┆ U   ┆ 1    │\n",
       "│ 915861  ┆ 450    ┆ 1464   ┆ 2    ┆ U   ┆ 1    │\n",
       "│ 9197101 ┆ 420    ┆ 1069   ┆ 2    ┆ U   ┆ 1    │\n",
       "└─────────┴────────┴────────┴──────┴─────┴──────┘"
      ]
     },
     "execution_count": 4,
     "metadata": {},
     "output_type": "execute_result"
    }
   ],
   "source": [
    "ac_pheno"
   ]
  },
  {
   "cell_type": "code",
   "execution_count": 5,
   "id": "67a630f9",
   "metadata": {},
   "outputs": [
    {
     "data": {
      "text/plain": [
       "(2862, 6)"
      ]
     },
     "execution_count": 5,
     "metadata": {},
     "output_type": "execute_result"
    }
   ],
   "source": [
    "ac_pheno.shape"
   ]
  },
  {
   "cell_type": "code",
   "execution_count": 6,
   "id": "3188a9bc",
   "metadata": {},
   "outputs": [
    {
     "data": {
      "text/plain": [
       "OrderedDict([('PIT', Int64),\n",
       "             ('Length', Int64),\n",
       "             ('Weight', Int64),\n",
       "             ('Tank', Int64),\n",
       "             ('Sex', String),\n",
       "             ('Site', Int64)])"
      ]
     },
     "execution_count": 6,
     "metadata": {},
     "output_type": "execute_result"
    }
   ],
   "source": [
    "ac_pheno.schema"
   ]
  },
  {
   "cell_type": "markdown",
   "id": "d87527c9",
   "metadata": {},
   "source": [
    "Conveniently `polars`largely uses the same naming conventions with `pandas`"
   ]
  },
  {
   "cell_type": "code",
   "execution_count": 7,
   "id": "166abff7",
   "metadata": {},
   "outputs": [
    {
     "data": {
      "text/html": [
       "<div><style>\n",
       ".dataframe > thead > tr,\n",
       ".dataframe > tbody > tr {\n",
       "  text-align: right;\n",
       "  white-space: pre-wrap;\n",
       "}\n",
       "</style>\n",
       "<small>shape: (9, 7)</small><table border=\"1\" class=\"dataframe\"><thead><tr><th>describe</th><th>PIT</th><th>Length</th><th>Weight</th><th>Tank</th><th>Sex</th><th>Site</th></tr><tr><td>str</td><td>f64</td><td>f64</td><td>f64</td><td>f64</td><td>str</td><td>f64</td></tr></thead><tbody><tr><td>&quot;count&quot;</td><td>2862.0</td><td>2838.0</td><td>2845.0</td><td>2852.0</td><td>&quot;2852&quot;</td><td>2852.0</td></tr><tr><td>&quot;null_count&quot;</td><td>0.0</td><td>24.0</td><td>17.0</td><td>10.0</td><td>&quot;10&quot;</td><td>10.0</td></tr><tr><td>&quot;mean&quot;</td><td>952706.21768</td><td>463.836152</td><td>1648.48225</td><td>2.934432</td><td>null</td><td>1.461781</td></tr><tr><td>&quot;std&quot;</td><td>534319.113939</td><td>39.908756</td><td>529.221099</td><td>1.155825</td><td>null</td><td>0.498625</td></tr><tr><td>&quot;min&quot;</td><td>915581.0</td><td>305.0</td><td>306.0</td><td>1.0</td><td>&quot;M&quot;</td><td>1.0</td></tr><tr><td>&quot;25%&quot;</td><td>916798.0</td><td>440.0</td><td>1286.0</td><td>2.0</td><td>null</td><td>1.0</td></tr><tr><td>&quot;50%&quot;</td><td>918002.0</td><td>465.0</td><td>1600.0</td><td>3.0</td><td>null</td><td>1.0</td></tr><tr><td>&quot;75%&quot;</td><td>919318.0</td><td>490.0</td><td>1950.0</td><td>4.0</td><td>null</td><td>2.0</td></tr><tr><td>&quot;max&quot;</td><td>9.202514e6</td><td>590.0</td><td>3942.0</td><td>4.0</td><td>&quot;U&quot;</td><td>2.0</td></tr></tbody></table></div>"
      ],
      "text/plain": [
       "shape: (9, 7)\n",
       "┌────────────┬───────────────┬────────────┬────────────┬──────────┬──────┬──────────┐\n",
       "│ describe   ┆ PIT           ┆ Length     ┆ Weight     ┆ Tank     ┆ Sex  ┆ Site     │\n",
       "│ ---        ┆ ---           ┆ ---        ┆ ---        ┆ ---      ┆ ---  ┆ ---      │\n",
       "│ str        ┆ f64           ┆ f64        ┆ f64        ┆ f64      ┆ str  ┆ f64      │\n",
       "╞════════════╪═══════════════╪════════════╪════════════╪══════════╪══════╪══════════╡\n",
       "│ count      ┆ 2862.0        ┆ 2838.0     ┆ 2845.0     ┆ 2852.0   ┆ 2852 ┆ 2852.0   │\n",
       "│ null_count ┆ 0.0           ┆ 24.0       ┆ 17.0       ┆ 10.0     ┆ 10   ┆ 10.0     │\n",
       "│ mean       ┆ 952706.21768  ┆ 463.836152 ┆ 1648.48225 ┆ 2.934432 ┆ null ┆ 1.461781 │\n",
       "│ std        ┆ 534319.113939 ┆ 39.908756  ┆ 529.221099 ┆ 1.155825 ┆ null ┆ 0.498625 │\n",
       "│ min        ┆ 915581.0      ┆ 305.0      ┆ 306.0      ┆ 1.0      ┆ M    ┆ 1.0      │\n",
       "│ 25%        ┆ 916798.0      ┆ 440.0      ┆ 1286.0     ┆ 2.0      ┆ null ┆ 1.0      │\n",
       "│ 50%        ┆ 918002.0      ┆ 465.0      ┆ 1600.0     ┆ 3.0      ┆ null ┆ 1.0      │\n",
       "│ 75%        ┆ 919318.0      ┆ 490.0      ┆ 1950.0     ┆ 4.0      ┆ null ┆ 2.0      │\n",
       "│ max        ┆ 9.202514e6    ┆ 590.0      ┆ 3942.0     ┆ 4.0      ┆ U    ┆ 2.0      │\n",
       "└────────────┴───────────────┴────────────┴────────────┴──────────┴──────┴──────────┘"
      ]
     },
     "execution_count": 7,
     "metadata": {},
     "output_type": "execute_result"
    }
   ],
   "source": [
    "ac_pheno.describe()"
   ]
  },
  {
   "cell_type": "markdown",
   "id": "c942316d",
   "metadata": {},
   "source": [
    "In the following we can see how to apply different types of expressions to `polars` dataframes"
   ]
  },
  {
   "cell_type": "markdown",
   "id": "29e604b5",
   "metadata": {},
   "source": [
    "Let's see how we can select one or multiple columns"
   ]
  },
  {
   "cell_type": "code",
   "execution_count": 8,
   "id": "fe9b2e6f",
   "metadata": {},
   "outputs": [
    {
     "data": {
      "text/html": [
       "<div><style>\n",
       ".dataframe > thead > tr,\n",
       ".dataframe > tbody > tr {\n",
       "  text-align: right;\n",
       "  white-space: pre-wrap;\n",
       "}\n",
       "</style>\n",
       "<small>shape: (2_862, 1)</small><table border=\"1\" class=\"dataframe\"><thead><tr><th>Site</th></tr><tr><td>i64</td></tr></thead><tbody><tr><td>1</td></tr><tr><td>1</td></tr><tr><td>1</td></tr><tr><td>2</td></tr><tr><td>2</td></tr><tr><td>2</td></tr><tr><td>2</td></tr><tr><td>2</td></tr><tr><td>1</td></tr><tr><td>1</td></tr><tr><td>1</td></tr><tr><td>1</td></tr><tr><td>&hellip;</td></tr><tr><td>1</td></tr><tr><td>1</td></tr><tr><td>1</td></tr><tr><td>1</td></tr><tr><td>1</td></tr><tr><td>1</td></tr><tr><td>1</td></tr><tr><td>1</td></tr><tr><td>1</td></tr><tr><td>1</td></tr><tr><td>1</td></tr><tr><td>1</td></tr></tbody></table></div>"
      ],
      "text/plain": [
       "shape: (2_862, 1)\n",
       "┌──────┐\n",
       "│ Site │\n",
       "│ ---  │\n",
       "│ i64  │\n",
       "╞══════╡\n",
       "│ 1    │\n",
       "│ 1    │\n",
       "│ 1    │\n",
       "│ 2    │\n",
       "│ 2    │\n",
       "│ …    │\n",
       "│ 1    │\n",
       "│ 1    │\n",
       "│ 1    │\n",
       "│ 1    │\n",
       "│ 1    │\n",
       "└──────┘"
      ]
     },
     "execution_count": 8,
     "metadata": {},
     "output_type": "execute_result"
    }
   ],
   "source": [
    "ac_pheno.select('Site')"
   ]
  },
  {
   "cell_type": "code",
   "execution_count": 9,
   "id": "b9f88987",
   "metadata": {},
   "outputs": [
    {
     "data": {
      "text/html": [
       "<div><style>\n",
       ".dataframe > thead > tr,\n",
       ".dataframe > tbody > tr {\n",
       "  text-align: right;\n",
       "  white-space: pre-wrap;\n",
       "}\n",
       "</style>\n",
       "<small>shape: (2_862, 2)</small><table border=\"1\" class=\"dataframe\"><thead><tr><th>Weight</th><th>Sex</th></tr><tr><td>i64</td><td>str</td></tr></thead><tbody><tr><td>1514</td><td>&quot;U&quot;</td></tr><tr><td>1250</td><td>&quot;U&quot;</td></tr><tr><td>937</td><td>&quot;U&quot;</td></tr><tr><td>2667</td><td>&quot;M&quot;</td></tr><tr><td>2204</td><td>&quot;U&quot;</td></tr><tr><td>2336</td><td>&quot;U&quot;</td></tr><tr><td>3065</td><td>&quot;U&quot;</td></tr><tr><td>1774</td><td>&quot;U&quot;</td></tr><tr><td>1426</td><td>&quot;U&quot;</td></tr><tr><td>1545</td><td>&quot;U&quot;</td></tr><tr><td>1408</td><td>&quot;U&quot;</td></tr><tr><td>2424</td><td>&quot;M&quot;</td></tr><tr><td>&hellip;</td><td>&hellip;</td></tr><tr><td>1331</td><td>&quot;U&quot;</td></tr><tr><td>2134</td><td>&quot;M&quot;</td></tr><tr><td>1661</td><td>&quot;M&quot;</td></tr><tr><td>1371</td><td>&quot;U&quot;</td></tr><tr><td>1276</td><td>&quot;U&quot;</td></tr><tr><td>1847</td><td>&quot;U&quot;</td></tr><tr><td>1377</td><td>&quot;U&quot;</td></tr><tr><td>1565</td><td>&quot;U&quot;</td></tr><tr><td>1300</td><td>&quot;U&quot;</td></tr><tr><td>1510</td><td>&quot;U&quot;</td></tr><tr><td>1464</td><td>&quot;U&quot;</td></tr><tr><td>1069</td><td>&quot;U&quot;</td></tr></tbody></table></div>"
      ],
      "text/plain": [
       "shape: (2_862, 2)\n",
       "┌────────┬─────┐\n",
       "│ Weight ┆ Sex │\n",
       "│ ---    ┆ --- │\n",
       "│ i64    ┆ str │\n",
       "╞════════╪═════╡\n",
       "│ 1514   ┆ U   │\n",
       "│ 1250   ┆ U   │\n",
       "│ 937    ┆ U   │\n",
       "│ 2667   ┆ M   │\n",
       "│ 2204   ┆ U   │\n",
       "│ …      ┆ …   │\n",
       "│ 1565   ┆ U   │\n",
       "│ 1300   ┆ U   │\n",
       "│ 1510   ┆ U   │\n",
       "│ 1464   ┆ U   │\n",
       "│ 1069   ┆ U   │\n",
       "└────────┴─────┘"
      ]
     },
     "execution_count": 9,
     "metadata": {},
     "output_type": "execute_result"
    }
   ],
   "source": [
    "ac_pheno.select([\"Weight\",\"Sex\"])"
   ]
  },
  {
   "cell_type": "markdown",
   "id": "000a5009",
   "metadata": {},
   "source": [
    "An alternative and more flexible way to accomplish the same is as follows"
   ]
  },
  {
   "cell_type": "code",
   "execution_count": 10,
   "id": "aa606b64",
   "metadata": {},
   "outputs": [
    {
     "data": {
      "text/html": [
       "<div><style>\n",
       ".dataframe > thead > tr,\n",
       ".dataframe > tbody > tr {\n",
       "  text-align: right;\n",
       "  white-space: pre-wrap;\n",
       "}\n",
       "</style>\n",
       "<small>shape: (2_862, 2)</small><table border=\"1\" class=\"dataframe\"><thead><tr><th>Sex</th><th>Length</th></tr><tr><td>str</td><td>i64</td></tr></thead><tbody><tr><td>&quot;U&quot;</td><td>465</td></tr><tr><td>&quot;U&quot;</td><td>455</td></tr><tr><td>&quot;U&quot;</td><td>405</td></tr><tr><td>&quot;M&quot;</td><td>505</td></tr><tr><td>&quot;U&quot;</td><td>500</td></tr><tr><td>&quot;U&quot;</td><td>520</td></tr><tr><td>&quot;U&quot;</td><td>535</td></tr><tr><td>&quot;U&quot;</td><td>490</td></tr><tr><td>&quot;U&quot;</td><td>435</td></tr><tr><td>&quot;U&quot;</td><td>475</td></tr><tr><td>&quot;U&quot;</td><td>475</td></tr><tr><td>&quot;M&quot;</td><td>525</td></tr><tr><td>&hellip;</td><td>&hellip;</td></tr><tr><td>&quot;U&quot;</td><td>null</td></tr><tr><td>&quot;M&quot;</td><td>490</td></tr><tr><td>&quot;M&quot;</td><td>490</td></tr><tr><td>&quot;U&quot;</td><td>455</td></tr><tr><td>&quot;U&quot;</td><td>435</td></tr><tr><td>&quot;U&quot;</td><td>430</td></tr><tr><td>&quot;U&quot;</td><td>445</td></tr><tr><td>&quot;U&quot;</td><td>475</td></tr><tr><td>&quot;U&quot;</td><td>440</td></tr><tr><td>&quot;U&quot;</td><td>450</td></tr><tr><td>&quot;U&quot;</td><td>450</td></tr><tr><td>&quot;U&quot;</td><td>420</td></tr></tbody></table></div>"
      ],
      "text/plain": [
       "shape: (2_862, 2)\n",
       "┌─────┬────────┐\n",
       "│ Sex ┆ Length │\n",
       "│ --- ┆ ---    │\n",
       "│ str ┆ i64    │\n",
       "╞═════╪════════╡\n",
       "│ U   ┆ 465    │\n",
       "│ U   ┆ 455    │\n",
       "│ U   ┆ 405    │\n",
       "│ M   ┆ 505    │\n",
       "│ U   ┆ 500    │\n",
       "│ …   ┆ …      │\n",
       "│ U   ┆ 475    │\n",
       "│ U   ┆ 440    │\n",
       "│ U   ┆ 450    │\n",
       "│ U   ┆ 450    │\n",
       "│ U   ┆ 420    │\n",
       "└─────┴────────┘"
      ]
     },
     "execution_count": 10,
     "metadata": {},
     "output_type": "execute_result"
    }
   ],
   "source": [
    "ac_pheno.select(pl.col([\"Sex\",\"Length\"]))"
   ]
  },
  {
   "cell_type": "markdown",
   "id": "4e2b6069",
   "metadata": {},
   "source": [
    "The above is more flexible as it allows for further manipulations"
   ]
  },
  {
   "cell_type": "code",
   "execution_count": 11,
   "id": "ccc62dd2",
   "metadata": {},
   "outputs": [
    {
     "data": {
      "text/html": [
       "<div><style>\n",
       ".dataframe > thead > tr,\n",
       ".dataframe > tbody > tr {\n",
       "  text-align: right;\n",
       "  white-space: pre-wrap;\n",
       "}\n",
       "</style>\n",
       "<small>shape: (2_862, 2)</small><table border=\"1\" class=\"dataframe\"><thead><tr><th>Sex</th><th>Length</th></tr><tr><td>str</td><td>i64</td></tr></thead><tbody><tr><td>null</td><td>null</td></tr><tr><td>null</td><td>null</td></tr><tr><td>null</td><td>null</td></tr><tr><td>null</td><td>null</td></tr><tr><td>null</td><td>null</td></tr><tr><td>null</td><td>null</td></tr><tr><td>null</td><td>null</td></tr><tr><td>null</td><td>null</td></tr><tr><td>null</td><td>null</td></tr><tr><td>null</td><td>null</td></tr><tr><td>&quot;M&quot;</td><td>null</td></tr><tr><td>&quot;M&quot;</td><td>null</td></tr><tr><td>&hellip;</td><td>&hellip;</td></tr><tr><td>&quot;U&quot;</td><td>560</td></tr><tr><td>&quot;U&quot;</td><td>560</td></tr><tr><td>&quot;U&quot;</td><td>560</td></tr><tr><td>&quot;U&quot;</td><td>560</td></tr><tr><td>&quot;U&quot;</td><td>560</td></tr><tr><td>&quot;U&quot;</td><td>565</td></tr><tr><td>&quot;U&quot;</td><td>565</td></tr><tr><td>&quot;U&quot;</td><td>570</td></tr><tr><td>&quot;U&quot;</td><td>580</td></tr><tr><td>&quot;U&quot;</td><td>580</td></tr><tr><td>&quot;U&quot;</td><td>585</td></tr><tr><td>&quot;U&quot;</td><td>590</td></tr></tbody></table></div>"
      ],
      "text/plain": [
       "shape: (2_862, 2)\n",
       "┌──────┬────────┐\n",
       "│ Sex  ┆ Length │\n",
       "│ ---  ┆ ---    │\n",
       "│ str  ┆ i64    │\n",
       "╞══════╪════════╡\n",
       "│ null ┆ null   │\n",
       "│ null ┆ null   │\n",
       "│ null ┆ null   │\n",
       "│ null ┆ null   │\n",
       "│ null ┆ null   │\n",
       "│ …    ┆ …      │\n",
       "│ U    ┆ 570    │\n",
       "│ U    ┆ 580    │\n",
       "│ U    ┆ 580    │\n",
       "│ U    ┆ 585    │\n",
       "│ U    ┆ 590    │\n",
       "└──────┴────────┘"
      ]
     },
     "execution_count": 11,
     "metadata": {},
     "output_type": "execute_result"
    }
   ],
   "source": [
    "ac_pheno.select(pl.col([\"Sex\",\"Length\"]).sort())"
   ]
  },
  {
   "cell_type": "markdown",
   "id": "38c946f9",
   "metadata": {},
   "source": [
    "Similarly if we want to extract data that abide to certain thresholds"
   ]
  },
  {
   "cell_type": "code",
   "execution_count": 12,
   "id": "bb70b052",
   "metadata": {},
   "outputs": [
    {
     "data": {
      "text/html": [
       "<div><style>\n",
       ".dataframe > thead > tr,\n",
       ".dataframe > tbody > tr {\n",
       "  text-align: right;\n",
       "  white-space: pre-wrap;\n",
       "}\n",
       "</style>\n",
       "<small>shape: (1_419, 6)</small><table border=\"1\" class=\"dataframe\"><thead><tr><th>PIT</th><th>Length</th><th>Weight</th><th>Tank</th><th>Sex</th><th>Site</th></tr><tr><td>i64</td><td>i64</td><td>i64</td><td>i64</td><td>str</td><td>i64</td></tr></thead><tbody><tr><td>918763</td><td>505</td><td>2667</td><td>4</td><td>&quot;M&quot;</td><td>2</td></tr><tr><td>917365</td><td>500</td><td>2204</td><td>4</td><td>&quot;U&quot;</td><td>2</td></tr><tr><td>916380</td><td>520</td><td>2336</td><td>4</td><td>&quot;U&quot;</td><td>2</td></tr><tr><td>9186524</td><td>535</td><td>3065</td><td>4</td><td>&quot;U&quot;</td><td>2</td></tr><tr><td>915778</td><td>490</td><td>1774</td><td>4</td><td>&quot;U&quot;</td><td>2</td></tr><tr><td>919647</td><td>525</td><td>2424</td><td>3</td><td>&quot;M&quot;</td><td>1</td></tr><tr><td>917332</td><td>495</td><td>2118</td><td>3</td><td>&quot;U&quot;</td><td>1</td></tr><tr><td>918936</td><td>490</td><td>2317</td><td>3</td><td>&quot;M&quot;</td><td>1</td></tr><tr><td>917426</td><td>505</td><td>1889</td><td>3</td><td>&quot;M&quot;</td><td>1</td></tr><tr><td>9168104</td><td>485</td><td>1840</td><td>3</td><td>&quot;U&quot;</td><td>1</td></tr><tr><td>919852</td><td>455</td><td>1637</td><td>3</td><td>&quot;U&quot;</td><td>1</td></tr><tr><td>920508</td><td>485</td><td>1627</td><td>3</td><td>&quot;U&quot;</td><td>1</td></tr><tr><td>&hellip;</td><td>&hellip;</td><td>&hellip;</td><td>&hellip;</td><td>&hellip;</td><td>&hellip;</td></tr><tr><td>919194</td><td>480</td><td>1670</td><td>2</td><td>&quot;U&quot;</td><td>1</td></tr><tr><td>918916</td><td>475</td><td>1738</td><td>2</td><td>&quot;U&quot;</td><td>1</td></tr><tr><td>918146</td><td>470</td><td>1708</td><td>2</td><td>&quot;U&quot;</td><td>1</td></tr><tr><td>916199</td><td>475</td><td>1643</td><td>2</td><td>&quot;M&quot;</td><td>1</td></tr><tr><td>917182</td><td>510</td><td>2433</td><td>2</td><td>&quot;U&quot;</td><td>1</td></tr><tr><td>915977</td><td>470</td><td>1629</td><td>2</td><td>&quot;U&quot;</td><td>1</td></tr><tr><td>920311</td><td>465</td><td>1604</td><td>2</td><td>&quot;U&quot;</td><td>1</td></tr><tr><td>918650</td><td>null</td><td>1797</td><td>2</td><td>&quot;U&quot;</td><td>1</td></tr><tr><td>917593</td><td>null</td><td>1699</td><td>2</td><td>&quot;U&quot;</td><td>1</td></tr><tr><td>920428</td><td>490</td><td>2134</td><td>2</td><td>&quot;M&quot;</td><td>1</td></tr><tr><td>920343</td><td>490</td><td>1661</td><td>2</td><td>&quot;M&quot;</td><td>1</td></tr><tr><td>9195532</td><td>430</td><td>1847</td><td>2</td><td>&quot;U&quot;</td><td>1</td></tr></tbody></table></div>"
      ],
      "text/plain": [
       "shape: (1_419, 6)\n",
       "┌─────────┬────────┬────────┬──────┬─────┬──────┐\n",
       "│ PIT     ┆ Length ┆ Weight ┆ Tank ┆ Sex ┆ Site │\n",
       "│ ---     ┆ ---    ┆ ---    ┆ ---  ┆ --- ┆ ---  │\n",
       "│ i64     ┆ i64    ┆ i64    ┆ i64  ┆ str ┆ i64  │\n",
       "╞═════════╪════════╪════════╪══════╪═════╪══════╡\n",
       "│ 918763  ┆ 505    ┆ 2667   ┆ 4    ┆ M   ┆ 2    │\n",
       "│ 917365  ┆ 500    ┆ 2204   ┆ 4    ┆ U   ┆ 2    │\n",
       "│ 916380  ┆ 520    ┆ 2336   ┆ 4    ┆ U   ┆ 2    │\n",
       "│ 9186524 ┆ 535    ┆ 3065   ┆ 4    ┆ U   ┆ 2    │\n",
       "│ 915778  ┆ 490    ┆ 1774   ┆ 4    ┆ U   ┆ 2    │\n",
       "│ …       ┆ …      ┆ …      ┆ …    ┆ …   ┆ …    │\n",
       "│ 918650  ┆ null   ┆ 1797   ┆ 2    ┆ U   ┆ 1    │\n",
       "│ 917593  ┆ null   ┆ 1699   ┆ 2    ┆ U   ┆ 1    │\n",
       "│ 920428  ┆ 490    ┆ 2134   ┆ 2    ┆ M   ┆ 1    │\n",
       "│ 920343  ┆ 490    ┆ 1661   ┆ 2    ┆ M   ┆ 1    │\n",
       "│ 9195532 ┆ 430    ┆ 1847   ┆ 2    ┆ U   ┆ 1    │\n",
       "└─────────┴────────┴────────┴──────┴─────┴──────┘"
      ]
     },
     "execution_count": 12,
     "metadata": {},
     "output_type": "execute_result"
    }
   ],
   "source": [
    "ac_pheno.filter(pl.col(\"Weight\") > 1600)"
   ]
  },
  {
   "cell_type": "markdown",
   "id": "d6b81e91",
   "metadata": {},
   "source": [
    "We can chain multiple expressions as follows"
   ]
  },
  {
   "cell_type": "code",
   "execution_count": 13,
   "id": "9f9efa4f",
   "metadata": {},
   "outputs": [
    {
     "data": {
      "text/html": [
       "<div><style>\n",
       ".dataframe > thead > tr,\n",
       ".dataframe > tbody > tr {\n",
       "  text-align: right;\n",
       "  white-space: pre-wrap;\n",
       "}\n",
       "</style>\n",
       "<small>shape: (1, 6)</small><table border=\"1\" class=\"dataframe\"><thead><tr><th>PIT</th><th>Length</th><th>Weight</th><th>Tank</th><th>Sex</th><th>Site</th></tr><tr><td>i64</td><td>i64</td><td>i64</td><td>i64</td><td>str</td><td>i64</td></tr></thead><tbody><tr><td>915582</td><td>415</td><td>1601</td><td>1</td><td>&quot;M&quot;</td><td>1</td></tr></tbody></table></div>"
      ],
      "text/plain": [
       "shape: (1, 6)\n",
       "┌────────┬────────┬────────┬──────┬─────┬──────┐\n",
       "│ PIT    ┆ Length ┆ Weight ┆ Tank ┆ Sex ┆ Site │\n",
       "│ ---    ┆ ---    ┆ ---    ┆ ---  ┆ --- ┆ ---  │\n",
       "│ i64    ┆ i64    ┆ i64    ┆ i64  ┆ str ┆ i64  │\n",
       "╞════════╪════════╪════════╪══════╪═════╪══════╡\n",
       "│ 915582 ┆ 415    ┆ 1601   ┆ 1    ┆ M   ┆ 1    │\n",
       "└────────┴────────┴────────┴──────┴─────┴──────┘"
      ]
     },
     "execution_count": 13,
     "metadata": {},
     "output_type": "execute_result"
    }
   ],
   "source": [
    "ac_pheno.filter(pl.col(\"Weight\") > 1600).min()"
   ]
  },
  {
   "cell_type": "markdown",
   "id": "f8ddb50c",
   "metadata": {},
   "source": [
    "Polars allows us to get valuable insights of our data through aggregations. This come hand in hand with the `group_by`function."
   ]
  },
  {
   "cell_type": "code",
   "execution_count": 14,
   "id": "acdbb157",
   "metadata": {},
   "outputs": [
    {
     "data": {
      "text/html": [
       "<div><style>\n",
       ".dataframe > thead > tr,\n",
       ".dataframe > tbody > tr {\n",
       "  text-align: right;\n",
       "  white-space: pre-wrap;\n",
       "}\n",
       "</style>\n",
       "<small>shape: (3, 4)</small><table border=\"1\" class=\"dataframe\"><thead><tr><th>Site</th><th>Mean_weight_per_site</th><th>Weight_variance_per_site</th><th>Number_of_records_per_site</th></tr><tr><td>i64</td><td>f64</td><td>f64</td><td>u32</td></tr></thead><tbody><tr><td>null</td><td>null</td><td>null</td><td>10</td></tr><tr><td>1</td><td>1445.198953</td><td>150555.098571</td><td>1535</td></tr><tr><td>2</td><td>1884.334093</td><td>326924.6193</td><td>1317</td></tr></tbody></table></div>"
      ],
      "text/plain": [
       "shape: (3, 4)\n",
       "┌──────┬──────────────────────┬──────────────────────────┬────────────────────────────┐\n",
       "│ Site ┆ Mean_weight_per_site ┆ Weight_variance_per_site ┆ Number_of_records_per_site │\n",
       "│ ---  ┆ ---                  ┆ ---                      ┆ ---                        │\n",
       "│ i64  ┆ f64                  ┆ f64                      ┆ u32                        │\n",
       "╞══════╪══════════════════════╪══════════════════════════╪════════════════════════════╡\n",
       "│ null ┆ null                 ┆ null                     ┆ 10                         │\n",
       "│ 1    ┆ 1445.198953          ┆ 150555.098571            ┆ 1535                       │\n",
       "│ 2    ┆ 1884.334093          ┆ 326924.6193              ┆ 1317                       │\n",
       "└──────┴──────────────────────┴──────────────────────────┴────────────────────────────┘"
      ]
     },
     "execution_count": 14,
     "metadata": {},
     "output_type": "execute_result"
    }
   ],
   "source": [
    "ac_pheno.group_by(\"Site\").agg([\n",
    "    pl.mean(\"Weight\").alias(\"Mean_weight_per_site\"),\n",
    "    pl.var(\"Weight\").alias(\"Weight_variance_per_site\"),\n",
    "    pl.len().alias(\"Number_of_records_per_site\")\n",
    "])"
   ]
  },
  {
   "cell_type": "markdown",
   "id": "7afd2520",
   "metadata": {},
   "source": [
    "### Joins "
   ]
  },
  {
   "cell_type": "code",
   "execution_count": 15,
   "id": "f8cf66dc",
   "metadata": {},
   "outputs": [],
   "source": [
    "ac_pedigree = pl.read_csv(\"ac_ped.txt\",separator=\"\\t\",null_values=\"NA\")"
   ]
  },
  {
   "cell_type": "code",
   "execution_count": 16,
   "id": "3df8bc83",
   "metadata": {},
   "outputs": [
    {
     "data": {
      "text/html": [
       "<div><style>\n",
       ".dataframe > thead > tr,\n",
       ".dataframe > tbody > tr {\n",
       "  text-align: right;\n",
       "  white-space: pre-wrap;\n",
       "}\n",
       "</style>\n",
       "<small>shape: (8_362, 5)</small><table border=\"1\" class=\"dataframe\"><thead><tr><th>Id</th><th>Sire</th><th>Dam</th><th>Year_Class</th><th>Selected_gen</th></tr><tr><td>i64</td><td>str</td><td>str</td><td>i64</td><td>i64</td></tr></thead><tbody><tr><td>478665</td><td>&quot;0&quot;</td><td>&quot;0&quot;</td><td>2013</td><td>7</td></tr><tr><td>478620</td><td>&quot;0&quot;</td><td>&quot;0&quot;</td><td>2013</td><td>7</td></tr><tr><td>478601</td><td>&quot;02F49B&quot;</td><td>&quot;01FD38&quot;</td><td>2013</td><td>7</td></tr><tr><td>478656</td><td>&quot;02F49B&quot;</td><td>&quot;01FD38&quot;</td><td>2013</td><td>7</td></tr><tr><td>478671</td><td>&quot;02F49B&quot;</td><td>&quot;01FD38&quot;</td><td>2013</td><td>7</td></tr><tr><td>478651</td><td>&quot;02F49B&quot;</td><td>&quot;01FD38&quot;</td><td>2013</td><td>7</td></tr><tr><td>478660</td><td>&quot;0&quot;</td><td>&quot;0&quot;</td><td>2013</td><td>7</td></tr><tr><td>478667</td><td>&quot;02F49B&quot;</td><td>&quot;01FD38&quot;</td><td>2013</td><td>7</td></tr><tr><td>478649</td><td>&quot;02F49B&quot;</td><td>&quot;01FD38&quot;</td><td>2013</td><td>7</td></tr><tr><td>478661</td><td>&quot;02F49B&quot;</td><td>&quot;01FD38&quot;</td><td>2013</td><td>7</td></tr><tr><td>478610</td><td>&quot;02F49B&quot;</td><td>&quot;01FD38&quot;</td><td>2013</td><td>7</td></tr><tr><td>478642</td><td>&quot;02F49B&quot;</td><td>&quot;01FD38&quot;</td><td>2013</td><td>7</td></tr><tr><td>&hellip;</td><td>&hellip;</td><td>&hellip;</td><td>&hellip;</td><td>&hellip;</td></tr><tr><td>919271</td><td>&quot;597579&quot;</td><td>&quot;900730&quot;</td><td>2017</td><td>8</td></tr><tr><td>919555</td><td>&quot;597579&quot;</td><td>&quot;900730&quot;</td><td>2017</td><td>8</td></tr><tr><td>919343</td><td>&quot;597579&quot;</td><td>&quot;900730&quot;</td><td>2017</td><td>8</td></tr><tr><td>918821</td><td>&quot;597579&quot;</td><td>&quot;900730&quot;</td><td>2017</td><td>8</td></tr><tr><td>918677</td><td>&quot;597579&quot;</td><td>&quot;900730&quot;</td><td>2017</td><td>8</td></tr><tr><td>918925</td><td>&quot;597579&quot;</td><td>&quot;900730&quot;</td><td>2017</td><td>8</td></tr><tr><td>919071</td><td>&quot;597579&quot;</td><td>&quot;900730&quot;</td><td>2017</td><td>8</td></tr><tr><td>919218</td><td>&quot;597579&quot;</td><td>&quot;900730&quot;</td><td>2017</td><td>8</td></tr><tr><td>919013</td><td>&quot;597579&quot;</td><td>&quot;900730&quot;</td><td>2017</td><td>8</td></tr><tr><td>919448</td><td>&quot;597579&quot;</td><td>&quot;900730&quot;</td><td>2017</td><td>8</td></tr><tr><td>919246</td><td>&quot;597579&quot;</td><td>&quot;900730&quot;</td><td>2017</td><td>8</td></tr><tr><td>919420</td><td>&quot;597579&quot;</td><td>&quot;900730&quot;</td><td>2017</td><td>8</td></tr></tbody></table></div>"
      ],
      "text/plain": [
       "shape: (8_362, 5)\n",
       "┌────────┬────────┬────────┬────────────┬──────────────┐\n",
       "│ Id     ┆ Sire   ┆ Dam    ┆ Year_Class ┆ Selected_gen │\n",
       "│ ---    ┆ ---    ┆ ---    ┆ ---        ┆ ---          │\n",
       "│ i64    ┆ str    ┆ str    ┆ i64        ┆ i64          │\n",
       "╞════════╪════════╪════════╪════════════╪══════════════╡\n",
       "│ 478665 ┆ 0      ┆ 0      ┆ 2013       ┆ 7            │\n",
       "│ 478620 ┆ 0      ┆ 0      ┆ 2013       ┆ 7            │\n",
       "│ 478601 ┆ 02F49B ┆ 01FD38 ┆ 2013       ┆ 7            │\n",
       "│ 478656 ┆ 02F49B ┆ 01FD38 ┆ 2013       ┆ 7            │\n",
       "│ 478671 ┆ 02F49B ┆ 01FD38 ┆ 2013       ┆ 7            │\n",
       "│ …      ┆ …      ┆ …      ┆ …          ┆ …            │\n",
       "│ 919218 ┆ 597579 ┆ 900730 ┆ 2017       ┆ 8            │\n",
       "│ 919013 ┆ 597579 ┆ 900730 ┆ 2017       ┆ 8            │\n",
       "│ 919448 ┆ 597579 ┆ 900730 ┆ 2017       ┆ 8            │\n",
       "│ 919246 ┆ 597579 ┆ 900730 ┆ 2017       ┆ 8            │\n",
       "│ 919420 ┆ 597579 ┆ 900730 ┆ 2017       ┆ 8            │\n",
       "└────────┴────────┴────────┴────────────┴──────────────┘"
      ]
     },
     "execution_count": 16,
     "metadata": {},
     "output_type": "execute_result"
    }
   ],
   "source": [
    "ac_pedigree"
   ]
  },
  {
   "cell_type": "markdown",
   "id": "46763cb4",
   "metadata": {},
   "source": [
    "Apparentlly the syntax for performing joins using polars is pretty straightforward. Even more than in pandas."
   ]
  },
  {
   "cell_type": "markdown",
   "id": "29c4b5c1",
   "metadata": {},
   "source": [
    "Let's start with a left join."
   ]
  },
  {
   "cell_type": "code",
   "execution_count": 17,
   "id": "aa07e0b6",
   "metadata": {},
   "outputs": [
    {
     "data": {
      "text/html": [
       "<div><style>\n",
       ".dataframe > thead > tr,\n",
       ".dataframe > tbody > tr {\n",
       "  text-align: right;\n",
       "  white-space: pre-wrap;\n",
       "}\n",
       "</style>\n",
       "<small>shape: (8_429, 10)</small><table border=\"1\" class=\"dataframe\"><thead><tr><th>Id</th><th>Sire</th><th>Dam</th><th>Year_Class</th><th>Selected_gen</th><th>Length</th><th>Weight</th><th>Tank</th><th>Sex</th><th>Site</th></tr><tr><td>i64</td><td>str</td><td>str</td><td>i64</td><td>i64</td><td>i64</td><td>i64</td><td>i64</td><td>str</td><td>i64</td></tr></thead><tbody><tr><td>478665</td><td>&quot;0&quot;</td><td>&quot;0&quot;</td><td>2013</td><td>7</td><td>null</td><td>null</td><td>null</td><td>null</td><td>null</td></tr><tr><td>478620</td><td>&quot;0&quot;</td><td>&quot;0&quot;</td><td>2013</td><td>7</td><td>null</td><td>null</td><td>null</td><td>null</td><td>null</td></tr><tr><td>478601</td><td>&quot;02F49B&quot;</td><td>&quot;01FD38&quot;</td><td>2013</td><td>7</td><td>null</td><td>null</td><td>null</td><td>null</td><td>null</td></tr><tr><td>478656</td><td>&quot;02F49B&quot;</td><td>&quot;01FD38&quot;</td><td>2013</td><td>7</td><td>null</td><td>null</td><td>null</td><td>null</td><td>null</td></tr><tr><td>478671</td><td>&quot;02F49B&quot;</td><td>&quot;01FD38&quot;</td><td>2013</td><td>7</td><td>null</td><td>null</td><td>null</td><td>null</td><td>null</td></tr><tr><td>478651</td><td>&quot;02F49B&quot;</td><td>&quot;01FD38&quot;</td><td>2013</td><td>7</td><td>null</td><td>null</td><td>null</td><td>null</td><td>null</td></tr><tr><td>478660</td><td>&quot;0&quot;</td><td>&quot;0&quot;</td><td>2013</td><td>7</td><td>null</td><td>null</td><td>null</td><td>null</td><td>null</td></tr><tr><td>478667</td><td>&quot;02F49B&quot;</td><td>&quot;01FD38&quot;</td><td>2013</td><td>7</td><td>null</td><td>null</td><td>null</td><td>null</td><td>null</td></tr><tr><td>478649</td><td>&quot;02F49B&quot;</td><td>&quot;01FD38&quot;</td><td>2013</td><td>7</td><td>null</td><td>null</td><td>null</td><td>null</td><td>null</td></tr><tr><td>478661</td><td>&quot;02F49B&quot;</td><td>&quot;01FD38&quot;</td><td>2013</td><td>7</td><td>null</td><td>null</td><td>null</td><td>null</td><td>null</td></tr><tr><td>478610</td><td>&quot;02F49B&quot;</td><td>&quot;01FD38&quot;</td><td>2013</td><td>7</td><td>null</td><td>null</td><td>null</td><td>null</td><td>null</td></tr><tr><td>478642</td><td>&quot;02F49B&quot;</td><td>&quot;01FD38&quot;</td><td>2013</td><td>7</td><td>null</td><td>null</td><td>null</td><td>null</td><td>null</td></tr><tr><td>&hellip;</td><td>&hellip;</td><td>&hellip;</td><td>&hellip;</td><td>&hellip;</td><td>&hellip;</td><td>&hellip;</td><td>&hellip;</td><td>&hellip;</td><td>&hellip;</td></tr><tr><td>919271</td><td>&quot;597579&quot;</td><td>&quot;900730&quot;</td><td>2017</td><td>8</td><td>null</td><td>null</td><td>null</td><td>null</td><td>null</td></tr><tr><td>919555</td><td>&quot;597579&quot;</td><td>&quot;900730&quot;</td><td>2017</td><td>8</td><td>null</td><td>null</td><td>null</td><td>null</td><td>null</td></tr><tr><td>919343</td><td>&quot;597579&quot;</td><td>&quot;900730&quot;</td><td>2017</td><td>8</td><td>null</td><td>null</td><td>null</td><td>null</td><td>null</td></tr><tr><td>918821</td><td>&quot;597579&quot;</td><td>&quot;900730&quot;</td><td>2017</td><td>8</td><td>null</td><td>null</td><td>null</td><td>null</td><td>null</td></tr><tr><td>918677</td><td>&quot;597579&quot;</td><td>&quot;900730&quot;</td><td>2017</td><td>8</td><td>null</td><td>null</td><td>null</td><td>null</td><td>null</td></tr><tr><td>918925</td><td>&quot;597579&quot;</td><td>&quot;900730&quot;</td><td>2017</td><td>8</td><td>null</td><td>null</td><td>null</td><td>null</td><td>null</td></tr><tr><td>919071</td><td>&quot;597579&quot;</td><td>&quot;900730&quot;</td><td>2017</td><td>8</td><td>null</td><td>null</td><td>null</td><td>null</td><td>null</td></tr><tr><td>919218</td><td>&quot;597579&quot;</td><td>&quot;900730&quot;</td><td>2017</td><td>8</td><td>null</td><td>null</td><td>null</td><td>null</td><td>null</td></tr><tr><td>919013</td><td>&quot;597579&quot;</td><td>&quot;900730&quot;</td><td>2017</td><td>8</td><td>null</td><td>null</td><td>null</td><td>null</td><td>null</td></tr><tr><td>919448</td><td>&quot;597579&quot;</td><td>&quot;900730&quot;</td><td>2017</td><td>8</td><td>null</td><td>null</td><td>null</td><td>null</td><td>null</td></tr><tr><td>919246</td><td>&quot;597579&quot;</td><td>&quot;900730&quot;</td><td>2017</td><td>8</td><td>null</td><td>null</td><td>null</td><td>null</td><td>null</td></tr><tr><td>919420</td><td>&quot;597579&quot;</td><td>&quot;900730&quot;</td><td>2017</td><td>8</td><td>null</td><td>null</td><td>null</td><td>null</td><td>null</td></tr></tbody></table></div>"
      ],
      "text/plain": [
       "shape: (8_429, 10)\n",
       "┌────────┬────────┬────────┬────────────┬───┬────────┬──────┬──────┬──────┐\n",
       "│ Id     ┆ Sire   ┆ Dam    ┆ Year_Class ┆ … ┆ Weight ┆ Tank ┆ Sex  ┆ Site │\n",
       "│ ---    ┆ ---    ┆ ---    ┆ ---        ┆   ┆ ---    ┆ ---  ┆ ---  ┆ ---  │\n",
       "│ i64    ┆ str    ┆ str    ┆ i64        ┆   ┆ i64    ┆ i64  ┆ str  ┆ i64  │\n",
       "╞════════╪════════╪════════╪════════════╪═══╪════════╪══════╪══════╪══════╡\n",
       "│ 478665 ┆ 0      ┆ 0      ┆ 2013       ┆ … ┆ null   ┆ null ┆ null ┆ null │\n",
       "│ 478620 ┆ 0      ┆ 0      ┆ 2013       ┆ … ┆ null   ┆ null ┆ null ┆ null │\n",
       "│ 478601 ┆ 02F49B ┆ 01FD38 ┆ 2013       ┆ … ┆ null   ┆ null ┆ null ┆ null │\n",
       "│ 478656 ┆ 02F49B ┆ 01FD38 ┆ 2013       ┆ … ┆ null   ┆ null ┆ null ┆ null │\n",
       "│ 478671 ┆ 02F49B ┆ 01FD38 ┆ 2013       ┆ … ┆ null   ┆ null ┆ null ┆ null │\n",
       "│ …      ┆ …      ┆ …      ┆ …          ┆ … ┆ …      ┆ …    ┆ …    ┆ …    │\n",
       "│ 919218 ┆ 597579 ┆ 900730 ┆ 2017       ┆ … ┆ null   ┆ null ┆ null ┆ null │\n",
       "│ 919013 ┆ 597579 ┆ 900730 ┆ 2017       ┆ … ┆ null   ┆ null ┆ null ┆ null │\n",
       "│ 919448 ┆ 597579 ┆ 900730 ┆ 2017       ┆ … ┆ null   ┆ null ┆ null ┆ null │\n",
       "│ 919246 ┆ 597579 ┆ 900730 ┆ 2017       ┆ … ┆ null   ┆ null ┆ null ┆ null │\n",
       "│ 919420 ┆ 597579 ┆ 900730 ┆ 2017       ┆ … ┆ null   ┆ null ┆ null ┆ null │\n",
       "└────────┴────────┴────────┴────────────┴───┴────────┴──────┴──────┴──────┘"
      ]
     },
     "execution_count": 17,
     "metadata": {},
     "output_type": "execute_result"
    }
   ],
   "source": [
    "ac_pedigree.join(ac_pheno, left_on=\"Id\", right_on=\"PIT\",how=\"left\")"
   ]
  },
  {
   "cell_type": "markdown",
   "id": "d79eb241",
   "metadata": {},
   "source": [
    "Similarly if we want an inner join"
   ]
  },
  {
   "cell_type": "code",
   "execution_count": 18,
   "id": "8f08ec29",
   "metadata": {},
   "outputs": [
    {
     "data": {
      "text/html": [
       "<div><style>\n",
       ".dataframe > thead > tr,\n",
       ".dataframe > tbody > tr {\n",
       "  text-align: right;\n",
       "  white-space: pre-wrap;\n",
       "}\n",
       "</style>\n",
       "<small>shape: (2_847, 10)</small><table border=\"1\" class=\"dataframe\"><thead><tr><th>Id</th><th>Sire</th><th>Dam</th><th>Year_Class</th><th>Selected_gen</th><th>Length</th><th>Weight</th><th>Tank</th><th>Sex</th><th>Site</th></tr><tr><td>i64</td><td>str</td><td>str</td><td>i64</td><td>i64</td><td>i64</td><td>i64</td><td>i64</td><td>str</td><td>i64</td></tr></thead><tbody><tr><td>916577</td><td>&quot;597579&quot;</td><td>&quot;479801&quot;</td><td>2017</td><td>8</td><td>455</td><td>1556</td><td>3</td><td>&quot;U&quot;</td><td>1</td></tr><tr><td>915812</td><td>&quot;597579&quot;</td><td>&quot;479801&quot;</td><td>2017</td><td>8</td><td>430</td><td>1339</td><td>3</td><td>&quot;M&quot;</td><td>1</td></tr><tr><td>915812</td><td>&quot;597579&quot;</td><td>&quot;479801&quot;</td><td>2017</td><td>8</td><td>430</td><td>1339</td><td>3</td><td>&quot;M&quot;</td><td>1</td></tr><tr><td>916294</td><td>&quot;597579&quot;</td><td>&quot;479801&quot;</td><td>2017</td><td>8</td><td>505</td><td>2038</td><td>2</td><td>&quot;M&quot;</td><td>1</td></tr><tr><td>916246</td><td>&quot;597579&quot;</td><td>&quot;479801&quot;</td><td>2017</td><td>8</td><td>415</td><td>1213</td><td>1</td><td>&quot;U&quot;</td><td>1</td></tr><tr><td>916009</td><td>&quot;597579&quot;</td><td>&quot;479801&quot;</td><td>2017</td><td>8</td><td>455</td><td>1435</td><td>2</td><td>&quot;U&quot;</td><td>1</td></tr><tr><td>916104</td><td>&quot;597579&quot;</td><td>&quot;479801&quot;</td><td>2017</td><td>8</td><td>455</td><td>1499</td><td>1</td><td>&quot;U&quot;</td><td>1</td></tr><tr><td>916518</td><td>&quot;597579&quot;</td><td>&quot;479801&quot;</td><td>2017</td><td>8</td><td>470</td><td>1661</td><td>2</td><td>&quot;M&quot;</td><td>1</td></tr><tr><td>916274</td><td>&quot;597579&quot;</td><td>&quot;479801&quot;</td><td>2017</td><td>8</td><td>485</td><td>1858</td><td>1</td><td>&quot;M&quot;</td><td>1</td></tr><tr><td>916506</td><td>&quot;597579&quot;</td><td>&quot;479801&quot;</td><td>2017</td><td>8</td><td>490</td><td>2113</td><td>3</td><td>&quot;M&quot;</td><td>1</td></tr><tr><td>916042</td><td>&quot;597579&quot;</td><td>&quot;479801&quot;</td><td>2017</td><td>8</td><td>470</td><td>1565</td><td>2</td><td>&quot;U&quot;</td><td>1</td></tr><tr><td>916510</td><td>&quot;597579&quot;</td><td>&quot;479801&quot;</td><td>2017</td><td>8</td><td>455</td><td>1331</td><td>1</td><td>&quot;U&quot;</td><td>1</td></tr><tr><td>&hellip;</td><td>&hellip;</td><td>&hellip;</td><td>&hellip;</td><td>&hellip;</td><td>&hellip;</td><td>&hellip;</td><td>&hellip;</td><td>&hellip;</td><td>&hellip;</td></tr><tr><td>919260</td><td>&quot;597579&quot;</td><td>&quot;900730&quot;</td><td>2017</td><td>8</td><td>445</td><td>1182</td><td>4</td><td>&quot;U&quot;</td><td>2</td></tr><tr><td>919212</td><td>&quot;597579&quot;</td><td>&quot;900730&quot;</td><td>2017</td><td>8</td><td>505</td><td>2307</td><td>4</td><td>&quot;U&quot;</td><td>2</td></tr><tr><td>918730</td><td>&quot;597579&quot;</td><td>&quot;900730&quot;</td><td>2017</td><td>8</td><td>485</td><td>2042</td><td>4</td><td>&quot;U&quot;</td><td>2</td></tr><tr><td>918783</td><td>&quot;597579&quot;</td><td>&quot;900730&quot;</td><td>2017</td><td>8</td><td>500</td><td>2431</td><td>4</td><td>&quot;U&quot;</td><td>2</td></tr><tr><td>919005</td><td>&quot;597579&quot;</td><td>&quot;900730&quot;</td><td>2017</td><td>8</td><td>515</td><td>2113</td><td>4</td><td>&quot;U&quot;</td><td>2</td></tr><tr><td>918896</td><td>&quot;597579&quot;</td><td>&quot;900730&quot;</td><td>2017</td><td>8</td><td>485</td><td>1775</td><td>4</td><td>&quot;U&quot;</td><td>2</td></tr><tr><td>919038</td><td>&quot;597579&quot;</td><td>&quot;900730&quot;</td><td>2017</td><td>8</td><td>400</td><td>992</td><td>4</td><td>&quot;U&quot;</td><td>2</td></tr><tr><td>918721</td><td>&quot;597579&quot;</td><td>&quot;900730&quot;</td><td>2017</td><td>8</td><td>500</td><td>2168</td><td>4</td><td>&quot;U&quot;</td><td>2</td></tr><tr><td>919049</td><td>&quot;597579&quot;</td><td>&quot;900730&quot;</td><td>2017</td><td>8</td><td>530</td><td>2862</td><td>4</td><td>&quot;U&quot;</td><td>2</td></tr><tr><td>918919</td><td>&quot;597579&quot;</td><td>&quot;900730&quot;</td><td>2017</td><td>8</td><td>505</td><td>1888</td><td>4</td><td>&quot;U&quot;</td><td>2</td></tr><tr><td>918637</td><td>&quot;597579&quot;</td><td>&quot;900730&quot;</td><td>2017</td><td>8</td><td>430</td><td>1208</td><td>4</td><td>&quot;U&quot;</td><td>2</td></tr><tr><td>918786</td><td>&quot;597579&quot;</td><td>&quot;900730&quot;</td><td>2017</td><td>8</td><td>455</td><td>1491</td><td>4</td><td>&quot;U&quot;</td><td>2</td></tr></tbody></table></div>"
      ],
      "text/plain": [
       "shape: (2_847, 10)\n",
       "┌────────┬────────┬────────┬────────────┬───┬────────┬──────┬─────┬──────┐\n",
       "│ Id     ┆ Sire   ┆ Dam    ┆ Year_Class ┆ … ┆ Weight ┆ Tank ┆ Sex ┆ Site │\n",
       "│ ---    ┆ ---    ┆ ---    ┆ ---        ┆   ┆ ---    ┆ ---  ┆ --- ┆ ---  │\n",
       "│ i64    ┆ str    ┆ str    ┆ i64        ┆   ┆ i64    ┆ i64  ┆ str ┆ i64  │\n",
       "╞════════╪════════╪════════╪════════════╪═══╪════════╪══════╪═════╪══════╡\n",
       "│ 916577 ┆ 597579 ┆ 479801 ┆ 2017       ┆ … ┆ 1556   ┆ 3    ┆ U   ┆ 1    │\n",
       "│ 915812 ┆ 597579 ┆ 479801 ┆ 2017       ┆ … ┆ 1339   ┆ 3    ┆ M   ┆ 1    │\n",
       "│ 915812 ┆ 597579 ┆ 479801 ┆ 2017       ┆ … ┆ 1339   ┆ 3    ┆ M   ┆ 1    │\n",
       "│ 916294 ┆ 597579 ┆ 479801 ┆ 2017       ┆ … ┆ 2038   ┆ 2    ┆ M   ┆ 1    │\n",
       "│ 916246 ┆ 597579 ┆ 479801 ┆ 2017       ┆ … ┆ 1213   ┆ 1    ┆ U   ┆ 1    │\n",
       "│ …      ┆ …      ┆ …      ┆ …          ┆ … ┆ …      ┆ …    ┆ …   ┆ …    │\n",
       "│ 918721 ┆ 597579 ┆ 900730 ┆ 2017       ┆ … ┆ 2168   ┆ 4    ┆ U   ┆ 2    │\n",
       "│ 919049 ┆ 597579 ┆ 900730 ┆ 2017       ┆ … ┆ 2862   ┆ 4    ┆ U   ┆ 2    │\n",
       "│ 918919 ┆ 597579 ┆ 900730 ┆ 2017       ┆ … ┆ 1888   ┆ 4    ┆ U   ┆ 2    │\n",
       "│ 918637 ┆ 597579 ┆ 900730 ┆ 2017       ┆ … ┆ 1208   ┆ 4    ┆ U   ┆ 2    │\n",
       "│ 918786 ┆ 597579 ┆ 900730 ┆ 2017       ┆ … ┆ 1491   ┆ 4    ┆ U   ┆ 2    │\n",
       "└────────┴────────┴────────┴────────────┴───┴────────┴──────┴─────┴──────┘"
      ]
     },
     "execution_count": 18,
     "metadata": {},
     "output_type": "execute_result"
    }
   ],
   "source": [
    "ac_pedigree.join(ac_pheno, left_on=\"Id\", right_on=\"PIT\",how=\"inner\")"
   ]
  },
  {
   "cell_type": "markdown",
   "id": "15e760e0",
   "metadata": {},
   "source": [
    "Compared to pandas conducting semi- or anti- joins with polars is more straightforward."
   ]
  },
  {
   "cell_type": "code",
   "execution_count": 19,
   "id": "52a474b2",
   "metadata": {},
   "outputs": [
    {
     "data": {
      "text/html": [
       "<div><style>\n",
       ".dataframe > thead > tr,\n",
       ".dataframe > tbody > tr {\n",
       "  text-align: right;\n",
       "  white-space: pre-wrap;\n",
       "}\n",
       "</style>\n",
       "<small>shape: (2_780, 5)</small><table border=\"1\" class=\"dataframe\"><thead><tr><th>Id</th><th>Sire</th><th>Dam</th><th>Year_Class</th><th>Selected_gen</th></tr><tr><td>i64</td><td>str</td><td>str</td><td>i64</td><td>i64</td></tr></thead><tbody><tr><td>916577</td><td>&quot;597579&quot;</td><td>&quot;479801&quot;</td><td>2017</td><td>8</td></tr><tr><td>915812</td><td>&quot;597579&quot;</td><td>&quot;479801&quot;</td><td>2017</td><td>8</td></tr><tr><td>916294</td><td>&quot;597579&quot;</td><td>&quot;479801&quot;</td><td>2017</td><td>8</td></tr><tr><td>916246</td><td>&quot;597579&quot;</td><td>&quot;479801&quot;</td><td>2017</td><td>8</td></tr><tr><td>916009</td><td>&quot;597579&quot;</td><td>&quot;479801&quot;</td><td>2017</td><td>8</td></tr><tr><td>916104</td><td>&quot;597579&quot;</td><td>&quot;479801&quot;</td><td>2017</td><td>8</td></tr><tr><td>916518</td><td>&quot;597579&quot;</td><td>&quot;479801&quot;</td><td>2017</td><td>8</td></tr><tr><td>916274</td><td>&quot;597579&quot;</td><td>&quot;479801&quot;</td><td>2017</td><td>8</td></tr><tr><td>916506</td><td>&quot;597579&quot;</td><td>&quot;479801&quot;</td><td>2017</td><td>8</td></tr><tr><td>916042</td><td>&quot;597579&quot;</td><td>&quot;479801&quot;</td><td>2017</td><td>8</td></tr><tr><td>916510</td><td>&quot;597579&quot;</td><td>&quot;479801&quot;</td><td>2017</td><td>8</td></tr><tr><td>915977</td><td>&quot;597579&quot;</td><td>&quot;479801&quot;</td><td>2017</td><td>8</td></tr><tr><td>&hellip;</td><td>&hellip;</td><td>&hellip;</td><td>&hellip;</td><td>&hellip;</td></tr><tr><td>919260</td><td>&quot;597579&quot;</td><td>&quot;900730&quot;</td><td>2017</td><td>8</td></tr><tr><td>919212</td><td>&quot;597579&quot;</td><td>&quot;900730&quot;</td><td>2017</td><td>8</td></tr><tr><td>918730</td><td>&quot;597579&quot;</td><td>&quot;900730&quot;</td><td>2017</td><td>8</td></tr><tr><td>918783</td><td>&quot;597579&quot;</td><td>&quot;900730&quot;</td><td>2017</td><td>8</td></tr><tr><td>919005</td><td>&quot;597579&quot;</td><td>&quot;900730&quot;</td><td>2017</td><td>8</td></tr><tr><td>918896</td><td>&quot;597579&quot;</td><td>&quot;900730&quot;</td><td>2017</td><td>8</td></tr><tr><td>919038</td><td>&quot;597579&quot;</td><td>&quot;900730&quot;</td><td>2017</td><td>8</td></tr><tr><td>918721</td><td>&quot;597579&quot;</td><td>&quot;900730&quot;</td><td>2017</td><td>8</td></tr><tr><td>919049</td><td>&quot;597579&quot;</td><td>&quot;900730&quot;</td><td>2017</td><td>8</td></tr><tr><td>918919</td><td>&quot;597579&quot;</td><td>&quot;900730&quot;</td><td>2017</td><td>8</td></tr><tr><td>918637</td><td>&quot;597579&quot;</td><td>&quot;900730&quot;</td><td>2017</td><td>8</td></tr><tr><td>918786</td><td>&quot;597579&quot;</td><td>&quot;900730&quot;</td><td>2017</td><td>8</td></tr></tbody></table></div>"
      ],
      "text/plain": [
       "shape: (2_780, 5)\n",
       "┌────────┬────────┬────────┬────────────┬──────────────┐\n",
       "│ Id     ┆ Sire   ┆ Dam    ┆ Year_Class ┆ Selected_gen │\n",
       "│ ---    ┆ ---    ┆ ---    ┆ ---        ┆ ---          │\n",
       "│ i64    ┆ str    ┆ str    ┆ i64        ┆ i64          │\n",
       "╞════════╪════════╪════════╪════════════╪══════════════╡\n",
       "│ 916577 ┆ 597579 ┆ 479801 ┆ 2017       ┆ 8            │\n",
       "│ 915812 ┆ 597579 ┆ 479801 ┆ 2017       ┆ 8            │\n",
       "│ 916294 ┆ 597579 ┆ 479801 ┆ 2017       ┆ 8            │\n",
       "│ 916246 ┆ 597579 ┆ 479801 ┆ 2017       ┆ 8            │\n",
       "│ 916009 ┆ 597579 ┆ 479801 ┆ 2017       ┆ 8            │\n",
       "│ …      ┆ …      ┆ …      ┆ …          ┆ …            │\n",
       "│ 918721 ┆ 597579 ┆ 900730 ┆ 2017       ┆ 8            │\n",
       "│ 919049 ┆ 597579 ┆ 900730 ┆ 2017       ┆ 8            │\n",
       "│ 918919 ┆ 597579 ┆ 900730 ┆ 2017       ┆ 8            │\n",
       "│ 918637 ┆ 597579 ┆ 900730 ┆ 2017       ┆ 8            │\n",
       "│ 918786 ┆ 597579 ┆ 900730 ┆ 2017       ┆ 8            │\n",
       "└────────┴────────┴────────┴────────────┴──────────────┘"
      ]
     },
     "execution_count": 19,
     "metadata": {},
     "output_type": "execute_result"
    }
   ],
   "source": [
    "ac_pedigree.join(ac_pheno, left_on=\"Id\", right_on=\"PIT\",how=\"semi\")"
   ]
  },
  {
   "cell_type": "code",
   "execution_count": 20,
   "id": "c0357a36",
   "metadata": {},
   "outputs": [
    {
     "data": {
      "text/html": [
       "<div><style>\n",
       ".dataframe > thead > tr,\n",
       ".dataframe > tbody > tr {\n",
       "  text-align: right;\n",
       "  white-space: pre-wrap;\n",
       "}\n",
       "</style>\n",
       "<small>shape: (5_582, 5)</small><table border=\"1\" class=\"dataframe\"><thead><tr><th>Id</th><th>Sire</th><th>Dam</th><th>Year_Class</th><th>Selected_gen</th></tr><tr><td>i64</td><td>str</td><td>str</td><td>i64</td><td>i64</td></tr></thead><tbody><tr><td>478665</td><td>&quot;0&quot;</td><td>&quot;0&quot;</td><td>2013</td><td>7</td></tr><tr><td>478620</td><td>&quot;0&quot;</td><td>&quot;0&quot;</td><td>2013</td><td>7</td></tr><tr><td>478601</td><td>&quot;02F49B&quot;</td><td>&quot;01FD38&quot;</td><td>2013</td><td>7</td></tr><tr><td>478656</td><td>&quot;02F49B&quot;</td><td>&quot;01FD38&quot;</td><td>2013</td><td>7</td></tr><tr><td>478671</td><td>&quot;02F49B&quot;</td><td>&quot;01FD38&quot;</td><td>2013</td><td>7</td></tr><tr><td>478651</td><td>&quot;02F49B&quot;</td><td>&quot;01FD38&quot;</td><td>2013</td><td>7</td></tr><tr><td>478660</td><td>&quot;0&quot;</td><td>&quot;0&quot;</td><td>2013</td><td>7</td></tr><tr><td>478667</td><td>&quot;02F49B&quot;</td><td>&quot;01FD38&quot;</td><td>2013</td><td>7</td></tr><tr><td>478649</td><td>&quot;02F49B&quot;</td><td>&quot;01FD38&quot;</td><td>2013</td><td>7</td></tr><tr><td>478661</td><td>&quot;02F49B&quot;</td><td>&quot;01FD38&quot;</td><td>2013</td><td>7</td></tr><tr><td>478610</td><td>&quot;02F49B&quot;</td><td>&quot;01FD38&quot;</td><td>2013</td><td>7</td></tr><tr><td>478642</td><td>&quot;02F49B&quot;</td><td>&quot;01FD38&quot;</td><td>2013</td><td>7</td></tr><tr><td>&hellip;</td><td>&hellip;</td><td>&hellip;</td><td>&hellip;</td><td>&hellip;</td></tr><tr><td>919271</td><td>&quot;597579&quot;</td><td>&quot;900730&quot;</td><td>2017</td><td>8</td></tr><tr><td>919555</td><td>&quot;597579&quot;</td><td>&quot;900730&quot;</td><td>2017</td><td>8</td></tr><tr><td>919343</td><td>&quot;597579&quot;</td><td>&quot;900730&quot;</td><td>2017</td><td>8</td></tr><tr><td>918821</td><td>&quot;597579&quot;</td><td>&quot;900730&quot;</td><td>2017</td><td>8</td></tr><tr><td>918677</td><td>&quot;597579&quot;</td><td>&quot;900730&quot;</td><td>2017</td><td>8</td></tr><tr><td>918925</td><td>&quot;597579&quot;</td><td>&quot;900730&quot;</td><td>2017</td><td>8</td></tr><tr><td>919071</td><td>&quot;597579&quot;</td><td>&quot;900730&quot;</td><td>2017</td><td>8</td></tr><tr><td>919218</td><td>&quot;597579&quot;</td><td>&quot;900730&quot;</td><td>2017</td><td>8</td></tr><tr><td>919013</td><td>&quot;597579&quot;</td><td>&quot;900730&quot;</td><td>2017</td><td>8</td></tr><tr><td>919448</td><td>&quot;597579&quot;</td><td>&quot;900730&quot;</td><td>2017</td><td>8</td></tr><tr><td>919246</td><td>&quot;597579&quot;</td><td>&quot;900730&quot;</td><td>2017</td><td>8</td></tr><tr><td>919420</td><td>&quot;597579&quot;</td><td>&quot;900730&quot;</td><td>2017</td><td>8</td></tr></tbody></table></div>"
      ],
      "text/plain": [
       "shape: (5_582, 5)\n",
       "┌────────┬────────┬────────┬────────────┬──────────────┐\n",
       "│ Id     ┆ Sire   ┆ Dam    ┆ Year_Class ┆ Selected_gen │\n",
       "│ ---    ┆ ---    ┆ ---    ┆ ---        ┆ ---          │\n",
       "│ i64    ┆ str    ┆ str    ┆ i64        ┆ i64          │\n",
       "╞════════╪════════╪════════╪════════════╪══════════════╡\n",
       "│ 478665 ┆ 0      ┆ 0      ┆ 2013       ┆ 7            │\n",
       "│ 478620 ┆ 0      ┆ 0      ┆ 2013       ┆ 7            │\n",
       "│ 478601 ┆ 02F49B ┆ 01FD38 ┆ 2013       ┆ 7            │\n",
       "│ 478656 ┆ 02F49B ┆ 01FD38 ┆ 2013       ┆ 7            │\n",
       "│ 478671 ┆ 02F49B ┆ 01FD38 ┆ 2013       ┆ 7            │\n",
       "│ …      ┆ …      ┆ …      ┆ …          ┆ …            │\n",
       "│ 919218 ┆ 597579 ┆ 900730 ┆ 2017       ┆ 8            │\n",
       "│ 919013 ┆ 597579 ┆ 900730 ┆ 2017       ┆ 8            │\n",
       "│ 919448 ┆ 597579 ┆ 900730 ┆ 2017       ┆ 8            │\n",
       "│ 919246 ┆ 597579 ┆ 900730 ┆ 2017       ┆ 8            │\n",
       "│ 919420 ┆ 597579 ┆ 900730 ┆ 2017       ┆ 8            │\n",
       "└────────┴────────┴────────┴────────────┴──────────────┘"
      ]
     },
     "execution_count": 20,
     "metadata": {},
     "output_type": "execute_result"
    }
   ],
   "source": [
    "ac_pedigree.join(ac_pheno, left_on=\"Id\", right_on=\"PIT\",how=\"anti\")"
   ]
  },
  {
   "cell_type": "markdown",
   "id": "19c7630d",
   "metadata": {},
   "source": [
    "### Pivots"
   ]
  },
  {
   "cell_type": "code",
   "execution_count": 36,
   "id": "6977c4fd",
   "metadata": {},
   "outputs": [],
   "source": [
    "ac_tank_long=ac_pheno.pivot(index=\"Site\", columns=[\"Tank\"],\n",
    "               values=\"Weight\",aggregate_function=\"mean\")"
   ]
  },
  {
   "cell_type": "code",
   "execution_count": 37,
   "id": "bc55fa13",
   "metadata": {},
   "outputs": [
    {
     "data": {
      "text/html": [
       "<div><style>\n",
       ".dataframe > thead > tr,\n",
       ".dataframe > tbody > tr {\n",
       "  text-align: right;\n",
       "  white-space: pre-wrap;\n",
       "}\n",
       "</style>\n",
       "<small>shape: (3, 6)</small><table border=\"1\" class=\"dataframe\"><thead><tr><th>Site</th><th>1</th><th>4</th><th>3</th><th>null</th><th>2</th></tr><tr><td>i64</td><td>f64</td><td>f64</td><td>f64</td><td>f64</td><td>f64</td></tr></thead><tbody><tr><td>1</td><td>1412.042596</td><td>null</td><td>1446.13936</td><td>null</td><td>1476.640873</td></tr><tr><td>2</td><td>null</td><td>1884.334093</td><td>null</td><td>null</td><td>null</td></tr><tr><td>null</td><td>null</td><td>null</td><td>null</td><td>null</td><td>null</td></tr></tbody></table></div>"
      ],
      "text/plain": [
       "shape: (3, 6)\n",
       "┌──────┬─────────────┬─────────────┬────────────┬──────┬─────────────┐\n",
       "│ Site ┆ 1           ┆ 4           ┆ 3          ┆ null ┆ 2           │\n",
       "│ ---  ┆ ---         ┆ ---         ┆ ---        ┆ ---  ┆ ---         │\n",
       "│ i64  ┆ f64         ┆ f64         ┆ f64        ┆ f64  ┆ f64         │\n",
       "╞══════╪═════════════╪═════════════╪════════════╪══════╪═════════════╡\n",
       "│ 1    ┆ 1412.042596 ┆ null        ┆ 1446.13936 ┆ null ┆ 1476.640873 │\n",
       "│ 2    ┆ null        ┆ 1884.334093 ┆ null       ┆ null ┆ null        │\n",
       "│ null ┆ null        ┆ null        ┆ null       ┆ null ┆ null        │\n",
       "└──────┴─────────────┴─────────────┴────────────┴──────┴─────────────┘"
      ]
     },
     "execution_count": 37,
     "metadata": {},
     "output_type": "execute_result"
    }
   ],
   "source": [
    "ac_tank_long"
   ]
  },
  {
   "cell_type": "markdown",
   "id": "1cf715b4",
   "metadata": {},
   "source": [
    "### Melts"
   ]
  },
  {
   "cell_type": "code",
   "execution_count": 45,
   "id": "c5488185",
   "metadata": {},
   "outputs": [
    {
     "data": {
      "text/html": [
       "<div><style>\n",
       ".dataframe > thead > tr,\n",
       ".dataframe > tbody > tr {\n",
       "  text-align: right;\n",
       "  white-space: pre-wrap;\n",
       "}\n",
       "</style>\n",
       "<small>shape: (12, 3)</small><table border=\"1\" class=\"dataframe\"><thead><tr><th>Site</th><th>Tank</th><th>Mean_weight</th></tr><tr><td>i64</td><td>str</td><td>f64</td></tr></thead><tbody><tr><td>1</td><td>&quot;1&quot;</td><td>1412.042596</td></tr><tr><td>2</td><td>&quot;1&quot;</td><td>null</td></tr><tr><td>null</td><td>&quot;1&quot;</td><td>null</td></tr><tr><td>1</td><td>&quot;2&quot;</td><td>1476.640873</td></tr><tr><td>2</td><td>&quot;2&quot;</td><td>null</td></tr><tr><td>null</td><td>&quot;2&quot;</td><td>null</td></tr><tr><td>1</td><td>&quot;3&quot;</td><td>1446.13936</td></tr><tr><td>2</td><td>&quot;3&quot;</td><td>null</td></tr><tr><td>null</td><td>&quot;3&quot;</td><td>null</td></tr><tr><td>1</td><td>&quot;4&quot;</td><td>null</td></tr><tr><td>2</td><td>&quot;4&quot;</td><td>1884.334093</td></tr><tr><td>null</td><td>&quot;4&quot;</td><td>null</td></tr></tbody></table></div>"
      ],
      "text/plain": [
       "shape: (12, 3)\n",
       "┌──────┬──────┬─────────────┐\n",
       "│ Site ┆ Tank ┆ Mean_weight │\n",
       "│ ---  ┆ ---  ┆ ---         │\n",
       "│ i64  ┆ str  ┆ f64         │\n",
       "╞══════╪══════╪═════════════╡\n",
       "│ 1    ┆ 1    ┆ 1412.042596 │\n",
       "│ 2    ┆ 1    ┆ null        │\n",
       "│ null ┆ 1    ┆ null        │\n",
       "│ 1    ┆ 2    ┆ 1476.640873 │\n",
       "│ 2    ┆ 2    ┆ null        │\n",
       "│ …    ┆ …    ┆ …           │\n",
       "│ 2    ┆ 3    ┆ null        │\n",
       "│ null ┆ 3    ┆ null        │\n",
       "│ 1    ┆ 4    ┆ null        │\n",
       "│ 2    ┆ 4    ┆ 1884.334093 │\n",
       "│ null ┆ 4    ┆ null        │\n",
       "└──────┴──────┴─────────────┘"
      ]
     },
     "execution_count": 45,
     "metadata": {},
     "output_type": "execute_result"
    }
   ],
   "source": [
    "ac_tank_long.melt(id_vars=[\"Site\"],\n",
    "                  value_vars=[\"1\",\"2\",\"3\",\"4\"],\n",
    "                 variable_name=\"Tank\",\n",
    "                 value_name=\"Mean_weight\")"
   ]
  },
  {
   "cell_type": "markdown",
   "id": "c5288c1d",
   "metadata": {},
   "source": [
    "### Lazy Polars"
   ]
  },
  {
   "cell_type": "markdown",
   "id": "f05424f9",
   "metadata": {},
   "source": [
    "In `polars`operations can be specified using its lazy API. In this case the code is run only when necessary. This powerful concept allows `polars`to optimize the code execution and memory usage. This whole concept in key when we want to analyze datasets that don't fit in memory. In connection to the above the key object is the so-called `LazyFrame`."
   ]
  },
  {
   "cell_type": "code",
   "execution_count": 21,
   "id": "3e1d5eb0",
   "metadata": {},
   "outputs": [],
   "source": [
    "ac_pheno_lazy = pl.LazyFrame(ac_pheno)"
   ]
  },
  {
   "cell_type": "code",
   "execution_count": 22,
   "id": "01f5bd0f",
   "metadata": {},
   "outputs": [
    {
     "data": {
      "text/html": [
       "<i>naive plan: (run <b>LazyFrame.explain(optimized=True)</b> to see the optimized plan)</i>\n",
       "    <p></p>\n",
       "    <div>DF [\"PIT\", \"Length\", \"Weight\", \"Tank\"]; PROJECT */6 COLUMNS; SELECTION: \"None\"</div>"
      ],
      "text/plain": [
       "<LazyFrame [6 cols, {\"PIT\": Int64 … \"Site\": Int64}] at 0x13C798850>"
      ]
     },
     "execution_count": 22,
     "metadata": {},
     "output_type": "execute_result"
    }
   ],
   "source": [
    "ac_pheno_lazy"
   ]
  },
  {
   "cell_type": "code",
   "execution_count": 23,
   "id": "df4abd43",
   "metadata": {},
   "outputs": [],
   "source": [
    "lazy_expression = ac_pheno_lazy.with_columns(\n",
    "    pl.col(\"Weight\").sqrt().alias(\n",
    "        \"Weight_sqrt\")).filter(pl.col(\"Length\") > 550)"
   ]
  },
  {
   "cell_type": "code",
   "execution_count": 24,
   "id": "43a5f827",
   "metadata": {},
   "outputs": [
    {
     "data": {
      "text/html": [
       "<i>naive plan: (run <b>LazyFrame.explain(optimized=True)</b> to see the optimized plan)</i>\n",
       "    <p></p>\n",
       "    <div>FILTER [(col(\"Length\")) > (550)] FROM<p></p> WITH_COLUMNS:<p></p> [col(\"Weight\").sqrt().alias(\"Weight_sqrt\")]<p></p>  DF [\"PIT\", \"Length\", \"Weight\", \"Tank\"]; PROJECT */6 COLUMNS; SELECTION: \"None\"</div>"
      ],
      "text/plain": [
       "<LazyFrame [7 cols, {\"PIT\": Int64 … \"Weight_sqrt\": Float64}] at 0x13C789650>"
      ]
     },
     "execution_count": 24,
     "metadata": {},
     "output_type": "execute_result"
    }
   ],
   "source": [
    "lazy_expression"
   ]
  },
  {
   "cell_type": "code",
   "execution_count": 25,
   "id": "a5ff11df",
   "metadata": {},
   "outputs": [
    {
     "name": "stdout",
     "output_type": "stream",
     "text": [
      " WITH_COLUMNS:\n",
      " [col(\"Weight\").sqrt().alias(\"Weight_sqrt\")]\n",
      "  DF [\"PIT\", \"Length\", \"Weight\", \"Tank\"]; PROJECT */6 COLUMNS; SELECTION: \"[(col(\\\"Length\\\")) > (550)]\"\n"
     ]
    }
   ],
   "source": [
    "print(lazy_expression.explain())"
   ]
  },
  {
   "cell_type": "code",
   "execution_count": 26,
   "id": "f6c86e56",
   "metadata": {},
   "outputs": [
    {
     "data": {
      "text/html": [
       "<div><style>\n",
       ".dataframe > thead > tr,\n",
       ".dataframe > tbody > tr {\n",
       "  text-align: right;\n",
       "  white-space: pre-wrap;\n",
       "}\n",
       "</style>\n",
       "<small>shape: (17, 7)</small><table border=\"1\" class=\"dataframe\"><thead><tr><th>PIT</th><th>Length</th><th>Weight</th><th>Tank</th><th>Sex</th><th>Site</th><th>Weight_sqrt</th></tr><tr><td>i64</td><td>i64</td><td>i64</td><td>i64</td><td>str</td><td>i64</td><td>f64</td></tr></thead><tbody><tr><td>918831</td><td>560</td><td>1477</td><td>2</td><td>&quot;U&quot;</td><td>1</td><td>38.431758</td></tr><tr><td>917763</td><td>580</td><td>3460</td><td>4</td><td>&quot;U&quot;</td><td>2</td><td>58.821765</td></tr><tr><td>916343</td><td>560</td><td>3232</td><td>4</td><td>&quot;M&quot;</td><td>2</td><td>56.850682</td></tr><tr><td>917532</td><td>555</td><td>3080</td><td>4</td><td>&quot;U&quot;</td><td>2</td><td>55.497748</td></tr><tr><td>915904</td><td>590</td><td>3561</td><td>4</td><td>&quot;M&quot;</td><td>2</td><td>59.674115</td></tr><tr><td>920482</td><td>560</td><td>3134</td><td>4</td><td>&quot;U&quot;</td><td>2</td><td>55.98214</td></tr><tr><td>917075</td><td>560</td><td>2873</td><td>4</td><td>&quot;M&quot;</td><td>2</td><td>53.600373</td></tr><tr><td>919961</td><td>555</td><td>3568</td><td>4</td><td>&quot;M&quot;</td><td>2</td><td>59.732738</td></tr><tr><td>917388</td><td>580</td><td>1728</td><td>4</td><td>&quot;U&quot;</td><td>2</td><td>41.569219</td></tr><tr><td>920263</td><td>585</td><td>3675</td><td>4</td><td>&quot;M&quot;</td><td>2</td><td>60.621778</td></tr><tr><td>919060</td><td>565</td><td>3280</td><td>4</td><td>&quot;U&quot;</td><td>2</td><td>57.271284</td></tr><tr><td>918135</td><td>570</td><td>3085</td><td>4</td><td>&quot;U&quot;</td><td>2</td><td>55.542776</td></tr><tr><td>920275</td><td>565</td><td>3773</td><td>4</td><td>&quot;M&quot;</td><td>2</td><td>61.424751</td></tr><tr><td>917011</td><td>560</td><td>3261</td><td>4</td><td>&quot;M&quot;</td><td>2</td><td>57.105166</td></tr><tr><td>919094</td><td>560</td><td>2648</td><td>4</td><td>&quot;U&quot;</td><td>2</td><td>51.458721</td></tr><tr><td>918565</td><td>560</td><td>3650</td><td>4</td><td>&quot;M&quot;</td><td>2</td><td>60.41523</td></tr><tr><td>920254</td><td>555</td><td>2983</td><td>4</td><td>&quot;U&quot;</td><td>2</td><td>54.616847</td></tr></tbody></table></div>"
      ],
      "text/plain": [
       "shape: (17, 7)\n",
       "┌────────┬────────┬────────┬──────┬─────┬──────┬─────────────┐\n",
       "│ PIT    ┆ Length ┆ Weight ┆ Tank ┆ Sex ┆ Site ┆ Weight_sqrt │\n",
       "│ ---    ┆ ---    ┆ ---    ┆ ---  ┆ --- ┆ ---  ┆ ---         │\n",
       "│ i64    ┆ i64    ┆ i64    ┆ i64  ┆ str ┆ i64  ┆ f64         │\n",
       "╞════════╪════════╪════════╪══════╪═════╪══════╪═════════════╡\n",
       "│ 918831 ┆ 560    ┆ 1477   ┆ 2    ┆ U   ┆ 1    ┆ 38.431758   │\n",
       "│ 917763 ┆ 580    ┆ 3460   ┆ 4    ┆ U   ┆ 2    ┆ 58.821765   │\n",
       "│ 916343 ┆ 560    ┆ 3232   ┆ 4    ┆ M   ┆ 2    ┆ 56.850682   │\n",
       "│ 917532 ┆ 555    ┆ 3080   ┆ 4    ┆ U   ┆ 2    ┆ 55.497748   │\n",
       "│ 915904 ┆ 590    ┆ 3561   ┆ 4    ┆ M   ┆ 2    ┆ 59.674115   │\n",
       "│ …      ┆ …      ┆ …      ┆ …    ┆ …   ┆ …    ┆ …           │\n",
       "│ 920275 ┆ 565    ┆ 3773   ┆ 4    ┆ M   ┆ 2    ┆ 61.424751   │\n",
       "│ 917011 ┆ 560    ┆ 3261   ┆ 4    ┆ M   ┆ 2    ┆ 57.105166   │\n",
       "│ 919094 ┆ 560    ┆ 2648   ┆ 4    ┆ U   ┆ 2    ┆ 51.458721   │\n",
       "│ 918565 ┆ 560    ┆ 3650   ┆ 4    ┆ M   ┆ 2    ┆ 60.41523    │\n",
       "│ 920254 ┆ 555    ┆ 2983   ┆ 4    ┆ U   ┆ 2    ┆ 54.616847   │\n",
       "└────────┴────────┴────────┴──────┴─────┴──────┴─────────────┘"
      ]
     },
     "execution_count": 26,
     "metadata": {},
     "output_type": "execute_result"
    }
   ],
   "source": [
    "lazy_expression.collect()"
   ]
  },
  {
   "cell_type": "markdown",
   "id": "557f18b3",
   "metadata": {},
   "source": [
    "Polars can help us handle files to large to fit in memmory. When dealing with such files we need to use functions like `scan_csv`."
   ]
  },
  {
   "cell_type": "code",
   "execution_count": 27,
   "id": "29ee82bf",
   "metadata": {},
   "outputs": [],
   "source": [
    "ac_pheno_large = pl.scan_csv(\"ac_pheno.txt\",separator=\"\\t\",null_values=\"NA\")"
   ]
  },
  {
   "cell_type": "markdown",
   "id": "34753505",
   "metadata": {},
   "source": [
    "Unlike `read_csv`here we don't read the entire file to memory. As you might have guessed polars is using the LazyFrame API under the hood."
   ]
  },
  {
   "cell_type": "code",
   "execution_count": 28,
   "id": "45c0328c",
   "metadata": {},
   "outputs": [
    {
     "data": {
      "text/html": [
       "<i>naive plan: (run <b>LazyFrame.explain(optimized=True)</b> to see the optimized plan)</i>\n",
       "    <p></p>\n",
       "    <div><p></p>  Csv SCAN ac_pheno.txt<p></p>  PROJECT */6 COLUMNS</div>"
      ],
      "text/plain": [
       "<LazyFrame [6 cols, {\"PIT\": Int64 … \"Site\": Int64}] at 0x13C78DFD0>"
      ]
     },
     "execution_count": 28,
     "metadata": {},
     "output_type": "execute_result"
    }
   ],
   "source": [
    "ac_pheno_large"
   ]
  },
  {
   "cell_type": "code",
   "execution_count": 29,
   "id": "70cb7b81",
   "metadata": {},
   "outputs": [
    {
     "data": {
      "text/plain": [
       "OrderedDict([('PIT', Int64),\n",
       "             ('Length', Int64),\n",
       "             ('Weight', Int64),\n",
       "             ('Tank', Int64),\n",
       "             ('Sex', String),\n",
       "             ('Site', Int64)])"
      ]
     },
     "execution_count": 29,
     "metadata": {},
     "output_type": "execute_result"
    }
   ],
   "source": [
    "ac_pheno_large.schema"
   ]
  },
  {
   "cell_type": "code",
   "execution_count": 30,
   "id": "d4a9d3c2",
   "metadata": {},
   "outputs": [
    {
     "data": {
      "text/html": [
       "<i>naive plan: (run <b>LazyFrame.explain(optimized=True)</b> to see the optimized plan)</i>\n",
       "    <p></p>\n",
       "    <div>FILTER [(col(\"Weight\")) > (1000)] FROM<p></p><p></p>  Csv SCAN ac_pheno.txt<p></p>  PROJECT */6 COLUMNS</div>"
      ],
      "text/plain": [
       "<LazyFrame [6 cols, {\"PIT\": Int64 … \"Site\": Int64}] at 0x13C76FF10>"
      ]
     },
     "execution_count": 30,
     "metadata": {},
     "output_type": "execute_result"
    }
   ],
   "source": [
    "ac_pheno_large.filter(pl.col(\"Weight\") > 1000)"
   ]
  },
  {
   "cell_type": "markdown",
   "id": "59433932",
   "metadata": {},
   "source": [
    "As you see above the code is not really executed. To actually run the code we need to use `collect`as already shown."
   ]
  },
  {
   "cell_type": "code",
   "execution_count": 31,
   "id": "aef56ef0",
   "metadata": {},
   "outputs": [
    {
     "data": {
      "text/html": [
       "<div><style>\n",
       ".dataframe > thead > tr,\n",
       ".dataframe > tbody > tr {\n",
       "  text-align: right;\n",
       "  white-space: pre-wrap;\n",
       "}\n",
       "</style>\n",
       "<small>shape: (2_573, 6)</small><table border=\"1\" class=\"dataframe\"><thead><tr><th>PIT</th><th>Length</th><th>Weight</th><th>Tank</th><th>Sex</th><th>Site</th></tr><tr><td>i64</td><td>i64</td><td>i64</td><td>i64</td><td>str</td><td>i64</td></tr></thead><tbody><tr><td>919540</td><td>465</td><td>1514</td><td>1</td><td>&quot;U&quot;</td><td>1</td></tr><tr><td>918025</td><td>455</td><td>1250</td><td>1</td><td>&quot;U&quot;</td><td>1</td></tr><tr><td>918763</td><td>505</td><td>2667</td><td>4</td><td>&quot;M&quot;</td><td>2</td></tr><tr><td>917365</td><td>500</td><td>2204</td><td>4</td><td>&quot;U&quot;</td><td>2</td></tr><tr><td>916380</td><td>520</td><td>2336</td><td>4</td><td>&quot;U&quot;</td><td>2</td></tr><tr><td>9186524</td><td>535</td><td>3065</td><td>4</td><td>&quot;U&quot;</td><td>2</td></tr><tr><td>915778</td><td>490</td><td>1774</td><td>4</td><td>&quot;U&quot;</td><td>2</td></tr><tr><td>916993</td><td>435</td><td>1426</td><td>3</td><td>&quot;U&quot;</td><td>1</td></tr><tr><td>916238</td><td>475</td><td>1545</td><td>3</td><td>&quot;U&quot;</td><td>1</td></tr><tr><td>916890</td><td>475</td><td>1408</td><td>3</td><td>&quot;U&quot;</td><td>1</td></tr><tr><td>919647</td><td>525</td><td>2424</td><td>3</td><td>&quot;M&quot;</td><td>1</td></tr><tr><td>916592</td><td>435</td><td>1224</td><td>3</td><td>&quot;M&quot;</td><td>1</td></tr><tr><td>&hellip;</td><td>&hellip;</td><td>&hellip;</td><td>&hellip;</td><td>&hellip;</td><td>&hellip;</td></tr><tr><td>916210</td><td>null</td><td>1331</td><td>2</td><td>&quot;U&quot;</td><td>1</td></tr><tr><td>920428</td><td>490</td><td>2134</td><td>2</td><td>&quot;M&quot;</td><td>1</td></tr><tr><td>920343</td><td>490</td><td>1661</td><td>2</td><td>&quot;M&quot;</td><td>1</td></tr><tr><td>918125</td><td>455</td><td>1371</td><td>2</td><td>&quot;U&quot;</td><td>1</td></tr><tr><td>918957</td><td>435</td><td>1276</td><td>2</td><td>&quot;U&quot;</td><td>1</td></tr><tr><td>9195532</td><td>430</td><td>1847</td><td>2</td><td>&quot;U&quot;</td><td>1</td></tr><tr><td>917155</td><td>445</td><td>1377</td><td>2</td><td>&quot;U&quot;</td><td>1</td></tr><tr><td>920227</td><td>475</td><td>1565</td><td>2</td><td>&quot;U&quot;</td><td>1</td></tr><tr><td>915897</td><td>440</td><td>1300</td><td>2</td><td>&quot;U&quot;</td><td>1</td></tr><tr><td>917341</td><td>450</td><td>1510</td><td>2</td><td>&quot;U&quot;</td><td>1</td></tr><tr><td>915861</td><td>450</td><td>1464</td><td>2</td><td>&quot;U&quot;</td><td>1</td></tr><tr><td>9197101</td><td>420</td><td>1069</td><td>2</td><td>&quot;U&quot;</td><td>1</td></tr></tbody></table></div>"
      ],
      "text/plain": [
       "shape: (2_573, 6)\n",
       "┌─────────┬────────┬────────┬──────┬─────┬──────┐\n",
       "│ PIT     ┆ Length ┆ Weight ┆ Tank ┆ Sex ┆ Site │\n",
       "│ ---     ┆ ---    ┆ ---    ┆ ---  ┆ --- ┆ ---  │\n",
       "│ i64     ┆ i64    ┆ i64    ┆ i64  ┆ str ┆ i64  │\n",
       "╞═════════╪════════╪════════╪══════╪═════╪══════╡\n",
       "│ 919540  ┆ 465    ┆ 1514   ┆ 1    ┆ U   ┆ 1    │\n",
       "│ 918025  ┆ 455    ┆ 1250   ┆ 1    ┆ U   ┆ 1    │\n",
       "│ 918763  ┆ 505    ┆ 2667   ┆ 4    ┆ M   ┆ 2    │\n",
       "│ 917365  ┆ 500    ┆ 2204   ┆ 4    ┆ U   ┆ 2    │\n",
       "│ 916380  ┆ 520    ┆ 2336   ┆ 4    ┆ U   ┆ 2    │\n",
       "│ …       ┆ …      ┆ …      ┆ …    ┆ …   ┆ …    │\n",
       "│ 920227  ┆ 475    ┆ 1565   ┆ 2    ┆ U   ┆ 1    │\n",
       "│ 915897  ┆ 440    ┆ 1300   ┆ 2    ┆ U   ┆ 1    │\n",
       "│ 917341  ┆ 450    ┆ 1510   ┆ 2    ┆ U   ┆ 1    │\n",
       "│ 915861  ┆ 450    ┆ 1464   ┆ 2    ┆ U   ┆ 1    │\n",
       "│ 9197101 ┆ 420    ┆ 1069   ┆ 2    ┆ U   ┆ 1    │\n",
       "└─────────┴────────┴────────┴──────┴─────┴──────┘"
      ]
     },
     "execution_count": 31,
     "metadata": {},
     "output_type": "execute_result"
    }
   ],
   "source": [
    "ac_pheno_large.filter(pl.col(\"Weight\") > 1000).collect()"
   ]
  },
  {
   "cell_type": "markdown",
   "id": "a8292c29",
   "metadata": {},
   "source": [
    "### Exercises"
   ]
  },
  {
   "cell_type": "code",
   "execution_count": null,
   "id": "09c787bf",
   "metadata": {},
   "outputs": [],
   "source": []
  }
 ],
 "metadata": {
  "kernelspec": {
   "display_name": "Python 3 (ipykernel)",
   "language": "python",
   "name": "python3"
  },
  "language_info": {
   "codemirror_mode": {
    "name": "ipython",
    "version": 3
   },
   "file_extension": ".py",
   "mimetype": "text/x-python",
   "name": "python",
   "nbconvert_exporter": "python",
   "pygments_lexer": "ipython3",
   "version": "3.11.8"
  }
 },
 "nbformat": 4,
 "nbformat_minor": 5
}
